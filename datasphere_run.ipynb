{
 "cells": [
  {
   "cell_type": "code",
   "execution_count": 79,
   "id": "f518c42f",
   "metadata": {
    "cellId": "4ab013t53wnyt2wjl294mf"
   },
   "outputs": [],
   "source": [
    "import pandas as pd\n",
    "import numpy as np\n",
    "import seaborn as sns\n",
    "import matplotlib.pyplot as plt\n",
    "from sklearn.model_selection import train_test_split, GridSearchCV\n",
    "from sklearn.ensemble import RandomForestClassifier\n",
    "from sklearn.metrics import recall_score, roc_auc_score\n",
    "from sklearn.metrics import confusion_matrix\n",
    "from sklearn.metrics import recall_score, roc_auc_score, make_scorer\n",
    "\n",
    "from sklearn.linear_model import LogisticRegression\n",
    "from catboost import CatBoostClassifier\n",
    "\n",
    "from tqdm import tqdm\n",
    "from functools import reduce\n",
    "from copy import deepcopy\n",
    "import gc\n",
    "from collections import Counter\n",
    "\n",
    "%matplotlib inline\n",
    "\n",
    "import warnings\n",
    "warnings.filterwarnings('ignore') \n",
    "\n",
    "# %cd ../"
   ]
  },
  {
   "cell_type": "code",
   "execution_count": 80,
   "id": "bd21427c",
   "metadata": {
    "cellId": "5vptpybokxjjwtu4rhod3k"
   },
   "outputs": [
    {
     "name": "stdout",
     "output_type": "stream",
     "text": [
      "Archive:  data.zip\n",
      "   creating: data/\n",
      "  inflating: data/X_prepared.csv     \n",
      "  inflating: data/y_prepared.csv     \n",
      "  inflating: data/test_df_prepared.csv  \n",
      "  inflating: data/test_ids.csv       \n"
     ]
    }
   ],
   "source": [
    "!unzip data.zip"
   ]
  },
  {
   "cell_type": "code",
   "execution_count": 45,
   "id": "a67133db",
   "metadata": {
    "cellId": "s6qtg8t0bpo1bpf0kpwz"
   },
   "outputs": [],
   "source": [
    "def delete_double_spaces(nm):\n",
    "    new_nm = ''\n",
    "    for char in nm:\n",
    "        if char != ' ' or (len(new_nm) and new_nm[-1] != ' '):\n",
    "            new_nm += char\n",
    "    return new_nm.strip()\n",
    "\n",
    "\n",
    "def label_process(nm):\n",
    "    nm = nm.lower()\n",
    "    new_nm = ''\n",
    "    balance = 0\n",
    "    for char in nm:\n",
    "        if char in '({[':\n",
    "            balance += 1\n",
    "        elif char in ')}]':\n",
    "            balance = max(0, balance - 1)\n",
    "        elif balance == 0:\n",
    "            new_nm += char\n",
    "    nm = new_nm\n",
    "    nm = delete_double_spaces(nm)\n",
    "    return nm"
   ]
  },
  {
   "cell_type": "code",
   "execution_count": 46,
   "id": "8d3624ef",
   "metadata": {
    "cellId": "8yg404jsdhr4e44ffhtpi8"
   },
   "outputs": [
    {
     "ename": "FileNotFoundError",
     "evalue": "[Errno 2] File b'data/train.csv' does not exist: b'data/train.csv'",
     "output_type": "error",
     "traceback": [
      "\u001b[0;31m---------------------------------------------------------------------------\u001b[0m",
      "\u001b[0;31mFileNotFoundError\u001b[0m                         Traceback (most recent call last)",
      "\u001b[0;32m<ipython-input-4-f12b30890b8a>\u001b[0m in \u001b[0;36m<module>\u001b[0;34m\u001b[0m\n\u001b[0;32m----> 1\u001b[0;31m \u001b[0mdf\u001b[0m \u001b[0;34m=\u001b[0m \u001b[0mpd\u001b[0m\u001b[0;34m.\u001b[0m\u001b[0mread_csv\u001b[0m\u001b[0;34m(\u001b[0m\u001b[0;34m\"data/train.csv\"\u001b[0m\u001b[0;34m)\u001b[0m\u001b[0;34m\u001b[0m\u001b[0;34m\u001b[0m\u001b[0m\n\u001b[0m\u001b[1;32m      2\u001b[0m \u001b[0mtest_data\u001b[0m \u001b[0;34m=\u001b[0m \u001b[0mpd\u001b[0m\u001b[0;34m.\u001b[0m\u001b[0mread_csv\u001b[0m\u001b[0;34m(\u001b[0m\u001b[0;34m\"data/test.csv\"\u001b[0m\u001b[0;34m)\u001b[0m\u001b[0;34m\u001b[0m\u001b[0;34m\u001b[0m\u001b[0m\n\u001b[1;32m      3\u001b[0m \u001b[0mtest_ids\u001b[0m \u001b[0;34m=\u001b[0m \u001b[0mdeepcopy\u001b[0m\u001b[0;34m(\u001b[0m\u001b[0mtest_data\u001b[0m\u001b[0;34m.\u001b[0m\u001b[0mid\u001b[0m\u001b[0;34m)\u001b[0m\u001b[0;34m\u001b[0m\u001b[0;34m\u001b[0m\u001b[0m\n\u001b[1;32m      4\u001b[0m \u001b[0;31m#\u001b[0m\u001b[0;34m\u001b[0m\u001b[0;34m\u001b[0m\u001b[0;34m\u001b[0m\u001b[0m\n",
      "\u001b[0;32m/usr/local/lib/python3.8/dist-packages/pandas/io/parsers.py\u001b[0m in \u001b[0;36mparser_f\u001b[0;34m(filepath_or_buffer, sep, delimiter, header, names, index_col, usecols, squeeze, prefix, mangle_dupe_cols, dtype, engine, converters, true_values, false_values, skipinitialspace, skiprows, skipfooter, nrows, na_values, keep_default_na, na_filter, verbose, skip_blank_lines, parse_dates, infer_datetime_format, keep_date_col, date_parser, dayfirst, cache_dates, iterator, chunksize, compression, thousands, decimal, lineterminator, quotechar, quoting, doublequote, escapechar, comment, encoding, dialect, error_bad_lines, warn_bad_lines, delim_whitespace, low_memory, memory_map, float_precision)\u001b[0m\n\u001b[1;32m    683\u001b[0m         )\n\u001b[1;32m    684\u001b[0m \u001b[0;34m\u001b[0m\u001b[0m\n\u001b[0;32m--> 685\u001b[0;31m         \u001b[0;32mreturn\u001b[0m \u001b[0m_read\u001b[0m\u001b[0;34m(\u001b[0m\u001b[0mfilepath_or_buffer\u001b[0m\u001b[0;34m,\u001b[0m \u001b[0mkwds\u001b[0m\u001b[0;34m)\u001b[0m\u001b[0;34m\u001b[0m\u001b[0;34m\u001b[0m\u001b[0m\n\u001b[0m\u001b[1;32m    686\u001b[0m \u001b[0;34m\u001b[0m\u001b[0m\n\u001b[1;32m    687\u001b[0m     \u001b[0mparser_f\u001b[0m\u001b[0;34m.\u001b[0m\u001b[0m__name__\u001b[0m \u001b[0;34m=\u001b[0m \u001b[0mname\u001b[0m\u001b[0;34m\u001b[0m\u001b[0;34m\u001b[0m\u001b[0m\n",
      "\u001b[0;32m/usr/local/lib/python3.8/dist-packages/pandas/io/parsers.py\u001b[0m in \u001b[0;36m_read\u001b[0;34m(filepath_or_buffer, kwds)\u001b[0m\n\u001b[1;32m    455\u001b[0m \u001b[0;34m\u001b[0m\u001b[0m\n\u001b[1;32m    456\u001b[0m     \u001b[0;31m# Create the parser.\u001b[0m\u001b[0;34m\u001b[0m\u001b[0;34m\u001b[0m\u001b[0;34m\u001b[0m\u001b[0m\n\u001b[0;32m--> 457\u001b[0;31m     \u001b[0mparser\u001b[0m \u001b[0;34m=\u001b[0m \u001b[0mTextFileReader\u001b[0m\u001b[0;34m(\u001b[0m\u001b[0mfp_or_buf\u001b[0m\u001b[0;34m,\u001b[0m \u001b[0;34m**\u001b[0m\u001b[0mkwds\u001b[0m\u001b[0;34m)\u001b[0m\u001b[0;34m\u001b[0m\u001b[0;34m\u001b[0m\u001b[0m\n\u001b[0m\u001b[1;32m    458\u001b[0m \u001b[0;34m\u001b[0m\u001b[0m\n\u001b[1;32m    459\u001b[0m     \u001b[0;32mif\u001b[0m \u001b[0mchunksize\u001b[0m \u001b[0;32mor\u001b[0m \u001b[0miterator\u001b[0m\u001b[0;34m:\u001b[0m\u001b[0;34m\u001b[0m\u001b[0;34m\u001b[0m\u001b[0m\n",
      "\u001b[0;32m/usr/local/lib/python3.8/dist-packages/pandas/io/parsers.py\u001b[0m in \u001b[0;36m__init__\u001b[0;34m(self, f, engine, **kwds)\u001b[0m\n\u001b[1;32m    893\u001b[0m             \u001b[0mself\u001b[0m\u001b[0;34m.\u001b[0m\u001b[0moptions\u001b[0m\u001b[0;34m[\u001b[0m\u001b[0;34m\"has_index_names\"\u001b[0m\u001b[0;34m]\u001b[0m \u001b[0;34m=\u001b[0m \u001b[0mkwds\u001b[0m\u001b[0;34m[\u001b[0m\u001b[0;34m\"has_index_names\"\u001b[0m\u001b[0;34m]\u001b[0m\u001b[0;34m\u001b[0m\u001b[0;34m\u001b[0m\u001b[0m\n\u001b[1;32m    894\u001b[0m \u001b[0;34m\u001b[0m\u001b[0m\n\u001b[0;32m--> 895\u001b[0;31m         \u001b[0mself\u001b[0m\u001b[0;34m.\u001b[0m\u001b[0m_make_engine\u001b[0m\u001b[0;34m(\u001b[0m\u001b[0mself\u001b[0m\u001b[0;34m.\u001b[0m\u001b[0mengine\u001b[0m\u001b[0;34m)\u001b[0m\u001b[0;34m\u001b[0m\u001b[0;34m\u001b[0m\u001b[0m\n\u001b[0m\u001b[1;32m    896\u001b[0m \u001b[0;34m\u001b[0m\u001b[0m\n\u001b[1;32m    897\u001b[0m     \u001b[0;32mdef\u001b[0m \u001b[0mclose\u001b[0m\u001b[0;34m(\u001b[0m\u001b[0mself\u001b[0m\u001b[0;34m)\u001b[0m\u001b[0;34m:\u001b[0m\u001b[0;34m\u001b[0m\u001b[0;34m\u001b[0m\u001b[0m\n",
      "\u001b[0;32m/usr/local/lib/python3.8/dist-packages/pandas/io/parsers.py\u001b[0m in \u001b[0;36m_make_engine\u001b[0;34m(self, engine)\u001b[0m\n\u001b[1;32m   1133\u001b[0m     \u001b[0;32mdef\u001b[0m \u001b[0m_make_engine\u001b[0m\u001b[0;34m(\u001b[0m\u001b[0mself\u001b[0m\u001b[0;34m,\u001b[0m \u001b[0mengine\u001b[0m\u001b[0;34m=\u001b[0m\u001b[0;34m\"c\"\u001b[0m\u001b[0;34m)\u001b[0m\u001b[0;34m:\u001b[0m\u001b[0;34m\u001b[0m\u001b[0;34m\u001b[0m\u001b[0m\n\u001b[1;32m   1134\u001b[0m         \u001b[0;32mif\u001b[0m \u001b[0mengine\u001b[0m \u001b[0;34m==\u001b[0m \u001b[0;34m\"c\"\u001b[0m\u001b[0;34m:\u001b[0m\u001b[0;34m\u001b[0m\u001b[0;34m\u001b[0m\u001b[0m\n\u001b[0;32m-> 1135\u001b[0;31m             \u001b[0mself\u001b[0m\u001b[0;34m.\u001b[0m\u001b[0m_engine\u001b[0m \u001b[0;34m=\u001b[0m \u001b[0mCParserWrapper\u001b[0m\u001b[0;34m(\u001b[0m\u001b[0mself\u001b[0m\u001b[0;34m.\u001b[0m\u001b[0mf\u001b[0m\u001b[0;34m,\u001b[0m \u001b[0;34m**\u001b[0m\u001b[0mself\u001b[0m\u001b[0;34m.\u001b[0m\u001b[0moptions\u001b[0m\u001b[0;34m)\u001b[0m\u001b[0;34m\u001b[0m\u001b[0;34m\u001b[0m\u001b[0m\n\u001b[0m\u001b[1;32m   1136\u001b[0m         \u001b[0;32melse\u001b[0m\u001b[0;34m:\u001b[0m\u001b[0;34m\u001b[0m\u001b[0;34m\u001b[0m\u001b[0m\n\u001b[1;32m   1137\u001b[0m             \u001b[0;32mif\u001b[0m \u001b[0mengine\u001b[0m \u001b[0;34m==\u001b[0m \u001b[0;34m\"python\"\u001b[0m\u001b[0;34m:\u001b[0m\u001b[0;34m\u001b[0m\u001b[0;34m\u001b[0m\u001b[0m\n",
      "\u001b[0;32m/usr/local/lib/python3.8/dist-packages/pandas/io/parsers.py\u001b[0m in \u001b[0;36m__init__\u001b[0;34m(self, src, **kwds)\u001b[0m\n\u001b[1;32m   1915\u001b[0m         \u001b[0mkwds\u001b[0m\u001b[0;34m[\u001b[0m\u001b[0;34m\"usecols\"\u001b[0m\u001b[0;34m]\u001b[0m \u001b[0;34m=\u001b[0m \u001b[0mself\u001b[0m\u001b[0;34m.\u001b[0m\u001b[0musecols\u001b[0m\u001b[0;34m\u001b[0m\u001b[0;34m\u001b[0m\u001b[0m\n\u001b[1;32m   1916\u001b[0m \u001b[0;34m\u001b[0m\u001b[0m\n\u001b[0;32m-> 1917\u001b[0;31m         \u001b[0mself\u001b[0m\u001b[0;34m.\u001b[0m\u001b[0m_reader\u001b[0m \u001b[0;34m=\u001b[0m \u001b[0mparsers\u001b[0m\u001b[0;34m.\u001b[0m\u001b[0mTextReader\u001b[0m\u001b[0;34m(\u001b[0m\u001b[0msrc\u001b[0m\u001b[0;34m,\u001b[0m \u001b[0;34m**\u001b[0m\u001b[0mkwds\u001b[0m\u001b[0;34m)\u001b[0m\u001b[0;34m\u001b[0m\u001b[0;34m\u001b[0m\u001b[0m\n\u001b[0m\u001b[1;32m   1918\u001b[0m         \u001b[0mself\u001b[0m\u001b[0;34m.\u001b[0m\u001b[0munnamed_cols\u001b[0m \u001b[0;34m=\u001b[0m \u001b[0mself\u001b[0m\u001b[0;34m.\u001b[0m\u001b[0m_reader\u001b[0m\u001b[0;34m.\u001b[0m\u001b[0munnamed_cols\u001b[0m\u001b[0;34m\u001b[0m\u001b[0;34m\u001b[0m\u001b[0m\n\u001b[1;32m   1919\u001b[0m \u001b[0;34m\u001b[0m\u001b[0m\n",
      "\u001b[0;32mpandas/_libs/parsers.pyx\u001b[0m in \u001b[0;36mpandas._libs.parsers.TextReader.__cinit__\u001b[0;34m()\u001b[0m\n",
      "\u001b[0;32mpandas/_libs/parsers.pyx\u001b[0m in \u001b[0;36mpandas._libs.parsers.TextReader._setup_parser_source\u001b[0;34m()\u001b[0m\n",
      "\u001b[0;31mFileNotFoundError\u001b[0m: [Errno 2] File b'data/train.csv' does not exist: b'data/train.csv'"
     ]
    }
   ],
   "source": [
    "df = pd.read_csv(\"data/train.csv\")\n",
    "test_data = pd.read_csv(\"data/test.csv\")\n",
    "test_ids = deepcopy(test_data.id)"
   ]
  },
  {
   "cell_type": "code",
   "execution_count": null,
   "id": "8f6eb880",
   "metadata": {
    "cellId": "p8rjvsc2nip83a4w2tsu34"
   },
   "outputs": [],
   "source": [
    "df['processed_name'] = df.name_mfi.apply(label_process)\n",
    "test_data['processed_name'] = test_data.name_mfi.apply(label_process)"
   ]
  },
  {
   "cell_type": "code",
   "execution_count": null,
   "id": "88527c54",
   "metadata": {
    "cellId": "v9uw5xklzbdgqg3e6ka6m"
   },
   "outputs": [],
   "source": [
    "df['item_hash'] = df['name_mfi'].apply(hash) ^ df.weight_mfi.apply(lambda x: hash(str(x))) ^ df.weight.apply(lambda x: hash(str(x))) ^ \\\n",
    "    df.mailtype.apply(lambda x: hash(str(x))) ^ df.transport_pay.apply(lambda x: hash(str(x)))\n",
    "\n",
    "test_data['item_hash'] = test_data['item_hash'] = test_data['name_mfi'].apply(hash) ^ test_data.weight_mfi.apply(lambda x: hash(str(x))) ^ test_data.weight.apply(lambda x: hash(str(x))) ^ \\\n",
    "    test_data.mailtype.apply(lambda x: hash(str(x))) ^ test_data.transport_pay.apply(lambda x: hash(str(x)))"
   ]
  },
  {
   "cell_type": "code",
   "execution_count": null,
   "id": "f95338f5",
   "metadata": {
    "cellId": "ufg1ii9kpxf4t9cpaxoiv"
   },
   "outputs": [],
   "source": [
    "hash_counter = Counter(pd.concat([df.item_hash, test_data.item_hash], ignore_index=True))\n",
    "name_counter = Counter(pd.concat([df.processed_name, test_data.processed_name], ignore_index=True))"
   ]
  },
  {
   "cell_type": "code",
   "execution_count": null,
   "id": "888a3d2b",
   "metadata": {
    "cellId": "mq5040b441kxd03rqtsvpk"
   },
   "outputs": [],
   "source": [
    "id_hash = pd.concat([df[['id', 'item_hash']], test_data[['id', 'item_hash']]], ignore_index=True)\n",
    "id_hash = id_hash.groupby('item_hash').agg(max).rename(columns={'id': 'last_id'})"
   ]
  },
  {
   "cell_type": "code",
   "execution_count": null,
   "id": "86637b25",
   "metadata": {
    "cellId": "7o6w7nb5otja41muvjlsfh"
   },
   "outputs": [],
   "source": [
    "df = df.join(id_hash, on='item_hash')\n",
    "test_data = test_data.join(id_hash, on='item_hash')"
   ]
  },
  {
   "cell_type": "code",
   "execution_count": null,
   "id": "51ffb9b5",
   "metadata": {
    "cellId": "g6p8cooumyh40ji990drv"
   },
   "outputs": [],
   "source": [
    "X = df.drop(columns=[\"label\"])\n",
    "y = df.label\n",
    "X_train, X_val, y_train, y_val = train_test_split(X, y, test_size=0.2, random_state=0)"
   ]
  },
  {
   "cell_type": "code",
   "execution_count": null,
   "id": "ce3a9408",
   "metadata": {
    "cellId": "nvivpvwldomn8q1jxugk"
   },
   "outputs": [],
   "source": [
    "top_operators = [obj for obj, count in Counter(test_data['index_oper'].replace(' ', '0').astype(float).astype(int)).most_common()][:10]"
   ]
  },
  {
   "cell_type": "code",
   "execution_count": null,
   "id": "9336f452",
   "metadata": {
    "cellId": "yufgtxyd0dv9j8qhm7bfb"
   },
   "outputs": [],
   "source": [
    "df.item_hash.nunique()"
   ]
  },
  {
   "cell_type": "code",
   "execution_count": null,
   "id": "d40f9be0",
   "metadata": {
    "cellId": "vo5cosfp59dkzp608owl"
   },
   "outputs": [],
   "source": [
    "useless = []\n",
    "cat_features = [\"type\", \"is_privatecategory\", \"class\", \"is_in_yandex\", \"mailctg\", \"directctg\", \"mailtype\"]\n",
    "cat_features = list(set(cat_features) - set(useless))\n",
    "\n",
    "def prepare_data(df):\n",
    "    oper_type, oper_attr = zip(*df['oper_type + oper_attr'].map(lambda x: x.split('_')))\n",
    "    \n",
    "    # df['is_negative_oper_attr'] = pd.Series(oper_attr) == '-1'\n",
    "    df['specialization_ratio'] = df.total_qty_over_index_and_type / df.total_qty_over_index.clip(lower=1)\n",
    "    df['total_over_person'] = df.total_qty_over_index / df.dist_qty_oper_login_1.clip(lower=1)\n",
    "    df['unknown_oper_ratio'] = df.total_qty_oper_login_0 / df.total_qty_oper_login_1.clip(lower=1)\n",
    "    \n",
    "    df['same_hash'] = df.item_hash.apply(lambda h: hash_counter[h])\n",
    "    df['same_name'] = df.processed_name.apply(lambda name: name_counter[name])\n",
    "    \n",
    "    df['isnt_last'] = (df.id == df.last_id) * (df.same_hash < 30)\n",
    "    \n",
    "    for operator in top_operators:\n",
    "        df[f'is_{operator}_operator'] = df['index_oper'].replace(' ', '0').astype(float).astype(int) == operator\n",
    "    \n",
    "    replace_zeros = ['priority', 'is_privatecategory', 'is_in_yandex', 'mailtype', 'directctg']\n",
    "    for column in replace_zeros:\n",
    "        df[column][df[column] == 0] = df[column].mode()[0]\n",
    "        df[column][df[column] == '0'] = df[column].mode()[0]\n",
    "    \n",
    "    df.priority = 1 * (df.priority == 7503.) + 2 * (df.priority == 7504.) + 3 * (df.priority == 7506.)\n",
    "    \n",
    "    df.index_oper = df.index_oper.replace(' ', '0').astype(float).astype(int)\n",
    "    \n",
    "    for cat_feature in cat_features:\n",
    "        df[cat_feature] = df[cat_feature].apply(lambda text: str(text))\n",
    "        \n",
    "    df['name_mfi_count'] = df.name_mfi.apply(lambda name: 0 if name == '0' else len(name.split(',')))\n",
    "    \n",
    "    df.is_return = df.is_return.apply(lambda text: text == 'Y')\n",
    "        \n",
    "    df.drop(columns=[\"oper_type + oper_attr\"], inplace=True)\n",
    "    df.drop(columns=[\"name_mfi\", \"item_hash\", \"processed_name\"], inplace=True)\n",
    "    df.drop(columns=['mailrank'], inplace=True)\n",
    "    df.drop(columns=useless, inplace=True, errors='ignore')\n",
    "    \n",
    "    return df"
   ]
  },
  {
   "cell_type": "code",
   "execution_count": null,
   "id": "60558e98",
   "metadata": {
    "cellId": "60rf4cbfin4kbpksr9kjv"
   },
   "outputs": [],
   "source": [
    "X_train = prepare_data(X_train)\n",
    "X_val = prepare_data(X_val)\n",
    "test_df = prepare_data(test_data)"
   ]
  },
  {
   "cell_type": "code",
   "execution_count": null,
   "id": "59ee197d",
   "metadata": {
    "cellId": "eza730cv317hh5qet8yto"
   },
   "outputs": [],
   "source": [
    "X_train.to_csv('data/X_train_prepared.csv', index=False)\n",
    "X_val.to_csv('data/X_val_prepared.csv', index=False)\n",
    "y_train.to_csv('data/y_train_prepared.csv', index=False)\n",
    "y_val.to_csv('data/y_val_prepared.csv', index=False)\n",
    "test_df.to_csv('data/test_df_prepared.csv', index=False)\n",
    "y_train.to_csv('data/y_train_prepared.csv', index=False)\n",
    "y_val.to_csv('data/y_val_prepared.csv', index=False)"
   ]
  },
  {
   "cell_type": "code",
   "execution_count": null,
   "id": "212dd94c",
   "metadata": {
    "cellId": "i66nz0pw72decov9ldq6f"
   },
   "outputs": [],
   "source": []
  },
  {
   "cell_type": "code",
   "execution_count": 81,
   "id": "24406fe5",
   "metadata": {
    "cellId": "0e5qkiygp8bhgj52dwazug"
   },
   "outputs": [],
   "source": [
    "useless = []\n",
    "cat_features = [\"type\", \"is_privatecategory\", \"class\", \"is_in_yandex\", \"mailctg\", \"directctg\", \"mailtype\"]\n",
    "cat_features = list(set(cat_features) - set(useless))\n",
    "\n",
    "cat_features = list(set(cat_features) - set(useless))\n",
    "def to_cat_features(df):\n",
    "    for cat_feature in cat_features:\n",
    "        df[cat_feature] = df[cat_feature].apply(lambda text: str(text))\n",
    "        \n",
    "# X_train = pd.read_csv('data/X_train_prepared.csv')\n",
    "# y_train = pd.read_csv('data/y_train_prepared.csv')\n",
    "# X_val = pd.read_csv('data/X_val_prepared.csv')\n",
    "# y_val = pd.read_csv('data/y_val_prepared.csv')\n",
    "# test_df = pd.read_csv('data/test_df_prepared.csv')\n",
    "# test_ids = pd.read_csv('data/test_ids.csv')\n",
    "\n",
    "X_train = pd.read_csv('data/X_prepared.csv') \n",
    "y_train = pd.read_csv('data/y_prepared.csv') \n",
    "test_df = pd.read_csv('data/test_df_prepared.csv')\n",
    "test_ids = pd.read_csv('data/test_ids.csv')\n",
    "\n",
    "\n",
    "to_cat_features(X_train)\n",
    "# to_cat_features(X_val)\n",
    "to_cat_features(test_df)"
   ]
  },
  {
   "cell_type": "code",
   "execution_count": 82,
   "id": "d50ff739",
   "metadata": {
    "cellId": "19c666lnwwtjcirwzzyhpn"
   },
   "outputs": [],
   "source": [
    "model = CatBoostClassifier(random_state=0, max_depth=8, verbose=50, iterations=7000, auto_class_weights=\"Balanced\", cat_features=cat_features)"
   ]
  },
  {
   "cell_type": "code",
   "execution_count": 83,
   "id": "c0a32b96",
   "metadata": {
    "cellId": "zcndk9o5xzr7juqfjv6ve9",
    "execution_id": "bab71b7a-1f23-4d64-86f7-c9cd620fb08c"
   },
   "outputs": [
    {
     "name": "stdout",
     "output_type": "stream",
     "text": [
      "Learning rate set to 0.070999\n",
      "0:\tlearn: 0.6087893\ttotal: 1.87s\tremaining: 3h 38m 25s\n",
      "50:\tlearn: 0.2403778\ttotal: 55.5s\tremaining: 2h 6m 3s\n",
      "100:\tlearn: 0.2309639\ttotal: 1m 45s\tremaining: 2h 36s\n",
      "150:\tlearn: 0.2268286\ttotal: 2m 35s\tremaining: 1h 57m 55s\n",
      "200:\tlearn: 0.2244060\ttotal: 3m 27s\tremaining: 1h 56m 53s\n",
      "250:\tlearn: 0.2222753\ttotal: 4m 19s\tremaining: 1h 56m 15s\n",
      "300:\tlearn: 0.2204358\ttotal: 5m 8s\tremaining: 1h 54m 36s\n",
      "350:\tlearn: 0.2188437\ttotal: 5m 57s\tremaining: 1h 53m 1s\n",
      "400:\tlearn: 0.2173278\ttotal: 6m 46s\tremaining: 1h 51m 33s\n",
      "450:\tlearn: 0.2162380\ttotal: 7m 37s\tremaining: 1h 50m 44s\n",
      "500:\tlearn: 0.2151597\ttotal: 8m 30s\tremaining: 1h 50m 18s\n",
      "550:\tlearn: 0.2142220\ttotal: 9m 19s\tremaining: 1h 49m 10s\n",
      "600:\tlearn: 0.2132864\ttotal: 10m 11s\tremaining: 1h 48m 26s\n",
      "650:\tlearn: 0.2123196\ttotal: 11m 2s\tremaining: 1h 47m 39s\n",
      "700:\tlearn: 0.2113327\ttotal: 11m 52s\tremaining: 1h 46m 40s\n",
      "750:\tlearn: 0.2103901\ttotal: 12m 42s\tremaining: 1h 45m 45s\n",
      "800:\tlearn: 0.2095947\ttotal: 13m 32s\tremaining: 1h 44m 48s\n",
      "850:\tlearn: 0.2087471\ttotal: 14m 26s\tremaining: 1h 44m 17s\n",
      "900:\tlearn: 0.2079819\ttotal: 15m 16s\tremaining: 1h 43m 25s\n",
      "950:\tlearn: 0.2073152\ttotal: 16m 7s\tremaining: 1h 42m 31s\n",
      "1000:\tlearn: 0.2065442\ttotal: 16m 57s\tremaining: 1h 41m 38s\n",
      "1050:\tlearn: 0.2058347\ttotal: 17m 52s\tremaining: 1h 41m 9s\n",
      "1100:\tlearn: 0.2051244\ttotal: 18m 46s\tremaining: 1h 40m 37s\n",
      "1150:\tlearn: 0.2044088\ttotal: 19m 41s\tremaining: 1h 40m 1s\n",
      "1200:\tlearn: 0.2037623\ttotal: 20m 36s\tremaining: 1h 39m 32s\n",
      "1250:\tlearn: 0.2030649\ttotal: 21m 30s\tremaining: 1h 38m 48s\n",
      "1300:\tlearn: 0.2023926\ttotal: 22m 23s\tremaining: 1h 38m 6s\n",
      "1350:\tlearn: 0.2017171\ttotal: 23m 20s\tremaining: 1h 37m 36s\n",
      "1400:\tlearn: 0.2010746\ttotal: 24m 13s\tremaining: 1h 36m 47s\n",
      "1450:\tlearn: 0.2004553\ttotal: 25m 5s\tremaining: 1h 35m 58s\n",
      "1500:\tlearn: 0.1998131\ttotal: 25m 58s\tremaining: 1h 35m 10s\n",
      "1550:\tlearn: 0.1991786\ttotal: 26m 52s\tremaining: 1h 34m 24s\n",
      "1600:\tlearn: 0.1985922\ttotal: 27m 47s\tremaining: 1h 33m 44s\n",
      "1650:\tlearn: 0.1980178\ttotal: 28m 42s\tremaining: 1h 33m 1s\n",
      "1700:\tlearn: 0.1974311\ttotal: 29m 34s\tremaining: 1h 32m 6s\n",
      "1750:\tlearn: 0.1968429\ttotal: 30m 24s\tremaining: 1h 31m 8s\n",
      "1800:\tlearn: 0.1962899\ttotal: 31m 15s\tremaining: 1h 30m 14s\n",
      "1850:\tlearn: 0.1957226\ttotal: 32m 8s\tremaining: 1h 29m 25s\n",
      "1900:\tlearn: 0.1951830\ttotal: 33m 4s\tremaining: 1h 28m 42s\n",
      "1950:\tlearn: 0.1946377\ttotal: 33m 58s\tremaining: 1h 27m 54s\n",
      "2000:\tlearn: 0.1940143\ttotal: 34m 51s\tremaining: 1h 27m 5s\n",
      "2050:\tlearn: 0.1934654\ttotal: 35m 42s\tremaining: 1h 26m 10s\n",
      "2100:\tlearn: 0.1929536\ttotal: 36m 33s\tremaining: 1h 25m 15s\n",
      "2150:\tlearn: 0.1924154\ttotal: 37m 23s\tremaining: 1h 24m 16s\n",
      "2200:\tlearn: 0.1918947\ttotal: 38m 15s\tremaining: 1h 23m 25s\n",
      "2250:\tlearn: 0.1913543\ttotal: 39m 9s\tremaining: 1h 22m 37s\n",
      "2300:\tlearn: 0.1908341\ttotal: 40m 3s\tremaining: 1h 21m 49s\n",
      "2350:\tlearn: 0.1903138\ttotal: 41m 1s\tremaining: 1h 21m 7s\n",
      "2400:\tlearn: 0.1898072\ttotal: 41m 54s\tremaining: 1h 20m 16s\n",
      "2450:\tlearn: 0.1892944\ttotal: 42m 46s\tremaining: 1h 19m 23s\n",
      "2500:\tlearn: 0.1888401\ttotal: 43m 39s\tremaining: 1h 18m 31s\n",
      "2550:\tlearn: 0.1883585\ttotal: 44m 33s\tremaining: 1h 17m 41s\n",
      "2600:\tlearn: 0.1878636\ttotal: 45m 24s\tremaining: 1h 16m 47s\n",
      "2650:\tlearn: 0.1874297\ttotal: 46m 15s\tremaining: 1h 15m 53s\n",
      "2700:\tlearn: 0.1869644\ttotal: 47m 10s\tremaining: 1h 15m 4s\n",
      "2750:\tlearn: 0.1864770\ttotal: 48m 1s\tremaining: 1h 14m 10s\n",
      "2800:\tlearn: 0.1860236\ttotal: 48m 52s\tremaining: 1h 13m 15s\n",
      "2850:\tlearn: 0.1855720\ttotal: 49m 43s\tremaining: 1h 12m 21s\n",
      "2900:\tlearn: 0.1851039\ttotal: 50m 34s\tremaining: 1h 11m 28s\n",
      "2950:\tlearn: 0.1846808\ttotal: 51m 27s\tremaining: 1h 10m 35s\n",
      "3000:\tlearn: 0.1842221\ttotal: 52m 25s\tremaining: 1h 9m 51s\n",
      "3050:\tlearn: 0.1837950\ttotal: 53m 20s\tremaining: 1h 9m 2s\n",
      "3100:\tlearn: 0.1833363\ttotal: 54m 12s\tremaining: 1h 8m 9s\n",
      "3150:\tlearn: 0.1829430\ttotal: 55m 2s\tremaining: 1h 7m 14s\n",
      "3200:\tlearn: 0.1824943\ttotal: 55m 53s\tremaining: 1h 6m 20s\n",
      "3250:\tlearn: 0.1820700\ttotal: 56m 47s\tremaining: 1h 5m 29s\n",
      "3300:\tlearn: 0.1816408\ttotal: 57m 44s\tremaining: 1h 4m 41s\n",
      "3350:\tlearn: 0.1812054\ttotal: 58m 37s\tremaining: 1h 3m 50s\n",
      "3400:\tlearn: 0.1807964\ttotal: 59m 29s\tremaining: 1h 2m 56s\n",
      "3450:\tlearn: 0.1804129\ttotal: 1h 21s\tremaining: 1h 2m 4s\n",
      "3500:\tlearn: 0.1799514\ttotal: 1h 1m 16s\tremaining: 1h 1m 14s\n",
      "3550:\tlearn: 0.1795164\ttotal: 1h 2m 7s\tremaining: 1h 20s\n",
      "3600:\tlearn: 0.1791059\ttotal: 1h 2m 59s\tremaining: 59m 27s\n",
      "3650:\tlearn: 0.1787384\ttotal: 1h 3m 50s\tremaining: 58m 33s\n",
      "3700:\tlearn: 0.1783208\ttotal: 1h 4m 43s\tremaining: 57m 41s\n",
      "3750:\tlearn: 0.1779207\ttotal: 1h 5m 36s\tremaining: 56m 49s\n",
      "3800:\tlearn: 0.1775065\ttotal: 1h 6m 26s\tremaining: 55m 55s\n",
      "3850:\tlearn: 0.1771115\ttotal: 1h 7m 21s\tremaining: 55m 4s\n",
      "3900:\tlearn: 0.1767301\ttotal: 1h 8m 17s\tremaining: 54m 14s\n",
      "3950:\tlearn: 0.1763398\ttotal: 1h 9m 11s\tremaining: 53m 23s\n",
      "4000:\tlearn: 0.1759456\ttotal: 1h 10m 4s\tremaining: 52m 31s\n",
      "4050:\tlearn: 0.1755957\ttotal: 1h 10m 54s\tremaining: 51m 37s\n",
      "4100:\tlearn: 0.1752093\ttotal: 1h 11m 47s\tremaining: 50m 45s\n",
      "4150:\tlearn: 0.1748394\ttotal: 1h 12m 36s\tremaining: 49m 50s\n",
      "4200:\tlearn: 0.1744501\ttotal: 1h 13m 25s\tremaining: 48m 55s\n",
      "4250:\tlearn: 0.1740156\ttotal: 1h 14m 15s\tremaining: 48m\n",
      "4300:\tlearn: 0.1735920\ttotal: 1h 15m 5s\tremaining: 47m 7s\n",
      "4350:\tlearn: 0.1732578\ttotal: 1h 15m 53s\tremaining: 46m 12s\n",
      "4400:\tlearn: 0.1728802\ttotal: 1h 16m 42s\tremaining: 45m 18s\n",
      "4450:\tlearn: 0.1725042\ttotal: 1h 17m 33s\tremaining: 44m 24s\n",
      "4500:\tlearn: 0.1721428\ttotal: 1h 18m 23s\tremaining: 43m 31s\n",
      "4550:\tlearn: 0.1717749\ttotal: 1h 19m 13s\tremaining: 42m 38s\n",
      "4600:\tlearn: 0.1714156\ttotal: 1h 20m 3s\tremaining: 41m 44s\n",
      "4650:\tlearn: 0.1710639\ttotal: 1h 20m 53s\tremaining: 40m 51s\n",
      "4700:\tlearn: 0.1706912\ttotal: 1h 21m 41s\tremaining: 39m 57s\n",
      "4750:\tlearn: 0.1703252\ttotal: 1h 22m 30s\tremaining: 39m 3s\n",
      "4800:\tlearn: 0.1699342\ttotal: 1h 23m 19s\tremaining: 38m 9s\n",
      "4850:\tlearn: 0.1695854\ttotal: 1h 24m 8s\tremaining: 37m 16s\n",
      "4900:\tlearn: 0.1692488\ttotal: 1h 24m 59s\tremaining: 36m 23s\n",
      "4950:\tlearn: 0.1689419\ttotal: 1h 25m 48s\tremaining: 35m 30s\n",
      "5000:\tlearn: 0.1686102\ttotal: 1h 26m 38s\tremaining: 34m 37s\n",
      "5050:\tlearn: 0.1682641\ttotal: 1h 27m 28s\tremaining: 33m 45s\n",
      "5100:\tlearn: 0.1679472\ttotal: 1h 28m 18s\tremaining: 32m 52s\n",
      "5150:\tlearn: 0.1676386\ttotal: 1h 29m 6s\tremaining: 31m 59s\n",
      "5200:\tlearn: 0.1673080\ttotal: 1h 29m 57s\tremaining: 31m 6s\n",
      "5250:\tlearn: 0.1669441\ttotal: 1h 30m 45s\tremaining: 30m 13s\n",
      "5300:\tlearn: 0.1665997\ttotal: 1h 31m 35s\tremaining: 29m 21s\n",
      "5350:\tlearn: 0.1663161\ttotal: 1h 32m 22s\tremaining: 28m 28s\n",
      "5400:\tlearn: 0.1659598\ttotal: 1h 33m 11s\tremaining: 27m 35s\n",
      "5450:\tlearn: 0.1656372\ttotal: 1h 34m 2s\tremaining: 26m 43s\n",
      "5500:\tlearn: 0.1653129\ttotal: 1h 34m 51s\tremaining: 25m 51s\n",
      "5550:\tlearn: 0.1650036\ttotal: 1h 35m 41s\tremaining: 24m 58s\n",
      "5600:\tlearn: 0.1647102\ttotal: 1h 36m 31s\tremaining: 24m 6s\n",
      "5650:\tlearn: 0.1643762\ttotal: 1h 37m 22s\tremaining: 23m 14s\n",
      "5700:\tlearn: 0.1640518\ttotal: 1h 38m 13s\tremaining: 22m 22s\n",
      "5750:\tlearn: 0.1637784\ttotal: 1h 39m 3s\tremaining: 21m 30s\n",
      "5800:\tlearn: 0.1634206\ttotal: 1h 39m 53s\tremaining: 20m 38s\n",
      "5850:\tlearn: 0.1631149\ttotal: 1h 40m 44s\tremaining: 19m 46s\n",
      "5900:\tlearn: 0.1628119\ttotal: 1h 41m 36s\tremaining: 18m 55s\n",
      "5950:\tlearn: 0.1624794\ttotal: 1h 42m 27s\tremaining: 18m 3s\n",
      "6000:\tlearn: 0.1621858\ttotal: 1h 43m 18s\tremaining: 17m 11s\n",
      "6050:\tlearn: 0.1618817\ttotal: 1h 44m 8s\tremaining: 16m 19s\n",
      "6100:\tlearn: 0.1615492\ttotal: 1h 44m 58s\tremaining: 15m 28s\n",
      "6150:\tlearn: 0.1612498\ttotal: 1h 45m 47s\tremaining: 14m 36s\n",
      "6200:\tlearn: 0.1609138\ttotal: 1h 46m 36s\tremaining: 13m 44s\n",
      "6250:\tlearn: 0.1606092\ttotal: 1h 47m 26s\tremaining: 12m 52s\n",
      "6300:\tlearn: 0.1603043\ttotal: 1h 48m 16s\tremaining: 12m\n",
      "6350:\tlearn: 0.1600141\ttotal: 1h 49m 5s\tremaining: 11m 8s\n",
      "6400:\tlearn: 0.1597008\ttotal: 1h 49m 56s\tremaining: 10m 17s\n",
      "6450:\tlearn: 0.1593642\ttotal: 1h 50m 43s\tremaining: 9m 25s\n",
      "6500:\tlearn: 0.1590994\ttotal: 1h 51m 32s\tremaining: 8m 33s\n",
      "6550:\tlearn: 0.1588200\ttotal: 1h 52m 21s\tremaining: 7m 42s\n",
      "6600:\tlearn: 0.1585621\ttotal: 1h 53m 11s\tremaining: 6m 50s\n",
      "6650:\tlearn: 0.1582851\ttotal: 1h 54m 1s\tremaining: 5m 58s\n",
      "6700:\tlearn: 0.1580049\ttotal: 1h 54m 50s\tremaining: 5m 7s\n",
      "6750:\tlearn: 0.1577236\ttotal: 1h 55m 42s\tremaining: 4m 16s\n",
      "6800:\tlearn: 0.1574489\ttotal: 1h 56m 29s\tremaining: 3m 24s\n",
      "6850:\tlearn: 0.1572010\ttotal: 1h 57m 19s\tremaining: 2m 33s\n",
      "6900:\tlearn: 0.1569333\ttotal: 1h 58m 9s\tremaining: 1m 41s\n",
      "6950:\tlearn: 0.1566581\ttotal: 1h 59m 1s\tremaining: 50.3s\n",
      "6999:\tlearn: 0.1563775\ttotal: 1h 59m 50s\tremaining: 0us\n"
     ]
    },
    {
     "data": {
      "text/plain": [
       "<catboost.core.CatBoostClassifier at 0x7fe254ca9c40>"
      ]
     },
     "execution_count": 83,
     "metadata": {},
     "output_type": "execute_result"
    }
   ],
   "source": [
    "#!c1.32\n",
    "model.fit(X_train, y_train)"
   ]
  },
  {
   "cell_type": "code",
   "execution_count": 84,
   "id": "6eacdecb",
   "metadata": {
    "cellId": "9ez17282jjp77mcjqjdmpk",
    "execution_id": "6c228d4d-c238-4e9e-a974-2bab92459579"
   },
   "outputs": [],
   "source": [
    "def score_model(model, X, y, threshold=0.5):  # 0.225 is the best for now\n",
    "    pred = model.predict_proba(X)[:, 1] > threshold\n",
    "    recall = recall_score(y, pred, average=\"macro\")\n",
    "    roc_auc = roc_auc_score(y,  pred, multi_class='ovo')\n",
    "    score = 0.1 * recall + 0.9 * roc_auc\n",
    "    return score"
   ]
  },
  {
   "cell_type": "code",
   "execution_count": 74,
   "id": "fccece15",
   "metadata": {
    "cellId": "eca17en72crbmludcersss",
    "execution_id": "12947e08-0a44-4765-ab7e-74f73d710d71"
   },
   "outputs": [
    {
     "data": {
      "text/plain": [
       "0.9001320410221255"
      ]
     },
     "execution_count": 74,
     "metadata": {},
     "output_type": "execute_result"
    }
   ],
   "source": [
    "score_model(model, X_val, y_val, 0.35)"
   ]
  },
  {
   "cell_type": "code",
   "execution_count": 85,
   "id": "2087e262",
   "metadata": {
    "cellId": "0gnzsw3od7p69z0t49qyxv",
    "execution_id": "9d9e8b8c-4c47-4fb5-96fa-3ef61ff97da8"
   },
   "outputs": [
    {
     "data": {
      "text/plain": [
       "0.9319976456659861"
      ]
     },
     "execution_count": 85,
     "metadata": {},
     "output_type": "execute_result"
    }
   ],
   "source": [
    "score_model(model, X_train, y_train, 0.35) "
   ]
  },
  {
   "cell_type": "code",
   "execution_count": 86,
   "id": "7d33fe1c",
   "metadata": {
    "cellId": "s08yyuyf0lvhivquokwph",
    "execution_id": "91865440-4be8-4c2c-8445-a8b18ff6c332"
   },
   "outputs": [
    {
     "data": {
      "text/plain": [
       "[('total_over_person', 8.617996978373908),\n",
       " ('same_oper_item_hash', 7.8616569382495305),\n",
       " ('unknown_oper_ratio', 6.814557509207496),\n",
       " ('total_qty_oper_login_1', 6.562439660358021),\n",
       " ('specialization_ratio', 6.547828256602237),\n",
       " ('index_oper', 6.478515541710767),\n",
       " ('total_qty_oper_login_0', 6.217059156277348),\n",
       " ('same_hash', 4.785745907603959),\n",
       " ('mailctg', 4.740562340610744),\n",
       " ('transport_pay', 4.107319388997391),\n",
       " ('weight', 3.7353274808759487),\n",
       " ('total_qty_over_index_and_type', 3.5007545139541696),\n",
       " ('id', 3.2922648553623026),\n",
       " ('type', 3.220401970452459),\n",
       " ('weight_mfi', 2.777887092850324),\n",
       " ('price_mfi', 2.634764016710684),\n",
       " ('dist_qty_oper_login_1', 2.3899338299096664),\n",
       " ('same_name', 2.321428676916351),\n",
       " ('last_id', 2.299719693096319),\n",
       " ('total_qty_over_index', 2.160941647602158),\n",
       " ('name_mfi_len', 2.103709257870011),\n",
       " ('class', 1.5188161815871413),\n",
       " ('priority', 1.4128383450112492),\n",
       " ('name_mfi_count', 1.1585250088888095),\n",
       " ('is_wrong_phone_number', 0.7636340496122475),\n",
       " ('is_wrong_rcpn_name', 0.5512873533373518),\n",
       " ('is_in_yandex', 0.41165791457614354),\n",
       " ('is_102968_operator', 0.17840079186734212),\n",
       " ('directctg', 0.15174220379793327),\n",
       " ('is_102152_operator', 0.12443482599587956),\n",
       " ('is_102971_operator', 0.12268599738135783),\n",
       " ('is_102976_operator', 0.10355974157354372),\n",
       " ('is_420306_operator', 0.08257459207992317),\n",
       " ('is_140980_operator', 0.0683635154822985),\n",
       " ('is_620984_operator', 0.060215737354962585),\n",
       " ('is_200980_operator', 0.05612591634816018),\n",
       " ('is_return', 0.0265408754694375),\n",
       " ('is_wrong_address', 0.010459353068646851),\n",
       " ('mailtype', 0.007787142705633531),\n",
       " ('is_wrong_sndr_name', 0.007420437375626687),\n",
       " ('postmark', 0.00615515060298933),\n",
       " ('is_privatecategory', 0.005960152291593205),\n",
       " ('is_102998_operator', 0.0),\n",
       " ('is_102102_operator', 0.0)]"
      ]
     },
     "execution_count": 86,
     "metadata": {},
     "output_type": "execute_result"
    }
   ],
   "source": [
    "sorted(list(zip(X_train.columns, model.feature_importances_)), key = lambda x: -x[1])"
   ]
  },
  {
   "cell_type": "code",
   "execution_count": 87,
   "id": "e6bcd824",
   "metadata": {
    "cellId": "kthnv0rzyykqlef93ge7xf",
    "execution_id": "38e34156-e941-436b-83d3-e32c594ab832"
   },
   "outputs": [],
   "source": [
    "test_preds = (model.predict_proba(test_df)[:, 1])\n",
    "submission = pd.DataFrame({'id': test_ids.id, 'label': test_preds})\n",
    "submission.to_csv(\"submission.csv\", index=False)"
   ]
  },
  {
   "cell_type": "code",
   "execution_count": 88,
   "id": "d5dae801",
   "metadata": {
    "cellId": "hp8jc0pctt5zfoow92z5h",
    "execution_id": "007dea8f-9d01-4ab1-9630-43927a2bd2c8"
   },
   "outputs": [
    {
     "data": {
      "text/plain": [
       "4"
      ]
     },
     "execution_count": 88,
     "metadata": {},
     "output_type": "execute_result"
    }
   ],
   "source": [
    "4"
   ]
  },
  {
   "cell_type": "code",
   "execution_count": null,
   "id": "c8502c69",
   "metadata": {
    "cellId": "r24ifajh5rr5l9yklg9sfi"
   },
   "outputs": [],
   "source": []
  },
  {
   "cell_type": "code",
   "execution_count": null,
   "id": "c2a07d16",
   "metadata": {
    "cellId": "nqfglt8hbpnvyh765337y"
   },
   "outputs": [],
   "source": [
    "unrounded_sub = pd.read_csv('submission.csv') \n",
    "sub = unrounded_sub.copy()\n",
    "sub.label = (unrounded_sub.label > 0.225).astype(int) \n",
    "sub.to_csv('submission_rounded.csv', index=False)"
   ]
  },
  {
   "cell_type": "code",
   "execution_count": null,
   "id": "85e917a5",
   "metadata": {
    "cellId": "2p0co5wsn3d0rsc7im88zto"
   },
   "outputs": [],
   "source": [
    "sub.label.mean()\n",
    "unrounded_sub.label.mean()"
   ]
  },
  {
   "cell_type": "code",
   "execution_count": null,
   "id": "aa6267d3",
   "metadata": {
    "cellId": "98qj1ffo3ehixyb7sflqw"
   },
   "outputs": [],
   "source": []
  }
 ],
 "metadata": {
  "language_info": {
   "codemirror_mode": {
    "name": "ipython",
    "version": 3
   },
   "file_extension": ".py",
   "mimetype": "text/x-python",
   "name": "python",
   "nbconvert_exporter": "python",
   "pygments_lexer": "ipython3",
   "version": "3.7.7"
  },
  "notebookId": "ed7dd563-ce4b-46a2-991c-9833419e1943",
  "notebookPath": "solution.ipynb"
 },
 "nbformat": 4,
 "nbformat_minor": 5
}
