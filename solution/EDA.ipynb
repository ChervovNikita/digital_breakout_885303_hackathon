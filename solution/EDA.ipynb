{
 "cells": [
  {
   "cell_type": "code",
   "execution_count": 1,
   "id": "3222e2f6-5ac9-4917-9dce-e3d5adaa82e9",
   "metadata": {},
   "outputs": [],
   "source": [
    "import pandas as pd\n",
    "import numpy as np\n",
    "import seaborn as sns\n",
    "import matplotlib.pyplot as plt\n",
    "from sklearn.model_selection import train_test_split\n",
    "from sklearn.ensemble import RandomForestClassifier\n",
    "from sklearn.metrics import recall_score, roc_auc_score\n",
    "from sklearn.metrics import confusion_matrix\n",
    "\n",
    "from sklearn.linear_model import LogisticRegression\n",
    "from catboost import CatBoostClassifier\n",
    "\n",
    "import warnings\n",
    "from copy import deepcopy\n",
    "import gc\n",
    "from collections import Counter\n",
    "\n",
    "%matplotlib inline"
   ]
  },
  {
   "cell_type": "code",
   "execution_count": 2,
   "id": "bbb2bcec-ba00-43f5-857e-72097ec12edb",
   "metadata": {},
   "outputs": [
    {
     "name": "stdout",
     "output_type": "stream",
     "text": [
      "/home/chervovn04/Programming/hackathons/2022/digital_breakout_885303\n"
     ]
    }
   ],
   "source": [
    "%cd ../"
   ]
  },
  {
   "cell_type": "code",
   "execution_count": 3,
   "id": "5e911098-a888-446b-8b84-e04e9cdc1d59",
   "metadata": {},
   "outputs": [
    {
     "name": "stderr",
     "output_type": "stream",
     "text": [
      "/tmp/ipykernel_12797/1366839329.py:1: DtypeWarning: Columns (2) have mixed types. Specify dtype option on import or set low_memory=False.\n",
      "  df = pd.read_csv(\"data/train.csv\")\n"
     ]
    }
   ],
   "source": [
    "df = pd.read_csv(\"data/train.csv\")"
   ]
  },
  {
   "cell_type": "code",
   "execution_count": 4,
   "id": "64dd57ac-65ce-49ba-a6ab-a32baa99afe2",
   "metadata": {},
   "outputs": [],
   "source": [
    "df = df.sample(1_000_000)"
   ]
  },
  {
   "cell_type": "code",
   "execution_count": null,
   "id": "742348da-af87-484f-9090-8979ba758bcc",
   "metadata": {},
   "outputs": [],
   "source": [
    "df.head(3) "
   ]
  },
  {
   "cell_type": "code",
   "execution_count": null,
   "id": "13caac8a-57c4-43a1-b6d3-8d95c179d899",
   "metadata": {},
   "outputs": [],
   "source": [
    "df.info(0) "
   ]
  },
  {
   "cell_type": "code",
   "execution_count": null,
   "id": "cde91165-4353-45ce-b39f-844f5cde325b",
   "metadata": {},
   "outputs": [],
   "source": [
    "df.drop(columns=['mailrank'], inplace=True) "
   ]
  },
  {
   "cell_type": "code",
   "execution_count": null,
   "id": "03b0a0de-cc6b-41aa-8561-ecaf9075fdc0",
   "metadata": {},
   "outputs": [],
   "source": [
    "df.index_oper = df.index_oper.replace(' ', '0').astype(float)"
   ]
  },
  {
   "cell_type": "code",
   "execution_count": null,
   "id": "1ab222a6-4c13-448c-a95d-9702ac5eafaf",
   "metadata": {},
   "outputs": [],
   "source": [
    "df.index_oper.hist(bins=30)"
   ]
  },
  {
   "cell_type": "code",
   "execution_count": null,
   "id": "59e737d6-2e40-43fa-b6b9-d4d87eb94ba7",
   "metadata": {},
   "outputs": [],
   "source": [
    "sns.heatmap(np.abs(df.corr()), square = True)"
   ]
  },
  {
   "cell_type": "code",
   "execution_count": null,
   "id": "331ed5bb-4f99-422d-9280-c0aec4590cda",
   "metadata": {},
   "outputs": [],
   "source": [
    "df.shape, df[np.abs(df.weight - df.weight_mfi) <= 10000].shape"
   ]
  },
  {
   "cell_type": "code",
   "execution_count": null,
   "id": "2f775aaf-7940-46ed-99af-a4db6f8c6ed5",
   "metadata": {},
   "outputs": [],
   "source": [
    "(df[np.abs(df.weight - df.weight_mfi) <= 10000].weight - df.weight_mfi).hist(bins=100)"
   ]
  },
  {
   "cell_type": "code",
   "execution_count": null,
   "id": "b38c71e3-8ecd-41fc-9610-ad3beb39ca4d",
   "metadata": {},
   "outputs": [],
   "source": [
    "df.info(0)"
   ]
  },
  {
   "cell_type": "code",
   "execution_count": null,
   "id": "d8603b16-3e1a-4488-a55b-014aba246358",
   "metadata": {},
   "outputs": [],
   "source": [
    "plt.scatter(df[(df.price_mfi != 0) & (df.transport_pay != 0)].price_mfi, df[(df.price_mfi != 0) & (df.transport_pay != 0)].transport_pay) "
   ]
  },
  {
   "cell_type": "code",
   "execution_count": null,
   "id": "7f699aed-7227-451c-a4de-b240cae9859a",
   "metadata": {},
   "outputs": [],
   "source": [
    "plt.hist(df.total_qty_over_index, bins=30);"
   ]
  },
  {
   "cell_type": "code",
   "execution_count": null,
   "id": "008c418c-77aa-4f22-a120-3d3592cc6b30",
   "metadata": {},
   "outputs": [],
   "source": [
    "plt.hist(df.dist_qty_oper_login_1, bins=30);"
   ]
  },
  {
   "cell_type": "code",
   "execution_count": null,
   "id": "7ee5f7c5-b865-4e04-81a9-c6fac5b6d344",
   "metadata": {},
   "outputs": [],
   "source": [
    "df.index_oper = df.index_oper.replace(' ', '0').astype(float).astype(int) "
   ]
  },
  {
   "cell_type": "code",
   "execution_count": null,
   "id": "7ed183f1-ba51-4369-8273-fba0b67ca6ab",
   "metadata": {},
   "outputs": [],
   "source": [
    "Counter(df.index_oper).most_common(10)"
   ]
  },
  {
   "cell_type": "code",
   "execution_count": null,
   "id": "b7607beb-70e5-481b-9db4-eaab29e14083",
   "metadata": {},
   "outputs": [],
   "source": [
    "index_data = df[df.index_oper == 102976]"
   ]
  },
  {
   "cell_type": "code",
   "execution_count": null,
   "id": "2734c866-737c-4cf5-90ec-0c454c3b70c9",
   "metadata": {},
   "outputs": [],
   "source": [
    "(df == 0).sum()"
   ]
  },
  {
   "cell_type": "code",
   "execution_count": null,
   "id": "70e6d74d-2e39-45cf-9475-0acbe46d903e",
   "metadata": {},
   "outputs": [],
   "source": [
    "(df.total_qty_over_index == 0).sum()"
   ]
  },
  {
   "cell_type": "code",
   "execution_count": null,
   "id": "c7e3d10f-3697-46da-b5ad-35655fcb2173",
   "metadata": {},
   "outputs": [],
   "source": [
    "Counter(index_data.total_qty_over_index)"
   ]
  },
  {
   "cell_type": "code",
   "execution_count": null,
   "id": "4536caf9-f277-4aa1-b156-37a094a20a08",
   "metadata": {},
   "outputs": [],
   "source": []
  },
  {
   "cell_type": "code",
   "execution_count": 5,
   "id": "4313acff-f8af-4e24-bcbb-fdfebc03d66c",
   "metadata": {},
   "outputs": [],
   "source": [
    "original_data = df.copy() "
   ]
  },
  {
   "cell_type": "code",
   "execution_count": 6,
   "id": "0d2adb4a-6782-4cb9-b420-fa561b08927b",
   "metadata": {},
   "outputs": [
    {
     "data": {
      "text/html": [
       "<div>\n",
       "<style scoped>\n",
       "    .dataframe tbody tr th:only-of-type {\n",
       "        vertical-align: middle;\n",
       "    }\n",
       "\n",
       "    .dataframe tbody tr th {\n",
       "        vertical-align: top;\n",
       "    }\n",
       "\n",
       "    .dataframe thead th {\n",
       "        text-align: right;\n",
       "    }\n",
       "</style>\n",
       "<table border=\"1\" class=\"dataframe\">\n",
       "  <thead>\n",
       "    <tr style=\"text-align: right;\">\n",
       "      <th></th>\n",
       "      <th>id</th>\n",
       "      <th>oper_type + oper_attr</th>\n",
       "      <th>index_oper</th>\n",
       "      <th>type</th>\n",
       "      <th>priority</th>\n",
       "      <th>is_privatecategory</th>\n",
       "      <th>class</th>\n",
       "      <th>is_in_yandex</th>\n",
       "      <th>is_return</th>\n",
       "      <th>weight</th>\n",
       "      <th>...</th>\n",
       "      <th>dist_qty_oper_login_1</th>\n",
       "      <th>total_qty_oper_login_1</th>\n",
       "      <th>total_qty_oper_login_0</th>\n",
       "      <th>total_qty_over_index_and_type</th>\n",
       "      <th>total_qty_over_index</th>\n",
       "      <th>is_wrong_sndr_name</th>\n",
       "      <th>is_wrong_rcpn_name</th>\n",
       "      <th>is_wrong_phone_number</th>\n",
       "      <th>is_wrong_address</th>\n",
       "      <th>label</th>\n",
       "    </tr>\n",
       "  </thead>\n",
       "  <tbody>\n",
       "    <tr>\n",
       "      <th>4733911</th>\n",
       "      <td>2313290</td>\n",
       "      <td>1_-1</td>\n",
       "      <td>102971.0</td>\n",
       "      <td>Цех</td>\n",
       "      <td>7506.0</td>\n",
       "      <td>N</td>\n",
       "      <td>0.0</td>\n",
       "      <td>N</td>\n",
       "      <td>N</td>\n",
       "      <td>254.0</td>\n",
       "      <td>...</td>\n",
       "      <td>181.0</td>\n",
       "      <td>76138189.0</td>\n",
       "      <td>8747.0</td>\n",
       "      <td>76146936.0</td>\n",
       "      <td>84110459.0</td>\n",
       "      <td>0</td>\n",
       "      <td>1</td>\n",
       "      <td>0</td>\n",
       "      <td>0</td>\n",
       "      <td>0</td>\n",
       "    </tr>\n",
       "    <tr>\n",
       "      <th>2564772</th>\n",
       "      <td>1990648</td>\n",
       "      <td>1016_-1</td>\n",
       "      <td>420306</td>\n",
       "      <td>Цех</td>\n",
       "      <td>7503.0</td>\n",
       "      <td>N</td>\n",
       "      <td>0.0</td>\n",
       "      <td>Y</td>\n",
       "      <td>N</td>\n",
       "      <td>479.0</td>\n",
       "      <td>...</td>\n",
       "      <td>361.0</td>\n",
       "      <td>9570832.0</td>\n",
       "      <td>3258747.0</td>\n",
       "      <td>12829579.0</td>\n",
       "      <td>18959055.0</td>\n",
       "      <td>0</td>\n",
       "      <td>0</td>\n",
       "      <td>0</td>\n",
       "      <td>0</td>\n",
       "      <td>0</td>\n",
       "    </tr>\n",
       "    <tr>\n",
       "      <th>5071969</th>\n",
       "      <td>3353185</td>\n",
       "      <td>0_-1</td>\n",
       "      <td>420312.0</td>\n",
       "      <td>Цех</td>\n",
       "      <td>7503.0</td>\n",
       "      <td>N</td>\n",
       "      <td>0.0</td>\n",
       "      <td>Y</td>\n",
       "      <td>N</td>\n",
       "      <td>180.0</td>\n",
       "      <td>...</td>\n",
       "      <td>105.0</td>\n",
       "      <td>4273111.0</td>\n",
       "      <td>1459081.0</td>\n",
       "      <td>5732192.0</td>\n",
       "      <td>5735070.0</td>\n",
       "      <td>0</td>\n",
       "      <td>0</td>\n",
       "      <td>0</td>\n",
       "      <td>0</td>\n",
       "      <td>0</td>\n",
       "    </tr>\n",
       "    <tr>\n",
       "      <th>5114803</th>\n",
       "      <td>2342043</td>\n",
       "      <td>1_-1</td>\n",
       "      <td>625962.0</td>\n",
       "      <td>Участок</td>\n",
       "      <td>7503.0</td>\n",
       "      <td>N</td>\n",
       "      <td>0.0</td>\n",
       "      <td>Y</td>\n",
       "      <td>N</td>\n",
       "      <td>125.0</td>\n",
       "      <td>...</td>\n",
       "      <td>43.0</td>\n",
       "      <td>2345548.0</td>\n",
       "      <td>3004.0</td>\n",
       "      <td>2348552.0</td>\n",
       "      <td>19642841.0</td>\n",
       "      <td>0</td>\n",
       "      <td>0</td>\n",
       "      <td>0</td>\n",
       "      <td>0</td>\n",
       "      <td>0</td>\n",
       "    </tr>\n",
       "    <tr>\n",
       "      <th>2565378</th>\n",
       "      <td>1255816</td>\n",
       "      <td>1_-1</td>\n",
       "      <td>102971</td>\n",
       "      <td>Цех</td>\n",
       "      <td>7506.0</td>\n",
       "      <td>N</td>\n",
       "      <td>0.0</td>\n",
       "      <td>N</td>\n",
       "      <td>N</td>\n",
       "      <td>223.0</td>\n",
       "      <td>...</td>\n",
       "      <td>184.0</td>\n",
       "      <td>67541214.0</td>\n",
       "      <td>7870.0</td>\n",
       "      <td>67549084.0</td>\n",
       "      <td>72981134.0</td>\n",
       "      <td>0</td>\n",
       "      <td>0</td>\n",
       "      <td>1</td>\n",
       "      <td>0</td>\n",
       "      <td>0</td>\n",
       "    </tr>\n",
       "  </tbody>\n",
       "</table>\n",
       "<p>5 rows × 29 columns</p>\n",
       "</div>"
      ],
      "text/plain": [
       "              id oper_type + oper_attr index_oper     type  priority  \\\n",
       "4733911  2313290                  1_-1   102971.0      Цех    7506.0   \n",
       "2564772  1990648               1016_-1     420306      Цех    7503.0   \n",
       "5071969  3353185                  0_-1   420312.0      Цех    7503.0   \n",
       "5114803  2342043                  1_-1   625962.0  Участок    7503.0   \n",
       "2565378  1255816                  1_-1     102971      Цех    7506.0   \n",
       "\n",
       "        is_privatecategory  class is_in_yandex is_return  weight  ...  \\\n",
       "4733911                  N    0.0            N         N   254.0  ...   \n",
       "2564772                  N    0.0            Y         N   479.0  ...   \n",
       "5071969                  N    0.0            Y         N   180.0  ...   \n",
       "5114803                  N    0.0            Y         N   125.0  ...   \n",
       "2565378                  N    0.0            N         N   223.0  ...   \n",
       "\n",
       "         dist_qty_oper_login_1  total_qty_oper_login_1  \\\n",
       "4733911                  181.0              76138189.0   \n",
       "2564772                  361.0               9570832.0   \n",
       "5071969                  105.0               4273111.0   \n",
       "5114803                   43.0               2345548.0   \n",
       "2565378                  184.0              67541214.0   \n",
       "\n",
       "         total_qty_oper_login_0  total_qty_over_index_and_type  \\\n",
       "4733911                  8747.0                     76146936.0   \n",
       "2564772               3258747.0                     12829579.0   \n",
       "5071969               1459081.0                      5732192.0   \n",
       "5114803                  3004.0                      2348552.0   \n",
       "2565378                  7870.0                     67549084.0   \n",
       "\n",
       "         total_qty_over_index  is_wrong_sndr_name is_wrong_rcpn_name  \\\n",
       "4733911            84110459.0                   0                  1   \n",
       "2564772            18959055.0                   0                  0   \n",
       "5071969             5735070.0                   0                  0   \n",
       "5114803            19642841.0                   0                  0   \n",
       "2565378            72981134.0                   0                  0   \n",
       "\n",
       "         is_wrong_phone_number  is_wrong_address  label  \n",
       "4733911                      0                 0      0  \n",
       "2564772                      0                 0      0  \n",
       "5071969                      0                 0      0  \n",
       "5114803                      0                 0      0  \n",
       "2565378                      1                 0      0  \n",
       "\n",
       "[5 rows x 29 columns]"
      ]
     },
     "execution_count": 6,
     "metadata": {},
     "output_type": "execute_result"
    }
   ],
   "source": [
    "df.head() "
   ]
  },
  {
   "cell_type": "code",
   "execution_count": 8,
   "id": "b2d40c90-0b16-4d2e-862f-5da87fd5fd13",
   "metadata": {},
   "outputs": [],
   "source": [
    "df = df[['oper_type + oper_attr', 'label']]"
   ]
  },
  {
   "cell_type": "code",
   "execution_count": 11,
   "id": "c24ebb07-aad0-461c-b079-a543e1994042",
   "metadata": {},
   "outputs": [],
   "source": [
    "df['oper_type'], df['oper_attr'] = zip(*df['oper_type + oper_attr'].map(lambda x: x.split('_')))"
   ]
  },
  {
   "cell_type": "code",
   "execution_count": 13,
   "id": "2d7c46dd-72ec-49be-afd3-44ffa0428cd3",
   "metadata": {},
   "outputs": [],
   "source": [
    "df.drop(columns=['oper_type + oper_attr'], inplace=True) "
   ]
  },
  {
   "cell_type": "code",
   "execution_count": 22,
   "id": "79c1c30f-d624-4569-a9f9-05741498e099",
   "metadata": {},
   "outputs": [
    {
     "name": "stdout",
     "output_type": "stream",
     "text": [
      "-1 815700 0.02262964325119529\n",
      "0 66577 0.0\n",
      "1 30218 0.26070553974452315\n",
      "6 26459 0.06553535658944026\n",
      "2 23883 4.187078675208307e-05\n",
      "3 19764 0.0\n",
      "13 11667 0.0\n",
      "10 1648 0.0\n",
      "5 1402 0.0\n",
      "1001 765 0.0\n",
      "4 564 0.0\n",
      "20 371 0.0\n",
      "9 280 0.0\n",
      "1000 226 0.0\n",
      "18 167 0.0\n",
      "21 127 0.0\n",
      "8 78 0.01282051282051282\n",
      "182 75 0.7733333333333333\n",
      "16 24 0.0\n",
      "22 2 0.0\n",
      "7 1 0.0\n",
      "19 1 0.0\n",
      "11 1 0.0\n"
     ]
    }
   ],
   "source": [
    "for oattr in [x[0] for x in Counter(df.oper_attr).most_common(df.oper_attr.nunique())]:\n",
    "    print(oattr, (df.oper_attr == oattr).sum(), df.label[df.oper_attr == oattr].mean())"
   ]
  },
  {
   "cell_type": "code",
   "execution_count": 7,
   "id": "fd49006a-b139-4692-9713-05f8f7041ee2",
   "metadata": {},
   "outputs": [
    {
     "ename": "AttributeError",
     "evalue": "'DataFrame' object has no attribute 'oper_type'",
     "output_type": "error",
     "traceback": [
      "\u001b[0;31m---------------------------------------------------------------------------\u001b[0m",
      "\u001b[0;31mAttributeError\u001b[0m                            Traceback (most recent call last)",
      "Cell \u001b[0;32mIn [7], line 1\u001b[0m\n\u001b[0;32m----> 1\u001b[0m \u001b[38;5;28;01mfor\u001b[39;00m otype \u001b[38;5;129;01min\u001b[39;00m [x[\u001b[38;5;241m0\u001b[39m] \u001b[38;5;28;01mfor\u001b[39;00m x \u001b[38;5;129;01min\u001b[39;00m Counter(\u001b[43mdf\u001b[49m\u001b[38;5;241;43m.\u001b[39;49m\u001b[43moper_type\u001b[49m)\u001b[38;5;241m.\u001b[39mmost_common(df\u001b[38;5;241m.\u001b[39moper_type\u001b[38;5;241m.\u001b[39mnunique())][:\u001b[38;5;241m20\u001b[39m]:\n\u001b[1;32m      2\u001b[0m     \u001b[38;5;28mprint\u001b[39m(otype, (df\u001b[38;5;241m.\u001b[39moper_type \u001b[38;5;241m==\u001b[39m otype)\u001b[38;5;241m.\u001b[39msum(), df\u001b[38;5;241m.\u001b[39mlabel[df\u001b[38;5;241m.\u001b[39moper_type \u001b[38;5;241m==\u001b[39m otype]\u001b[38;5;241m.\u001b[39mmean())\n",
      "File \u001b[0;32m~/Programming/hackathons/2022/digital_breakout_885303/venv/lib/python3.10/site-packages/pandas/core/generic.py:5902\u001b[0m, in \u001b[0;36mNDFrame.__getattr__\u001b[0;34m(self, name)\u001b[0m\n\u001b[1;32m   5895\u001b[0m \u001b[38;5;28;01mif\u001b[39;00m (\n\u001b[1;32m   5896\u001b[0m     name \u001b[38;5;129;01mnot\u001b[39;00m \u001b[38;5;129;01min\u001b[39;00m \u001b[38;5;28mself\u001b[39m\u001b[38;5;241m.\u001b[39m_internal_names_set\n\u001b[1;32m   5897\u001b[0m     \u001b[38;5;129;01mand\u001b[39;00m name \u001b[38;5;129;01mnot\u001b[39;00m \u001b[38;5;129;01min\u001b[39;00m \u001b[38;5;28mself\u001b[39m\u001b[38;5;241m.\u001b[39m_metadata\n\u001b[1;32m   5898\u001b[0m     \u001b[38;5;129;01mand\u001b[39;00m name \u001b[38;5;129;01mnot\u001b[39;00m \u001b[38;5;129;01min\u001b[39;00m \u001b[38;5;28mself\u001b[39m\u001b[38;5;241m.\u001b[39m_accessors\n\u001b[1;32m   5899\u001b[0m     \u001b[38;5;129;01mand\u001b[39;00m \u001b[38;5;28mself\u001b[39m\u001b[38;5;241m.\u001b[39m_info_axis\u001b[38;5;241m.\u001b[39m_can_hold_identifiers_and_holds_name(name)\n\u001b[1;32m   5900\u001b[0m ):\n\u001b[1;32m   5901\u001b[0m     \u001b[38;5;28;01mreturn\u001b[39;00m \u001b[38;5;28mself\u001b[39m[name]\n\u001b[0;32m-> 5902\u001b[0m \u001b[38;5;28;01mreturn\u001b[39;00m \u001b[38;5;28;43mobject\u001b[39;49m\u001b[38;5;241;43m.\u001b[39;49m\u001b[38;5;21;43m__getattribute__\u001b[39;49m\u001b[43m(\u001b[49m\u001b[38;5;28;43mself\u001b[39;49m\u001b[43m,\u001b[49m\u001b[43m \u001b[49m\u001b[43mname\u001b[49m\u001b[43m)\u001b[49m\n",
      "\u001b[0;31mAttributeError\u001b[0m: 'DataFrame' object has no attribute 'oper_type'"
     ]
    }
   ],
   "source": [
    "for otype in [x[0] for x in Counter(df.oper_type).most_common(df.oper_type.nunique())][:20]:\n",
    "    print(otype, (df.oper_type == otype).sum(), df.label[df.oper_type == otype].mean())"
   ]
  },
  {
   "cell_type": "code",
   "execution_count": null,
   "id": "0b39558f-a7e6-4796-ae39-e5aef6c16236",
   "metadata": {},
   "outputs": [],
   "source": []
  },
  {
   "cell_type": "code",
   "execution_count": null,
   "id": "bc470842-3fe1-4aeb-b70f-67542795ce8e",
   "metadata": {},
   "outputs": [],
   "source": []
  },
  {
   "cell_type": "code",
   "execution_count": null,
   "id": "d61cd12e-f8d0-4606-a61b-3ac9e3836f7b",
   "metadata": {},
   "outputs": [],
   "source": []
  },
  {
   "cell_type": "code",
   "execution_count": null,
   "id": "5760fc4b-756a-4eb9-9927-ed936f5d4236",
   "metadata": {},
   "outputs": [],
   "source": []
  },
  {
   "cell_type": "code",
   "execution_count": null,
   "id": "828d1acc-0227-4722-987e-6171d39f7a83",
   "metadata": {},
   "outputs": [],
   "source": []
  },
  {
   "cell_type": "code",
   "execution_count": null,
   "id": "cbd40e67-61cc-4428-8184-588e2b8b603d",
   "metadata": {},
   "outputs": [],
   "source": []
  }
 ],
 "metadata": {
  "kernelspec": {
   "display_name": "Python 3 (ipykernel)",
   "language": "python",
   "name": "python3"
  },
  "language_info": {
   "codemirror_mode": {
    "name": "ipython",
    "version": 3
   },
   "file_extension": ".py",
   "mimetype": "text/x-python",
   "name": "python",
   "nbconvert_exporter": "python",
   "pygments_lexer": "ipython3",
   "version": "3.10.6"
  }
 },
 "nbformat": 4,
 "nbformat_minor": 5
}
