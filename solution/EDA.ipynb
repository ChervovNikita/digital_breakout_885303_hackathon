{
 "cells": [
  {
   "cell_type": "code",
   "execution_count": 1,
   "id": "3222e2f6-5ac9-4917-9dce-e3d5adaa82e9",
   "metadata": {},
   "outputs": [],
   "source": [
    "import pandas as pd\n",
    "import numpy as np\n",
    "import seaborn as sns\n",
    "import matplotlib.pyplot as plt\n",
    "from sklearn.model_selection import train_test_split\n",
    "from sklearn.ensemble import RandomForestClassifier\n",
    "from sklearn.metrics import recall_score, roc_auc_score\n",
    "from sklearn.metrics import confusion_matrix\n",
    "\n",
    "from sklearn.linear_model import LogisticRegression\n",
    "from catboost import CatBoostClassifier\n",
    "\n",
    "import warnings\n",
    "from copy import deepcopy\n",
    "import gc\n",
    "from collections import Counter\n",
    "\n",
    "%matplotlib inline"
   ]
  },
  {
   "cell_type": "code",
   "execution_count": 2,
   "id": "bbb2bcec-ba00-43f5-857e-72097ec12edb",
   "metadata": {},
   "outputs": [
    {
     "name": "stdout",
     "output_type": "stream",
     "text": [
      "/home/chervovn04/Programming/hackathons/2022/digital_breakout_885303\n"
     ]
    }
   ],
   "source": [
    "%cd ../"
   ]
  },
  {
   "cell_type": "code",
   "execution_count": null,
   "id": "5e911098-a888-446b-8b84-e04e9cdc1d59",
   "metadata": {},
   "outputs": [
    {
     "name": "stderr",
     "output_type": "stream",
     "text": [
      "/tmp/ipykernel_11222/1366839329.py:1: DtypeWarning: Columns (2) have mixed types. Specify dtype option on import or set low_memory=False.\n",
      "  df = pd.read_csv(\"data/train.csv\")\n"
     ]
    }
   ],
   "source": [
    "df = pd.read_csv(\"data/train.csv\")"
   ]
  },
  {
   "cell_type": "code",
   "execution_count": null,
   "id": "64dd57ac-65ce-49ba-a6ab-a32baa99afe2",
   "metadata": {},
   "outputs": [],
   "source": [
    "df = df.sample(1_000_000)"
   ]
  },
  {
   "cell_type": "code",
   "execution_count": null,
   "id": "742348da-af87-484f-9090-8979ba758bcc",
   "metadata": {},
   "outputs": [],
   "source": [
    "df.head(3) "
   ]
  },
  {
   "cell_type": "code",
   "execution_count": null,
   "id": "13caac8a-57c4-43a1-b6d3-8d95c179d899",
   "metadata": {},
   "outputs": [],
   "source": [
    "df.info(0) "
   ]
  },
  {
   "cell_type": "code",
   "execution_count": null,
   "id": "cde91165-4353-45ce-b39f-844f5cde325b",
   "metadata": {},
   "outputs": [],
   "source": [
    "df.drop(columns=['mailrank'], inplace=True) "
   ]
  },
  {
   "cell_type": "code",
   "execution_count": null,
   "id": "03b0a0de-cc6b-41aa-8561-ecaf9075fdc0",
   "metadata": {},
   "outputs": [],
   "source": [
    "df.index_oper = df.index_oper.replace(' ', '0').astype(float)"
   ]
  },
  {
   "cell_type": "code",
   "execution_count": null,
   "id": "1ab222a6-4c13-448c-a95d-9702ac5eafaf",
   "metadata": {},
   "outputs": [],
   "source": [
    "df.index_oper.hist(bins=30)"
   ]
  },
  {
   "cell_type": "code",
   "execution_count": null,
   "id": "59e737d6-2e40-43fa-b6b9-d4d87eb94ba7",
   "metadata": {},
   "outputs": [],
   "source": [
    "sns.heatmap(np.abs(df.corr()), square = True)"
   ]
  },
  {
   "cell_type": "code",
   "execution_count": null,
   "id": "331ed5bb-4f99-422d-9280-c0aec4590cda",
   "metadata": {},
   "outputs": [],
   "source": [
    "df.shape, df[np.abs(df.weight - df.weight_mfi) <= 10000].shape"
   ]
  },
  {
   "cell_type": "code",
   "execution_count": null,
   "id": "2f775aaf-7940-46ed-99af-a4db6f8c6ed5",
   "metadata": {},
   "outputs": [],
   "source": [
    "(df[np.abs(df.weight - df.weight_mfi) <= 10000].weight - df.weight_mfi).hist(bins=100)"
   ]
  },
  {
   "cell_type": "code",
   "execution_count": null,
   "id": "b38c71e3-8ecd-41fc-9610-ad3beb39ca4d",
   "metadata": {},
   "outputs": [],
   "source": [
    "df.info(0)"
   ]
  },
  {
   "cell_type": "code",
   "execution_count": null,
   "id": "d8603b16-3e1a-4488-a55b-014aba246358",
   "metadata": {},
   "outputs": [],
   "source": [
    "plt.scatter(df[(df.price_mfi != 0) & (df.transport_pay != 0)].price_mfi, df[(df.price_mfi != 0) & (df.transport_pay != 0)].transport_pay) "
   ]
  },
  {
   "cell_type": "code",
   "execution_count": null,
   "id": "7f699aed-7227-451c-a4de-b240cae9859a",
   "metadata": {},
   "outputs": [],
   "source": [
    "plt.hist(df.total_qty_over_index, bins=30);"
   ]
  },
  {
   "cell_type": "code",
   "execution_count": null,
   "id": "008c418c-77aa-4f22-a120-3d3592cc6b30",
   "metadata": {},
   "outputs": [],
   "source": [
    "plt.hist(df.dist_qty_oper_login_1, bins=30);"
   ]
  },
  {
   "cell_type": "code",
   "execution_count": null,
   "id": "7ee5f7c5-b865-4e04-81a9-c6fac5b6d344",
   "metadata": {},
   "outputs": [],
   "source": [
    "df.index_oper = df.index_oper.replace(' ', '0').astype(float).astype(int) "
   ]
  },
  {
   "cell_type": "code",
   "execution_count": null,
   "id": "7ed183f1-ba51-4369-8273-fba0b67ca6ab",
   "metadata": {},
   "outputs": [],
   "source": [
    "Counter(df.index_oper).most_common(10)"
   ]
  },
  {
   "cell_type": "code",
   "execution_count": null,
   "id": "b7607beb-70e5-481b-9db4-eaab29e14083",
   "metadata": {},
   "outputs": [],
   "source": [
    "index_data = df[df.index_oper == 102976]"
   ]
  },
  {
   "cell_type": "code",
   "execution_count": null,
   "id": "2734c866-737c-4cf5-90ec-0c454c3b70c9",
   "metadata": {},
   "outputs": [],
   "source": [
    "(df == 0).sum()"
   ]
  },
  {
   "cell_type": "code",
   "execution_count": null,
   "id": "70e6d74d-2e39-45cf-9475-0acbe46d903e",
   "metadata": {},
   "outputs": [],
   "source": [
    "(df.total_qty_over_index == 0).sum()"
   ]
  },
  {
   "cell_type": "code",
   "execution_count": null,
   "id": "c7e3d10f-3697-46da-b5ad-35655fcb2173",
   "metadata": {},
   "outputs": [],
   "source": [
    "Counter(index_data.total_qty_over_index)"
   ]
  },
  {
   "cell_type": "code",
   "execution_count": null,
   "id": "4536caf9-f277-4aa1-b156-37a094a20a08",
   "metadata": {},
   "outputs": [],
   "source": []
  },
  {
   "cell_type": "code",
   "execution_count": null,
   "id": "4313acff-f8af-4e24-bcbb-fdfebc03d66c",
   "metadata": {},
   "outputs": [],
   "source": []
  },
  {
   "cell_type": "code",
   "execution_count": null,
   "id": "79c1c30f-d624-4569-a9f9-05741498e099",
   "metadata": {},
   "outputs": [],
   "source": []
  },
  {
   "cell_type": "code",
   "execution_count": null,
   "id": "fd49006a-b139-4692-9713-05f8f7041ee2",
   "metadata": {},
   "outputs": [],
   "source": []
  },
  {
   "cell_type": "code",
   "execution_count": null,
   "id": "0b39558f-a7e6-4796-ae39-e5aef6c16236",
   "metadata": {},
   "outputs": [],
   "source": []
  }
 ],
 "metadata": {
  "kernelspec": {
   "display_name": "Python 3 (ipykernel)",
   "language": "python",
   "name": "python3"
  },
  "language_info": {
   "codemirror_mode": {
    "name": "ipython",
    "version": 3
   },
   "file_extension": ".py",
   "mimetype": "text/x-python",
   "name": "python",
   "nbconvert_exporter": "python",
   "pygments_lexer": "ipython3",
   "version": "3.10.6"
  }
 },
 "nbformat": 4,
 "nbformat_minor": 5
}
