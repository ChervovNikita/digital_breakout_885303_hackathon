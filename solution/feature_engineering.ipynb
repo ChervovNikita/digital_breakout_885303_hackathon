{
 "cells": [
  {
   "cell_type": "code",
   "execution_count": 1,
   "id": "29355062-afef-4413-9bec-48a3195af9d2",
   "metadata": {},
   "outputs": [],
   "source": [
    "import pandas as pd\n",
    "import numpy as np\n",
    "import seaborn as sns\n",
    "import matplotlib.pyplot as plt\n",
    "from sklearn.model_selection import train_test_split\n",
    "from sklearn.ensemble import RandomForestClassifier\n",
    "from sklearn.metrics import recall_score, roc_auc_score\n",
    "from sklearn.metrics import confusion_matrix\n",
    "\n",
    "from sklearn.linear_model import LogisticRegression\n",
    "from catboost import CatBoostClassifier\n",
    "\n",
    "import warnings\n",
    "from copy import deepcopy\n",
    "import gc\n",
    "from collections import Counter\n",
    "\n",
    "%matplotlib inline"
   ]
  },
  {
   "cell_type": "code",
   "execution_count": 30,
   "id": "32ffc630-c381-4750-b7b6-c2c6626c5ed4",
   "metadata": {},
   "outputs": [],
   "source": [
    "def mask_generator(n, cnt):\n",
    "    ones_count = 1\n",
    "    yielded = 1\n",
    "    if cnt == 0:\n",
    "        return\n",
    "    yield np.zeros(n, dtype=bool)\n",
    "    while ones_count <= n and yielded < cnt:\n",
    "        cur_array = np.zeros(n, dtype=bool)\n",
    "        cur_array[:ones_count] = 1\n",
    "        while cur_array[-ones_count:].min() == 0:\n",
    "            yield cur_array\n",
    "            last_zero = np.where(cur_array == 0)[0][-1]\n",
    "            mobile = np.where(cur_array[:last_zero] == 1)[0][-1]\n",
    "            suf_ones = 1 + cur_array[last_zero:].sum()\n",
    "            cur_array[mobile:] = False\n",
    "            cur_array[mobile+1:mobile+suf_ones+1] = True\n",
    "            yielded += 1\n",
    "            if yielded == cnt:\n",
    "                return\n",
    "        if yielded == cnt:\n",
    "            return \n",
    "        yield cur_array\n",
    "        yielded += 1\n",
    "        ones_count += 1"
   ]
  },
  {
   "cell_type": "code",
   "execution_count": 37,
   "id": "1866ff6d-6605-4f86-891f-4843b4e22259",
   "metadata": {},
   "outputs": [],
   "source": [
    "def score_model(model, X, y, threshold=0.5):  # 0.41 is the best for now\n",
    "    pred = model.predict_proba(X)[:, 1] > threshold\n",
    "    recall = recall_score(y, pred, average=\"macro\")\n",
    "    roc_auc = roc_auc_score(y, pred, multi_class='ovo')\n",
    "    score = 0.1 * recall + 0.9 * roc_auc\n",
    "    return score"
   ]
  },
  {
   "cell_type": "code",
   "execution_count": null,
   "id": "07d00384-1ea4-45bb-b895-8ea75d9f5653",
   "metadata": {},
   "outputs": [],
   "source": []
  },
  {
   "cell_type": "code",
   "execution_count": 3,
   "id": "d45f47b8-bc03-4cf7-b874-a3cc59a51e1a",
   "metadata": {},
   "outputs": [
    {
     "name": "stdout",
     "output_type": "stream",
     "text": [
      "/home/chervovn04/Programming/hackathons/2022/digital_breakout_885303\n"
     ]
    }
   ],
   "source": [
    "%cd ../"
   ]
  },
  {
   "cell_type": "code",
   "execution_count": 5,
   "id": "40e0e811-ef85-40a9-b920-b62232d6700d",
   "metadata": {},
   "outputs": [],
   "source": [
    "import warnings\n",
    "warnings.filterwarnings('ignore')"
   ]
  },
  {
   "cell_type": "code",
   "execution_count": 6,
   "id": "ce69935a-3829-40bb-b69a-01a8ec9de1d2",
   "metadata": {},
   "outputs": [],
   "source": [
    "df = pd.read_csv(\"data/small_train.csv\")"
   ]
  },
  {
   "cell_type": "code",
   "execution_count": 7,
   "id": "a9fd5166-5c71-4ab0-90cf-1bcc7ed544df",
   "metadata": {},
   "outputs": [
    {
     "data": {
      "text/html": [
       "<div>\n",
       "<style scoped>\n",
       "    .dataframe tbody tr th:only-of-type {\n",
       "        vertical-align: middle;\n",
       "    }\n",
       "\n",
       "    .dataframe tbody tr th {\n",
       "        vertical-align: top;\n",
       "    }\n",
       "\n",
       "    .dataframe thead th {\n",
       "        text-align: right;\n",
       "    }\n",
       "</style>\n",
       "<table border=\"1\" class=\"dataframe\">\n",
       "  <thead>\n",
       "    <tr style=\"text-align: right;\">\n",
       "      <th></th>\n",
       "      <th>id</th>\n",
       "      <th>oper_type + oper_attr</th>\n",
       "      <th>index_oper</th>\n",
       "      <th>type</th>\n",
       "      <th>priority</th>\n",
       "      <th>is_privatecategory</th>\n",
       "      <th>class</th>\n",
       "      <th>is_in_yandex</th>\n",
       "      <th>is_return</th>\n",
       "      <th>weight</th>\n",
       "      <th>...</th>\n",
       "      <th>dist_qty_oper_login_1</th>\n",
       "      <th>total_qty_oper_login_1</th>\n",
       "      <th>total_qty_oper_login_0</th>\n",
       "      <th>total_qty_over_index_and_type</th>\n",
       "      <th>total_qty_over_index</th>\n",
       "      <th>is_wrong_sndr_name</th>\n",
       "      <th>is_wrong_rcpn_name</th>\n",
       "      <th>is_wrong_phone_number</th>\n",
       "      <th>is_wrong_address</th>\n",
       "      <th>label</th>\n",
       "    </tr>\n",
       "  </thead>\n",
       "  <tbody>\n",
       "    <tr>\n",
       "      <th>0</th>\n",
       "      <td>2793601</td>\n",
       "      <td>14_1</td>\n",
       "      <td>102976.0</td>\n",
       "      <td>ММПО</td>\n",
       "      <td>7503.0</td>\n",
       "      <td>N</td>\n",
       "      <td>0.0</td>\n",
       "      <td>N</td>\n",
       "      <td>N</td>\n",
       "      <td>44.0</td>\n",
       "      <td>...</td>\n",
       "      <td>1089.0</td>\n",
       "      <td>64270133.0</td>\n",
       "      <td>116432632.0</td>\n",
       "      <td>180702765.0</td>\n",
       "      <td>188407812.0</td>\n",
       "      <td>0</td>\n",
       "      <td>0</td>\n",
       "      <td>0</td>\n",
       "      <td>0</td>\n",
       "      <td>0</td>\n",
       "    </tr>\n",
       "    <tr>\n",
       "      <th>1</th>\n",
       "      <td>8457088</td>\n",
       "      <td>8_2</td>\n",
       "      <td>614070</td>\n",
       "      <td>ГОПС</td>\n",
       "      <td>7503.0</td>\n",
       "      <td>N</td>\n",
       "      <td>3.0</td>\n",
       "      <td>Y</td>\n",
       "      <td>N</td>\n",
       "      <td>20.0</td>\n",
       "      <td>...</td>\n",
       "      <td>15.0</td>\n",
       "      <td>15988.0</td>\n",
       "      <td>3565.0</td>\n",
       "      <td>19553.0</td>\n",
       "      <td>532681.0</td>\n",
       "      <td>0</td>\n",
       "      <td>0</td>\n",
       "      <td>1</td>\n",
       "      <td>0</td>\n",
       "      <td>0</td>\n",
       "    </tr>\n",
       "    <tr>\n",
       "      <th>2</th>\n",
       "      <td>9639638</td>\n",
       "      <td>8_13</td>\n",
       "      <td>102976</td>\n",
       "      <td>ММПО</td>\n",
       "      <td>7503.0</td>\n",
       "      <td>N</td>\n",
       "      <td>0.0</td>\n",
       "      <td>N</td>\n",
       "      <td>N</td>\n",
       "      <td>122.0</td>\n",
       "      <td>...</td>\n",
       "      <td>914.0</td>\n",
       "      <td>48856658.0</td>\n",
       "      <td>83318932.0</td>\n",
       "      <td>132175590.0</td>\n",
       "      <td>136819803.0</td>\n",
       "      <td>0</td>\n",
       "      <td>0</td>\n",
       "      <td>0</td>\n",
       "      <td>0</td>\n",
       "      <td>0</td>\n",
       "    </tr>\n",
       "  </tbody>\n",
       "</table>\n",
       "<p>3 rows × 29 columns</p>\n",
       "</div>"
      ],
      "text/plain": [
       "        id oper_type + oper_attr index_oper  type  priority  \\\n",
       "0  2793601                  14_1   102976.0  ММПО    7503.0   \n",
       "1  8457088                   8_2     614070  ГОПС    7503.0   \n",
       "2  9639638                  8_13     102976  ММПО    7503.0   \n",
       "\n",
       "  is_privatecategory  class is_in_yandex is_return  weight  ...  \\\n",
       "0                  N    0.0            N         N    44.0  ...   \n",
       "1                  N    3.0            Y         N    20.0  ...   \n",
       "2                  N    0.0            N         N   122.0  ...   \n",
       "\n",
       "   dist_qty_oper_login_1  total_qty_oper_login_1  total_qty_oper_login_0  \\\n",
       "0                 1089.0              64270133.0             116432632.0   \n",
       "1                   15.0                 15988.0                  3565.0   \n",
       "2                  914.0              48856658.0              83318932.0   \n",
       "\n",
       "   total_qty_over_index_and_type  total_qty_over_index  is_wrong_sndr_name  \\\n",
       "0                    180702765.0           188407812.0                   0   \n",
       "1                        19553.0              532681.0                   0   \n",
       "2                    132175590.0           136819803.0                   0   \n",
       "\n",
       "  is_wrong_rcpn_name  is_wrong_phone_number  is_wrong_address  label  \n",
       "0                  0                      0                 0      0  \n",
       "1                  0                      1                 0      0  \n",
       "2                  0                      0                 0      0  \n",
       "\n",
       "[3 rows x 29 columns]"
      ]
     },
     "execution_count": 7,
     "metadata": {},
     "output_type": "execute_result"
    }
   ],
   "source": [
    "df.head(3)"
   ]
  },
  {
   "cell_type": "code",
   "execution_count": 8,
   "id": "e739a3c0-ccd9-4381-8857-b4cb1c87eed3",
   "metadata": {},
   "outputs": [],
   "source": [
    "def get_labels(col, label):\n",
    "    for value in col.unique():\n",
    "        print(value, (col == value).sum(), label[col == value].sum() / (col == value).sum()) "
   ]
  },
  {
   "cell_type": "code",
   "execution_count": 9,
   "id": "bbc48341-d521-4682-aa8a-bc85790fd2dc",
   "metadata": {},
   "outputs": [
    {
     "name": "stdout",
     "output_type": "stream",
     "text": [
      "0 1165592 0.0\n",
      "1 34408 1.0\n"
     ]
    }
   ],
   "source": [
    "get_labels(df['label'], df.label) "
   ]
  },
  {
   "cell_type": "raw",
   "id": "ef6c868d-e112-498d-b4dc-d0f8d1ae7ad8",
   "metadata": {},
   "source": [
    "df.info(0)"
   ]
  },
  {
   "cell_type": "code",
   "execution_count": 11,
   "id": "49e3a1d4-801e-4779-97ba-5e4c36becf25",
   "metadata": {},
   "outputs": [],
   "source": [
    "top_operators = [obj for obj, count in Counter(df['index_oper'].replace(' ', '0').astype(float).astype(int)).most_common()][:5]"
   ]
  },
  {
   "cell_type": "code",
   "execution_count": 12,
   "id": "4b202ce1-862e-42bc-8a3e-764415acd169",
   "metadata": {},
   "outputs": [],
   "source": [
    "X = df.drop(columns=[\"label\"])\n",
    "y = df.label\n",
    "X_train, X_val, y_train, y_val = train_test_split(X, y, test_size=0.2, random_state=0)"
   ]
  },
  {
   "cell_type": "code",
   "execution_count": 13,
   "id": "c42264a0-bab7-44b8-b17e-a3ee0dbf433e",
   "metadata": {},
   "outputs": [
    {
     "data": {
      "text/plain": [
       "dtype('O')"
      ]
     },
     "execution_count": 13,
     "metadata": {},
     "output_type": "execute_result"
    }
   ],
   "source": [
    "X.is_privatecategory.dtype"
   ]
  },
  {
   "cell_type": "code",
   "execution_count": 14,
   "id": "a60d75ca-3796-4098-92f6-7c3d8697b6ab",
   "metadata": {},
   "outputs": [],
   "source": [
    "cat_features = [\"type\", \"is_privatecategory\", \"class\", \"is_in_yandex\", \"mailctg\", \"directctg\", \"mailtype\"]\n",
    "\n",
    "def prepare_data(df):    \n",
    "    df.drop(columns=[\"oper_type + oper_attr\"], inplace=True)\n",
    "    \n",
    "    for operator in top_operators:\n",
    "        df[f'is_{operator}_operator'] = df['index_oper'].replace(' ', '0').astype(float).astype(int) == operator\n",
    "    \n",
    "    replace_zeros = ['priority', 'is_privatecategory', 'is_in_yandex', 'mailtype', 'directctg']\n",
    "    for column in replace_zeros:\n",
    "        df[column][df[column] == 0] = df[column].mode()[0]\n",
    "        df[column][df[column] == '0'] = df[column].mode()[0]\n",
    "    \n",
    "    df.priority = 1 * (df.priority == 7503.) + 2 * (df.priority == 7504.) + 3 * (df.priority == 7506.)\n",
    "    \n",
    "    for cat_feature in cat_features:\n",
    "        df[cat_feature] = df[cat_feature].apply(lambda text: str(text))\n",
    "        \n",
    "    df['goods_count'] = df.name_mfi.apply(lambda name: 0 if name == '0' else len(name.split(',')))\n",
    "    df['price_by_weight'] = df.price_mfi / df.weight_mfi.clip(lower=1) * (df.weight_mfi != 0) \n",
    "    df['price_by_number'] = df.price_mfi / df.goods_count.clip(lower=1) * (df.goods_count != 0) \n",
    "        \n",
    "    df.drop(columns=[\"id\", \"index_oper\", \"name_mfi\"], inplace=True)\n",
    "    df.drop(columns=['mailrank'], inplace=True)\n",
    "    \n",
    "    df.is_return = df.is_return.apply(lambda text: text == 'Y')\n",
    "\n",
    "    return df"
   ]
  },
  {
   "cell_type": "code",
   "execution_count": 15,
   "id": "bba232fb-eb40-444d-8e49-7acaa6a90e2b",
   "metadata": {},
   "outputs": [],
   "source": [
    "X_train = prepare_data(X_train)\n",
    "X_val = prepare_data(X_val)"
   ]
  },
  {
   "cell_type": "code",
   "execution_count": 17,
   "id": "fcbf5a96-4262-4591-9804-6767f4ecada7",
   "metadata": {},
   "outputs": [
    {
     "data": {
      "text/html": [
       "<div>\n",
       "<style scoped>\n",
       "    .dataframe tbody tr th:only-of-type {\n",
       "        vertical-align: middle;\n",
       "    }\n",
       "\n",
       "    .dataframe tbody tr th {\n",
       "        vertical-align: top;\n",
       "    }\n",
       "\n",
       "    .dataframe thead th {\n",
       "        text-align: right;\n",
       "    }\n",
       "</style>\n",
       "<table border=\"1\" class=\"dataframe\">\n",
       "  <thead>\n",
       "    <tr style=\"text-align: right;\">\n",
       "      <th></th>\n",
       "      <th>type</th>\n",
       "      <th>priority</th>\n",
       "      <th>is_privatecategory</th>\n",
       "      <th>class</th>\n",
       "      <th>is_in_yandex</th>\n",
       "      <th>is_return</th>\n",
       "      <th>weight</th>\n",
       "      <th>mailtype</th>\n",
       "      <th>mailctg</th>\n",
       "      <th>directctg</th>\n",
       "      <th>...</th>\n",
       "      <th>is_wrong_phone_number</th>\n",
       "      <th>is_wrong_address</th>\n",
       "      <th>is_102976_operator</th>\n",
       "      <th>is_102971_operator</th>\n",
       "      <th>is_620984_operator</th>\n",
       "      <th>is_102998_operator</th>\n",
       "      <th>is_102968_operator</th>\n",
       "      <th>goods_count</th>\n",
       "      <th>price_by_weight</th>\n",
       "      <th>price_by_number</th>\n",
       "    </tr>\n",
       "  </thead>\n",
       "  <tbody>\n",
       "    <tr>\n",
       "      <th>137672</th>\n",
       "      <td>ММПО</td>\n",
       "      <td>1</td>\n",
       "      <td>N</td>\n",
       "      <td>0.0</td>\n",
       "      <td>N</td>\n",
       "      <td>False</td>\n",
       "      <td>95.0</td>\n",
       "      <td>5.0</td>\n",
       "      <td>1.0</td>\n",
       "      <td>2.0</td>\n",
       "      <td>...</td>\n",
       "      <td>1</td>\n",
       "      <td>0</td>\n",
       "      <td>True</td>\n",
       "      <td>False</td>\n",
       "      <td>False</td>\n",
       "      <td>False</td>\n",
       "      <td>False</td>\n",
       "      <td>3</td>\n",
       "      <td>2.765957</td>\n",
       "      <td>86.666667</td>\n",
       "    </tr>\n",
       "    <tr>\n",
       "      <th>786837</th>\n",
       "      <td>Цех</td>\n",
       "      <td>1</td>\n",
       "      <td>N</td>\n",
       "      <td>0.0</td>\n",
       "      <td>Y</td>\n",
       "      <td>False</td>\n",
       "      <td>33.0</td>\n",
       "      <td>5.0</td>\n",
       "      <td>0.0</td>\n",
       "      <td>2.0</td>\n",
       "      <td>...</td>\n",
       "      <td>1</td>\n",
       "      <td>0</td>\n",
       "      <td>False</td>\n",
       "      <td>False</td>\n",
       "      <td>False</td>\n",
       "      <td>False</td>\n",
       "      <td>False</td>\n",
       "      <td>1</td>\n",
       "      <td>2.500000</td>\n",
       "      <td>100.000000</td>\n",
       "    </tr>\n",
       "    <tr>\n",
       "      <th>559710</th>\n",
       "      <td>П</td>\n",
       "      <td>1</td>\n",
       "      <td>N</td>\n",
       "      <td>2.0</td>\n",
       "      <td>Y</td>\n",
       "      <td>False</td>\n",
       "      <td>1734.0</td>\n",
       "      <td>5.0</td>\n",
       "      <td>1.0</td>\n",
       "      <td>2.0</td>\n",
       "      <td>...</td>\n",
       "      <td>0</td>\n",
       "      <td>0</td>\n",
       "      <td>False</td>\n",
       "      <td>False</td>\n",
       "      <td>False</td>\n",
       "      <td>False</td>\n",
       "      <td>False</td>\n",
       "      <td>1</td>\n",
       "      <td>1.282051</td>\n",
       "      <td>500.000000</td>\n",
       "    </tr>\n",
       "    <tr>\n",
       "      <th>127788</th>\n",
       "      <td>Цех</td>\n",
       "      <td>3</td>\n",
       "      <td>N</td>\n",
       "      <td>0.0</td>\n",
       "      <td>N</td>\n",
       "      <td>False</td>\n",
       "      <td>98.0</td>\n",
       "      <td>5.0</td>\n",
       "      <td>1.0</td>\n",
       "      <td>2.0</td>\n",
       "      <td>...</td>\n",
       "      <td>0</td>\n",
       "      <td>0</td>\n",
       "      <td>False</td>\n",
       "      <td>False</td>\n",
       "      <td>False</td>\n",
       "      <td>False</td>\n",
       "      <td>False</td>\n",
       "      <td>2</td>\n",
       "      <td>2.823529</td>\n",
       "      <td>120.000000</td>\n",
       "    </tr>\n",
       "    <tr>\n",
       "      <th>244109</th>\n",
       "      <td>Цех</td>\n",
       "      <td>3</td>\n",
       "      <td>N</td>\n",
       "      <td>0.0</td>\n",
       "      <td>N</td>\n",
       "      <td>False</td>\n",
       "      <td>545.0</td>\n",
       "      <td>5.0</td>\n",
       "      <td>1.0</td>\n",
       "      <td>2.0</td>\n",
       "      <td>...</td>\n",
       "      <td>0</td>\n",
       "      <td>0</td>\n",
       "      <td>False</td>\n",
       "      <td>False</td>\n",
       "      <td>False</td>\n",
       "      <td>False</td>\n",
       "      <td>False</td>\n",
       "      <td>1</td>\n",
       "      <td>1.219512</td>\n",
       "      <td>50.000000</td>\n",
       "    </tr>\n",
       "  </tbody>\n",
       "</table>\n",
       "<p>5 rows × 31 columns</p>\n",
       "</div>"
      ],
      "text/plain": [
       "        type  priority is_privatecategory class is_in_yandex  is_return  \\\n",
       "137672  ММПО         1                  N   0.0            N      False   \n",
       "786837   Цех         1                  N   0.0            Y      False   \n",
       "559710     П         1                  N   2.0            Y      False   \n",
       "127788   Цех         3                  N   0.0            N      False   \n",
       "244109   Цех         3                  N   0.0            N      False   \n",
       "\n",
       "        weight mailtype mailctg directctg  ...  is_wrong_phone_number  \\\n",
       "137672    95.0      5.0     1.0       2.0  ...                      1   \n",
       "786837    33.0      5.0     0.0       2.0  ...                      1   \n",
       "559710  1734.0      5.0     1.0       2.0  ...                      0   \n",
       "127788    98.0      5.0     1.0       2.0  ...                      0   \n",
       "244109   545.0      5.0     1.0       2.0  ...                      0   \n",
       "\n",
       "        is_wrong_address  is_102976_operator  is_102971_operator  \\\n",
       "137672                 0                True               False   \n",
       "786837                 0               False               False   \n",
       "559710                 0               False               False   \n",
       "127788                 0               False               False   \n",
       "244109                 0               False               False   \n",
       "\n",
       "        is_620984_operator  is_102998_operator  is_102968_operator  \\\n",
       "137672               False               False               False   \n",
       "786837               False               False               False   \n",
       "559710               False               False               False   \n",
       "127788               False               False               False   \n",
       "244109               False               False               False   \n",
       "\n",
       "        goods_count  price_by_weight  price_by_number  \n",
       "137672            3         2.765957        86.666667  \n",
       "786837            1         2.500000       100.000000  \n",
       "559710            1         1.282051       500.000000  \n",
       "127788            2         2.823529       120.000000  \n",
       "244109            1         1.219512        50.000000  \n",
       "\n",
       "[5 rows x 31 columns]"
      ]
     },
     "execution_count": 17,
     "metadata": {},
     "output_type": "execute_result"
    }
   ],
   "source": [
    "X_train.head(5) "
   ]
  },
  {
   "cell_type": "code",
   "execution_count": 22,
   "id": "a00f6f8d-4b1f-471b-afa4-036ccb4deaaf",
   "metadata": {},
   "outputs": [],
   "source": [
    "columns = np.array(X_train.columns)"
   ]
  },
  {
   "cell_type": "code",
   "execution_count": 41,
   "id": "e90698bb-0129-48f6-b372-25de5b64d393",
   "metadata": {},
   "outputs": [
    {
     "name": "stdout",
     "output_type": "stream",
     "text": [
      "[]  ->  0.8812535792387395\n",
      "['type']  ->  0.8786821424582967\n",
      "['priority']  ->  0.8833230087184781\n",
      "['is_privatecategory']  ->  0.8803297013722126\n",
      "['class']  ->  0.8824763585492358\n",
      "['is_in_yandex']  ->  0.8817412619772349\n",
      "['is_return']  ->  0.8808109459903265\n",
      "['weight']  ->  0.8806085866047864\n",
      "['mailtype']  ->  0.8812628644231855\n",
      "['mailctg']  ->  0.8755337324039194\n",
      "['directctg']  ->  0.8814802527001262\n",
      "['transport_pay']  ->  0.8710717099823925\n",
      "['postmark']  ->  0.8829611843079019\n",
      "['weight_mfi']  ->  0.8822875698178863\n",
      "['price_mfi']  ->  0.8815789300566043\n",
      "['dist_qty_oper_login_1']  ->  0.882206783290521\n",
      "['total_qty_oper_login_1']  ->  0.8811963727107334\n",
      "['total_qty_oper_login_0']  ->  0.8802310240157348\n",
      "['total_qty_over_index_and_type']  ->  0.882201773660054\n",
      "['total_qty_over_index']  ->  0.8823426261741962\n",
      "['is_wrong_sndr_name']  ->  0.8826472539725314\n",
      "['is_wrong_rcpn_name']  ->  0.8821745877307303\n",
      "['is_wrong_phone_number']  ->  0.8817884517232485\n",
      "['is_wrong_address']  ->  0.8826930177075716\n",
      "['is_102976_operator']  ->  0.8810862426455243\n",
      "['is_102971_operator']  ->  0.8822310948874265\n",
      "['is_620984_operator']  ->  0.8805141922391115\n",
      "['is_102998_operator']  ->  0.8805606652612264\n",
      "['is_102968_operator']  ->  0.8795631358800845\n",
      "['goods_count']  ->  0.8821073743364968\n",
      "['price_by_weight']  ->  0.8825900548813492\n",
      "['price_by_number']  ->  0.8825535862465202\n"
     ]
    }
   ],
   "source": []
  },
  {
   "cell_type": "code",
   "execution_count": 55,
   "id": "056941de-80c0-4579-9336-b26cabb36ce8",
   "metadata": {},
   "outputs": [
    {
     "name": "stdout",
     "output_type": "stream",
     "text": [
      "Learning rate set to 0.5\n",
      "0:\tlearn: 0.3882718\ttotal: 466ms\tremaining: 46.1s\n",
      "10:\tlearn: 0.2745439\ttotal: 4.51s\tremaining: 36.5s\n",
      "20:\tlearn: 0.2690307\ttotal: 8.04s\tremaining: 30.2s\n",
      "30:\tlearn: 0.2632536\ttotal: 12.1s\tremaining: 26.9s\n",
      "40:\tlearn: 0.2546106\ttotal: 16.9s\tremaining: 24.3s\n",
      "50:\tlearn: 0.2485691\ttotal: 21.8s\tremaining: 20.9s\n",
      "60:\tlearn: 0.2420997\ttotal: 26.6s\tremaining: 17s\n",
      "70:\tlearn: 0.2366152\ttotal: 31.3s\tremaining: 12.8s\n",
      "80:\tlearn: 0.2312656\ttotal: 36s\tremaining: 8.44s\n",
      "90:\tlearn: 0.2267284\ttotal: 40.7s\tremaining: 4.02s\n",
      "99:\tlearn: 0.2228109\ttotal: 44.8s\tremaining: 0us\n"
     ]
    },
    {
     "data": {
      "text/plain": [
       "<catboost.core.CatBoostClassifier at 0x7fa00e797430>"
      ]
     },
     "execution_count": 55,
     "metadata": {},
     "output_type": "execute_result"
    }
   ],
   "source": [
    "model = CatBoostClassifier(random_state=0, max_depth=8, verbose=10, iterations=100, auto_class_weights=\"Balanced\", cat_features=cat_features)\n",
    "model.fit(X_train, y_train)"
   ]
  },
  {
   "cell_type": "code",
   "execution_count": 56,
   "id": "d7739806-f6a3-4cf4-b845-86d8db413049",
   "metadata": {},
   "outputs": [
    {
     "data": {
      "text/plain": [
       "0.8708833082757507"
      ]
     },
     "execution_count": 56,
     "metadata": {},
     "output_type": "execute_result"
    }
   ],
   "source": [
    "score_model(model, X_val, y_val, 0.41)"
   ]
  },
  {
   "cell_type": "code",
   "execution_count": 34,
   "id": "d934beae-1dfa-4239-b902-4aede7b0e70b",
   "metadata": {},
   "outputs": [
    {
     "data": {
      "text/plain": [
       "[('total_qty_oper_login_1', 14.292974182042817),\n",
       " ('type', 12.141837695401),\n",
       " ('total_qty_oper_login_0', 10.344742816009823),\n",
       " ('total_qty_over_index', 8.06173523532993),\n",
       " ('mailctg', 7.286907703502651),\n",
       " ('dist_qty_oper_login_1', 7.164508447826465),\n",
       " ('transport_pay', 6.111115737145688),\n",
       " ('total_qty_over_index_and_type', 5.430940025292454),\n",
       " ('weight_mfi', 4.173760764746747),\n",
       " ('price_mfi', 4.040431102234267),\n",
       " ('weight', 3.661518337461388),\n",
       " ('goods_count', 2.720502755151858),\n",
       " ('is_in_yandex', 2.6482048656364148),\n",
       " ('price_by_number', 2.3755297360133496),\n",
       " ('price_by_weight', 2.3295695202802955),\n",
       " ('is_wrong_phone_number', 1.931181302683001),\n",
       " ('is_102976_operator', 1.500712863414058),\n",
       " ('is_wrong_rcpn_name', 1.3927008776850887),\n",
       " ('is_102971_operator', 0.9061627618860806),\n",
       " ('is_620984_operator', 0.523075843844831),\n",
       " ('class', 0.3735305226942957),\n",
       " ('directctg', 0.3135162347461095),\n",
       " ('priority', 0.21774223531744022),\n",
       " ('is_return', 0.03506879110783479),\n",
       " ('is_privatecategory', 0.011257555708404558),\n",
       " ('mailtype', 0.005896404248762799),\n",
       " ('postmark', 0.0019438787575196913),\n",
       " ('is_wrong_address', 0.0016056168983390115),\n",
       " ('is_wrong_sndr_name', 0.001326186933093325),\n",
       " ('is_102998_operator', 0.0),\n",
       " ('is_102968_operator', 0.0)]"
      ]
     },
     "execution_count": 34,
     "metadata": {},
     "output_type": "execute_result"
    }
   ],
   "source": [
    "sorted(list(zip(X_train.columns, model.feature_importances_)), key = lambda x: -x[1])"
   ]
  },
  {
   "cell_type": "code",
   "execution_count": null,
   "id": "14b75986-688a-4968-947e-8404a5b9360b",
   "metadata": {},
   "outputs": [],
   "source": []
  },
  {
   "cell_type": "code",
   "execution_count": null,
   "id": "1cdcb19c-6c63-4017-8118-4ba8b100f926",
   "metadata": {},
   "outputs": [],
   "source": []
  },
  {
   "cell_type": "code",
   "execution_count": null,
   "id": "349642ec-6732-477d-adf0-e10c9bd5446b",
   "metadata": {},
   "outputs": [],
   "source": []
  },
  {
   "cell_type": "code",
   "execution_count": null,
   "id": "b10cf3f1-b0ff-4d79-a0b7-f0304677ea7b",
   "metadata": {},
   "outputs": [],
   "source": []
  },
  {
   "cell_type": "code",
   "execution_count": null,
   "id": "7b14882d-633b-4c2b-b6ca-e054d86f211f",
   "metadata": {},
   "outputs": [],
   "source": []
  },
  {
   "cell_type": "code",
   "execution_count": null,
   "id": "0d7ea0c2-3fc1-4e94-9a38-95c30499b14a",
   "metadata": {},
   "outputs": [],
   "source": []
  },
  {
   "cell_type": "code",
   "execution_count": null,
   "id": "ee49794f-85af-4858-83f5-504b4053b051",
   "metadata": {},
   "outputs": [],
   "source": []
  },
  {
   "cell_type": "code",
   "execution_count": null,
   "id": "6ba2e51d-6002-4326-9b50-4ce231d50392",
   "metadata": {},
   "outputs": [],
   "source": []
  },
  {
   "cell_type": "code",
   "execution_count": null,
   "id": "602754c4-a79b-4b7a-aa3d-bf0d44eb63cb",
   "metadata": {},
   "outputs": [],
   "source": []
  },
  {
   "cell_type": "code",
   "execution_count": null,
   "id": "8417e55c-a613-40d4-af57-8d61e6a1914e",
   "metadata": {},
   "outputs": [],
   "source": [
    "for mask in mask_generator(columns.shape[0], columns.shape[0] + 1):\n",
    "    print(columns[mask], end='  ->  ')\n",
    "    X_train_reduced = X_train.drop(columns=columns[mask]) \n",
    "    X_val_reduced = X_val.drop(columns=columns[mask])\n",
    "    cat_features_reduced = list(set(cat_features) - set(columns[mask]))\n",
    "    model = CatBoostClassifier(random_state=0, max_depth=8, verbose=0, iterations=30, auto_class_weights=\"\", cat_features=cat_features_reduced)\n",
    "    model.fit(X_train_reduced, y_train)\n",
    "    print(score_model(model, X_val_reduced, y_val, 0.41))"
   ]
  }
 ],
 "metadata": {
  "kernelspec": {
   "display_name": "Python 3 (ipykernel)",
   "language": "python",
   "name": "python3"
  },
  "language_info": {
   "codemirror_mode": {
    "name": "ipython",
    "version": 3
   },
   "file_extension": ".py",
   "mimetype": "text/x-python",
   "name": "python",
   "nbconvert_exporter": "python",
   "pygments_lexer": "ipython3",
   "version": "3.10.6"
  }
 },
 "nbformat": 4,
 "nbformat_minor": 5
}
