{
 "cells": [
  {
   "cell_type": "code",
   "execution_count": 1,
   "id": "29355062-afef-4413-9bec-48a3195af9d2",
   "metadata": {},
   "outputs": [],
   "source": [
    "import pandas as pd\n",
    "import numpy as np\n",
    "import seaborn as sns\n",
    "import matplotlib.pyplot as plt\n",
    "from sklearn.model_selection import train_test_split\n",
    "from sklearn.ensemble import RandomForestClassifier\n",
    "from sklearn.metrics import recall_score, roc_auc_score\n",
    "from sklearn.metrics import confusion_matrix\n",
    "\n",
    "from sklearn.linear_model import LogisticRegression\n",
    "from catboost import CatBoostClassifier\n",
    "\n",
    "import warnings\n",
    "from copy import deepcopy\n",
    "import gc\n",
    "from collections import Counter\n",
    "\n",
    "import warnings\n",
    "warnings.filterwarnings('ignore')\n",
    "\n",
    "%matplotlib inline\n",
    "\n",
    "%cd ../"
   ]
  },
  {
   "cell_type": "code",
   "execution_count": 2,
   "id": "32ffc630-c381-4750-b7b6-c2c6626c5ed4",
   "metadata": {},
   "outputs": [],
   "source": [
    "def mask_generator(n, cnt):\n",
    "    ones_count = 1\n",
    "    yielded = 1\n",
    "    if cnt == 0:\n",
    "        return\n",
    "    yield np.zeros(n, dtype=bool)\n",
    "    while ones_count <= n and yielded < cnt:\n",
    "        cur_array = np.zeros(n, dtype=bool)\n",
    "        cur_array[:ones_count] = 1\n",
    "        while cur_array[-ones_count:].min() == 0:\n",
    "            yield cur_array\n",
    "            last_zero = np.where(cur_array == 0)[0][-1]\n",
    "            mobile = np.where(cur_array[:last_zero] == 1)[0][-1]\n",
    "            suf_ones = 1 + cur_array[last_zero:].sum()\n",
    "            cur_array[mobile:] = False\n",
    "            cur_array[mobile+1:mobile+suf_ones+1] = True\n",
    "            yielded += 1\n",
    "            if yielded == cnt:\n",
    "                return\n",
    "        if yielded == cnt:\n",
    "            return \n",
    "        yield cur_array\n",
    "        yielded += 1\n",
    "        ones_count += 1\n",
    "        \n",
    "def score_model(model, X, y, threshold=0.5):  # 0.41 is the best for now\n",
    "    pred = model.predict_proba(X)[:, 1] > threshold\n",
    "    recall = recall_score(y, pred, average=\"macro\")\n",
    "    roc_auc = roc_auc_score(y, pred, multi_class='ovo')\n",
    "    score = 0.1 * recall + 0.9 * roc_auc\n",
    "    return score\n",
    "\n",
    "def score_model_probs(model, X, y):  # 0.41 is the best for now\n",
    "    pred = model.predict_proba(X)[:, 1]\n",
    "    roc_auc = roc_auc_score(y, pred, multi_class='ovo')\n",
    "    return roc_auc\n",
    "\n",
    "def get_labels(col, label):\n",
    "    for value in col.unique():\n",
    "        print(value, (col == value).sum(), label[col == value].sum() / (col == value).sum()) "
   ]
  },
  {
   "cell_type": "code",
   "execution_count": 6,
   "id": "ce69935a-3829-40bb-b69a-01a8ec9de1d2",
   "metadata": {},
   "outputs": [],
   "source": [
    "df = pd.read_csv(\"data/small_train.csv\")\n",
    "top_operators = [obj for obj, count in Counter(df['index_oper'].replace(' ', '0').astype(float).astype(int)).most_common()][:5]"
   ]
  },
  {
   "cell_type": "code",
   "execution_count": 31,
   "id": "a60d75ca-3796-4098-92f6-7c3d8697b6ab",
   "metadata": {},
   "outputs": [],
   "source": [
    "cat_features = [\"type\", \"is_privatecategory\", \"class\", \"is_in_yandex\", \"mailctg\", \"directctg\", \"mailtype\"]\n",
    "\n",
    "def prepare_data(df):    \n",
    "    df.drop(columns=[\"oper_type + oper_attr\"], inplace=True)\n",
    "    \n",
    "    # for operator in top_operators:\n",
    "        # df[f'is_{operator}_operator'] = df['index_oper'].replace(' ', '0').astype(float).astype(int) == operator\n",
    "    \n",
    "    replace_zeros = ['priority', 'is_privatecategory', 'is_in_yandex', 'mailtype', 'directctg']\n",
    "    for column in replace_zeros:\n",
    "        df[column][df[column] == 0] = df[column].mode()[0]\n",
    "        df[column][df[column] == '0'] = df[column].mode()[0]\n",
    "    \n",
    "    df.priority = 1 * (df.priority == 7503.) + 2 * (df.priority == 7504.) + 3 * (df.priority == 7506.)\n",
    "    \n",
    "    df.index_oper = df.index_oper.replace(' ', '0').astype(float).astype(int)\n",
    "    # df['speed'] = df.total_qty_over_index / (max(df.index_oper) - df.index_oper + 1)\n",
    "    \n",
    "    for cat_feature in cat_features:\n",
    "        df[cat_feature] = df[cat_feature].apply(lambda text: str(text))\n",
    "        \n",
    "    df['name_mfi_count'] = df.name_mfi.apply(lambda name: 0 if name == '0' else len(name.split(',')))\n",
    "    # df['name_mfi_len'] = df.name_mfi.apply(lambda name: len(name))\n",
    "        \n",
    "    df.drop(columns=[\"id\", \"name_mfi\"], inplace=True)\n",
    "    df.drop(columns=['mailrank'], inplace=True)\n",
    "    \n",
    "    df.is_return = df.is_return.apply(lambda text: text == 'Y')\n",
    "\n",
    "    return df\n",
    "\n",
    "X = df.drop(columns=[\"label\"])\n",
    "y = df.label\n",
    "X_train, X_val, y_train, y_val = train_test_split(X, y, test_size=0.2, random_state=0)\n",
    "\n",
    "X_train = prepare_data(X_train)\n",
    "X_val = prepare_data(X_val)"
   ]
  },
  {
   "cell_type": "code",
   "execution_count": 48,
   "id": "056941de-80c0-4579-9336-b26cabb36ce8",
   "metadata": {},
   "outputs": [
    {
     "name": "stdout",
     "output_type": "stream",
     "text": [
      "Learning rate set to 0.5\n",
      "0:\tlearn: 0.4099812\ttotal: 337ms\tremaining: 33.4s\n",
      "10:\tlearn: 0.2877337\ttotal: 3.29s\tremaining: 26.6s\n",
      "20:\tlearn: 0.2792744\ttotal: 6.66s\tremaining: 25s\n",
      "30:\tlearn: 0.2747086\ttotal: 10.6s\tremaining: 23.6s\n",
      "40:\tlearn: 0.2714930\ttotal: 13.9s\tremaining: 20s\n",
      "50:\tlearn: 0.2691861\ttotal: 17.2s\tremaining: 16.5s\n",
      "60:\tlearn: 0.2676017\ttotal: 20.4s\tremaining: 13.1s\n",
      "70:\tlearn: 0.2657014\ttotal: 23.7s\tremaining: 9.68s\n",
      "80:\tlearn: 0.2638947\ttotal: 27s\tremaining: 6.32s\n",
      "90:\tlearn: 0.2622917\ttotal: 30s\tremaining: 2.97s\n",
      "99:\tlearn: 0.2604435\ttotal: 33s\tremaining: 0us\n"
     ]
    },
    {
     "data": {
      "text/plain": [
       "<catboost.core.CatBoostClassifier at 0x7f7f9cafd330>"
      ]
     },
     "execution_count": 48,
     "metadata": {},
     "output_type": "execute_result"
    }
   ],
   "source": [
    "model = CatBoostClassifier(random_state=0, max_depth=6, verbose=10, iterations=100, auto_class_weights=\"Balanced\", cat_features=cat_features)\n",
    "model.fit(X_train, y_train)"
   ]
  },
  {
   "cell_type": "code",
   "execution_count": 49,
   "id": "d7739806-f6a3-4cf4-b845-86d8db413049",
   "metadata": {},
   "outputs": [
    {
     "name": "stdout",
     "output_type": "stream",
     "text": [
      "0.8821015612191861\n",
      "0.947484915783278\n"
     ]
    }
   ],
   "source": [
    "print(score_model(model, X_val, y_val, 0.45))\n",
    "print(score_model_probs(model, X_val, y_val))"
   ]
  },
  {
   "cell_type": "code",
   "execution_count": 45,
   "id": "d934beae-1dfa-4239-b902-4aede7b0e70b",
   "metadata": {},
   "outputs": [
    {
     "data": {
      "text/plain": [
       "[('total_qty_oper_login_1', 12.766268924681857),\n",
       " ('type', 12.159953095497736),\n",
       " ('index_oper', 8.718548243351181),\n",
       " ('transport_pay', 7.355907341459322),\n",
       " ('price_mfi', 7.2253850749951045),\n",
       " ('total_qty_oper_login_0', 6.987125943059096),\n",
       " ('total_qty_over_index', 6.5453838487159075),\n",
       " ('dist_qty_oper_login_1', 6.445795151856468),\n",
       " ('weight', 6.436170957669595),\n",
       " ('mailctg', 6.075683596272848),\n",
       " ('total_qty_over_index_and_type', 4.796480588936906),\n",
       " ('weight_mfi', 4.242539649211898),\n",
       " ('is_wrong_rcpn_name', 3.07778346526095),\n",
       " ('name_mfi_count', 2.7176775979839016),\n",
       " ('is_wrong_phone_number', 1.809445933629861),\n",
       " ('priority', 1.7862129270740021),\n",
       " ('class', 0.3827111599135438),\n",
       " ('is_in_yandex', 0.21451529796716248),\n",
       " ('directctg', 0.1802185315606539),\n",
       " ('is_return', 0.030957932582459217),\n",
       " ('is_wrong_sndr_name', 0.024806849130382093),\n",
       " ('is_wrong_address', 0.00965992913098103),\n",
       " ('is_privatecategory', 0.006056072866558552),\n",
       " ('mailtype', 0.0044617338965267485),\n",
       " ('postmark', 0.00025015329511790643)]"
      ]
     },
     "execution_count": 45,
     "metadata": {},
     "output_type": "execute_result"
    }
   ],
   "source": [
    "sorted(list(zip(X_train.columns, model.feature_importances_)), key = lambda x: -x[1])"
   ]
  },
  {
   "cell_type": "code",
   "execution_count": null,
   "id": "14b75986-688a-4968-947e-8404a5b9360b",
   "metadata": {},
   "outputs": [],
   "source": []
  },
  {
   "cell_type": "code",
   "execution_count": null,
   "id": "1cdcb19c-6c63-4017-8118-4ba8b100f926",
   "metadata": {},
   "outputs": [],
   "source": []
  },
  {
   "cell_type": "code",
   "execution_count": null,
   "id": "349642ec-6732-477d-adf0-e10c9bd5446b",
   "metadata": {},
   "outputs": [],
   "source": []
  },
  {
   "cell_type": "code",
   "execution_count": null,
   "id": "b10cf3f1-b0ff-4d79-a0b7-f0304677ea7b",
   "metadata": {},
   "outputs": [],
   "source": []
  },
  {
   "cell_type": "code",
   "execution_count": null,
   "id": "7b14882d-633b-4c2b-b6ca-e054d86f211f",
   "metadata": {},
   "outputs": [],
   "source": []
  },
  {
   "cell_type": "code",
   "execution_count": null,
   "id": "0d7ea0c2-3fc1-4e94-9a38-95c30499b14a",
   "metadata": {},
   "outputs": [],
   "source": []
  },
  {
   "cell_type": "code",
   "execution_count": null,
   "id": "ee49794f-85af-4858-83f5-504b4053b051",
   "metadata": {},
   "outputs": [],
   "source": []
  },
  {
   "cell_type": "code",
   "execution_count": null,
   "id": "6ba2e51d-6002-4326-9b50-4ce231d50392",
   "metadata": {},
   "outputs": [],
   "source": []
  },
  {
   "cell_type": "code",
   "execution_count": null,
   "id": "602754c4-a79b-4b7a-aa3d-bf0d44eb63cb",
   "metadata": {},
   "outputs": [],
   "source": []
  },
  {
   "cell_type": "code",
   "execution_count": null,
   "id": "8417e55c-a613-40d4-af57-8d61e6a1914e",
   "metadata": {},
   "outputs": [],
   "source": [
    "for mask in mask_generator(columns.shape[0], columns.shape[0] + 1):\n",
    "    print(columns[mask], end='  ->  ')\n",
    "    X_train_reduced = X_train.drop(columns=columns[mask]) \n",
    "    X_val_reduced = X_val.drop(columns=columns[mask])\n",
    "    cat_features_reduced = list(set(cat_features) - set(columns[mask]))\n",
    "    model = CatBoostClassifier(random_state=0, max_depth=8, verbose=0, iterations=30, auto_class_weights=\"\", cat_features=cat_features_reduced)\n",
    "    model.fit(X_train_reduced, y_train)\n",
    "    print(score_model(model, X_val_reduced, y_val, 0.41))"
   ]
  }
 ],
 "metadata": {
  "kernelspec": {
   "display_name": "Python 3 (ipykernel)",
   "language": "python",
   "name": "python3"
  },
  "language_info": {
   "codemirror_mode": {
    "name": "ipython",
    "version": 3
   },
   "file_extension": ".py",
   "mimetype": "text/x-python",
   "name": "python",
   "nbconvert_exporter": "python",
   "pygments_lexer": "ipython3",
   "version": "3.10.6"
  }
 },
 "nbformat": 4,
 "nbformat_minor": 5
}
