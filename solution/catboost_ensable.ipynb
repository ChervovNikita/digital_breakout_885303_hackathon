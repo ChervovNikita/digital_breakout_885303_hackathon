{
 "cells": [
  {
   "cell_type": "code",
   "execution_count": 49,
   "id": "fbaf686a",
   "metadata": {
    "cellId": "s9iwthf2w5o9t8fjcggs"
   },
   "outputs": [],
   "source": [
    "import pandas as pd\n",
    "import numpy as np\n",
    "import seaborn as sns\n",
    "import matplotlib.pyplot as plt\n",
    "from sklearn.model_selection import train_test_split\n",
    "from sklearn.ensemble import RandomForestClassifier\n",
    "from sklearn.metrics import recall_score, roc_auc_score\n",
    "from sklearn.metrics import confusion_matrix\n",
    "\n",
    "from sklearn.linear_model import LogisticRegression\n",
    "from catboost import CatBoostClassifier\n",
    "\n",
    "import warnings\n",
    "from copy import deepcopy\n",
    "import gc\n",
    "from collections import Counter\n",
    "\n",
    "%matplotlib inline"
   ]
  },
  {
   "cell_type": "code",
   "execution_count": 52,
   "id": "690199fd",
   "metadata": {
    "cellId": "726we5i01wakokyci2xrv"
   },
   "outputs": [],
   "source": [
    "from tqdm import tqdm"
   ]
  },
  {
   "cell_type": "code",
   "execution_count": null,
   "id": "2655f6ba",
   "metadata": {
    "cellId": "krkucmx19e519re3sr99"
   },
   "outputs": [],
   "source": [
    "%cd ../"
   ]
  },
  {
   "cell_type": "code",
   "execution_count": 64,
   "id": "a2e40a4e",
   "metadata": {
    "cellId": "d9ys8qntjkirqlr166wlzc"
   },
   "outputs": [],
   "source": [
    "cat_features = [\"type\", \"priority\", \"is_privatecategory\", \"class\", \"is_in_yandex\", \"mailctg\", \"directctg\", \"mailtype\"]\n",
    "\n",
    "def to_cat_features(df):\n",
    "    for cat_feature in cat_features:\n",
    "        df[cat_feature] = df[cat_feature].apply(lambda text: str(text))\n",
    "    return df\n",
    "        \n",
    "df = to_cat_features(pd.read_csv('data/train_prepared.csv'))\n",
    "test_df = to_cat_features(pd.read_csv('data/test_df_prepared.csv'))\n",
    "y = pd.read_csv('data/train_y_prepared.csv')"
   ]
  },
  {
   "cell_type": "code",
   "execution_count": 65,
   "id": "d5f4c273",
   "metadata": {
    "cellId": "1nrembbg99a8ixpbu8dqv"
   },
   "outputs": [],
   "source": [
    "test_ids = pd.read_csv('data/test_ids.csv')"
   ]
  },
  {
   "cell_type": "code",
   "execution_count": 66,
   "id": "dcc10800",
   "metadata": {
    "cellId": "4vysrdu55j49hvv9rw5d66"
   },
   "outputs": [],
   "source": [
    "def score(pred, y_true):\n",
    "    tn, fp, fn, tp = confusion_matrix(y_true, pred).ravel()\n",
    "    tpr = (tp) / (tp + fn)\n",
    "    fpr = (fp) / (fp + tn)\n",
    "    r_score = (tp) / (tp + fn)\n",
    "    ra_score = (1 + tpr - fpr) / 2\n",
    "    score = 0.1 * r_score + 0.9 * ra_score\n",
    "    return score\n",
    "    \n",
    "\n",
    "def predict(models, X):\n",
    "    preds = []\n",
    "    for model in tqdm(models):\n",
    "        preds.append(model.predict_proba(X)[:, 1])\n",
    "    preds = np.array(preds).mean(0)\n",
    "    return preds"
   ]
  },
  {
   "cell_type": "code",
   "execution_count": 76,
   "id": "0eb9ee8c",
   "metadata": {
    "cellId": "wc5vm83ly3fw9ta8tk4ef9"
   },
   "outputs": [],
   "source": [
    "models = []"
   ]
  },
  {
   "cell_type": "code",
   "execution_count": 78,
   "id": "7a5f0496",
   "metadata": {
    "cellId": "nuh9r8goxziobvpf5oieh"
   },
   "outputs": [],
   "source": [
    "cat_features = [\"type\", \"priority\", \"is_privatecategory\", \"class\", \"is_in_yandex\", \"mailctg\", \"directctg\", \"mailtype\"]"
   ]
  },
  {
   "cell_type": "code",
   "execution_count": 79,
   "id": "dbe70828",
   "metadata": {
    "cellId": "63t6k7hpicohheu4wy6s1"
   },
   "outputs": [
    {
     "name": "stdout",
     "output_type": "stream",
     "text": [
      "Learning rate set to 0.087876\n",
      "0:\tlearn: 0.5993345\ttotal: 1.07s\tremaining: 1h 29m 37s\n",
      "200:\tlearn: 0.2658352\ttotal: 2m 21s\tremaining: 56m 23s\n",
      "400:\tlearn: 0.2605043\ttotal: 4m 51s\tremaining: 55m 39s\n",
      "600:\tlearn: 0.2568905\ttotal: 7m 22s\tremaining: 53m 59s\n",
      "800:\tlearn: 0.2538383\ttotal: 9m 54s\tremaining: 51m 57s\n",
      "1000:\tlearn: 0.2511654\ttotal: 12m 25s\tremaining: 49m 38s\n",
      "1200:\tlearn: 0.2485577\ttotal: 14m 57s\tremaining: 47m 20s\n",
      "1400:\tlearn: 0.2461018\ttotal: 17m 30s\tremaining: 44m 57s\n",
      "1600:\tlearn: 0.2440183\ttotal: 20m\tremaining: 42m 29s\n",
      "1800:\tlearn: 0.2419682\ttotal: 22m 31s\tremaining: 40m 1s\n",
      "2000:\tlearn: 0.2399645\ttotal: 25m 3s\tremaining: 37m 33s\n",
      "2200:\tlearn: 0.2381489\ttotal: 27m 35s\tremaining: 35m 5s\n",
      "2400:\tlearn: 0.2364467\ttotal: 30m 7s\tremaining: 32m 36s\n",
      "2600:\tlearn: 0.2348199\ttotal: 32m 40s\tremaining: 30m 8s\n",
      "2800:\tlearn: 0.2332478\ttotal: 35m 13s\tremaining: 27m 39s\n",
      "3000:\tlearn: 0.2318066\ttotal: 37m 45s\tremaining: 25m 8s\n",
      "3200:\tlearn: 0.2303742\ttotal: 40m 16s\tremaining: 22m 37s\n",
      "3400:\tlearn: 0.2288834\ttotal: 42m 49s\tremaining: 20m 8s\n",
      "3600:\tlearn: 0.2275097\ttotal: 45m 21s\tremaining: 17m 37s\n",
      "3800:\tlearn: 0.2262438\ttotal: 47m 52s\tremaining: 15m 6s\n",
      "4000:\tlearn: 0.2248936\ttotal: 50m 24s\tremaining: 12m 35s\n",
      "4200:\tlearn: 0.2235920\ttotal: 52m 56s\tremaining: 10m 4s\n",
      "4400:\tlearn: 0.2222678\ttotal: 55m 27s\tremaining: 7m 32s\n",
      "4600:\tlearn: 0.2210648\ttotal: 57m 59s\tremaining: 5m 1s\n",
      "4800:\tlearn: 0.2200499\ttotal: 1h 29s\tremaining: 2m 30s\n",
      "4999:\tlearn: 0.2190171\ttotal: 1h 2m 58s\tremaining: 0us\n"
     ]
    },
    {
     "name": "stderr",
     "output_type": "stream",
     "text": [
      "100%|██████████| 1/1 [00:02<00:00,  2.88s/it]\n"
     ]
    },
    {
     "name": "stdout",
     "output_type": "stream",
     "text": [
      "MODEL 0 score: 0.8872347168501412\n"
     ]
    }
   ],
   "source": [
    "#!c1.32\n",
    "for state in range(0, 1):\n",
    "        X_train, X_val, y_train, y_val = train_test_split(df, y, test_size=0.2, random_state=state)\n",
    "        model = CatBoostClassifier(random_state=state, max_depth=8, verbose=200, iterations=5000, auto_class_weights=\"Balanced\", cat_features=cat_features)\n",
    "        # print(X_train.head(), y_train.head())\n",
    "        model.fit(X_train, y_train) \n",
    "        models.append(model)\n",
    "        print(f'MODEL {state} score: {score(predict([model], X_val) > 0.41, y_val)}')"
   ]
  },
  {
   "cell_type": "code",
   "execution_count": 80,
   "id": "525a9245",
   "metadata": {
    "cellId": "fa045h1b1na6dfsmidqu6d"
   },
   "outputs": [
    {
     "name": "stderr",
     "output_type": "stream",
     "text": [
      "100%|██████████| 1/1 [00:34<00:00, 34.43s/it]\n"
     ]
    }
   ],
   "source": [
    "test_preds = predict(models, test_df)"
   ]
  },
  {
   "cell_type": "code",
   "execution_count": 81,
   "id": "09d1314b",
   "metadata": {
    "cellId": "n2up26hcohd2t5k9r00zi"
   },
   "outputs": [],
   "source": [
    "submission = pd.DataFrame({'id': test_ids.id, 'label': test_preds})"
   ]
  },
  {
   "cell_type": "code",
   "execution_count": 82,
   "id": "d520b7ad",
   "metadata": {
    "cellId": "v1eydwkokxa99ukqxx7tff"
   },
   "outputs": [],
   "source": [
    "submission.to_csv(\"submission.csv\", index=False)"
   ]
  },
  {
   "cell_type": "code",
   "execution_count": 83,
   "id": "d93f6b36",
   "metadata": {
    "cellId": "0e8347uf8v88gs82upeml3q"
   },
   "outputs": [
    {
     "data": {
      "text/plain": [
       "0.16262175058022063"
      ]
     },
     "execution_count": 83,
     "metadata": {},
     "output_type": "execute_result"
    }
   ],
   "source": [
    "test_preds.mean()"
   ]
  },
  {
   "cell_type": "code",
   "execution_count": null,
   "id": "63d36c33",
   "metadata": {
    "cellId": "j9e2xc741277g53194jck"
   },
   "outputs": [],
   "source": []
  },
  {
   "cell_type": "code",
   "execution_count": null,
   "id": "88f7417b",
   "metadata": {
    "cellId": "jq541x631wdwrzn6ybt34"
   },
   "outputs": [],
   "source": []
  }
 ],
 "metadata": {
  "language_info": {
   "codemirror_mode": {
    "name": "ipython",
    "version": 3
   },
   "file_extension": ".py",
   "mimetype": "text/x-python",
   "name": "python",
   "nbconvert_exporter": "python",
   "pygments_lexer": "ipython3",
   "version": "3.7.7"
  },
  "notebookId": "bbdf438a-52da-43e4-b632-edf1a15169fb",
  "notebookPath": "catboost_ensable.ipynb"
 },
 "nbformat": 4,
 "nbformat_minor": 5
}
