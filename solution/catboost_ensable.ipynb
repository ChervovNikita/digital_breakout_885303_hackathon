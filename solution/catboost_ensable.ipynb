{
 "cells": [
  {
   "cell_type": "code",
   "execution_count": 18,
   "id": "08132848",
   "metadata": {
    "cellId": "s9iwthf2w5o9t8fjcggs"
   },
   "outputs": [],
   "source": [
    "import pandas as pd\n",
    "import numpy as np\n",
    "import seaborn as sns\n",
    "import matplotlib.pyplot as plt\n",
    "from sklearn.model_selection import train_test_split\n",
    "from sklearn.ensemble import RandomForestClassifier\n",
    "from sklearn.metrics import recall_score, roc_auc_score\n",
    "from sklearn.metrics import confusion_matrix\n",
    "\n",
    "from sklearn.linear_model import LogisticRegression\n",
    "from catboost import CatBoostClassifier\n",
    "\n",
    "import warnings\n",
    "from copy import deepcopy\n",
    "import gc\n",
    "from collections import Counter\n",
    "\n",
    "%matplotlib inline"
   ]
  },
  {
   "cell_type": "code",
   "execution_count": 31,
   "id": "15bd3d31",
   "metadata": {
    "cellId": "726we5i01wakokyci2xrv"
   },
   "outputs": [],
   "source": [
    "from tqdm import tqdm"
   ]
  },
  {
   "cell_type": "code",
   "execution_count": 2,
   "id": "a2ff3c33",
   "metadata": {
    "cellId": "krkucmx19e519re3sr99"
   },
   "outputs": [],
   "source": [
    "%cd ../"
   ]
  },
  {
   "cell_type": "code",
   "execution_count": 21,
   "id": "a79f727e",
   "metadata": {
    "cellId": "d9ys8qntjkirqlr166wlzc"
   },
   "outputs": [],
   "source": [
    "cat_features = [\"type\", \"priority\", \"is_privatecategory\", \"class\", \"is_in_yandex\", \"mailctg\", \"directctg\", \"mailtype\"]\n",
    "\n",
    "def to_cat_features(df):\n",
    "    for cat_feature in cat_features:\n",
    "        df[cat_feature] = df[cat_feature].apply(lambda text: str(text))\n",
    "    return df\n",
    "        \n",
    "df = to_cat_features(pd.read_csv('data/train_prepared.csv'))\n",
    "test_df = to_cat_features(pd.read_csv('data/test_df_prepared.csv'))\n",
    "y = pd.read_csv('data/train_y_prepared.csv')"
   ]
  },
  {
   "cell_type": "code",
   "execution_count": 24,
   "id": "8e39b075",
   "metadata": {
    "cellId": "1nrembbg99a8ixpbu8dqv"
   },
   "outputs": [],
   "source": [
    "test_ids = pd.read_csv('data/test_ids.csv')"
   ]
  },
  {
   "cell_type": "code",
   "execution_count": 22,
   "id": "53890c1f",
   "metadata": {
    "cellId": "4vysrdu55j49hvv9rw5d66"
   },
   "outputs": [],
   "source": [
    "def score(pred, y_true):\n",
    "    tn, fp, fn, tp = confusion_matrix(y_true, pred).ravel()\n",
    "    tpr = (tp) / (tp + fn)\n",
    "    fpr = (fp) / (fp + tn)\n",
    "    r_score = (tp) / (tp + fn)\n",
    "    ra_score = (1 + tpr - fpr) / 2\n",
    "    score = 0.1 * r_score + 0.9 * ra_score\n",
    "    return score\n",
    "    \n",
    "\n",
    "def predict(models, X, threshold=0.5):\n",
    "    preds = []\n",
    "    for model in tqdm(models):\n",
    "        preds.append(model.predict_proba(X)[:, 1])\n",
    "    preds = np.array(preds) \n",
    "    preds = preds.mean(0) > threshold\n",
    "    return preds"
   ]
  },
  {
   "cell_type": "code",
   "execution_count": 32,
   "id": "01d2ab9d",
   "metadata": {
    "cellId": "wc5vm83ly3fw9ta8tk4ef9"
   },
   "outputs": [],
   "source": [
    "models = []"
   ]
  },
  {
   "cell_type": "code",
   "execution_count": 33,
   "id": "cc751069",
   "metadata": {
    "cellId": "63t6k7hpicohheu4wy6s1"
   },
   "outputs": [
    {
     "name": "stdout",
     "output_type": "stream",
     "text": [
      "Learning rate set to 0.203601\n",
      "0:\tlearn: 0.5058721\ttotal: 1.02s\tremaining: 34m 1s\n",
      "200:\tlearn: 0.2626192\ttotal: 2m 58s\tremaining: 26m 40s\n",
      "400:\tlearn: 0.2557737\ttotal: 5m 57s\tremaining: 23m 47s\n",
      "600:\tlearn: 0.2508552\ttotal: 8m 55s\tremaining: 20m 45s\n",
      "800:\tlearn: 0.2461723\ttotal: 11m 58s\tremaining: 17m 56s\n",
      "1000:\tlearn: 0.2425140\ttotal: 14m 56s\tremaining: 14m 54s\n",
      "1200:\tlearn: 0.2385799\ttotal: 18m 1s\tremaining: 11m 59s\n",
      "1400:\tlearn: 0.2352684\ttotal: 21m 4s\tremaining: 9m\n",
      "1600:\tlearn: 0.2320549\ttotal: 24m 6s\tremaining: 6m\n",
      "1800:\tlearn: 0.2291993\ttotal: 27m 11s\tremaining: 3m\n",
      "1999:\tlearn: 0.2267698\ttotal: 30m 14s\tremaining: 0us\n"
     ]
    },
    {
     "name": "stderr",
     "output_type": "stream",
     "text": [
      "100%|██████████| 1/1 [00:04<00:00,  4.50s/it]\n"
     ]
    },
    {
     "name": "stdout",
     "output_type": "stream",
     "text": [
      "MODEL 0 score: 0.8800285685116038\n",
      "Learning rate set to 0.203601\n",
      "0:\tlearn: 0.5060251\ttotal: 1.09s\tremaining: 36m 17s\n",
      "200:\tlearn: 0.2634472\ttotal: 2m 57s\tremaining: 26m 30s\n",
      "400:\tlearn: 0.2563013\ttotal: 5m 59s\tremaining: 23m 54s\n",
      "600:\tlearn: 0.2508113\ttotal: 9m 3s\tremaining: 21m 4s\n",
      "800:\tlearn: 0.2461862\ttotal: 12m 5s\tremaining: 18m 6s\n",
      "1000:\tlearn: 0.2423104\ttotal: 15m 8s\tremaining: 15m 6s\n",
      "1200:\tlearn: 0.2389621\ttotal: 18m 10s\tremaining: 12m 5s\n",
      "1400:\tlearn: 0.2356340\ttotal: 21m 12s\tremaining: 9m 3s\n",
      "1600:\tlearn: 0.2324825\ttotal: 24m 12s\tremaining: 6m 2s\n",
      "1800:\tlearn: 0.2295577\ttotal: 27m 15s\tremaining: 3m\n",
      "1999:\tlearn: 0.2268689\ttotal: 30m 18s\tremaining: 0us\n"
     ]
    },
    {
     "name": "stderr",
     "output_type": "stream",
     "text": [
      "100%|██████████| 1/1 [00:05<00:00,  5.02s/it]\n"
     ]
    },
    {
     "name": "stdout",
     "output_type": "stream",
     "text": [
      "MODEL 1 score: 0.8821934647840843\n",
      "Learning rate set to 0.203601\n",
      "0:\tlearn: 0.5156549\ttotal: 1.05s\tremaining: 34m 55s\n",
      "200:\tlearn: 0.2629709\ttotal: 2m 58s\tremaining: 26m 39s\n",
      "400:\tlearn: 0.2561551\ttotal: 6m 3s\tremaining: 24m 8s\n",
      "600:\tlearn: 0.2507522\ttotal: 9m 7s\tremaining: 21m 14s\n",
      "800:\tlearn: 0.2465767\ttotal: 12m 10s\tremaining: 18m 13s\n",
      "1000:\tlearn: 0.2421846\ttotal: 15m 13s\tremaining: 15m 11s\n",
      "1200:\tlearn: 0.2386007\ttotal: 18m 13s\tremaining: 12m 7s\n",
      "1400:\tlearn: 0.2352184\ttotal: 21m 16s\tremaining: 9m 5s\n",
      "1600:\tlearn: 0.2321830\ttotal: 24m 18s\tremaining: 6m 3s\n",
      "1800:\tlearn: 0.2294298\ttotal: 27m 21s\tremaining: 3m 1s\n",
      "1999:\tlearn: 0.2267854\ttotal: 30m 24s\tremaining: 0us\n"
     ]
    },
    {
     "name": "stderr",
     "output_type": "stream",
     "text": [
      "100%|██████████| 1/1 [00:04<00:00,  4.84s/it]\n"
     ]
    },
    {
     "name": "stdout",
     "output_type": "stream",
     "text": [
      "MODEL 2 score: 0.880273491099677\n",
      "Learning rate set to 0.203601\n",
      "0:\tlearn: 0.5031985\ttotal: 1.01s\tremaining: 33m 35s\n",
      "200:\tlearn: 0.2635886\ttotal: 2m 59s\tremaining: 26m 46s\n",
      "400:\tlearn: 0.2567511\ttotal: 6m 1s\tremaining: 24m 3s\n",
      "600:\tlearn: 0.2514082\ttotal: 9m 4s\tremaining: 21m 7s\n",
      "800:\tlearn: 0.2466996\ttotal: 12m 7s\tremaining: 18m 8s\n",
      "1000:\tlearn: 0.2427439\ttotal: 15m 10s\tremaining: 15m 8s\n",
      "1200:\tlearn: 0.2390649\ttotal: 18m 13s\tremaining: 12m 7s\n",
      "1400:\tlearn: 0.2356883\ttotal: 21m 17s\tremaining: 9m 6s\n",
      "1600:\tlearn: 0.2326224\ttotal: 24m 21s\tremaining: 6m 4s\n",
      "1800:\tlearn: 0.2296472\ttotal: 27m 24s\tremaining: 3m 1s\n",
      "1999:\tlearn: 0.2268622\ttotal: 30m 26s\tremaining: 0us\n"
     ]
    },
    {
     "name": "stderr",
     "output_type": "stream",
     "text": [
      "100%|██████████| 1/1 [00:04<00:00,  4.69s/it]\n"
     ]
    },
    {
     "name": "stdout",
     "output_type": "stream",
     "text": [
      "MODEL 3 score: 0.8815842384828032\n",
      "Learning rate set to 0.203601\n",
      "0:\tlearn: 0.5044193\ttotal: 1.08s\tremaining: 35m 56s\n",
      "200:\tlearn: 0.2635488\ttotal: 2m 57s\tremaining: 26m 24s\n",
      "400:\tlearn: 0.2565223\ttotal: 5m 59s\tremaining: 23m 54s\n",
      "600:\tlearn: 0.2511236\ttotal: 9m 2s\tremaining: 21m 2s\n",
      "800:\tlearn: 0.2463340\ttotal: 12m 5s\tremaining: 18m 5s\n",
      "1000:\tlearn: 0.2421857\ttotal: 15m 9s\tremaining: 15m 7s\n",
      "1200:\tlearn: 0.2384157\ttotal: 18m 14s\tremaining: 12m 8s\n",
      "1400:\tlearn: 0.2349971\ttotal: 21m 21s\tremaining: 9m 7s\n",
      "1600:\tlearn: 0.2319159\ttotal: 24m 26s\tremaining: 6m 5s\n",
      "1800:\tlearn: 0.2291178\ttotal: 27m 27s\tremaining: 3m 2s\n",
      "1999:\tlearn: 0.2265896\ttotal: 30m 30s\tremaining: 0us\n"
     ]
    },
    {
     "name": "stderr",
     "output_type": "stream",
     "text": [
      "100%|██████████| 1/1 [00:04<00:00,  4.73s/it]\n"
     ]
    },
    {
     "name": "stdout",
     "output_type": "stream",
     "text": [
      "MODEL 4 score: 0.8796945486235345\n",
      "Learning rate set to 0.203601\n",
      "0:\tlearn: 0.5077758\ttotal: 1.04s\tremaining: 34m 44s\n",
      "200:\tlearn: 0.2634102\ttotal: 2m 58s\tremaining: 26m 37s\n",
      "400:\tlearn: 0.2563555\ttotal: 5m 58s\tremaining: 23m 48s\n",
      "600:\tlearn: 0.2506082\ttotal: 9m\tremaining: 20m 57s\n",
      "800:\tlearn: 0.2457419\ttotal: 12m 1s\tremaining: 18m\n",
      "1000:\tlearn: 0.2416947\ttotal: 15m 4s\tremaining: 15m 3s\n",
      "1200:\tlearn: 0.2382177\ttotal: 18m 7s\tremaining: 12m 3s\n",
      "1400:\tlearn: 0.2351475\ttotal: 21m 10s\tremaining: 9m 3s\n",
      "1600:\tlearn: 0.2321686\ttotal: 24m 13s\tremaining: 6m 2s\n",
      "1800:\tlearn: 0.2293287\ttotal: 27m 15s\tremaining: 3m\n",
      "1999:\tlearn: 0.2266814\ttotal: 30m 20s\tremaining: 0us\n"
     ]
    },
    {
     "name": "stderr",
     "output_type": "stream",
     "text": [
      "100%|██████████| 1/1 [00:04<00:00,  4.71s/it]\n"
     ]
    },
    {
     "name": "stdout",
     "output_type": "stream",
     "text": [
      "MODEL 5 score: 0.8797338086673869\n",
      "Learning rate set to 0.203601\n",
      "0:\tlearn: 0.5143228\ttotal: 1.13s\tremaining: 37m 40s\n",
      "200:\tlearn: 0.2627467\ttotal: 2m 58s\tremaining: 26m 41s\n",
      "400:\tlearn: 0.2556657\ttotal: 6m 4s\tremaining: 24m 13s\n",
      "600:\tlearn: 0.2502051\ttotal: 9m 8s\tremaining: 21m 16s\n",
      "800:\tlearn: 0.2456188\ttotal: 12m 11s\tremaining: 18m 15s\n",
      "1000:\tlearn: 0.2416186\ttotal: 15m 14s\tremaining: 15m 12s\n",
      "1200:\tlearn: 0.2376984\ttotal: 18m 17s\tremaining: 12m 9s\n",
      "1400:\tlearn: 0.2345110\ttotal: 21m 20s\tremaining: 9m 7s\n",
      "1600:\tlearn: 0.2313337\ttotal: 24m 23s\tremaining: 6m 4s\n",
      "1800:\tlearn: 0.2284735\ttotal: 27m 27s\tremaining: 3m 2s\n",
      "1999:\tlearn: 0.2260154\ttotal: 30m 29s\tremaining: 0us\n"
     ]
    },
    {
     "name": "stderr",
     "output_type": "stream",
     "text": [
      "100%|██████████| 1/1 [00:05<00:00,  5.05s/it]\n"
     ]
    },
    {
     "name": "stdout",
     "output_type": "stream",
     "text": [
      "MODEL 6 score: 0.8787479216299292\n",
      "Learning rate set to 0.203601\n",
      "0:\tlearn: 0.5151665\ttotal: 1.04s\tremaining: 34m 31s\n",
      "200:\tlearn: 0.2627427\ttotal: 2m 57s\tremaining: 26m 27s\n",
      "400:\tlearn: 0.2554107\ttotal: 6m 1s\tremaining: 24m\n",
      "600:\tlearn: 0.2500660\ttotal: 9m 6s\tremaining: 21m 11s\n",
      "800:\tlearn: 0.2455827\ttotal: 12m 9s\tremaining: 18m 11s\n",
      "1000:\tlearn: 0.2413687\ttotal: 15m 14s\tremaining: 15m 12s\n",
      "1200:\tlearn: 0.2378064\ttotal: 18m 17s\tremaining: 12m 10s\n",
      "1400:\tlearn: 0.2344652\ttotal: 21m 20s\tremaining: 9m 7s\n",
      "1600:\tlearn: 0.2315729\ttotal: 24m 25s\tremaining: 6m 5s\n",
      "1800:\tlearn: 0.2287015\ttotal: 27m 29s\tremaining: 3m 2s\n",
      "1999:\tlearn: 0.2261968\ttotal: 30m 32s\tremaining: 0us\n"
     ]
    },
    {
     "name": "stderr",
     "output_type": "stream",
     "text": [
      "100%|██████████| 1/1 [00:04<00:00,  4.94s/it]\n"
     ]
    },
    {
     "name": "stdout",
     "output_type": "stream",
     "text": [
      "MODEL 7 score: 0.8783892167440385\n",
      "Learning rate set to 0.203601\n",
      "0:\tlearn: 0.5048246\ttotal: 1.02s\tremaining: 33m 52s\n",
      "200:\tlearn: 0.2627404\ttotal: 2m 59s\tremaining: 26m 46s\n",
      "400:\tlearn: 0.2557730\ttotal: 6m 2s\tremaining: 24m 5s\n",
      "600:\tlearn: 0.2506454\ttotal: 9m 5s\tremaining: 21m 9s\n",
      "800:\tlearn: 0.2460070\ttotal: 12m 9s\tremaining: 18m 12s\n",
      "1000:\tlearn: 0.2418513\ttotal: 15m 15s\tremaining: 15m 13s\n",
      "1200:\tlearn: 0.2385438\ttotal: 18m 19s\tremaining: 12m 11s\n",
      "1400:\tlearn: 0.2352600\ttotal: 21m 26s\tremaining: 9m 9s\n",
      "1600:\tlearn: 0.2320909\ttotal: 24m 29s\tremaining: 6m 6s\n",
      "1800:\tlearn: 0.2292739\ttotal: 27m 32s\tremaining: 3m 2s\n",
      "1999:\tlearn: 0.2265579\ttotal: 30m 32s\tremaining: 0us\n"
     ]
    },
    {
     "name": "stderr",
     "output_type": "stream",
     "text": [
      "100%|██████████| 1/1 [00:04<00:00,  4.81s/it]\n"
     ]
    },
    {
     "name": "stdout",
     "output_type": "stream",
     "text": [
      "MODEL 8 score: 0.8786705070941863\n",
      "Learning rate set to 0.203601\n",
      "0:\tlearn: 0.5175608\ttotal: 998ms\tremaining: 33m 14s\n",
      "200:\tlearn: 0.2626942\ttotal: 3m\tremaining: 26m 54s\n",
      "400:\tlearn: 0.2556921\ttotal: 6m 3s\tremaining: 24m 10s\n",
      "600:\tlearn: 0.2506298\ttotal: 9m 8s\tremaining: 21m 16s\n",
      "800:\tlearn: 0.2462032\ttotal: 12m 12s\tremaining: 18m 16s\n",
      "1000:\tlearn: 0.2421990\ttotal: 15m 17s\tremaining: 15m 15s\n",
      "1200:\tlearn: 0.2384633\ttotal: 18m 22s\tremaining: 12m 13s\n",
      "1400:\tlearn: 0.2351628\ttotal: 21m 24s\tremaining: 9m 9s\n",
      "1600:\tlearn: 0.2320707\ttotal: 24m 29s\tremaining: 6m 6s\n",
      "1800:\tlearn: 0.2292808\ttotal: 27m 33s\tremaining: 3m 2s\n",
      "1999:\tlearn: 0.2267517\ttotal: 30m 38s\tremaining: 0us\n"
     ]
    },
    {
     "name": "stderr",
     "output_type": "stream",
     "text": [
      "100%|██████████| 1/1 [00:04<00:00,  4.99s/it]\n"
     ]
    },
    {
     "name": "stdout",
     "output_type": "stream",
     "text": [
      "MODEL 9 score: 0.8790399312798443\n"
     ]
    }
   ],
   "source": [
    "#!c1.32\n",
    "for state in range(0, 10):\n",
    "        X_train, X_val, y_train, y_val = train_test_split(df, y, test_size=0.2, random_state=state)\n",
    "        model = CatBoostClassifier(random_state=state, max_depth=8, verbose=200, iterations=2000, auto_class_weights=\"Balanced\", cat_features=cat_features)\n",
    "        # print(X_train.head(), y_train.head())\n",
    "        model.fit(X_train, y_train) \n",
    "        models.append(model)\n",
    "        print(f'MODEL {state} score: {score(predict([model], X_val), y_val)}')"
   ]
  },
  {
   "cell_type": "code",
   "execution_count": 34,
   "id": "11bf6d12",
   "metadata": {
    "cellId": "fa045h1b1na6dfsmidqu6d"
   },
   "outputs": [
    {
     "name": "stderr",
     "output_type": "stream",
     "text": [
      "100%|██████████| 10/10 [04:54<00:00, 29.45s/it]\n"
     ]
    }
   ],
   "source": [
    "test_preds = predict(models, test_df, 0.41).astype(int)"
   ]
  },
  {
   "cell_type": "code",
   "execution_count": 35,
   "id": "77f3d207",
   "metadata": {
    "cellId": "n2up26hcohd2t5k9r00zi"
   },
   "outputs": [],
   "source": [
    "submission = pd.DataFrame({'id': test_ids.id, 'label': test_preds})"
   ]
  },
  {
   "cell_type": "code",
   "execution_count": 36,
   "id": "12eb0570",
   "metadata": {
    "cellId": "v1eydwkokxa99ukqxx7tff"
   },
   "outputs": [],
   "source": [
    "submission.to_csv(\"submission.csv\", index=False)"
   ]
  },
  {
   "cell_type": "code",
   "execution_count": 37,
   "id": "00a6e723",
   "metadata": {
    "cellId": "0e8347uf8v88gs82upeml3q"
   },
   "outputs": [
    {
     "data": {
      "text/plain": [
       "0.18442375"
      ]
     },
     "execution_count": 37,
     "metadata": {},
     "output_type": "execute_result"
    }
   ],
   "source": [
    "test_preds.mean()"
   ]
  },
  {
   "cell_type": "code",
   "execution_count": null,
   "id": "cea13f8d",
   "metadata": {
    "cellId": "wcn8b6arzibk42k7vw9vz"
   },
   "outputs": [],
   "source": []
  },
  {
   "cell_type": "code",
   "execution_count": null,
   "id": "81c2be5c",
   "metadata": {
    "cellId": "j9e2xc741277g53194jck"
   },
   "outputs": [],
   "source": []
  }
 ],
 "metadata": {
  "language_info": {
   "codemirror_mode": {
    "name": "ipython",
    "version": 3
   },
   "file_extension": ".py",
   "mimetype": "text/x-python",
   "name": "python",
   "nbconvert_exporter": "python",
   "pygments_lexer": "ipython3",
   "version": "3.7.7"
  },
  "notebookId": "bbdf438a-52da-43e4-b632-edf1a15169fb",
  "notebookPath": "catboost_ensable.ipynb"
 },
 "nbformat": 4,
 "nbformat_minor": 5
}
