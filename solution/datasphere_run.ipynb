{
 "cells": [
  {
   "cell_type": "code",
   "execution_count": 102,
   "id": "7d0361c3",
   "metadata": {
    "cellId": "4ab013t53wnyt2wjl294mf"
   },
   "outputs": [],
   "source": [
    "import pandas as pd\n",
    "import numpy as np\n",
    "import seaborn as sns\n",
    "import matplotlib.pyplot as plt\n",
    "from sklearn.model_selection import train_test_split, GridSearchCV\n",
    "from sklearn.ensemble import RandomForestClassifier\n",
    "from sklearn.metrics import recall_score, roc_auc_score\n",
    "from sklearn.metrics import confusion_matrix\n",
    "from sklearn.metrics import recall_score, roc_auc_score, make_scorer\n",
    "\n",
    "from sklearn.linear_model import LogisticRegression\n",
    "from catboost import CatBoostClassifier\n",
    "\n",
    "from tqdm import tqdm\n",
    "from functools import reduce\n",
    "from copy import deepcopy\n",
    "import gc\n",
    "from collections import Counter\n",
    "\n",
    "%matplotlib inline\n",
    "\n",
    "import warnings\n",
    "warnings.filterwarnings('ignore') \n",
    "\n",
    "# %cd ../"
   ]
  },
  {
   "cell_type": "code",
   "execution_count": 103,
   "id": "b6d1c6f8",
   "metadata": {
    "cellId": "5vptpybokxjjwtu4rhod3k"
   },
   "outputs": [
    {
     "name": "stdout",
     "output_type": "stream",
     "text": [
      "Archive:  data.zip\n",
      "   creating: data/\n",
      "  inflating: data/test_ids.csv       \n",
      "  inflating: data/y_prepared.csv     \n",
      "  inflating: data/X_prepared.csv     \n",
      "  inflating: data/test_df_prepared.csv  \n"
     ]
    }
   ],
   "source": [
    "!unzip data.zip"
   ]
  },
  {
   "cell_type": "code",
   "execution_count": 45,
   "id": "1b731073",
   "metadata": {
    "cellId": "s6qtg8t0bpo1bpf0kpwz"
   },
   "outputs": [],
   "source": [
    "def delete_double_spaces(nm):\n",
    "    new_nm = ''\n",
    "    for char in nm:\n",
    "        if char != ' ' or (len(new_nm) and new_nm[-1] != ' '):\n",
    "            new_nm += char\n",
    "    return new_nm.strip()\n",
    "\n",
    "\n",
    "def label_process(nm):\n",
    "    nm = nm.lower()\n",
    "    new_nm = ''\n",
    "    balance = 0\n",
    "    for char in nm:\n",
    "        if char in '({[':\n",
    "            balance += 1\n",
    "        elif char in ')}]':\n",
    "            balance = max(0, balance - 1)\n",
    "        elif balance == 0:\n",
    "            new_nm += char\n",
    "    nm = new_nm\n",
    "    nm = delete_double_spaces(nm)\n",
    "    return nm"
   ]
  },
  {
   "cell_type": "code",
   "execution_count": 46,
   "id": "cb90b45c",
   "metadata": {
    "cellId": "8yg404jsdhr4e44ffhtpi8"
   },
   "outputs": [
    {
     "ename": "FileNotFoundError",
     "evalue": "[Errno 2] File b'data/train.csv' does not exist: b'data/train.csv'",
     "output_type": "error",
     "traceback": [
      "\u001b[0;31m---------------------------------------------------------------------------\u001b[0m",
      "\u001b[0;31mFileNotFoundError\u001b[0m                         Traceback (most recent call last)",
      "\u001b[0;32m<ipython-input-4-f12b30890b8a>\u001b[0m in \u001b[0;36m<module>\u001b[0;34m\u001b[0m\n\u001b[0;32m----> 1\u001b[0;31m \u001b[0mdf\u001b[0m \u001b[0;34m=\u001b[0m \u001b[0mpd\u001b[0m\u001b[0;34m.\u001b[0m\u001b[0mread_csv\u001b[0m\u001b[0;34m(\u001b[0m\u001b[0;34m\"data/train.csv\"\u001b[0m\u001b[0;34m)\u001b[0m\u001b[0;34m\u001b[0m\u001b[0;34m\u001b[0m\u001b[0m\n\u001b[0m\u001b[1;32m      2\u001b[0m \u001b[0mtest_data\u001b[0m \u001b[0;34m=\u001b[0m \u001b[0mpd\u001b[0m\u001b[0;34m.\u001b[0m\u001b[0mread_csv\u001b[0m\u001b[0;34m(\u001b[0m\u001b[0;34m\"data/test.csv\"\u001b[0m\u001b[0;34m)\u001b[0m\u001b[0;34m\u001b[0m\u001b[0;34m\u001b[0m\u001b[0m\n\u001b[1;32m      3\u001b[0m \u001b[0mtest_ids\u001b[0m \u001b[0;34m=\u001b[0m \u001b[0mdeepcopy\u001b[0m\u001b[0;34m(\u001b[0m\u001b[0mtest_data\u001b[0m\u001b[0;34m.\u001b[0m\u001b[0mid\u001b[0m\u001b[0;34m)\u001b[0m\u001b[0;34m\u001b[0m\u001b[0;34m\u001b[0m\u001b[0m\n\u001b[1;32m      4\u001b[0m \u001b[0;31m#\u001b[0m\u001b[0;34m\u001b[0m\u001b[0;34m\u001b[0m\u001b[0;34m\u001b[0m\u001b[0m\n",
      "\u001b[0;32m/usr/local/lib/python3.8/dist-packages/pandas/io/parsers.py\u001b[0m in \u001b[0;36mparser_f\u001b[0;34m(filepath_or_buffer, sep, delimiter, header, names, index_col, usecols, squeeze, prefix, mangle_dupe_cols, dtype, engine, converters, true_values, false_values, skipinitialspace, skiprows, skipfooter, nrows, na_values, keep_default_na, na_filter, verbose, skip_blank_lines, parse_dates, infer_datetime_format, keep_date_col, date_parser, dayfirst, cache_dates, iterator, chunksize, compression, thousands, decimal, lineterminator, quotechar, quoting, doublequote, escapechar, comment, encoding, dialect, error_bad_lines, warn_bad_lines, delim_whitespace, low_memory, memory_map, float_precision)\u001b[0m\n\u001b[1;32m    683\u001b[0m         )\n\u001b[1;32m    684\u001b[0m \u001b[0;34m\u001b[0m\u001b[0m\n\u001b[0;32m--> 685\u001b[0;31m         \u001b[0;32mreturn\u001b[0m \u001b[0m_read\u001b[0m\u001b[0;34m(\u001b[0m\u001b[0mfilepath_or_buffer\u001b[0m\u001b[0;34m,\u001b[0m \u001b[0mkwds\u001b[0m\u001b[0;34m)\u001b[0m\u001b[0;34m\u001b[0m\u001b[0;34m\u001b[0m\u001b[0m\n\u001b[0m\u001b[1;32m    686\u001b[0m \u001b[0;34m\u001b[0m\u001b[0m\n\u001b[1;32m    687\u001b[0m     \u001b[0mparser_f\u001b[0m\u001b[0;34m.\u001b[0m\u001b[0m__name__\u001b[0m \u001b[0;34m=\u001b[0m \u001b[0mname\u001b[0m\u001b[0;34m\u001b[0m\u001b[0;34m\u001b[0m\u001b[0m\n",
      "\u001b[0;32m/usr/local/lib/python3.8/dist-packages/pandas/io/parsers.py\u001b[0m in \u001b[0;36m_read\u001b[0;34m(filepath_or_buffer, kwds)\u001b[0m\n\u001b[1;32m    455\u001b[0m \u001b[0;34m\u001b[0m\u001b[0m\n\u001b[1;32m    456\u001b[0m     \u001b[0;31m# Create the parser.\u001b[0m\u001b[0;34m\u001b[0m\u001b[0;34m\u001b[0m\u001b[0;34m\u001b[0m\u001b[0m\n\u001b[0;32m--> 457\u001b[0;31m     \u001b[0mparser\u001b[0m \u001b[0;34m=\u001b[0m \u001b[0mTextFileReader\u001b[0m\u001b[0;34m(\u001b[0m\u001b[0mfp_or_buf\u001b[0m\u001b[0;34m,\u001b[0m \u001b[0;34m**\u001b[0m\u001b[0mkwds\u001b[0m\u001b[0;34m)\u001b[0m\u001b[0;34m\u001b[0m\u001b[0;34m\u001b[0m\u001b[0m\n\u001b[0m\u001b[1;32m    458\u001b[0m \u001b[0;34m\u001b[0m\u001b[0m\n\u001b[1;32m    459\u001b[0m     \u001b[0;32mif\u001b[0m \u001b[0mchunksize\u001b[0m \u001b[0;32mor\u001b[0m \u001b[0miterator\u001b[0m\u001b[0;34m:\u001b[0m\u001b[0;34m\u001b[0m\u001b[0;34m\u001b[0m\u001b[0m\n",
      "\u001b[0;32m/usr/local/lib/python3.8/dist-packages/pandas/io/parsers.py\u001b[0m in \u001b[0;36m__init__\u001b[0;34m(self, f, engine, **kwds)\u001b[0m\n\u001b[1;32m    893\u001b[0m             \u001b[0mself\u001b[0m\u001b[0;34m.\u001b[0m\u001b[0moptions\u001b[0m\u001b[0;34m[\u001b[0m\u001b[0;34m\"has_index_names\"\u001b[0m\u001b[0;34m]\u001b[0m \u001b[0;34m=\u001b[0m \u001b[0mkwds\u001b[0m\u001b[0;34m[\u001b[0m\u001b[0;34m\"has_index_names\"\u001b[0m\u001b[0;34m]\u001b[0m\u001b[0;34m\u001b[0m\u001b[0;34m\u001b[0m\u001b[0m\n\u001b[1;32m    894\u001b[0m \u001b[0;34m\u001b[0m\u001b[0m\n\u001b[0;32m--> 895\u001b[0;31m         \u001b[0mself\u001b[0m\u001b[0;34m.\u001b[0m\u001b[0m_make_engine\u001b[0m\u001b[0;34m(\u001b[0m\u001b[0mself\u001b[0m\u001b[0;34m.\u001b[0m\u001b[0mengine\u001b[0m\u001b[0;34m)\u001b[0m\u001b[0;34m\u001b[0m\u001b[0;34m\u001b[0m\u001b[0m\n\u001b[0m\u001b[1;32m    896\u001b[0m \u001b[0;34m\u001b[0m\u001b[0m\n\u001b[1;32m    897\u001b[0m     \u001b[0;32mdef\u001b[0m \u001b[0mclose\u001b[0m\u001b[0;34m(\u001b[0m\u001b[0mself\u001b[0m\u001b[0;34m)\u001b[0m\u001b[0;34m:\u001b[0m\u001b[0;34m\u001b[0m\u001b[0;34m\u001b[0m\u001b[0m\n",
      "\u001b[0;32m/usr/local/lib/python3.8/dist-packages/pandas/io/parsers.py\u001b[0m in \u001b[0;36m_make_engine\u001b[0;34m(self, engine)\u001b[0m\n\u001b[1;32m   1133\u001b[0m     \u001b[0;32mdef\u001b[0m \u001b[0m_make_engine\u001b[0m\u001b[0;34m(\u001b[0m\u001b[0mself\u001b[0m\u001b[0;34m,\u001b[0m \u001b[0mengine\u001b[0m\u001b[0;34m=\u001b[0m\u001b[0;34m\"c\"\u001b[0m\u001b[0;34m)\u001b[0m\u001b[0;34m:\u001b[0m\u001b[0;34m\u001b[0m\u001b[0;34m\u001b[0m\u001b[0m\n\u001b[1;32m   1134\u001b[0m         \u001b[0;32mif\u001b[0m \u001b[0mengine\u001b[0m \u001b[0;34m==\u001b[0m \u001b[0;34m\"c\"\u001b[0m\u001b[0;34m:\u001b[0m\u001b[0;34m\u001b[0m\u001b[0;34m\u001b[0m\u001b[0m\n\u001b[0;32m-> 1135\u001b[0;31m             \u001b[0mself\u001b[0m\u001b[0;34m.\u001b[0m\u001b[0m_engine\u001b[0m \u001b[0;34m=\u001b[0m \u001b[0mCParserWrapper\u001b[0m\u001b[0;34m(\u001b[0m\u001b[0mself\u001b[0m\u001b[0;34m.\u001b[0m\u001b[0mf\u001b[0m\u001b[0;34m,\u001b[0m \u001b[0;34m**\u001b[0m\u001b[0mself\u001b[0m\u001b[0;34m.\u001b[0m\u001b[0moptions\u001b[0m\u001b[0;34m)\u001b[0m\u001b[0;34m\u001b[0m\u001b[0;34m\u001b[0m\u001b[0m\n\u001b[0m\u001b[1;32m   1136\u001b[0m         \u001b[0;32melse\u001b[0m\u001b[0;34m:\u001b[0m\u001b[0;34m\u001b[0m\u001b[0;34m\u001b[0m\u001b[0m\n\u001b[1;32m   1137\u001b[0m             \u001b[0;32mif\u001b[0m \u001b[0mengine\u001b[0m \u001b[0;34m==\u001b[0m \u001b[0;34m\"python\"\u001b[0m\u001b[0;34m:\u001b[0m\u001b[0;34m\u001b[0m\u001b[0;34m\u001b[0m\u001b[0m\n",
      "\u001b[0;32m/usr/local/lib/python3.8/dist-packages/pandas/io/parsers.py\u001b[0m in \u001b[0;36m__init__\u001b[0;34m(self, src, **kwds)\u001b[0m\n\u001b[1;32m   1915\u001b[0m         \u001b[0mkwds\u001b[0m\u001b[0;34m[\u001b[0m\u001b[0;34m\"usecols\"\u001b[0m\u001b[0;34m]\u001b[0m \u001b[0;34m=\u001b[0m \u001b[0mself\u001b[0m\u001b[0;34m.\u001b[0m\u001b[0musecols\u001b[0m\u001b[0;34m\u001b[0m\u001b[0;34m\u001b[0m\u001b[0m\n\u001b[1;32m   1916\u001b[0m \u001b[0;34m\u001b[0m\u001b[0m\n\u001b[0;32m-> 1917\u001b[0;31m         \u001b[0mself\u001b[0m\u001b[0;34m.\u001b[0m\u001b[0m_reader\u001b[0m \u001b[0;34m=\u001b[0m \u001b[0mparsers\u001b[0m\u001b[0;34m.\u001b[0m\u001b[0mTextReader\u001b[0m\u001b[0;34m(\u001b[0m\u001b[0msrc\u001b[0m\u001b[0;34m,\u001b[0m \u001b[0;34m**\u001b[0m\u001b[0mkwds\u001b[0m\u001b[0;34m)\u001b[0m\u001b[0;34m\u001b[0m\u001b[0;34m\u001b[0m\u001b[0m\n\u001b[0m\u001b[1;32m   1918\u001b[0m         \u001b[0mself\u001b[0m\u001b[0;34m.\u001b[0m\u001b[0munnamed_cols\u001b[0m \u001b[0;34m=\u001b[0m \u001b[0mself\u001b[0m\u001b[0;34m.\u001b[0m\u001b[0m_reader\u001b[0m\u001b[0;34m.\u001b[0m\u001b[0munnamed_cols\u001b[0m\u001b[0;34m\u001b[0m\u001b[0;34m\u001b[0m\u001b[0m\n\u001b[1;32m   1919\u001b[0m \u001b[0;34m\u001b[0m\u001b[0m\n",
      "\u001b[0;32mpandas/_libs/parsers.pyx\u001b[0m in \u001b[0;36mpandas._libs.parsers.TextReader.__cinit__\u001b[0;34m()\u001b[0m\n",
      "\u001b[0;32mpandas/_libs/parsers.pyx\u001b[0m in \u001b[0;36mpandas._libs.parsers.TextReader._setup_parser_source\u001b[0;34m()\u001b[0m\n",
      "\u001b[0;31mFileNotFoundError\u001b[0m: [Errno 2] File b'data/train.csv' does not exist: b'data/train.csv'"
     ]
    }
   ],
   "source": [
    "df = pd.read_csv(\"data/train.csv\")\n",
    "test_data = pd.read_csv(\"data/test.csv\")\n",
    "test_ids = deepcopy(test_data.id)"
   ]
  },
  {
   "cell_type": "code",
   "execution_count": null,
   "id": "1fd304f6",
   "metadata": {
    "cellId": "p8rjvsc2nip83a4w2tsu34"
   },
   "outputs": [],
   "source": [
    "df['processed_name'] = df.name_mfi.apply(label_process)\n",
    "test_data['processed_name'] = test_data.name_mfi.apply(label_process)"
   ]
  },
  {
   "cell_type": "code",
   "execution_count": null,
   "id": "a59d5dca",
   "metadata": {
    "cellId": "v9uw5xklzbdgqg3e6ka6m"
   },
   "outputs": [],
   "source": [
    "df['item_hash'] = df['name_mfi'].apply(hash) ^ df.weight_mfi.apply(lambda x: hash(str(x))) ^ df.weight.apply(lambda x: hash(str(x))) ^ \\\n",
    "    df.mailtype.apply(lambda x: hash(str(x))) ^ df.transport_pay.apply(lambda x: hash(str(x)))\n",
    "\n",
    "test_data['item_hash'] = test_data['item_hash'] = test_data['name_mfi'].apply(hash) ^ test_data.weight_mfi.apply(lambda x: hash(str(x))) ^ test_data.weight.apply(lambda x: hash(str(x))) ^ \\\n",
    "    test_data.mailtype.apply(lambda x: hash(str(x))) ^ test_data.transport_pay.apply(lambda x: hash(str(x)))"
   ]
  },
  {
   "cell_type": "code",
   "execution_count": null,
   "id": "22ce7f65",
   "metadata": {
    "cellId": "ufg1ii9kpxf4t9cpaxoiv"
   },
   "outputs": [],
   "source": [
    "hash_counter = Counter(pd.concat([df.item_hash, test_data.item_hash], ignore_index=True))\n",
    "name_counter = Counter(pd.concat([df.processed_name, test_data.processed_name], ignore_index=True))"
   ]
  },
  {
   "cell_type": "code",
   "execution_count": null,
   "id": "51a801c3",
   "metadata": {
    "cellId": "mq5040b441kxd03rqtsvpk"
   },
   "outputs": [],
   "source": [
    "id_hash = pd.concat([df[['id', 'item_hash']], test_data[['id', 'item_hash']]], ignore_index=True)\n",
    "id_hash = id_hash.groupby('item_hash').agg(max).rename(columns={'id': 'last_id'})"
   ]
  },
  {
   "cell_type": "code",
   "execution_count": null,
   "id": "a7abfc4d",
   "metadata": {
    "cellId": "7o6w7nb5otja41muvjlsfh"
   },
   "outputs": [],
   "source": [
    "df = df.join(id_hash, on='item_hash')\n",
    "test_data = test_data.join(id_hash, on='item_hash')"
   ]
  },
  {
   "cell_type": "code",
   "execution_count": null,
   "id": "dca6a6e8",
   "metadata": {
    "cellId": "g6p8cooumyh40ji990drv"
   },
   "outputs": [],
   "source": [
    "X = df.drop(columns=[\"label\"])\n",
    "y = df.label\n",
    "X_train, X_val, y_train, y_val = train_test_split(X, y, test_size=0.2, random_state=0)"
   ]
  },
  {
   "cell_type": "code",
   "execution_count": null,
   "id": "8a9cdb77",
   "metadata": {
    "cellId": "nvivpvwldomn8q1jxugk"
   },
   "outputs": [],
   "source": [
    "top_operators = [obj for obj, count in Counter(test_data['index_oper'].replace(' ', '0').astype(float).astype(int)).most_common()][:10]"
   ]
  },
  {
   "cell_type": "code",
   "execution_count": null,
   "id": "e4fe3a7a",
   "metadata": {
    "cellId": "yufgtxyd0dv9j8qhm7bfb"
   },
   "outputs": [],
   "source": [
    "df.item_hash.nunique()"
   ]
  },
  {
   "cell_type": "code",
   "execution_count": null,
   "id": "0a7fb09f",
   "metadata": {
    "cellId": "vo5cosfp59dkzp608owl"
   },
   "outputs": [],
   "source": [
    "useless = []\n",
    "cat_features = [\"type\", \"is_privatecategory\", \"class\", \"is_in_yandex\", \"mailctg\", \"directctg\", \"mailtype\"]\n",
    "cat_features = list(set(cat_features) - set(useless))\n",
    "\n",
    "def prepare_data(df):\n",
    "    oper_type, oper_attr = zip(*df['oper_type + oper_attr'].map(lambda x: x.split('_')))\n",
    "    \n",
    "    # df['is_negative_oper_attr'] = pd.Series(oper_attr) == '-1'\n",
    "    df['specialization_ratio'] = df.total_qty_over_index_and_type / df.total_qty_over_index.clip(lower=1)\n",
    "    df['total_over_person'] = df.total_qty_over_index / df.dist_qty_oper_login_1.clip(lower=1)\n",
    "    df['unknown_oper_ratio'] = df.total_qty_oper_login_0 / df.total_qty_oper_login_1.clip(lower=1)\n",
    "    \n",
    "    df['same_hash'] = df.item_hash.apply(lambda h: hash_counter[h])\n",
    "    df['same_name'] = df.processed_name.apply(lambda name: name_counter[name])\n",
    "    \n",
    "    df['isnt_last'] = (df.id == df.last_id) * (df.same_hash < 30)\n",
    "    \n",
    "    for operator in top_operators:\n",
    "        df[f'is_{operator}_operator'] = df['index_oper'].replace(' ', '0').astype(float).astype(int) == operator\n",
    "    \n",
    "    replace_zeros = ['priority', 'is_privatecategory', 'is_in_yandex', 'mailtype', 'directctg']\n",
    "    for column in replace_zeros:\n",
    "        df[column][df[column] == 0] = df[column].mode()[0]\n",
    "        df[column][df[column] == '0'] = df[column].mode()[0]\n",
    "    \n",
    "    df.priority = 1 * (df.priority == 7503.) + 2 * (df.priority == 7504.) + 3 * (df.priority == 7506.)\n",
    "    \n",
    "    df.index_oper = df.index_oper.replace(' ', '0').astype(float).astype(int)\n",
    "    \n",
    "    for cat_feature in cat_features:\n",
    "        df[cat_feature] = df[cat_feature].apply(lambda text: str(text))\n",
    "        \n",
    "    df['name_mfi_count'] = df.name_mfi.apply(lambda name: 0 if name == '0' else len(name.split(',')))\n",
    "    \n",
    "    df.is_return = df.is_return.apply(lambda text: text == 'Y')\n",
    "        \n",
    "    df.drop(columns=[\"oper_type + oper_attr\"], inplace=True)\n",
    "    df.drop(columns=[\"name_mfi\", \"item_hash\", \"processed_name\"], inplace=True)\n",
    "    df.drop(columns=['mailrank'], inplace=True)\n",
    "    df.drop(columns=useless, inplace=True, errors='ignore')\n",
    "    \n",
    "    return df"
   ]
  },
  {
   "cell_type": "code",
   "execution_count": null,
   "id": "3e326d2e",
   "metadata": {
    "cellId": "60rf4cbfin4kbpksr9kjv"
   },
   "outputs": [],
   "source": [
    "X_train = prepare_data(X_train)\n",
    "X_val = prepare_data(X_val)\n",
    "test_df = prepare_data(test_data)"
   ]
  },
  {
   "cell_type": "code",
   "execution_count": null,
   "id": "8dae1920",
   "metadata": {
    "cellId": "eza730cv317hh5qet8yto"
   },
   "outputs": [],
   "source": [
    "X_train.to_csv('data/X_train_prepared.csv', index=False)\n",
    "X_val.to_csv('data/X_val_prepared.csv', index=False)\n",
    "y_train.to_csv('data/y_train_prepared.csv', index=False)\n",
    "y_val.to_csv('data/y_val_prepared.csv', index=False)\n",
    "test_df.to_csv('data/test_df_prepared.csv', index=False)\n",
    "y_train.to_csv('data/y_train_prepared.csv', index=False)\n",
    "y_val.to_csv('data/y_val_prepared.csv', index=False)"
   ]
  },
  {
   "cell_type": "code",
   "execution_count": null,
   "id": "7f27f8ab",
   "metadata": {
    "cellId": "i66nz0pw72decov9ldq6f"
   },
   "outputs": [],
   "source": []
  },
  {
   "cell_type": "code",
   "execution_count": 112,
   "id": "40735c84",
   "metadata": {
    "cellId": "0e5qkiygp8bhgj52dwazug"
   },
   "outputs": [],
   "source": [
    "useless = []\n",
    "cat_features = [\"type\", \"is_privatecategory\", \"class\", \"is_in_yandex\", \"mailctg\", \"directctg\", \"mailtype\"]\n",
    "cat_features = list(set(cat_features) - set(useless))\n",
    "\n",
    "cat_features = list(set(cat_features) - set(useless))\n",
    "def to_cat_features(df):\n",
    "    for cat_feature in cat_features:\n",
    "        df[cat_feature] = df[cat_feature].apply(lambda text: str(text))\n",
    "        \n",
    "# X_train = pd.read_csv('data/X_train_prepared.csv')\n",
    "# y_train = pd.read_csv('data/y_train_prepared.csv')\n",
    "# X_val = pd.read_csv('data/X_val_prepared.csv')\n",
    "# y_val = pd.read_csv('data/y_val_prepared.csv')\n",
    "# test_df = pd.read_csv('data/test_df_prepared.csv')\n",
    "# test_ids = pd.read_csv('data/test_ids.csv')\n",
    "\n",
    "X_train = pd.read_csv('data/X_prepared.csv') \n",
    "y_train = pd.read_csv('data/y_prepared.csv') \n",
    "test_df = pd.read_csv('data/test_df_prepared.csv')\n",
    "test_ids = pd.read_csv('data/test_ids.csv')\n",
    "\n",
    "\n",
    "to_cat_features(X_train)\n",
    "# to_cat_features(X_val)\n",
    "to_cat_features(test_df)"
   ]
  },
  {
   "cell_type": "code",
   "execution_count": 113,
   "id": "5ff618f2",
   "metadata": {
    "cellId": "19c666lnwwtjcirwzzyhpn"
   },
   "outputs": [],
   "source": [
    "model = CatBoostClassifier(random_state=0, max_depth=7, verbose=200, iterations=15000, auto_class_weights=\"Balanced\", cat_features=cat_features)"
   ]
  },
  {
   "cell_type": "code",
   "execution_count": 114,
   "id": "90dd0af3",
   "metadata": {
    "cellId": "zcndk9o5xzr7juqfjv6ve9",
    "execution_id": "475b4468-4e15-4a84-8d9c-3cdf520e0d44"
   },
   "outputs": [
    {
     "name": "stdout",
     "output_type": "stream",
     "text": [
      "Learning rate set to 0.035296\n",
      "0:\tlearn: 0.6502582\ttotal: 1.09s\tremaining: 4h 33m 9s\n",
      "200:\tlearn: 0.2346547\ttotal: 2m 54s\tremaining: 3h 34m 37s\n",
      "400:\tlearn: 0.2276985\ttotal: 5m 48s\tremaining: 3h 31m 16s\n",
      "600:\tlearn: 0.2236196\ttotal: 8m 48s\tremaining: 3h 30m 59s\n",
      "800:\tlearn: 0.2209645\ttotal: 11m 50s\tremaining: 3h 29m 54s\n",
      "1000:\tlearn: 0.2188890\ttotal: 14m 53s\tremaining: 3h 28m 20s\n",
      "1200:\tlearn: 0.2171643\ttotal: 17m 58s\tremaining: 3h 26m 36s\n",
      "1400:\tlearn: 0.2156608\ttotal: 21m 5s\tremaining: 3h 24m 39s\n",
      "1600:\tlearn: 0.2144128\ttotal: 24m 13s\tremaining: 3h 22m 48s\n",
      "1800:\tlearn: 0.2131980\ttotal: 27m 22s\tremaining: 3h 20m 37s\n",
      "2000:\tlearn: 0.2120733\ttotal: 30m 30s\tremaining: 3h 18m 10s\n",
      "2200:\tlearn: 0.2110033\ttotal: 33m 38s\tremaining: 3h 15m 36s\n",
      "2400:\tlearn: 0.2099614\ttotal: 36m 48s\tremaining: 3h 13m 10s\n",
      "2600:\tlearn: 0.2089022\ttotal: 39m 54s\tremaining: 3h 10m 16s\n",
      "2800:\tlearn: 0.2079234\ttotal: 43m\tremaining: 3h 7m 17s\n",
      "3000:\tlearn: 0.2070159\ttotal: 46m 2s\tremaining: 3h 4m 6s\n",
      "3200:\tlearn: 0.2061374\ttotal: 49m 5s\tremaining: 3h 58s\n",
      "3400:\tlearn: 0.2052906\ttotal: 52m 10s\tremaining: 2h 57m 57s\n",
      "3600:\tlearn: 0.2043726\ttotal: 55m 13s\tremaining: 2h 54m 49s\n",
      "3800:\tlearn: 0.2035532\ttotal: 58m 16s\tremaining: 2h 51m 41s\n",
      "4000:\tlearn: 0.2027589\ttotal: 1h 1m 13s\tremaining: 2h 48m 19s\n",
      "4200:\tlearn: 0.2019406\ttotal: 1h 4m 13s\tremaining: 2h 45m 5s\n",
      "4400:\tlearn: 0.2011659\ttotal: 1h 7m 18s\tremaining: 2h 42m 6s\n",
      "4600:\tlearn: 0.2004261\ttotal: 1h 10m 23s\tremaining: 2h 39m 6s\n",
      "4800:\tlearn: 0.1997099\ttotal: 1h 13m 28s\tremaining: 2h 36m 4s\n",
      "5000:\tlearn: 0.1989972\ttotal: 1h 16m 33s\tremaining: 2h 33m 4s\n",
      "5200:\tlearn: 0.1982527\ttotal: 1h 19m 37s\tremaining: 2h 30m\n",
      "5400:\tlearn: 0.1975166\ttotal: 1h 22m 42s\tremaining: 2h 26m 58s\n",
      "5600:\tlearn: 0.1968454\ttotal: 1h 25m 44s\tremaining: 2h 23m 53s\n",
      "5800:\tlearn: 0.1961606\ttotal: 1h 28m 50s\tremaining: 2h 20m 52s\n",
      "6000:\tlearn: 0.1954813\ttotal: 1h 31m 53s\tremaining: 2h 17m 47s\n",
      "6200:\tlearn: 0.1948455\ttotal: 1h 34m 57s\tremaining: 2h 14m 44s\n",
      "6400:\tlearn: 0.1942234\ttotal: 1h 38m\tremaining: 2h 11m 39s\n",
      "6600:\tlearn: 0.1935506\ttotal: 1h 41m 3s\tremaining: 2h 8m 35s\n",
      "6800:\tlearn: 0.1929492\ttotal: 1h 44m 7s\tremaining: 2h 5m 31s\n",
      "7000:\tlearn: 0.1923584\ttotal: 1h 47m 10s\tremaining: 2h 2m 27s\n",
      "7200:\tlearn: 0.1917048\ttotal: 1h 50m 10s\tremaining: 1h 59m 19s\n",
      "7400:\tlearn: 0.1910676\ttotal: 1h 53m 12s\tremaining: 1h 56m 14s\n",
      "7600:\tlearn: 0.1904566\ttotal: 1h 56m 16s\tremaining: 1h 53m 10s\n",
      "7800:\tlearn: 0.1898469\ttotal: 1h 59m 18s\tremaining: 1h 50m 6s\n",
      "8000:\tlearn: 0.1892834\ttotal: 2h 2m 23s\tremaining: 1h 47m 3s\n",
      "8200:\tlearn: 0.1886777\ttotal: 2h 5m 28s\tremaining: 1h 44m 1s\n",
      "8400:\tlearn: 0.1881141\ttotal: 2h 8m 35s\tremaining: 1h 41m\n",
      "8600:\tlearn: 0.1875385\ttotal: 2h 11m 41s\tremaining: 1h 37m 58s\n",
      "8800:\tlearn: 0.1869695\ttotal: 2h 14m 47s\tremaining: 1h 34m 56s\n",
      "9000:\tlearn: 0.1864252\ttotal: 2h 17m 52s\tremaining: 1h 31m 53s\n",
      "9200:\tlearn: 0.1858829\ttotal: 2h 20m 59s\tremaining: 1h 28m 51s\n",
      "9400:\tlearn: 0.1853552\ttotal: 2h 24m 6s\tremaining: 1h 25m 49s\n",
      "9600:\tlearn: 0.1848300\ttotal: 2h 27m 11s\tremaining: 1h 22m 46s\n",
      "9800:\tlearn: 0.1842487\ttotal: 2h 30m 15s\tremaining: 1h 19m 42s\n",
      "10000:\tlearn: 0.1837289\ttotal: 2h 33m 19s\tremaining: 1h 16m 38s\n",
      "10200:\tlearn: 0.1832469\ttotal: 2h 36m 25s\tremaining: 1h 13m 35s\n",
      "10400:\tlearn: 0.1827439\ttotal: 2h 39m 29s\tremaining: 1h 10m 31s\n",
      "10600:\tlearn: 0.1822213\ttotal: 2h 42m 34s\tremaining: 1h 7m 27s\n",
      "10800:\tlearn: 0.1817305\ttotal: 2h 45m 37s\tremaining: 1h 4m 23s\n",
      "11000:\tlearn: 0.1812253\ttotal: 2h 48m 43s\tremaining: 1h 1m 19s\n",
      "11200:\tlearn: 0.1807501\ttotal: 2h 51m 45s\tremaining: 58m 15s\n",
      "11400:\tlearn: 0.1802778\ttotal: 2h 54m 50s\tremaining: 55m 11s\n",
      "11600:\tlearn: 0.1798096\ttotal: 2h 57m 52s\tremaining: 52m 6s\n",
      "11800:\tlearn: 0.1793361\ttotal: 3h 47s\tremaining: 49m\n",
      "12000:\tlearn: 0.1788746\ttotal: 3h 3m 42s\tremaining: 45m 54s\n",
      "12200:\tlearn: 0.1784002\ttotal: 3h 6m 41s\tremaining: 42m 49s\n",
      "12400:\tlearn: 0.1779326\ttotal: 3h 9m 40s\tremaining: 39m 45s\n",
      "12600:\tlearn: 0.1775020\ttotal: 3h 12m 44s\tremaining: 36m 41s\n",
      "12800:\tlearn: 0.1770753\ttotal: 3h 15m 44s\tremaining: 33m 37s\n",
      "13000:\tlearn: 0.1766042\ttotal: 3h 18m 46s\tremaining: 30m 33s\n",
      "13200:\tlearn: 0.1761411\ttotal: 3h 21m 44s\tremaining: 27m 29s\n",
      "13400:\tlearn: 0.1756847\ttotal: 3h 24m 40s\tremaining: 24m 25s\n",
      "13600:\tlearn: 0.1752252\ttotal: 3h 27m 37s\tremaining: 21m 21s\n",
      "13800:\tlearn: 0.1748387\ttotal: 3h 30m 36s\tremaining: 18m 17s\n",
      "14000:\tlearn: 0.1744092\ttotal: 3h 33m 40s\tremaining: 15m 14s\n",
      "14200:\tlearn: 0.1739655\ttotal: 3h 36m 46s\tremaining: 12m 11s\n",
      "14400:\tlearn: 0.1735424\ttotal: 3h 39m 43s\tremaining: 9m 8s\n",
      "14600:\tlearn: 0.1731611\ttotal: 3h 42m 40s\tremaining: 6m 5s\n",
      "14800:\tlearn: 0.1727319\ttotal: 3h 45m 41s\tremaining: 3m 2s\n",
      "14999:\tlearn: 0.1722752\ttotal: 3h 48m 37s\tremaining: 0us\n"
     ]
    },
    {
     "data": {
      "text/plain": [
       "<catboost.core.CatBoostClassifier at 0x7f85383ec6a0>"
      ]
     },
     "execution_count": 114,
     "metadata": {},
     "output_type": "execute_result"
    }
   ],
   "source": [
    "#!c1.32\n",
    "model.fit(X_train, y_train)"
   ]
  },
  {
   "cell_type": "code",
   "execution_count": 115,
   "id": "752f08c0",
   "metadata": {
    "cellId": "9ez17282jjp77mcjqjdmpk",
    "execution_id": "f388cc16-a2f5-4fff-a452-10f2a6a13abe"
   },
   "outputs": [],
   "source": [
    "def score_model(model, X, y, threshold=0.5):  # 0.225 is the best for now\n",
    "    pred = model.predict_proba(X)[:, 1] > threshold\n",
    "    recall = recall_score(y, pred, average=\"macro\")\n",
    "    roc_auc = roc_auc_score(y,  pred, multi_class='ovo')\n",
    "    score = 0.1 * recall + 0.9 * roc_auc\n",
    "    return score"
   ]
  },
  {
   "cell_type": "code",
   "execution_count": 116,
   "id": "87b9986a",
   "metadata": {
    "cellId": "0gnzsw3od7p69z0t49qyxv",
    "execution_id": "ab088a07-2983-425a-b182-f39ce74234cf"
   },
   "outputs": [
    {
     "data": {
      "text/plain": [
       "0.9242626158854033"
      ]
     },
     "execution_count": 116,
     "metadata": {},
     "output_type": "execute_result"
    }
   ],
   "source": [
    "score_model(model, X_train, y_train, 0.35)"
   ]
  },
  {
   "cell_type": "code",
   "execution_count": 117,
   "id": "924b31bd",
   "metadata": {
    "cellId": "s08yyuyf0lvhivquokwph",
    "execution_id": "832cb6f9-d133-44ad-97a2-c8716da3ed99"
   },
   "outputs": [
    {
     "data": {
      "text/plain": [
       "[('index_oper', 7.9108946256050325),\n",
       " ('specialization_ratio', 7.3056499193324145),\n",
       " ('total_over_person', 7.062019861244038),\n",
       " ('unknown_oper_ratio', 7.013490696292854),\n",
       " ('same_oper_item_hash', 6.940572921718261),\n",
       " ('total_qty_oper_login_0', 6.620282085867345),\n",
       " ('total_qty_oper_login_1', 5.590515073847468),\n",
       " ('mailctg', 5.236052254313247),\n",
       " ('same_characteristics_hash', 5.171715851408008),\n",
       " ('same_hash', 4.217497688931641),\n",
       " ('transport_pay', 4.195507968136628),\n",
       " ('type', 4.021732578254022),\n",
       " ('total_qty_over_index_and_type', 3.0964834127344916),\n",
       " ('weight', 2.86816507298373),\n",
       " ('dist_qty_oper_login_1', 2.603680082277148),\n",
       " ('total_qty_over_index', 2.5550175234687535),\n",
       " ('weight_mfi', 2.3652648850098608),\n",
       " ('price_mfi', 1.8169604870988738),\n",
       " ('same_name', 1.7627978470730432),\n",
       " ('id', 1.4259322999914417),\n",
       " ('name_mfi_len', 1.4181978636529873),\n",
       " ('last_id', 1.4014551230017014),\n",
       " ('till_end', 1.2755155523166402),\n",
       " ('priority', 1.1137063750239997),\n",
       " ('name_mfi_count', 0.9796175063712711),\n",
       " ('is_102971_operator', 0.6755396681645097),\n",
       " ('is_wrong_phone_number', 0.6463820992597011),\n",
       " ('class', 0.4946450712975958),\n",
       " ('is_102976_operator', 0.46150927932403096),\n",
       " ('is_wrong_rcpn_name', 0.45384884221977656),\n",
       " ('is_in_yandex', 0.3309344301987828),\n",
       " ('is_102152_operator', 0.2521697369127972),\n",
       " ('is_620984_operator', 0.18151579714717214),\n",
       " ('directctg', 0.15178842013341198),\n",
       " ('is_140980_operator', 0.15066283124547844),\n",
       " ('is_420306_operator', 0.10337596317397366),\n",
       " ('is_200980_operator', 0.07687336652630708),\n",
       " ('is_return', 0.01893588199111178),\n",
       " ('is_wrong_address', 0.012776692202012234),\n",
       " ('is_wrong_sndr_name', 0.008755876375561607),\n",
       " ('is_privatecategory', 0.006005732440093557),\n",
       " ('postmark', 0.002804188455201291),\n",
       " ('mailtype', 0.0027505669776871668),\n",
       " ('is_102998_operator', 0.0),\n",
       " ('is_102968_operator', 0.0),\n",
       " ('is_102102_operator', 0.0)]"
      ]
     },
     "execution_count": 117,
     "metadata": {},
     "output_type": "execute_result"
    }
   ],
   "source": [
    "sorted(list(zip(X_train.columns, model.feature_importances_)), key = lambda x: -x[1])"
   ]
  },
  {
   "cell_type": "code",
   "execution_count": 118,
   "id": "a803dad0",
   "metadata": {
    "cellId": "kthnv0rzyykqlef93ge7xf",
    "execution_id": "b4efbe12-5a31-4626-9c58-a7ab64bca411"
   },
   "outputs": [],
   "source": [
    "test_preds = (model.predict_proba(test_df)[:, 1])\n",
    "submission = pd.DataFrame({'id': test_ids.id, 'label': test_preds})\n",
    "submission.to_csv(\"submission2.csv\", index=False)"
   ]
  },
  {
   "cell_type": "code",
   "execution_count": 119,
   "id": "28fa5f27",
   "metadata": {
    "cellId": "hp8jc0pctt5zfoow92z5h",
    "execution_id": "08eae367-f2dc-42b0-91a0-e54b851cdff5"
   },
   "outputs": [
    {
     "data": {
      "text/plain": [
       "7"
      ]
     },
     "execution_count": 119,
     "metadata": {},
     "output_type": "execute_result"
    }
   ],
   "source": [
    "7"
   ]
  },
  {
   "cell_type": "code",
   "execution_count": null,
   "id": "aca8bb33",
   "metadata": {
    "cellId": "r24ifajh5rr5l9yklg9sfi"
   },
   "outputs": [],
   "source": []
  },
  {
   "cell_type": "code",
   "execution_count": null,
   "id": "b367dcb8",
   "metadata": {
    "cellId": "nqfglt8hbpnvyh765337y"
   },
   "outputs": [],
   "source": [
    "unrounded_sub = pd.read_csv('submission.csv') \n",
    "sub = unrounded_sub.copy()\n",
    "sub.label = (unrounded_sub.label > 0.225).astype(int) \n",
    "sub.to_csv('submission_rounded.csv', index=False)"
   ]
  },
  {
   "cell_type": "code",
   "execution_count": null,
   "id": "44b0f042",
   "metadata": {
    "cellId": "2p0co5wsn3d0rsc7im88zto"
   },
   "outputs": [],
   "source": [
    "sub.label.mean()\n",
    "unrounded_sub.label.mean()"
   ]
  },
  {
   "cell_type": "code",
   "execution_count": null,
   "id": "b5d10048",
   "metadata": {
    "cellId": "98qj1ffo3ehixyb7sflqw"
   },
   "outputs": [],
   "source": []
  }
 ],
 "metadata": {
  "language_info": {
   "codemirror_mode": {
    "name": "ipython",
    "version": 3
   },
   "file_extension": ".py",
   "mimetype": "text/x-python",
   "name": "python",
   "nbconvert_exporter": "python",
   "pygments_lexer": "ipython3",
   "version": "3.7.7"
  },
  "notebookId": "ed7dd563-ce4b-46a2-991c-9833419e1943",
  "notebookPath": "datasphere_run.ipynb"
 },
 "nbformat": 4,
 "nbformat_minor": 5
}
