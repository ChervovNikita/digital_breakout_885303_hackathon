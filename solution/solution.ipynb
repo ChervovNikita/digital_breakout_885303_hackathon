{
 "cells": [
  {
   "cell_type": "code",
   "execution_count": 1,
   "id": "24e08c15",
   "metadata": {
    "cellId": "4ab013t53wnyt2wjl294mf"
   },
   "outputs": [],
   "source": [
    "import pandas as pd\n",
    "import numpy as np\n",
    "import seaborn as sns\n",
    "import matplotlib.pyplot as plt\n",
    "from sklearn.model_selection import train_test_split\n",
    "from sklearn.ensemble import RandomForestClassifier\n",
    "from sklearn.metrics import recall_score, roc_auc_score\n",
    "from sklearn.metrics import confusion_matrix\n",
    "from sklearn.metrics import recall_score, roc_auc_score\n",
    "\n",
    "from sklearn.linear_model import LogisticRegression\n",
    "from catboost import CatBoostClassifier\n",
    "\n",
    "import warnings\n",
    "from copy import deepcopy\n",
    "import gc\n",
    "from collections import Counter\n",
    "\n",
    "%matplotlib inline"
   ]
  },
  {
   "cell_type": "code",
   "execution_count": 2,
   "id": "e3fba829-b94c-4668-a819-1f645ebf10bb",
   "metadata": {},
   "outputs": [],
   "source": [
    "def mask_generator(n, cnt):\n",
    "    ones_count = 1\n",
    "    yielded = 1\n",
    "    if cnt == 0:\n",
    "        return\n",
    "    yield np.zeros(n, dtype=int)\n",
    "    while ones_count <= n and yielded < cnt:\n",
    "        cur_array = np.zeros(n, dtype=int)\n",
    "        cur_array[:ones_count] = 1\n",
    "        while cur_array[-ones_count:].min() == 0:\n",
    "            yield cur_array\n",
    "            last_zero = np.where(cur_array == 0)[0][-1]\n",
    "            mobile = np.where(cur_array[:last_zero] == 1)[0][-1]\n",
    "            suf_ones = 1 + cur_array[last_zero:].sum()\n",
    "            cur_array[mobile:] = 0\n",
    "            cur_array[mobile+1:mobile+suf_ones+1] = 1\n",
    "            yielded += 1\n",
    "            if yielded == cnt:\n",
    "                return\n",
    "        if yielded == cnt:\n",
    "            return \n",
    "        yield cur_array\n",
    "        yielded += 1\n",
    "        ones_count += 1"
   ]
  },
  {
   "cell_type": "code",
   "execution_count": 3,
   "id": "1d3303ef-81bb-474b-8f77-018e5c022cf0",
   "metadata": {},
   "outputs": [],
   "source": [
    "warnings.filterwarnings('ignore') "
   ]
  },
  {
   "cell_type": "code",
   "execution_count": 4,
   "id": "149b0b1d",
   "metadata": {
    "cellId": "gckvv8c0x3n8665qrikwns"
   },
   "outputs": [
    {
     "name": "stdout",
     "output_type": "stream",
     "text": [
      "/home/chervovn04/Programming/hackathons/2022/digital_breakout_885303\n"
     ]
    }
   ],
   "source": [
    "%cd ../"
   ]
  },
  {
   "cell_type": "code",
   "execution_count": 5,
   "id": "cd69c8ad",
   "metadata": {
    "cellId": "6m5zertaq0op1k3d39se8"
   },
   "outputs": [],
   "source": [
    "df = pd.read_csv(\"data/train.csv\")\n",
    "test_data = pd.read_csv(\"data/test.csv\")\n",
    "test_ids = deepcopy(test_data.id)"
   ]
  },
  {
   "cell_type": "code",
   "execution_count": 6,
   "id": "7dc6f7f1-bc01-4967-8c76-be56da451316",
   "metadata": {},
   "outputs": [],
   "source": [
    "test_opers = test_data[['oper_type + oper_attr']]"
   ]
  },
  {
   "cell_type": "code",
   "execution_count": 7,
   "id": "d510aba6",
   "metadata": {
    "cellId": "g5jgfw7hmovipa7t7hw9u"
   },
   "outputs": [
    {
     "data": {
      "text/html": [
       "<div>\n",
       "<style scoped>\n",
       "    .dataframe tbody tr th:only-of-type {\n",
       "        vertical-align: middle;\n",
       "    }\n",
       "\n",
       "    .dataframe tbody tr th {\n",
       "        vertical-align: top;\n",
       "    }\n",
       "\n",
       "    .dataframe thead th {\n",
       "        text-align: right;\n",
       "    }\n",
       "</style>\n",
       "<table border=\"1\" class=\"dataframe\">\n",
       "  <thead>\n",
       "    <tr style=\"text-align: right;\">\n",
       "      <th></th>\n",
       "      <th>id</th>\n",
       "      <th>oper_type + oper_attr</th>\n",
       "      <th>index_oper</th>\n",
       "      <th>type</th>\n",
       "      <th>priority</th>\n",
       "      <th>is_privatecategory</th>\n",
       "      <th>class</th>\n",
       "      <th>is_in_yandex</th>\n",
       "      <th>is_return</th>\n",
       "      <th>weight</th>\n",
       "      <th>...</th>\n",
       "      <th>dist_qty_oper_login_1</th>\n",
       "      <th>total_qty_oper_login_1</th>\n",
       "      <th>total_qty_oper_login_0</th>\n",
       "      <th>total_qty_over_index_and_type</th>\n",
       "      <th>total_qty_over_index</th>\n",
       "      <th>is_wrong_sndr_name</th>\n",
       "      <th>is_wrong_rcpn_name</th>\n",
       "      <th>is_wrong_phone_number</th>\n",
       "      <th>is_wrong_address</th>\n",
       "      <th>label</th>\n",
       "    </tr>\n",
       "  </thead>\n",
       "  <tbody>\n",
       "    <tr>\n",
       "      <th>0</th>\n",
       "      <td>6818780</td>\n",
       "      <td>1043_-1</td>\n",
       "      <td>628629.0</td>\n",
       "      <td>Участок</td>\n",
       "      <td>7503.0</td>\n",
       "      <td>N</td>\n",
       "      <td>0.0</td>\n",
       "      <td>Y</td>\n",
       "      <td>N</td>\n",
       "      <td>87.0</td>\n",
       "      <td>...</td>\n",
       "      <td>42.0</td>\n",
       "      <td>720176.0</td>\n",
       "      <td>58950.0</td>\n",
       "      <td>779126.0</td>\n",
       "      <td>8290896.0</td>\n",
       "      <td>0</td>\n",
       "      <td>0</td>\n",
       "      <td>0</td>\n",
       "      <td>0</td>\n",
       "      <td>0</td>\n",
       "    </tr>\n",
       "    <tr>\n",
       "      <th>1</th>\n",
       "      <td>9907176</td>\n",
       "      <td>1023_-1</td>\n",
       "      <td>102976.0</td>\n",
       "      <td>ММПО</td>\n",
       "      <td>7503.0</td>\n",
       "      <td>N</td>\n",
       "      <td>0.0</td>\n",
       "      <td>N</td>\n",
       "      <td>N</td>\n",
       "      <td>107.0</td>\n",
       "      <td>...</td>\n",
       "      <td>914.0</td>\n",
       "      <td>48856658.0</td>\n",
       "      <td>83318932.0</td>\n",
       "      <td>132175590.0</td>\n",
       "      <td>136819803.0</td>\n",
       "      <td>0</td>\n",
       "      <td>0</td>\n",
       "      <td>0</td>\n",
       "      <td>0</td>\n",
       "      <td>0</td>\n",
       "    </tr>\n",
       "    <tr>\n",
       "      <th>2</th>\n",
       "      <td>3304275</td>\n",
       "      <td>1018_-1</td>\n",
       "      <td>620962.0</td>\n",
       "      <td>Цех</td>\n",
       "      <td>7503.0</td>\n",
       "      <td>N</td>\n",
       "      <td>0.0</td>\n",
       "      <td>Y</td>\n",
       "      <td>N</td>\n",
       "      <td>50.0</td>\n",
       "      <td>...</td>\n",
       "      <td>62.0</td>\n",
       "      <td>3246292.0</td>\n",
       "      <td>3233068.0</td>\n",
       "      <td>6479360.0</td>\n",
       "      <td>52708071.0</td>\n",
       "      <td>0</td>\n",
       "      <td>1</td>\n",
       "      <td>0</td>\n",
       "      <td>0</td>\n",
       "      <td>0</td>\n",
       "    </tr>\n",
       "  </tbody>\n",
       "</table>\n",
       "<p>3 rows × 29 columns</p>\n",
       "</div>"
      ],
      "text/plain": [
       "        id oper_type + oper_attr index_oper     type  priority  \\\n",
       "0  6818780               1043_-1   628629.0  Участок    7503.0   \n",
       "1  9907176               1023_-1   102976.0     ММПО    7503.0   \n",
       "2  3304275               1018_-1   620962.0      Цех    7503.0   \n",
       "\n",
       "  is_privatecategory  class is_in_yandex is_return  weight  ...  \\\n",
       "0                  N    0.0            Y         N    87.0  ...   \n",
       "1                  N    0.0            N         N   107.0  ...   \n",
       "2                  N    0.0            Y         N    50.0  ...   \n",
       "\n",
       "   dist_qty_oper_login_1  total_qty_oper_login_1  total_qty_oper_login_0  \\\n",
       "0                   42.0                720176.0                 58950.0   \n",
       "1                  914.0              48856658.0              83318932.0   \n",
       "2                   62.0               3246292.0               3233068.0   \n",
       "\n",
       "   total_qty_over_index_and_type  total_qty_over_index  is_wrong_sndr_name  \\\n",
       "0                       779126.0             8290896.0                   0   \n",
       "1                    132175590.0           136819803.0                   0   \n",
       "2                      6479360.0            52708071.0                   0   \n",
       "\n",
       "  is_wrong_rcpn_name  is_wrong_phone_number  is_wrong_address  label  \n",
       "0                  0                      0                 0      0  \n",
       "1                  0                      0                 0      0  \n",
       "2                  1                      0                 0      0  \n",
       "\n",
       "[3 rows x 29 columns]"
      ]
     },
     "execution_count": 7,
     "metadata": {},
     "output_type": "execute_result"
    }
   ],
   "source": [
    "df.head(3)"
   ]
  },
  {
   "cell_type": "code",
   "execution_count": 8,
   "id": "d9fa8447",
   "metadata": {
    "cellId": "im4u8s833jshl1p8or4fw4"
   },
   "outputs": [
    {
     "data": {
      "text/html": [
       "<div>\n",
       "<style scoped>\n",
       "    .dataframe tbody tr th:only-of-type {\n",
       "        vertical-align: middle;\n",
       "    }\n",
       "\n",
       "    .dataframe tbody tr th {\n",
       "        vertical-align: top;\n",
       "    }\n",
       "\n",
       "    .dataframe thead th {\n",
       "        text-align: right;\n",
       "    }\n",
       "</style>\n",
       "<table border=\"1\" class=\"dataframe\">\n",
       "  <thead>\n",
       "    <tr style=\"text-align: right;\">\n",
       "      <th></th>\n",
       "      <th>id</th>\n",
       "      <th>oper_type + oper_attr</th>\n",
       "      <th>index_oper</th>\n",
       "      <th>type</th>\n",
       "      <th>priority</th>\n",
       "      <th>is_privatecategory</th>\n",
       "      <th>class</th>\n",
       "      <th>is_in_yandex</th>\n",
       "      <th>is_return</th>\n",
       "      <th>weight</th>\n",
       "      <th>...</th>\n",
       "      <th>price_mfi</th>\n",
       "      <th>dist_qty_oper_login_1</th>\n",
       "      <th>total_qty_oper_login_1</th>\n",
       "      <th>total_qty_oper_login_0</th>\n",
       "      <th>total_qty_over_index_and_type</th>\n",
       "      <th>total_qty_over_index</th>\n",
       "      <th>is_wrong_sndr_name</th>\n",
       "      <th>is_wrong_rcpn_name</th>\n",
       "      <th>is_wrong_phone_number</th>\n",
       "      <th>is_wrong_address</th>\n",
       "    </tr>\n",
       "  </thead>\n",
       "  <tbody>\n",
       "    <tr>\n",
       "      <th>0</th>\n",
       "      <td>7815282</td>\n",
       "      <td>8_13</td>\n",
       "      <td>102976.0</td>\n",
       "      <td>ММПО</td>\n",
       "      <td>7503.0</td>\n",
       "      <td>N</td>\n",
       "      <td>0.0</td>\n",
       "      <td>N</td>\n",
       "      <td>N</td>\n",
       "      <td>85.0</td>\n",
       "      <td>...</td>\n",
       "      <td>489.0</td>\n",
       "      <td>972.0</td>\n",
       "      <td>68766046.0</td>\n",
       "      <td>91123247.0</td>\n",
       "      <td>159889293.0</td>\n",
       "      <td>164927295.0</td>\n",
       "      <td>0</td>\n",
       "      <td>0</td>\n",
       "      <td>0</td>\n",
       "      <td>0</td>\n",
       "    </tr>\n",
       "    <tr>\n",
       "      <th>1</th>\n",
       "      <td>8443555</td>\n",
       "      <td>8_2</td>\n",
       "      <td>238753.0</td>\n",
       "      <td>ГОПС</td>\n",
       "      <td>7503.0</td>\n",
       "      <td>N</td>\n",
       "      <td>4.0</td>\n",
       "      <td>Y</td>\n",
       "      <td>N</td>\n",
       "      <td>21.0</td>\n",
       "      <td>...</td>\n",
       "      <td>186.0</td>\n",
       "      <td>2.0</td>\n",
       "      <td>2895.0</td>\n",
       "      <td>1545.0</td>\n",
       "      <td>4440.0</td>\n",
       "      <td>20623.0</td>\n",
       "      <td>0</td>\n",
       "      <td>1</td>\n",
       "      <td>1</td>\n",
       "      <td>0</td>\n",
       "    </tr>\n",
       "    <tr>\n",
       "      <th>2</th>\n",
       "      <td>6352559</td>\n",
       "      <td>1020_-1</td>\n",
       "      <td>618254.0</td>\n",
       "      <td>ГОПС</td>\n",
       "      <td>7503.0</td>\n",
       "      <td>N</td>\n",
       "      <td>4.0</td>\n",
       "      <td>Y</td>\n",
       "      <td>N</td>\n",
       "      <td>388.0</td>\n",
       "      <td>...</td>\n",
       "      <td>500.0</td>\n",
       "      <td>3.0</td>\n",
       "      <td>2751.0</td>\n",
       "      <td>993.0</td>\n",
       "      <td>3744.0</td>\n",
       "      <td>37817.0</td>\n",
       "      <td>0</td>\n",
       "      <td>0</td>\n",
       "      <td>0</td>\n",
       "      <td>0</td>\n",
       "    </tr>\n",
       "  </tbody>\n",
       "</table>\n",
       "<p>3 rows × 28 columns</p>\n",
       "</div>"
      ],
      "text/plain": [
       "        id oper_type + oper_attr index_oper  type  priority  \\\n",
       "0  7815282                  8_13   102976.0  ММПО    7503.0   \n",
       "1  8443555                   8_2   238753.0  ГОПС    7503.0   \n",
       "2  6352559               1020_-1   618254.0  ГОПС    7503.0   \n",
       "\n",
       "  is_privatecategory  class is_in_yandex is_return  weight  ...  price_mfi  \\\n",
       "0                  N    0.0            N         N    85.0  ...      489.0   \n",
       "1                  N    4.0            Y         N    21.0  ...      186.0   \n",
       "2                  N    4.0            Y         N   388.0  ...      500.0   \n",
       "\n",
       "   dist_qty_oper_login_1  total_qty_oper_login_1  total_qty_oper_login_0  \\\n",
       "0                  972.0              68766046.0              91123247.0   \n",
       "1                    2.0                  2895.0                  1545.0   \n",
       "2                    3.0                  2751.0                   993.0   \n",
       "\n",
       "   total_qty_over_index_and_type  total_qty_over_index is_wrong_sndr_name  \\\n",
       "0                    159889293.0           164927295.0                  0   \n",
       "1                         4440.0               20623.0                  0   \n",
       "2                         3744.0               37817.0                  0   \n",
       "\n",
       "   is_wrong_rcpn_name  is_wrong_phone_number  is_wrong_address  \n",
       "0                   0                      0                 0  \n",
       "1                   1                      1                 0  \n",
       "2                   0                      0                 0  \n",
       "\n",
       "[3 rows x 28 columns]"
      ]
     },
     "execution_count": 8,
     "metadata": {},
     "output_type": "execute_result"
    }
   ],
   "source": [
    "test_data.head(3)"
   ]
  },
  {
   "cell_type": "code",
   "execution_count": 9,
   "id": "a361a688",
   "metadata": {
    "cellId": "4srcwdut0terya7mzb8x"
   },
   "outputs": [],
   "source": [
    "top_operators = [obj for obj, count in Counter(test_data['index_oper'].replace(' ', '0').astype(float).astype(int)).most_common()][:10]"
   ]
  },
  {
   "cell_type": "code",
   "execution_count": 10,
   "id": "5e6ac0f4",
   "metadata": {
    "cellId": "y1xj4fwnisdkk897ytj52r"
   },
   "outputs": [],
   "source": [
    "X = df.drop(columns=[\"label\"])\n",
    "y = df.label\n",
    "X_train, X_val, y_train, y_val = train_test_split(X, y, test_size=0.2, random_state=0)\n",
    "\n",
    "# del [[X, df]]\n",
    "# gc.collect()\n",
    "# X=pd.DataFrame()\n",
    "# df=pd.DataFrame()"
   ]
  },
  {
   "cell_type": "code",
   "execution_count": 11,
   "id": "0060c4ef",
   "metadata": {
    "cellId": "vo5cosfp59dkzp608owl"
   },
   "outputs": [],
   "source": [
    "cat_features = [\"type\", \"is_privatecategory\", \"class\", \"is_in_yandex\", \"mailctg\", \"directctg\", \"mailtype\"]\n",
    "\n",
    "def prepare_data(df):    \n",
    "    df.drop(columns=[\"oper_type + oper_attr\"], inplace=True)\n",
    "    \n",
    "    for operator in top_operators:\n",
    "        df[f'is_{operator}_operator'] = df['index_oper'].replace(' ', '0').astype(float).astype(int) == operator\n",
    "    \n",
    "    replace_zeros = ['priority', 'is_privatecategory', 'is_in_yandex', 'mailtype', 'directctg']\n",
    "    for column in replace_zeros:\n",
    "        df[column][df[column] == 0] = df[column].mode()[0]\n",
    "        df[column][df[column] == '0'] = df[column].mode()[0]\n",
    "    \n",
    "    df.priority = 1 * (df.priority == 7503.) + 2 * (df.priority == 7504.) + 3 * (df.priority == 7506.)\n",
    "    \n",
    "    df.index_oper = df.index_oper.replace(' ', '1').astype(float).astype(int)\n",
    "    # df['speed'] = df.total_qty_over_index / df.index_oper\n",
    "    \n",
    "    for cat_feature in cat_features:\n",
    "        df[cat_feature] = df[cat_feature].apply(lambda text: str(text))\n",
    "        \n",
    "    df['goods_count'] = df.name_mfi.apply(lambda name: 0 if name == '0' else len(name.split(',')))\n",
    "        \n",
    "    df.drop(columns=[\"id\", \"name_mfi\"], inplace=True)\n",
    "    df.drop(columns=['mailrank'], inplace=True)\n",
    "    \n",
    "    df.is_return = df.is_return.apply(lambda text: text == 'Y')\n",
    "\n",
    "    return df"
   ]
  },
  {
   "cell_type": "code",
   "execution_count": 12,
   "id": "870a21e4",
   "metadata": {
    "cellId": "60rf4cbfin4kbpksr9kjv"
   },
   "outputs": [],
   "source": [
    "X_train = prepare_data(X_train)\n",
    "X_val = prepare_data(X_val)\n",
    "test_df = prepare_data(test_data)"
   ]
  },
  {
   "cell_type": "code",
   "execution_count": 13,
   "id": "12ce26d2",
   "metadata": {
    "cellId": "ekxuw6dk86njo1itn9da"
   },
   "outputs": [
    {
     "data": {
      "text/html": [
       "<div>\n",
       "<style scoped>\n",
       "    .dataframe tbody tr th:only-of-type {\n",
       "        vertical-align: middle;\n",
       "    }\n",
       "\n",
       "    .dataframe tbody tr th {\n",
       "        vertical-align: top;\n",
       "    }\n",
       "\n",
       "    .dataframe thead th {\n",
       "        text-align: right;\n",
       "    }\n",
       "</style>\n",
       "<table border=\"1\" class=\"dataframe\">\n",
       "  <thead>\n",
       "    <tr style=\"text-align: right;\">\n",
       "      <th></th>\n",
       "      <th>index_oper</th>\n",
       "      <th>type</th>\n",
       "      <th>priority</th>\n",
       "      <th>is_privatecategory</th>\n",
       "      <th>class</th>\n",
       "      <th>is_in_yandex</th>\n",
       "      <th>is_return</th>\n",
       "      <th>weight</th>\n",
       "      <th>mailtype</th>\n",
       "      <th>mailctg</th>\n",
       "      <th>...</th>\n",
       "      <th>is_102971_operator</th>\n",
       "      <th>is_620984_operator</th>\n",
       "      <th>is_102998_operator</th>\n",
       "      <th>is_102968_operator</th>\n",
       "      <th>is_102102_operator</th>\n",
       "      <th>is_102152_operator</th>\n",
       "      <th>is_140980_operator</th>\n",
       "      <th>is_420306_operator</th>\n",
       "      <th>is_200980_operator</th>\n",
       "      <th>goods_count</th>\n",
       "    </tr>\n",
       "  </thead>\n",
       "  <tbody>\n",
       "    <tr>\n",
       "      <th>2766711</th>\n",
       "      <td>394962</td>\n",
       "      <td>Участок</td>\n",
       "      <td>1</td>\n",
       "      <td>N</td>\n",
       "      <td>0.0</td>\n",
       "      <td>Y</td>\n",
       "      <td>False</td>\n",
       "      <td>215.0</td>\n",
       "      <td>5.0</td>\n",
       "      <td>1.0</td>\n",
       "      <td>...</td>\n",
       "      <td>False</td>\n",
       "      <td>False</td>\n",
       "      <td>False</td>\n",
       "      <td>False</td>\n",
       "      <td>False</td>\n",
       "      <td>False</td>\n",
       "      <td>False</td>\n",
       "      <td>False</td>\n",
       "      <td>False</td>\n",
       "      <td>0</td>\n",
       "    </tr>\n",
       "    <tr>\n",
       "      <th>3781936</th>\n",
       "      <td>420302</td>\n",
       "      <td>Цех</td>\n",
       "      <td>1</td>\n",
       "      <td>N</td>\n",
       "      <td>0.0</td>\n",
       "      <td>Y</td>\n",
       "      <td>False</td>\n",
       "      <td>34.0</td>\n",
       "      <td>5.0</td>\n",
       "      <td>1.0</td>\n",
       "      <td>...</td>\n",
       "      <td>False</td>\n",
       "      <td>False</td>\n",
       "      <td>False</td>\n",
       "      <td>False</td>\n",
       "      <td>False</td>\n",
       "      <td>False</td>\n",
       "      <td>False</td>\n",
       "      <td>False</td>\n",
       "      <td>False</td>\n",
       "      <td>1</td>\n",
       "    </tr>\n",
       "    <tr>\n",
       "      <th>3824787</th>\n",
       "      <td>108971</td>\n",
       "      <td>Цех</td>\n",
       "      <td>3</td>\n",
       "      <td>N</td>\n",
       "      <td>0.0</td>\n",
       "      <td>N</td>\n",
       "      <td>False</td>\n",
       "      <td>78.0</td>\n",
       "      <td>5.0</td>\n",
       "      <td>1.0</td>\n",
       "      <td>...</td>\n",
       "      <td>False</td>\n",
       "      <td>False</td>\n",
       "      <td>False</td>\n",
       "      <td>False</td>\n",
       "      <td>False</td>\n",
       "      <td>False</td>\n",
       "      <td>False</td>\n",
       "      <td>False</td>\n",
       "      <td>False</td>\n",
       "      <td>1</td>\n",
       "    </tr>\n",
       "    <tr>\n",
       "      <th>4768159</th>\n",
       "      <td>108978</td>\n",
       "      <td>Участок</td>\n",
       "      <td>3</td>\n",
       "      <td>N</td>\n",
       "      <td>0.0</td>\n",
       "      <td>N</td>\n",
       "      <td>False</td>\n",
       "      <td>14.0</td>\n",
       "      <td>5.0</td>\n",
       "      <td>1.0</td>\n",
       "      <td>...</td>\n",
       "      <td>False</td>\n",
       "      <td>False</td>\n",
       "      <td>False</td>\n",
       "      <td>False</td>\n",
       "      <td>False</td>\n",
       "      <td>False</td>\n",
       "      <td>False</td>\n",
       "      <td>False</td>\n",
       "      <td>False</td>\n",
       "      <td>1</td>\n",
       "    </tr>\n",
       "    <tr>\n",
       "      <th>1873604</th>\n",
       "      <td>690967</td>\n",
       "      <td>Цех</td>\n",
       "      <td>1</td>\n",
       "      <td>N</td>\n",
       "      <td>0.0</td>\n",
       "      <td>Y</td>\n",
       "      <td>False</td>\n",
       "      <td>245.0</td>\n",
       "      <td>5.0</td>\n",
       "      <td>1.0</td>\n",
       "      <td>...</td>\n",
       "      <td>False</td>\n",
       "      <td>False</td>\n",
       "      <td>False</td>\n",
       "      <td>False</td>\n",
       "      <td>False</td>\n",
       "      <td>False</td>\n",
       "      <td>False</td>\n",
       "      <td>False</td>\n",
       "      <td>False</td>\n",
       "      <td>0</td>\n",
       "    </tr>\n",
       "  </tbody>\n",
       "</table>\n",
       "<p>5 rows × 34 columns</p>\n",
       "</div>"
      ],
      "text/plain": [
       "         index_oper     type  priority is_privatecategory class is_in_yandex  \\\n",
       "2766711      394962  Участок         1                  N   0.0            Y   \n",
       "3781936      420302      Цех         1                  N   0.0            Y   \n",
       "3824787      108971      Цех         3                  N   0.0            N   \n",
       "4768159      108978  Участок         3                  N   0.0            N   \n",
       "1873604      690967      Цех         1                  N   0.0            Y   \n",
       "\n",
       "         is_return  weight mailtype mailctg  ... is_102971_operator  \\\n",
       "2766711      False   215.0      5.0     1.0  ...              False   \n",
       "3781936      False    34.0      5.0     1.0  ...              False   \n",
       "3824787      False    78.0      5.0     1.0  ...              False   \n",
       "4768159      False    14.0      5.0     1.0  ...              False   \n",
       "1873604      False   245.0      5.0     1.0  ...              False   \n",
       "\n",
       "         is_620984_operator  is_102998_operator  is_102968_operator  \\\n",
       "2766711               False               False               False   \n",
       "3781936               False               False               False   \n",
       "3824787               False               False               False   \n",
       "4768159               False               False               False   \n",
       "1873604               False               False               False   \n",
       "\n",
       "         is_102102_operator  is_102152_operator  is_140980_operator  \\\n",
       "2766711               False               False               False   \n",
       "3781936               False               False               False   \n",
       "3824787               False               False               False   \n",
       "4768159               False               False               False   \n",
       "1873604               False               False               False   \n",
       "\n",
       "         is_420306_operator  is_200980_operator  goods_count  \n",
       "2766711               False               False            0  \n",
       "3781936               False               False            1  \n",
       "3824787               False               False            1  \n",
       "4768159               False               False            1  \n",
       "1873604               False               False            0  \n",
       "\n",
       "[5 rows x 34 columns]"
      ]
     },
     "execution_count": 13,
     "metadata": {},
     "output_type": "execute_result"
    }
   ],
   "source": [
    "X_train.head()"
   ]
  },
  {
   "cell_type": "code",
   "execution_count": 14,
   "id": "79e1b53e",
   "metadata": {
    "cellId": "eza730cv317hh5qet8yto"
   },
   "outputs": [],
   "source": [
    "X_train.to_csv('data/X_train_prepared.csv', index=False)\n",
    "X_val.to_csv('data/X_val_prepared.csv', index=False)\n",
    "test_df.to_csv('data/test_df_prepared.csv', index=False)"
   ]
  },
  {
   "cell_type": "code",
   "execution_count": 5,
   "id": "2d9d359d",
   "metadata": {
    "cellId": "0e5qkiygp8bhgj52dwazug"
   },
   "outputs": [],
   "source": [
    "cat_features = [\"type\", \"is_privatecategory\", \"class\", \"is_in_yandex\", \"mailctg\", \"directctg\", \"mailtype\"]\n",
    "\n",
    "def to_cat_features(df):\n",
    "    for cat_feature in cat_features:\n",
    "        df[cat_feature] = df[cat_feature].apply(lambda text: str(text))\n",
    "        \n",
    "X_train = pd.read_csv('data/X_train_prepared.csv')\n",
    "y_train = pd.read_csv('data/y_train_prepared.csv')\n",
    "X_val = pd.read_csv('data/X_val_prepared.csv')\n",
    "y_val = pd.read_csv('data/y_val_prepared.csv')\n",
    "test_df = pd.read_csv('data/test_df_prepared.csv')\n",
    "test_ids = pd.read_csv('data/test_ids.csv')\n",
    "\n",
    "to_cat_features(X_train)\n",
    "to_cat_features(X_val)\n",
    "to_cat_features(test_df)"
   ]
  },
  {
   "cell_type": "code",
   "execution_count": 6,
   "id": "f4c9d973",
   "metadata": {
    "cellId": "19c666lnwwtjcirwzzyhpn"
   },
   "outputs": [],
   "source": [
    "model = CatBoostClassifier(random_state=0, max_depth=8, verbose=10, iterations=100, auto_class_weights=\"Balanced\", cat_features=cat_features)"
   ]
  },
  {
   "cell_type": "code",
   "execution_count": 7,
   "id": "9420db07",
   "metadata": {
    "cellId": "zcndk9o5xzr7juqfjv6ve9",
    "execution_id": "aa4befc8-0f99-4817-b9d5-a1473d486c49"
   },
   "outputs": [
    {
     "name": "stdout",
     "output_type": "stream",
     "text": [
      "Learning rate set to 0.5\n",
      "0:\tlearn: 0.3863953\ttotal: 1.89s\tremaining: 3m 6s\n",
      "10:\tlearn: 0.2750081\ttotal: 19.1s\tremaining: 2m 34s\n",
      "20:\tlearn: 0.2699640\ttotal: 35.7s\tremaining: 2m 14s\n",
      "30:\tlearn: 0.2681214\ttotal: 50.7s\tremaining: 1m 52s\n",
      "40:\tlearn: 0.2657576\ttotal: 1m 7s\tremaining: 1m 36s\n",
      "50:\tlearn: 0.2643680\ttotal: 1m 23s\tremaining: 1m 20s\n",
      "60:\tlearn: 0.2630543\ttotal: 1m 40s\tremaining: 1m 4s\n",
      "70:\tlearn: 0.2616516\ttotal: 1m 57s\tremaining: 47.8s\n",
      "80:\tlearn: 0.2605686\ttotal: 2m 13s\tremaining: 31.4s\n",
      "90:\tlearn: 0.2595191\ttotal: 2m 30s\tremaining: 14.8s\n",
      "99:\tlearn: 0.2586633\ttotal: 2m 44s\tremaining: 0us\n"
     ]
    },
    {
     "data": {
      "text/plain": [
       "<catboost.core.CatBoostClassifier at 0x7f7c3a2b7c40>"
      ]
     },
     "execution_count": 7,
     "metadata": {},
     "output_type": "execute_result"
    }
   ],
   "source": [
    "model.fit(X_train, y_train)"
   ]
  },
  {
   "cell_type": "code",
   "execution_count": 8,
   "id": "891b7bf8",
   "metadata": {
    "cellId": "9ez17282jjp77mcjqjdmpk",
    "execution_id": "036d2160-5fe3-451f-9b88-f49c03071721"
   },
   "outputs": [],
   "source": [
    "def score_model(model, X, y, threshold=0.5):  # 0.41 is the best for now\n",
    "    pred = model.predict_proba(X)[:, 1] > threshold\n",
    "    recall = recall_score(y, pred, average=\"macro\")\n",
    "    roc_auc = roc_auc_score(y,  pred, multi_class='ovo')\n",
    "    score = 0.1 * recall + 0.9 * roc_auc\n",
    "    return score"
   ]
  },
  {
   "cell_type": "code",
   "execution_count": 9,
   "id": "666c2fdb",
   "metadata": {
    "cellId": "f3nowgbe75vfetq0dzrh",
    "execution_id": "036d214f-aa1e-4ff0-975f-68e5bc1844bd"
   },
   "outputs": [
    {
     "data": {
      "text/plain": [
       "0.8843310448636955"
      ]
     },
     "execution_count": 9,
     "metadata": {},
     "output_type": "execute_result"
    }
   ],
   "source": [
    "score_model(model, X_val, y_val, 0.41)"
   ]
  },
  {
   "cell_type": "code",
   "execution_count": 10,
   "id": "d7da09f8-eeef-4e3e-a854-9b6124b9d88d",
   "metadata": {},
   "outputs": [],
   "source": [
    "test_preds = (model.predict_proba(test_df)[:, 1] > 0.41).astype(int)"
   ]
  },
  {
   "cell_type": "code",
   "execution_count": 11,
   "id": "8cf55dcb",
   "metadata": {
    "cellId": "r2vuvlz9lfg34g1znui9vk",
    "execution_id": "622a92d5-8c91-4d3e-a239-a9b955859214"
   },
   "outputs": [],
   "source": [
    "submission = pd.DataFrame({'id': test_ids.id, 'label': test_preds})"
   ]
  },
  {
   "cell_type": "code",
   "execution_count": 12,
   "id": "6ee0c153",
   "metadata": {
    "cellId": "ayhhjvvenx8223d6624g6l",
    "execution_id": "0ea7086d-ebe7-4840-a043-949e1335c84c"
   },
   "outputs": [],
   "source": [
    "submission.to_csv(\"submission.csv\", index=False)"
   ]
  },
  {
   "cell_type": "code",
   "execution_count": 13,
   "id": "00e3fa06",
   "metadata": {
    "cellId": "15jqlabgeayfjdt5cx2gda",
    "execution_id": "4eb557e3-d649-42c4-a793-9d606d678e4a"
   },
   "outputs": [
    {
     "data": {
      "text/plain": [
       "0.2046925"
      ]
     },
     "execution_count": 13,
     "metadata": {},
     "output_type": "execute_result"
    }
   ],
   "source": [
    "test_preds.mean()"
   ]
  },
  {
   "cell_type": "code",
   "execution_count": null,
   "id": "c3860378",
   "metadata": {
    "cellId": "utr7pjxhjarq0syrhgikvf"
   },
   "outputs": [],
   "source": []
  },
  {
   "cell_type": "code",
   "execution_count": 14,
   "id": "e9d7361e",
   "metadata": {
    "cellId": "41yi1tnrho2aydq25bza8m"
   },
   "outputs": [
    {
     "data": {
      "text/plain": [
       "[('total_qty_oper_login_1', 16.23057086258367),\n",
       " ('index_oper', 15.873213423932373),\n",
       " ('total_qty_oper_login_0', 13.873488752859357),\n",
       " ('type', 10.402528333661735),\n",
       " ('dist_qty_oper_login_1', 8.013567630482589),\n",
       " ('transport_pay', 5.780142449926358),\n",
       " ('mailctg', 5.6566503771520384),\n",
       " ('total_qty_over_index', 4.820286118555671),\n",
       " ('goods_count', 3.2933030245793575),\n",
       " ('weight', 2.429991703817829),\n",
       " ('total_qty_over_index_and_type', 2.4184710855123166),\n",
       " ('weight_mfi', 1.8647883916842143),\n",
       " ('priority', 1.7607447717553208),\n",
       " ('price_mfi', 1.6070805532669663),\n",
       " ('is_102968_operator', 1.3419936140977904),\n",
       " ('is_wrong_phone_number', 1.2493553981479892),\n",
       " ('is_in_yandex', 0.9850759964551408),\n",
       " ('is_wrong_rcpn_name', 0.8179277050032154),\n",
       " ('is_102976_operator', 0.6177223698145542),\n",
       " ('is_102971_operator', 0.35954805216281643),\n",
       " ('is_620984_operator', 0.19853591193065057),\n",
       " ('directctg', 0.19232668424840557),\n",
       " ('class', 0.15037098658013892),\n",
       " ('is_return', 0.0240172880024046),\n",
       " ('is_wrong_sndr_name', 0.02382534155842386),\n",
       " ('is_wrong_address', 0.008616932690914897),\n",
       " ('is_privatecategory', 0.0028222207894264602),\n",
       " ('postmark', 0.001600663295284051),\n",
       " ('mailtype', 0.0014333554530367829),\n",
       " ('is_102998_operator', 0.0),\n",
       " ('is_102102_operator', 0.0),\n",
       " ('is_102152_operator', 0.0),\n",
       " ('is_140980_operator', 0.0),\n",
       " ('is_420306_operator', 0.0),\n",
       " ('is_200980_operator', 0.0)]"
      ]
     },
     "execution_count": 14,
     "metadata": {},
     "output_type": "execute_result"
    }
   ],
   "source": [
    "sorted(list(zip(X_train.columns, model.feature_importances_)), key = lambda x: -x[1])"
   ]
  },
  {
   "cell_type": "code",
   "execution_count": null,
   "id": "2752254e",
   "metadata": {
    "cellId": "mzvyjbjdqiraemgbuexmfl"
   },
   "outputs": [],
   "source": []
  }
 ],
 "metadata": {
  "kernelspec": {
   "display_name": "Python 3 (ipykernel)",
   "language": "python",
   "name": "python3"
  },
  "language_info": {
   "codemirror_mode": {
    "name": "ipython",
    "version": 3
   },
   "file_extension": ".py",
   "mimetype": "text/x-python",
   "name": "python",
   "nbconvert_exporter": "python",
   "pygments_lexer": "ipython3",
   "version": "3.10.6"
  },
  "notebookId": "ed7dd563-ce4b-46a2-991c-9833419e1943",
  "notebookPath": "solution.ipynb"
 },
 "nbformat": 4,
 "nbformat_minor": 5
}
