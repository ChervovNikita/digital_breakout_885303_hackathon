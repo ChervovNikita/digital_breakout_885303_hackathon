{
 "cells": [
  {
   "cell_type": "code",
   "execution_count": 1,
   "id": "24e08c15",
   "metadata": {
    "cellId": "4ab013t53wnyt2wjl294mf"
   },
   "outputs": [
    {
     "name": "stdout",
     "output_type": "stream",
     "text": [
      "/home/chervovn04/Programming/hackathons/2022/digital_breakout_885303\n"
     ]
    }
   ],
   "source": [
    "import pandas as pd\n",
    "import numpy as np\n",
    "import seaborn as sns\n",
    "import matplotlib.pyplot as plt\n",
    "from sklearn.model_selection import train_test_split, GridSearchCV\n",
    "from sklearn.ensemble import RandomForestClassifier\n",
    "from sklearn.metrics import recall_score, roc_auc_score\n",
    "from sklearn.metrics import confusion_matrix\n",
    "from sklearn.metrics import recall_score, roc_auc_score, make_scorer\n",
    "\n",
    "from sklearn.linear_model import LogisticRegression\n",
    "from catboost import CatBoostClassifier\n",
    "\n",
    "from functools import reduce\n",
    "from copy import deepcopy\n",
    "import gc\n",
    "from collections import Counter\n",
    "\n",
    "%matplotlib inline\n",
    "\n",
    "import warnings\n",
    "warnings.filterwarnings('ignore') \n",
    "\n",
    "%cd ../"
   ]
  },
  {
   "cell_type": "code",
   "execution_count": 2,
   "id": "cd69c8ad",
   "metadata": {
    "cellId": "6m5zertaq0op1k3d39se8"
   },
   "outputs": [],
   "source": [
    "df = pd.read_csv(\"data/train.csv\")\n",
    "test_data = pd.read_csv(\"data/test.csv\")\n",
    "test_ids = deepcopy(test_data.id)\n",
    "\n",
    "X = df.drop(columns=[\"label\"])\n",
    "y = df.label\n",
    "X_train, X_val, y_train, y_val = train_test_split(X, y, test_size=0.2, random_state=0)"
   ]
  },
  {
   "cell_type": "code",
   "execution_count": 3,
   "id": "45c351eb-9fab-44b5-b6cd-e55a2488cf36",
   "metadata": {},
   "outputs": [],
   "source": [
    "top_operators = [obj for obj, count in Counter(test_data['index_oper'].replace(' ', '0').astype(float).astype(int)).most_common()][:10]"
   ]
  },
  {
   "cell_type": "code",
   "execution_count": 5,
   "id": "0060c4ef",
   "metadata": {
    "cellId": "vo5cosfp59dkzp608owl"
   },
   "outputs": [],
   "source": [
    "useless = []\n",
    "cat_features = [\"type\", \"is_privatecategory\", \"class\", \"is_in_yandex\", \"mailctg\", \"directctg\", \"mailtype\"]\n",
    "cat_features = list(set(cat_features) - set(useless))\n",
    "\n",
    "def prepare_data(df):\n",
    "    \n",
    "    oper_type, oper_attr = zip(*df['oper_type + oper_attr'].map(lambda x: x.split('_')))\n",
    "    \n",
    "    df['is_negative_oper_attr'] = pd.Series(oper_attr) == '-1'\n",
    "    df['specialization_ratio'] = df.total_qty_over_index_and_type / df.total_qty_over_index.clip(lower=1)\n",
    "    \n",
    "    for operator in top_operators:\n",
    "        df[f'is_{operator}_operator'] = df['index_oper'].replace(' ', '0').astype(float).astype(int) == operator\n",
    "    \n",
    "    replace_zeros = ['priority', 'is_privatecategory', 'is_in_yandex', 'mailtype', 'directctg']\n",
    "    for column in replace_zeros:\n",
    "        df[column][df[column] == 0] = df[column].mode()[0]\n",
    "        df[column][df[column] == '0'] = df[column].mode()[0]\n",
    "    \n",
    "    df.priority = 1 * (df.priority == 7503.) + 2 * (df.priority == 7504.) + 3 * (df.priority == 7506.)\n",
    "    \n",
    "    df.index_oper = df.index_oper.replace(' ', '0').astype(float).astype(int)\n",
    "    \n",
    "    for cat_feature in cat_features:\n",
    "        df[cat_feature] = df[cat_feature].apply(lambda text: str(text))\n",
    "        \n",
    "    df['name_mfi_count'] = df.name_mfi.apply(lambda name: 0 if name == '0' else len(name.split(',')))\n",
    "    \n",
    "    df.is_return = df.is_return.apply(lambda text: text == 'Y')\n",
    "        \n",
    "    df.drop(columns=[\"oper_type + oper_attr\"], inplace=True)\n",
    "    df.drop(columns=[\"id\", \"name_mfi\"], inplace=True)\n",
    "    df.drop(columns=['mailrank'], inplace=True)\n",
    "    df.drop(columns=useless, inplace=True, errors='ignore')\n",
    "    \n",
    "    return df"
   ]
  },
  {
   "cell_type": "code",
   "execution_count": 6,
   "id": "870a21e4",
   "metadata": {
    "cellId": "60rf4cbfin4kbpksr9kjv"
   },
   "outputs": [],
   "source": [
    "X_train = prepare_data(X_train)\n",
    "X_val = prepare_data(X_val)\n",
    "test_df = prepare_data(test_data)"
   ]
  },
  {
   "cell_type": "code",
   "execution_count": 7,
   "id": "79e1b53e",
   "metadata": {
    "cellId": "eza730cv317hh5qet8yto"
   },
   "outputs": [],
   "source": [
    "X_train.to_csv('data/X_train_prepared.csv', index=False)\n",
    "X_val.to_csv('data/X_val_prepared.csv', index=False)\n",
    "y_train.to_csv('data/y_train_prepared.csv', index=False)\n",
    "y_val.to_csv('data/y_val_prepared.csv', index=False)\n",
    "test_df.to_csv('data/test_df_prepared.csv', index=False)\n",
    "y_train.to_csv('data/y_train_prepared.csv', index=False)\n",
    "y_val.to_csv('data/y_val_prepared.csv', index=False)"
   ]
  },
  {
   "cell_type": "code",
   "execution_count": null,
   "id": "887b5a7e-2155-4b49-956c-7a0769df52e2",
   "metadata": {},
   "outputs": [],
   "source": []
  },
  {
   "cell_type": "code",
   "execution_count": null,
   "id": "f415631c-dc46-4ace-8fcb-7472ae78488b",
   "metadata": {},
   "outputs": [],
   "source": []
  },
  {
   "cell_type": "code",
   "execution_count": 2,
   "id": "2d9d359d",
   "metadata": {
    "cellId": "0e5qkiygp8bhgj52dwazug"
   },
   "outputs": [],
   "source": [
    "useless = []\n",
    "cat_features = [\"type\", \"is_privatecategory\", \"class\", \"is_in_yandex\", \"mailctg\", \"directctg\", \"mailtype\"]\n",
    "cat_features = list(set(cat_features) - set(useless))\n",
    "\n",
    "cat_features = list(set(cat_features) - set(useless))\n",
    "def to_cat_features(df):\n",
    "    for cat_feature in cat_features:\n",
    "        df[cat_feature] = df[cat_feature].apply(lambda text: str(text))\n",
    "        \n",
    "X_train = pd.read_csv('data/X_train_prepared.csv')\n",
    "y_train = pd.read_csv('data/y_train_prepared.csv')\n",
    "X_val = pd.read_csv('data/X_val_prepared.csv')\n",
    "y_val = pd.read_csv('data/y_val_prepared.csv')\n",
    "test_df = pd.read_csv('data/test_df_prepared.csv')\n",
    "test_ids = pd.read_csv('data/test_ids.csv')\n",
    "\n",
    "\n",
    "to_cat_features(X_train)\n",
    "to_cat_features(X_val)\n",
    "to_cat_features(test_df)"
   ]
  },
  {
   "cell_type": "code",
   "execution_count": 3,
   "id": "f4c9d973",
   "metadata": {
    "cellId": "19c666lnwwtjcirwzzyhpn"
   },
   "outputs": [],
   "source": [
    "model = CatBoostClassifier(random_state=0, max_depth=8, verbose=10, iterations=100, auto_class_weights=\"Balanced\", cat_features=cat_features)"
   ]
  },
  {
   "cell_type": "code",
   "execution_count": 4,
   "id": "9420db07",
   "metadata": {
    "cellId": "zcndk9o5xzr7juqfjv6ve9",
    "execution_id": "aa4befc8-0f99-4817-b9d5-a1473d486c49"
   },
   "outputs": [
    {
     "name": "stdout",
     "output_type": "stream",
     "text": [
      "Learning rate set to 0.5\n",
      "0:\tlearn: 0.3829357\ttotal: 2.07s\tremaining: 3m 25s\n",
      "10:\tlearn: 0.2754711\ttotal: 19.4s\tremaining: 2m 37s\n",
      "20:\tlearn: 0.2693772\ttotal: 36.6s\tremaining: 2m 17s\n",
      "30:\tlearn: 0.2672621\ttotal: 52.8s\tremaining: 1m 57s\n",
      "40:\tlearn: 0.2650067\ttotal: 1m 9s\tremaining: 1m 40s\n",
      "50:\tlearn: 0.2630939\ttotal: 1m 26s\tremaining: 1m 23s\n",
      "60:\tlearn: 0.2616673\ttotal: 1m 44s\tremaining: 1m 7s\n",
      "70:\tlearn: 0.2603776\ttotal: 2m 2s\tremaining: 50s\n",
      "80:\tlearn: 0.2591975\ttotal: 2m 19s\tremaining: 32.8s\n",
      "90:\tlearn: 0.2581488\ttotal: 2m 37s\tremaining: 15.6s\n",
      "99:\tlearn: 0.2573083\ttotal: 2m 53s\tremaining: 0us\n"
     ]
    },
    {
     "data": {
      "text/plain": [
       "<catboost.core.CatBoostClassifier at 0x7f7e979abd60>"
      ]
     },
     "execution_count": 4,
     "metadata": {},
     "output_type": "execute_result"
    }
   ],
   "source": [
    "model.fit(X_train, y_train)"
   ]
  },
  {
   "cell_type": "code",
   "execution_count": 5,
   "id": "891b7bf8",
   "metadata": {
    "cellId": "9ez17282jjp77mcjqjdmpk",
    "execution_id": "036d2160-5fe3-451f-9b88-f49c03071721"
   },
   "outputs": [],
   "source": [
    "def score_model(model, X, y, threshold=0.5):  # 0.225 is the best for now\n",
    "    pred = model.predict_proba(X)[:, 1] > threshold\n",
    "    recall = recall_score(y, pred, average=\"macro\")\n",
    "    roc_auc = roc_auc_score(y,  pred, multi_class='ovo')\n",
    "    score = 0.1 * recall + 0.9 * roc_auc\n",
    "    return score"
   ]
  },
  {
   "cell_type": "code",
   "execution_count": 6,
   "id": "1fbb1716-f776-41e2-a4d9-4ba19a06b296",
   "metadata": {},
   "outputs": [
    {
     "data": {
      "text/plain": [
       "0.883223911627167"
      ]
     },
     "execution_count": 6,
     "metadata": {},
     "output_type": "execute_result"
    }
   ],
   "source": [
    "score_model(model, X_val, y_val, 0.35)"
   ]
  },
  {
   "cell_type": "code",
   "execution_count": 8,
   "id": "a60bec87-560e-4ebf-ae15-7c7a52e161cb",
   "metadata": {},
   "outputs": [
    {
     "data": {
      "text/plain": [
       "0.887055985158118"
      ]
     },
     "execution_count": 8,
     "metadata": {},
     "output_type": "execute_result"
    }
   ],
   "source": [
    "score_model(model, X_train, y_train, 0.35) "
   ]
  },
  {
   "cell_type": "code",
   "execution_count": 9,
   "id": "2c83d376-e17c-40d7-aaef-79c2aca8e880",
   "metadata": {},
   "outputs": [
    {
     "data": {
      "text/plain": [
       "[('total_qty_oper_login_1', 16.182123567702078),\n",
       " ('type', 14.168856594329933),\n",
       " ('specialization_ratio', 13.409770563616348),\n",
       " ('total_qty_oper_login_0', 9.384602898303886),\n",
       " ('dist_qty_oper_login_1', 8.847208304876755),\n",
       " ('index_oper', 6.545243746605591),\n",
       " ('transport_pay', 6.053554418700786),\n",
       " ('mailctg', 4.479989715935074),\n",
       " ('total_qty_over_index', 3.0680351163350474),\n",
       " ('price_mfi', 2.5509365538777593),\n",
       " ('is_in_yandex', 2.5179956597393716),\n",
       " ('weight', 2.4313147949509997),\n",
       " ('is_wrong_phone_number', 1.791369119902237),\n",
       " ('total_qty_over_index_and_type', 1.7682210561334746),\n",
       " ('name_mfi_count', 1.7123867400897255),\n",
       " ('weight_mfi', 1.4147060334822652),\n",
       " ('priority', 1.1655472380681304),\n",
       " ('is_102968_operator', 1.1261252858319184),\n",
       " ('is_wrong_rcpn_name', 0.6839804080500996),\n",
       " ('is_102976_operator', 0.312395991887884),\n",
       " ('class', 0.1556466397739297),\n",
       " ('directctg', 0.15067115782810034),\n",
       " ('is_negative_oper_attr', 0.024972773308771547),\n",
       " ('is_return', 0.016733552602785147),\n",
       " ('is_wrong_address', 0.011712471254338542),\n",
       " ('is_102998_operator', 0.00974279370367209),\n",
       " ('is_wrong_sndr_name', 0.008786298746110003),\n",
       " ('mailtype', 0.0027959019798945313),\n",
       " ('is_privatecategory', 0.002331367490410287),\n",
       " ('postmark', 0.002243234892626682),\n",
       " ('is_102971_operator', 0.0),\n",
       " ('is_620984_operator', 0.0),\n",
       " ('is_102102_operator', 0.0),\n",
       " ('is_102152_operator', 0.0),\n",
       " ('is_140980_operator', 0.0),\n",
       " ('is_420306_operator', 0.0),\n",
       " ('is_200980_operator', 0.0)]"
      ]
     },
     "execution_count": 9,
     "metadata": {},
     "output_type": "execute_result"
    }
   ],
   "source": [
    "sorted(list(zip(X_train.columns, model.feature_importances_)), key = lambda x: -x[1])"
   ]
  },
  {
   "cell_type": "code",
   "execution_count": null,
   "id": "cc1ed26d-fa23-413a-a726-0ee47f6540d0",
   "metadata": {},
   "outputs": [],
   "source": []
  },
  {
   "cell_type": "code",
   "execution_count": null,
   "id": "9372e9a7-1ee8-42bd-b041-23d3e43444e9",
   "metadata": {},
   "outputs": [],
   "source": []
  },
  {
   "cell_type": "code",
   "execution_count": 10,
   "id": "d7da09f8-eeef-4e3e-a854-9b6124b9d88d",
   "metadata": {},
   "outputs": [],
   "source": [
    "test_preds = (model.predict_proba(test_df)[:, 1] > 0.35).astype(int)\n",
    "submission = pd.DataFrame({'id': test_ids.id, 'label': test_preds})\n",
    "submission.to_csv(\"submission.csv\", index=False)"
   ]
  },
  {
   "cell_type": "code",
   "execution_count": null,
   "id": "43f4c5bc-ad71-43ca-aa34-b52ca392f7fe",
   "metadata": {},
   "outputs": [],
   "source": []
  },
  {
   "cell_type": "code",
   "execution_count": null,
   "id": "00bc9ed2-4167-4836-ba33-1622f228512d",
   "metadata": {},
   "outputs": [],
   "source": []
  },
  {
   "cell_type": "code",
   "execution_count": 5,
   "id": "7149bc91-97a8-4c00-91d6-4340a595f53a",
   "metadata": {},
   "outputs": [],
   "source": [
    "unrounded_sub = pd.read_csv('submission.csv') \n",
    "sub = unrounded_sub\n",
    "sub.label = (unrounded_sub.label > 0.225).astype(int) \n",
    "sub.to_csv('submission_rounded.csv', index=False)"
   ]
  },
  {
   "cell_type": "code",
   "execution_count": 6,
   "id": "f6abfc32-9f64-4d88-8463-40f3f28ed9de",
   "metadata": {},
   "outputs": [
    {
     "data": {
      "text/plain": [
       "0.23711925"
      ]
     },
     "execution_count": 6,
     "metadata": {},
     "output_type": "execute_result"
    }
   ],
   "source": [
    "sub.label.mean()"
   ]
  },
  {
   "cell_type": "code",
   "execution_count": null,
   "id": "40b3a893-b111-4d0e-8d9e-e62e7a2fc62f",
   "metadata": {},
   "outputs": [],
   "source": []
  }
 ],
 "metadata": {
  "kernelspec": {
   "display_name": "Python 3 (ipykernel)",
   "language": "python",
   "name": "python3"
  },
  "language_info": {
   "codemirror_mode": {
    "name": "ipython",
    "version": 3
   },
   "file_extension": ".py",
   "mimetype": "text/x-python",
   "name": "python",
   "nbconvert_exporter": "python",
   "pygments_lexer": "ipython3",
   "version": "3.10.6"
  },
  "notebookId": "ed7dd563-ce4b-46a2-991c-9833419e1943",
  "notebookPath": "solution.ipynb"
 },
 "nbformat": 4,
 "nbformat_minor": 5
}
