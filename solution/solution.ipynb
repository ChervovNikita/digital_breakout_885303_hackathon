{
 "cells": [
  {
   "cell_type": "code",
   "execution_count": 1,
   "id": "24e08c15",
   "metadata": {
    "cellId": "4ab013t53wnyt2wjl294mf"
   },
   "outputs": [
    {
     "name": "stdout",
     "output_type": "stream",
     "text": [
      "/home/chervovn04/Programming/hackathons/2022/digital_breakout_885303\n"
     ]
    }
   ],
   "source": [
    "import pandas as pd\n",
    "import numpy as np\n",
    "import seaborn as sns\n",
    "import matplotlib.pyplot as plt\n",
    "from sklearn.model_selection import train_test_split, GridSearchCV\n",
    "from sklearn.ensemble import RandomForestClassifier\n",
    "from sklearn.metrics import recall_score, roc_auc_score\n",
    "from sklearn.metrics import confusion_matrix\n",
    "from sklearn.metrics import recall_score, roc_auc_score, make_scorer\n",
    "\n",
    "from sklearn.linear_model import LogisticRegression\n",
    "from catboost import CatBoostClassifier\n",
    "\n",
    "from tqdm import tqdm\n",
    "from functools import reduce\n",
    "from copy import deepcopy\n",
    "import gc\n",
    "from collections import Counter\n",
    "\n",
    "%matplotlib inline\n",
    "\n",
    "import warnings\n",
    "warnings.filterwarnings('ignore') \n",
    "\n",
    "%cd ../"
   ]
  },
  {
   "cell_type": "code",
   "execution_count": 2,
   "id": "8c4a416e-102b-4cfe-9d77-c7cdcbefa1a4",
   "metadata": {},
   "outputs": [],
   "source": [
    "def delete_double_spaces(nm):\n",
    "    new_nm = ''\n",
    "    for char in nm:\n",
    "        if char != ' ' or (len(new_nm) and new_nm[-1] != ' '):\n",
    "            new_nm += char\n",
    "    return new_nm.strip()\n",
    "\n",
    "\n",
    "def label_process(nm):\n",
    "    nm = nm.lower()\n",
    "    new_nm = ''\n",
    "    balance = 0\n",
    "    for char in nm:\n",
    "        if char in '({[':\n",
    "            balance += 1\n",
    "        elif char in ')}]':\n",
    "            balance = max(0, balance - 1)\n",
    "        elif balance == 0:\n",
    "            new_nm += char\n",
    "    nm = new_nm\n",
    "    nm = delete_double_spaces(nm)\n",
    "    return nm"
   ]
  },
  {
   "cell_type": "code",
   "execution_count": 3,
   "id": "d9f9e41e-cf7b-4cec-8618-147199361d0f",
   "metadata": {},
   "outputs": [],
   "source": [
    "df = pd.read_csv(\"data/train.csv\")\n",
    "test_data = pd.read_csv(\"data/test.csv\")\n",
    "test_ids = deepcopy(test_data.id)"
   ]
  },
  {
   "cell_type": "code",
   "execution_count": 4,
   "id": "b4d7f54e-e030-41aa-ade3-4e034b41655c",
   "metadata": {},
   "outputs": [],
   "source": [
    "df['processed_name'] = df.name_mfi.apply(label_process)\n",
    "test_data['processed_name'] = test_data.name_mfi.apply(label_process)"
   ]
  },
  {
   "cell_type": "code",
   "execution_count": 5,
   "id": "66c4df56-6581-4255-a7bb-fc6f194db6b0",
   "metadata": {},
   "outputs": [],
   "source": [
    "df['item_hash'] = df['name_mfi'].apply(hash) ^ df.weight_mfi.apply(lambda x: hash(str(x))) ^ df.weight.apply(lambda x: hash(str(x))) ^ \\\n",
    "    df.transport_pay.apply(lambda x: hash(str(x)))\n",
    "test_data['item_hash'] = test_data['item_hash'] = test_data['name_mfi'].apply(hash) ^ test_data.weight_mfi.apply(lambda x: hash(str(x))) ^ test_data.weight.apply(lambda x: hash(str(x))) ^ \\\n",
    "    test_data.transport_pay.apply(lambda x: hash(str(x)))\n",
    "\n",
    "df['oper_item_hash'] = df.index_oper.apply(lambda x: hash(str(x))) ^ df.item_hash\n",
    "test_data['oper_item_hash'] = test_data.index_oper.apply(lambda x: hash(str(x))) ^ test_data.item_hash\n",
    "\n",
    "df['oper_characteristics_hash'] = df.dist_qty_oper_login_1.apply(lambda x: hash(str(x))) ^ df.total_qty_oper_login_1.apply(lambda x: hash(str(x))) ^ df.total_qty_oper_login_0.apply(lambda x: hash(str(x))) ^ \\\n",
    "df.total_qty_over_index_and_type.apply(lambda x: hash(str(x))) ^ df.total_qty_over_index.apply(lambda x: hash(str(x)))\n",
    "test_data['oper_characteristics_hash'] = test_data.dist_qty_oper_login_1.apply(lambda x: hash(str(x))) ^ test_data.total_qty_oper_login_1.apply(lambda x: hash(str(x))) ^ test_data.total_qty_oper_login_0.apply(lambda x: hash(str(x))) ^ \\\n",
    "test_data.total_qty_over_index_and_type.apply(lambda x: hash(str(x))) ^ test_data.total_qty_over_index.apply(lambda x: hash(str(x)))"
   ]
  },
  {
   "cell_type": "code",
   "execution_count": 6,
   "id": "a3effffa-b670-41fe-9f69-1659ef5b2a65",
   "metadata": {},
   "outputs": [],
   "source": [
    "hash_counter = Counter(pd.concat([df.item_hash, test_data.item_hash], ignore_index=True))\n",
    "oper_item_hash_counter = Counter(pd.concat([df.oper_item_hash, test_data.oper_item_hash], ignore_index=True))\n",
    "name_counter = Counter(pd.concat([df.processed_name, test_data.processed_name], ignore_index=True))\n",
    "charact_counter = Counter(pd.concat([df.oper_characteristics_hash, test_data.oper_characteristics_hash], ignore_index=True))"
   ]
  },
  {
   "cell_type": "code",
   "execution_count": 7,
   "id": "9f1505cf-417a-4b0e-81bd-25087d8d7d7b",
   "metadata": {},
   "outputs": [],
   "source": [
    "id_hash = pd.concat([df[['id', 'item_hash']], test_data[['id', 'item_hash']]], ignore_index=True)\n",
    "id_hash = id_hash.groupby('item_hash').agg(max).rename(columns={'id': 'last_id'})"
   ]
  },
  {
   "cell_type": "code",
   "execution_count": 8,
   "id": "e6b3d52b-7694-4ff0-b175-daaa96e31887",
   "metadata": {},
   "outputs": [],
   "source": [
    "df = df.join(id_hash, on='item_hash')\n",
    "test_data = test_data.join(id_hash, on='item_hash')"
   ]
  },
  {
   "cell_type": "code",
   "execution_count": 9,
   "id": "38040113-7975-48b7-8c85-b36610844b0f",
   "metadata": {},
   "outputs": [],
   "source": [
    "X = df.drop(columns=[\"label\"])\n",
    "y = df.label\n",
    "X_train, X_val, y_train, y_val = train_test_split(X, y, test_size=0.2, random_state=0)"
   ]
  },
  {
   "cell_type": "code",
   "execution_count": 10,
   "id": "45c351eb-9fab-44b5-b6cd-e55a2488cf36",
   "metadata": {},
   "outputs": [],
   "source": [
    "top_operators = [obj for obj, count in Counter(test_data['index_oper'].replace(' ', '0').astype(float).astype(int)).most_common()][:10]"
   ]
  },
  {
   "cell_type": "code",
   "execution_count": 11,
   "id": "0060c4ef",
   "metadata": {
    "cellId": "vo5cosfp59dkzp608owl"
   },
   "outputs": [],
   "source": [
    "useless = []\n",
    "cat_features = [\"type\", \"is_privatecategory\", \"class\", \"is_in_yandex\", \"mailctg\", \"directctg\", \"mailtype\"]\n",
    "cat_features = list(set(cat_features) - set(useless))\n",
    "\n",
    "def prepare_data(df):\n",
    "    oper_type, oper_attr = zip(*df['oper_type + oper_attr'].map(lambda x: x.split('_')))\n",
    "    \n",
    "    # df['is_negative_oper_attr'] = pd.Series(oper_attr) == '-1'\n",
    "    df['specialization_ratio'] = df.total_qty_over_index_and_type / df.total_qty_over_index.clip(lower=1)\n",
    "    df['total_over_person'] = df.total_qty_over_index / df.dist_qty_oper_login_1.clip(lower=1)\n",
    "    df['unknown_oper_ratio'] = df.total_qty_oper_login_0 / df.total_qty_oper_login_1.clip(lower=1)\n",
    "    \n",
    "    df['same_hash'] = df.item_hash.apply(lambda h: hash_counter[h])\n",
    "    df['same_name'] = df.processed_name.apply(lambda name: name_counter[name])\n",
    "    df['same_oper_item_hash'] = df.oper_item_hash.apply(lambda h: oper_item_hash_counter[h])\n",
    "    df['same_characteristics_hash'] = df.oper_characteristics_hash.apply(lambda h: charact_counter[h])\n",
    "    \n",
    "    df['name_mfi_count'] = df.name_mfi.apply(lambda name: 0 if name == '0' else len(name.split(',')))\n",
    "    df['name_mfi_len'] = df.name_mfi.apply(len)\n",
    "    \n",
    "    df['till_end'] = df.last_id - df.id\n",
    "    \n",
    "    for operator in top_operators:\n",
    "        df[f'is_{operator}_operator'] = df['index_oper'].replace(' ', '0').astype(float).astype(int) == operator\n",
    "    \n",
    "    replace_zeros = ['priority', 'is_privatecategory', 'is_in_yandex', 'mailtype', 'directctg']\n",
    "    for column in replace_zeros:\n",
    "        df[column][df[column] == 0] = df[column].mode()[0]\n",
    "        df[column][df[column] == '0'] = df[column].mode()[0]\n",
    "    \n",
    "    df.priority = 1 * (df.priority == 7503.) + 2 * (df.priority == 7504.) + 3 * (df.priority == 7506.)\n",
    "    \n",
    "    df.index_oper = df.index_oper.replace(' ', '0').astype(float).astype(int)\n",
    "    \n",
    "    for cat_feature in cat_features:\n",
    "        df[cat_feature] = df[cat_feature].apply(lambda text: str(text))\n",
    "            \n",
    "    df.is_return = df.is_return.apply(lambda text: text == 'Y')\n",
    "        \n",
    "    df.drop(columns=[\"oper_type + oper_attr\"], inplace=True)\n",
    "    df.drop(columns=[\"name_mfi\", \"item_hash\", \"processed_name\", \"oper_item_hash\", \"oper_characteristics_hash\"], inplace=True)\n",
    "    df.drop(columns=['mailrank'], inplace=True)\n",
    "    df.drop(columns=useless, inplace=True, errors='ignore')\n",
    "    \n",
    "    return df"
   ]
  },
  {
   "cell_type": "code",
   "execution_count": 12,
   "id": "870a21e4",
   "metadata": {
    "cellId": "60rf4cbfin4kbpksr9kjv"
   },
   "outputs": [],
   "source": [
    "# X_train = prepare_data(X_train)\n",
    "# X_val = prepare_data(X_val)\n",
    "X = prepare_data(X)\n",
    "test_df = prepare_data(test_data)"
   ]
  },
  {
   "cell_type": "code",
   "execution_count": 13,
   "id": "79e1b53e",
   "metadata": {
    "cellId": "eza730cv317hh5qet8yto"
   },
   "outputs": [],
   "source": [
    "# X_train.to_csv('data/X_train_prepared.csv', index=False)\n",
    "# X_val.to_csv('data/X_val_prepared.csv', index=False)\n",
    "# y_train.to_csv('data/y_train_prepared.csv', index=False)\n",
    "# y_val.to_csv('data/y_val_prepared.csv', index=False)\n",
    "X.to_csv('data/X_prepared.csv', index=False)\n",
    "\n",
    "test_df.to_csv('data/test_df_prepared.csv', index=False)"
   ]
  },
  {
   "cell_type": "code",
   "execution_count": null,
   "id": "7ecaf637-0089-43dc-96d1-34a83c2b9b24",
   "metadata": {},
   "outputs": [],
   "source": []
  },
  {
   "cell_type": "code",
   "execution_count": null,
   "id": "2d9d359d",
   "metadata": {
    "cellId": "0e5qkiygp8bhgj52dwazug"
   },
   "outputs": [],
   "source": [
    "useless = []\n",
    "cat_features = [\"type\", \"is_privatecategory\", \"class\", \"is_in_yandex\", \"mailctg\", \"directctg\", \"mailtype\"]\n",
    "cat_features = list(set(cat_features) - set(useless))\n",
    "\n",
    "cat_features = list(set(cat_features) - set(useless))\n",
    "def to_cat_features(df):\n",
    "    for cat_feature in cat_features:\n",
    "        df[cat_feature] = df[cat_feature].apply(lambda text: str(text))\n",
    "        \n",
    "X_train = pd.read_csv('data/X_train_prepared.csv')\n",
    "y_train = pd.read_csv('data/y_train_prepared.csv')\n",
    "X_val = pd.read_csv('data/X_val_prepared.csv')\n",
    "y_val = pd.read_csv('data/y_val_prepared.csv')\n",
    "test_df = pd.read_csv('data/test_df_prepared.csv')\n",
    "test_ids = pd.read_csv('data/test_ids.csv')\n",
    "\n",
    "# X_train = pd.read_csv('data/X_prepared.csv') \n",
    "# y_train = pd.read_csv('data/y_prepared.csv') \n",
    "# test_df = pd.read_csv('data/test_df_prepared.csv')\n",
    "# test_ids = pd.read_csv('data/test_ids.csv')\n",
    "\n",
    "\n",
    "to_cat_features(X_train)\n",
    "to_cat_features(X_val)\n",
    "to_cat_features(test_df)"
   ]
  },
  {
   "cell_type": "code",
   "execution_count": null,
   "id": "f4c9d973",
   "metadata": {
    "cellId": "19c666lnwwtjcirwzzyhpn"
   },
   "outputs": [],
   "source": [
    "model = CatBoostClassifier(random_state=0, max_depth=8, verbose=10, iterations=100, auto_class_weights=\"Balanced\", cat_features=cat_features)"
   ]
  },
  {
   "cell_type": "code",
   "execution_count": null,
   "id": "9420db07",
   "metadata": {
    "cellId": "zcndk9o5xzr7juqfjv6ve9",
    "execution_id": "aa4befc8-0f99-4817-b9d5-a1473d486c49"
   },
   "outputs": [
    {
     "name": "stdout",
     "output_type": "stream",
     "text": [
      "Learning rate set to 0.5\n",
      "0:\tlearn: 0.3566742\ttotal: 2.06s\tremaining: 3m 24s\n",
      "10:\tlearn: 0.2360138\ttotal: 19.9s\tremaining: 2m 41s\n",
      "20:\tlearn: 0.2286112\ttotal: 39.8s\tremaining: 2m 29s\n",
      "30:\tlearn: 0.2251070\ttotal: 1m 1s\tremaining: 2m 16s\n",
      "40:\tlearn: 0.2219982\ttotal: 1m 20s\tremaining: 1m 55s\n",
      "50:\tlearn: 0.2196130\ttotal: 1m 39s\tremaining: 1m 35s\n",
      "60:\tlearn: 0.2172634\ttotal: 1m 58s\tremaining: 1m 15s\n",
      "70:\tlearn: 0.2158655\ttotal: 2m 17s\tremaining: 56.2s\n",
      "80:\tlearn: 0.2142544\ttotal: 2m 36s\tremaining: 36.7s\n",
      "90:\tlearn: 0.2126560\ttotal: 2m 55s\tremaining: 17.4s\n",
      "99:\tlearn: 0.2115454\ttotal: 3m 12s\tremaining: 0us\n"
     ]
    },
    {
     "data": {
      "text/plain": [
       "<catboost.core.CatBoostClassifier at 0x7f5e57276d10>"
      ]
     },
     "execution_count": 4,
     "metadata": {},
     "output_type": "execute_result"
    }
   ],
   "source": [
    "model.fit(X_train, y_train)"
   ]
  },
  {
   "cell_type": "code",
   "execution_count": null,
   "id": "891b7bf8",
   "metadata": {
    "cellId": "9ez17282jjp77mcjqjdmpk",
    "execution_id": "036d2160-5fe3-451f-9b88-f49c03071721"
   },
   "outputs": [],
   "source": [
    "def score_model(model, X, y, threshold=0.5):  # 0.225 is the best for now\n",
    "    pred = model.predict_proba(X)[:, 1] > threshold\n",
    "    recall = recall_score(y, pred, average=\"macro\")\n",
    "    roc_auc = roc_auc_score(y,  pred, multi_class='ovo')\n",
    "    score = 0.1 * recall + 0.9 * roc_auc\n",
    "    return score"
   ]
  },
  {
   "cell_type": "code",
   "execution_count": null,
   "id": "53c15171-e0e1-4cfa-8311-2955e5c0e663",
   "metadata": {},
   "outputs": [
    {
     "data": {
      "text/plain": [
       "0.8999372490808518"
      ]
     },
     "execution_count": 6,
     "metadata": {},
     "output_type": "execute_result"
    }
   ],
   "source": [
    "score_model(model, X_val, y_val, 0.35)"
   ]
  },
  {
   "cell_type": "code",
   "execution_count": 7,
   "id": "a60bec87-560e-4ebf-ae15-7c7a52e161cb",
   "metadata": {},
   "outputs": [],
   "source": [
    "# score_model(model, X_train, y_train, 0.35)"
   ]
  },
  {
   "cell_type": "code",
   "execution_count": 8,
   "id": "2c83d376-e17c-40d7-aaef-79c2aca8e880",
   "metadata": {},
   "outputs": [
    {
     "data": {
      "text/plain": [
       "[('same_oper', 15.67805005398859),\n",
       " ('same_oper_item_hash', 9.495493762611071),\n",
       " ('total_over_person', 9.431277090218483),\n",
       " ('index_oper', 7.179157899104964),\n",
       " ('mailctg', 5.8224212506822886),\n",
       " ('total_qty_oper_login_1', 5.6441604028619405),\n",
       " ('dist_qty_oper_login_1', 5.055100440186739),\n",
       " ('total_qty_oper_login_0', 4.909403177030391),\n",
       " ('unknown_oper_ratio', 4.888155281322663),\n",
       " ('transport_pay', 4.813518167416267),\n",
       " ('same_characteristics_hash', 4.298420616711916),\n",
       " ('same_hash', 3.2867911780739254),\n",
       " ('specialization_ratio', 3.1927291224547414),\n",
       " ('total_qty_over_index', 2.9913653138546383),\n",
       " ('type', 1.8416800298700953),\n",
       " ('weight', 1.7389250998897714),\n",
       " ('is_wrong_phone_number', 1.3041108904061613),\n",
       " ('price_mfi', 1.2896252273636974),\n",
       " ('name_mfi_count', 1.1820823771117184),\n",
       " ('same_name', 1.1559751121065787),\n",
       " ('total_qty_over_index_and_type', 0.9002550015975972),\n",
       " ('priority', 0.7004822703082637),\n",
       " ('class', 0.6772394576231933),\n",
       " ('weight_mfi', 0.6518677296561304),\n",
       " ('is_wrong_rcpn_name', 0.5674657748611848),\n",
       " ('name_mfi_len', 0.5157781694293779),\n",
       " ('directctg', 0.2771976692022786),\n",
       " ('id', 0.21249573855281367),\n",
       " ('till_end', 0.1381913010452418),\n",
       " ('last_id', 0.13154451809432385),\n",
       " ('is_return', 0.014399344745931481),\n",
       " ('is_wrong_address', 0.009311605350196801),\n",
       " ('is_wrong_sndr_name', 0.005328926266802142),\n",
       " ('is_privatecategory', 0.0),\n",
       " ('is_in_yandex', 0.0),\n",
       " ('mailtype', 0.0),\n",
       " ('postmark', 0.0),\n",
       " ('is_102976_operator', 0.0),\n",
       " ('is_102971_operator', 0.0),\n",
       " ('is_620984_operator', 0.0),\n",
       " ('is_102998_operator', 0.0),\n",
       " ('is_102968_operator', 0.0),\n",
       " ('is_102102_operator', 0.0),\n",
       " ('is_102152_operator', 0.0),\n",
       " ('is_140980_operator', 0.0),\n",
       " ('is_420306_operator', 0.0),\n",
       " ('is_200980_operator', 0.0)]"
      ]
     },
     "execution_count": 8,
     "metadata": {},
     "output_type": "execute_result"
    }
   ],
   "source": [
    "sorted(list(zip(X_train.columns, model.feature_importances_)), key = lambda x: -x[1])"
   ]
  },
  {
   "cell_type": "code",
   "execution_count": 9,
   "id": "d7da09f8-eeef-4e3e-a854-9b6124b9d88d",
   "metadata": {},
   "outputs": [],
   "source": [
    "test_preds = (model.predict_proba(test_df)[:, 1] > 0.35).astype(int)\n",
    "submission = pd.DataFrame({'id': test_ids.id, 'label': test_preds})\n",
    "submission.to_csv(\"submission.csv\", index=False)"
   ]
  },
  {
   "cell_type": "code",
   "execution_count": null,
   "id": "00bc9ed2-4167-4836-ba33-1622f228512d",
   "metadata": {},
   "outputs": [],
   "source": []
  },
  {
   "cell_type": "code",
   "execution_count": 16,
   "id": "509a144a-b522-4123-bf3d-93a544e41743",
   "metadata": {},
   "outputs": [],
   "source": [
    "sub1 = pd.read_csv('big_submission/7depth.csv')\n",
    "sub2 = pd.read_csv('big_submission/8depth.csv')\n",
    "sub3 = pd.read_csv('big_submission/9depth.csv')\n",
    "\n",
    "sub = sub1.copy()\n",
    "sub.label = ((sub1.label + sub2.label + sub3.label) / 3 > 0.15)."
   ]
  },
  {
   "cell_type": "code",
   "execution_count": 17,
   "id": "cf6569fc-076b-4869-8ae6-46a506c66318",
   "metadata": {},
   "outputs": [
    {
     "name": "stdout",
     "output_type": "stream",
     "text": [
      "0.13603199322856416 0.12729435951097007 0.11270382666859656\n",
      "0.21372625\n"
     ]
    }
   ],
   "source": [
    "print(sub1.label.mean(), sub2.label.mean(), sub3.label.mean())\n",
    "print(sub.label.mean())\n",
    "sub.to_csv('submission_rounded.csv', index=False)"
   ]
  },
  {
   "cell_type": "code",
   "execution_count": 11,
   "id": "7149bc91-97a8-4c00-91d6-4340a595f53a",
   "metadata": {},
   "outputs": [],
   "source": []
  },
  {
   "cell_type": "code",
   "execution_count": null,
   "id": "89654477-ed36-46a3-a9de-eeddbede9474",
   "metadata": {},
   "outputs": [],
   "source": []
  },
  {
   "cell_type": "code",
   "execution_count": null,
   "id": "1cd31cb1-5857-41ec-87dd-e5e3d1c8a7a4",
   "metadata": {},
   "outputs": [],
   "source": []
  },
  {
   "cell_type": "code",
   "execution_count": null,
   "id": "510a735a-2665-495e-9c84-d31f0a7ca40b",
   "metadata": {},
   "outputs": [],
   "source": []
  },
  {
   "cell_type": "code",
   "execution_count": null,
   "id": "2677581c-d0e8-4af7-be6d-9b907b08eedc",
   "metadata": {},
   "outputs": [],
   "source": []
  }
 ],
 "metadata": {
  "kernelspec": {
   "display_name": "Python 3 (ipykernel)",
   "language": "python",
   "name": "python3"
  },
  "language_info": {
   "codemirror_mode": {
    "name": "ipython",
    "version": 3
   },
   "file_extension": ".py",
   "mimetype": "text/x-python",
   "name": "python",
   "nbconvert_exporter": "python",
   "pygments_lexer": "ipython3",
   "version": "3.10.6"
  },
  "notebookId": "ed7dd563-ce4b-46a2-991c-9833419e1943",
  "notebookPath": "solution.ipynb"
 },
 "nbformat": 4,
 "nbformat_minor": 5
}
