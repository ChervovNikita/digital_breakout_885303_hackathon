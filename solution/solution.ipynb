{
 "cells": [
  {
   "cell_type": "markdown",
   "id": "f6b3aebe-a277-47d3-8a84-203efbd033b3",
   "metadata": {
    "tags": []
   },
   "source": [
    "TODO\n",
    "* index_oper (create 0/1 is the certain for top operators, something like this)\n",
    "* do with name_mfi as well"
   ]
  },
  {
   "cell_type": "code",
   "execution_count": 1,
   "id": "0bb63e9d-e674-4e62-ab14-5531334aa15f",
   "metadata": {},
   "outputs": [],
   "source": [
    "import pandas as pd\n",
    "import numpy as np\n",
    "import seaborn as sns\n",
    "import matplotlib.pyplot as plt\n",
    "from sklearn.model_selection import train_test_split\n",
    "from sklearn.ensemble import RandomForestClassifier\n",
    "from sklearn.metrics import recall_score, roc_auc_score\n",
    "from sklearn.metrics import confusion_matrix\n",
    "\n",
    "from sklearn.linear_model import LogisticRegression\n",
    "from catboost import CatBoostClassifier\n",
    "\n",
    "from copy import deepcopy\n",
    "import gc\n",
    "from collections import Counter\n",
    "\n",
    "%matplotlib inline"
   ]
  },
  {
   "cell_type": "code",
   "execution_count": 2,
   "id": "655f90ab-113c-4a95-9103-14dc27351ad1",
   "metadata": {},
   "outputs": [
    {
     "name": "stdout",
     "output_type": "stream",
     "text": [
      "/home/chervovn04/Programming/hackathons/2022/digital_breakout_885303\n"
     ]
    }
   ],
   "source": [
    "%cd ../"
   ]
  },
  {
   "cell_type": "code",
   "execution_count": 3,
   "id": "4e4825ce-be21-4294-9415-9d2d35cb3af9",
   "metadata": {},
   "outputs": [
    {
     "name": "stderr",
     "output_type": "stream",
     "text": [
      "/tmp/ipykernel_35665/2838075050.py:1: DtypeWarning: Columns (2) have mixed types. Specify dtype option on import or set low_memory=False.\n",
      "  df = pd.read_csv(\"data/train.csv\")\n",
      "/tmp/ipykernel_35665/2838075050.py:2: DtypeWarning: Columns (2) have mixed types. Specify dtype option on import or set low_memory=False.\n",
      "  test_data = pd.read_csv(\"data/test.csv\")\n"
     ]
    }
   ],
   "source": [
    "df = pd.read_csv(\"data/train.csv\")\n",
    "test_data = pd.read_csv(\"data/test.csv\")\n",
    "test_ids = deepcopy(test_data.id)"
   ]
  },
  {
   "cell_type": "code",
   "execution_count": 4,
   "id": "51935c46-34a0-41f3-bc16-dd373a7ba1e7",
   "metadata": {},
   "outputs": [
    {
     "data": {
      "text/html": [
       "<div>\n",
       "<style scoped>\n",
       "    .dataframe tbody tr th:only-of-type {\n",
       "        vertical-align: middle;\n",
       "    }\n",
       "\n",
       "    .dataframe tbody tr th {\n",
       "        vertical-align: top;\n",
       "    }\n",
       "\n",
       "    .dataframe thead th {\n",
       "        text-align: right;\n",
       "    }\n",
       "</style>\n",
       "<table border=\"1\" class=\"dataframe\">\n",
       "  <thead>\n",
       "    <tr style=\"text-align: right;\">\n",
       "      <th></th>\n",
       "      <th>id</th>\n",
       "      <th>oper_type + oper_attr</th>\n",
       "      <th>index_oper</th>\n",
       "      <th>type</th>\n",
       "      <th>priority</th>\n",
       "      <th>is_privatecategory</th>\n",
       "      <th>class</th>\n",
       "      <th>is_in_yandex</th>\n",
       "      <th>is_return</th>\n",
       "      <th>weight</th>\n",
       "      <th>...</th>\n",
       "      <th>dist_qty_oper_login_1</th>\n",
       "      <th>total_qty_oper_login_1</th>\n",
       "      <th>total_qty_oper_login_0</th>\n",
       "      <th>total_qty_over_index_and_type</th>\n",
       "      <th>total_qty_over_index</th>\n",
       "      <th>is_wrong_sndr_name</th>\n",
       "      <th>is_wrong_rcpn_name</th>\n",
       "      <th>is_wrong_phone_number</th>\n",
       "      <th>is_wrong_address</th>\n",
       "      <th>label</th>\n",
       "    </tr>\n",
       "  </thead>\n",
       "  <tbody>\n",
       "    <tr>\n",
       "      <th>0</th>\n",
       "      <td>6818780</td>\n",
       "      <td>1043_-1</td>\n",
       "      <td>628629.0</td>\n",
       "      <td>Участок</td>\n",
       "      <td>7503.0</td>\n",
       "      <td>N</td>\n",
       "      <td>0.0</td>\n",
       "      <td>Y</td>\n",
       "      <td>N</td>\n",
       "      <td>87.0</td>\n",
       "      <td>...</td>\n",
       "      <td>42.0</td>\n",
       "      <td>720176.0</td>\n",
       "      <td>58950.0</td>\n",
       "      <td>779126.0</td>\n",
       "      <td>8290896.0</td>\n",
       "      <td>0</td>\n",
       "      <td>0</td>\n",
       "      <td>0</td>\n",
       "      <td>0</td>\n",
       "      <td>0</td>\n",
       "    </tr>\n",
       "    <tr>\n",
       "      <th>1</th>\n",
       "      <td>9907176</td>\n",
       "      <td>1023_-1</td>\n",
       "      <td>102976.0</td>\n",
       "      <td>ММПО</td>\n",
       "      <td>7503.0</td>\n",
       "      <td>N</td>\n",
       "      <td>0.0</td>\n",
       "      <td>N</td>\n",
       "      <td>N</td>\n",
       "      <td>107.0</td>\n",
       "      <td>...</td>\n",
       "      <td>914.0</td>\n",
       "      <td>48856658.0</td>\n",
       "      <td>83318932.0</td>\n",
       "      <td>132175590.0</td>\n",
       "      <td>136819803.0</td>\n",
       "      <td>0</td>\n",
       "      <td>0</td>\n",
       "      <td>0</td>\n",
       "      <td>0</td>\n",
       "      <td>0</td>\n",
       "    </tr>\n",
       "    <tr>\n",
       "      <th>2</th>\n",
       "      <td>3304275</td>\n",
       "      <td>1018_-1</td>\n",
       "      <td>620962.0</td>\n",
       "      <td>Цех</td>\n",
       "      <td>7503.0</td>\n",
       "      <td>N</td>\n",
       "      <td>0.0</td>\n",
       "      <td>Y</td>\n",
       "      <td>N</td>\n",
       "      <td>50.0</td>\n",
       "      <td>...</td>\n",
       "      <td>62.0</td>\n",
       "      <td>3246292.0</td>\n",
       "      <td>3233068.0</td>\n",
       "      <td>6479360.0</td>\n",
       "      <td>52708071.0</td>\n",
       "      <td>0</td>\n",
       "      <td>1</td>\n",
       "      <td>0</td>\n",
       "      <td>0</td>\n",
       "      <td>0</td>\n",
       "    </tr>\n",
       "  </tbody>\n",
       "</table>\n",
       "<p>3 rows × 29 columns</p>\n",
       "</div>"
      ],
      "text/plain": [
       "        id oper_type + oper_attr index_oper     type  priority  \\\n",
       "0  6818780               1043_-1   628629.0  Участок    7503.0   \n",
       "1  9907176               1023_-1   102976.0     ММПО    7503.0   \n",
       "2  3304275               1018_-1   620962.0      Цех    7503.0   \n",
       "\n",
       "  is_privatecategory  class is_in_yandex is_return  weight  ...  \\\n",
       "0                  N    0.0            Y         N    87.0  ...   \n",
       "1                  N    0.0            N         N   107.0  ...   \n",
       "2                  N    0.0            Y         N    50.0  ...   \n",
       "\n",
       "   dist_qty_oper_login_1  total_qty_oper_login_1  total_qty_oper_login_0  \\\n",
       "0                   42.0                720176.0                 58950.0   \n",
       "1                  914.0              48856658.0              83318932.0   \n",
       "2                   62.0               3246292.0               3233068.0   \n",
       "\n",
       "   total_qty_over_index_and_type  total_qty_over_index  is_wrong_sndr_name  \\\n",
       "0                       779126.0             8290896.0                   0   \n",
       "1                    132175590.0           136819803.0                   0   \n",
       "2                      6479360.0            52708071.0                   0   \n",
       "\n",
       "  is_wrong_rcpn_name  is_wrong_phone_number  is_wrong_address  label  \n",
       "0                  0                      0                 0      0  \n",
       "1                  0                      0                 0      0  \n",
       "2                  1                      0                 0      0  \n",
       "\n",
       "[3 rows x 29 columns]"
      ]
     },
     "execution_count": 4,
     "metadata": {},
     "output_type": "execute_result"
    }
   ],
   "source": [
    "df.head(3)"
   ]
  },
  {
   "cell_type": "code",
   "execution_count": 5,
   "id": "c96eef11-e6f8-4cd7-bccf-30f668348d4f",
   "metadata": {},
   "outputs": [],
   "source": [
    "X = df.drop(columns=[\"label\"])\n",
    "y = df.label\n",
    "X_train, X_val, y_train, y_val = train_test_split(X, y, test_size=0.2, random_state=0)\n",
    "\n",
    "del [[X, df]]\n",
    "gc.collect()\n",
    "X=pd.DataFrame()\n",
    "df=pd.DataFrame()"
   ]
  },
  {
   "cell_type": "code",
   "execution_count": 6,
   "id": "5e01faf0-7f93-4c3f-af18-a1f52ce4f172",
   "metadata": {},
   "outputs": [
    {
     "data": {
      "text/html": [
       "<div>\n",
       "<style scoped>\n",
       "    .dataframe tbody tr th:only-of-type {\n",
       "        vertical-align: middle;\n",
       "    }\n",
       "\n",
       "    .dataframe tbody tr th {\n",
       "        vertical-align: top;\n",
       "    }\n",
       "\n",
       "    .dataframe thead th {\n",
       "        text-align: right;\n",
       "    }\n",
       "</style>\n",
       "<table border=\"1\" class=\"dataframe\">\n",
       "  <thead>\n",
       "    <tr style=\"text-align: right;\">\n",
       "      <th></th>\n",
       "    </tr>\n",
       "  </thead>\n",
       "  <tbody>\n",
       "  </tbody>\n",
       "</table>\n",
       "</div>"
      ],
      "text/plain": [
       "Empty DataFrame\n",
       "Columns: []\n",
       "Index: []"
      ]
     },
     "execution_count": 6,
     "metadata": {},
     "output_type": "execute_result"
    }
   ],
   "source": [
    "df.head(3)"
   ]
  },
  {
   "cell_type": "code",
   "execution_count": 7,
   "id": "ff6846ca-a83f-4b10-a3da-605820d88662",
   "metadata": {},
   "outputs": [],
   "source": [
    "cat_features = [\n",
    "    \"type\", \"is_privatecategory\", \"class\", \"is_in_yandex\", \"is_return\", \"mailtype\", \"mailctg\", \"directctg\",\n",
    "    \"oper_type\", \"oper_attr\"\n",
    "]\n",
    "\n",
    "def prepare_data(df):\n",
    "    \n",
    "    # 1. split oper type and attr\n",
    "    df[\"oper_type\"], df[\"oper_attr\"] = zip(*df[\"oper_type + oper_attr\"].map(lambda text: text.split(\"_\")))\n",
    "    df.drop(columns=[\"oper_type + oper_attr\"], inplace=True)\n",
    "    \n",
    "    # 2. delete ids and so on\n",
    "    df.drop(columns=[\"id\", \"index_oper\", \"name_mfi\"], inplace=True)\n",
    "    \n",
    "    # 3. delete low variant columns\n",
    "    df.drop(columns=[\"mailrank\", \"postmark\"], inplace=True)\n",
    "    \n",
    "    # 4. delete suspicious\n",
    "    df.drop(columns=[\"priority\", \"total_qty_oper_login_1\", \"total_qty_oper_login_0\", \"total_qty_over_index_and_type\", \"total_qty_over_index\"], inplace=True)\n",
    " \n",
    "    for cat_feature in cat_features:\n",
    "        df[cat_feature] = df[cat_feature].apply(lambda text: str(text))\n",
    "\n",
    "    return df"
   ]
  },
  {
   "cell_type": "code",
   "execution_count": null,
   "id": "34fa4cbf-dca3-4d4d-bc74-904cd3773456",
   "metadata": {},
   "outputs": [],
   "source": [
    "X_train = prepare_data(X_train)\n",
    "X_val = prepare_data(X_val)\n",
    "test_df = prepare_data(test_data)"
   ]
  },
  {
   "cell_type": "code",
   "execution_count": null,
   "id": "cd080587-4dd9-451e-9332-78c62ddde246",
   "metadata": {},
   "outputs": [],
   "source": [
    "X_train.head()"
   ]
  },
  {
   "cell_type": "code",
   "execution_count": null,
   "id": "51df4b04-0e0c-4138-bdab-0e780c699ad2",
   "metadata": {},
   "outputs": [],
   "source": [
    "model = CatBoostClassifier(random_state=0, max_depth=5, verbose=10, iterations=200, auto_class_weights=\"Balanced\", cat_features=cat_features)"
   ]
  },
  {
   "cell_type": "code",
   "execution_count": null,
   "id": "62b94636-f3aa-4942-a0f6-cfe6b80ec806",
   "metadata": {},
   "outputs": [],
   "source": [
    "model.fit(X_train, y_train)"
   ]
  },
  {
   "cell_type": "code",
   "execution_count": 12,
   "id": "e053e8a0-b1d1-49df-b13f-2d1711c6200f",
   "metadata": {},
   "outputs": [],
   "source": [
    "def score_model(model, X, y):\n",
    "    pred = model.predict(X)\n",
    "    \n",
    "    tn, fp, fn, tp = confusion_matrix(y, pred).ravel()\n",
    "    tpr = (tp) / (tp + fn)\n",
    "    fpr = (fp) / (fp + tn)\n",
    "    \n",
    "    r_score = (tp) / (tp + fn)\n",
    "    ra_score = (1 + tpr - fpr) / 2\n",
    "    \n",
    "    print(tn, fp, fn, tp, r_score, ra_score)\n",
    "    \n",
    "    score = 0.1 * r_score + 0.9 * ra_score\n",
    "    \n",
    "    return score"
   ]
  },
  {
   "cell_type": "code",
   "execution_count": 13,
   "id": "c7c4da6f-48d0-4e19-b2e2-79b9a17c8ed9",
   "metadata": {},
   "outputs": [
    {
     "name": "stdout",
     "output_type": "stream",
     "text": [
      "1115122 50831 146 33901 0.9957118101447998 0.9760578566090399\n"
     ]
    },
    {
     "data": {
      "text/plain": [
       "0.978023251962616"
      ]
     },
     "execution_count": 13,
     "metadata": {},
     "output_type": "execute_result"
    }
   ],
   "source": [
    "score_model(model, X_val, y_val)"
   ]
  },
  {
   "cell_type": "code",
   "execution_count": null,
   "id": "a727d56c-4f1f-4033-b8e4-f0d30c48d5b0",
   "metadata": {},
   "outputs": [],
   "source": []
  },
  {
   "cell_type": "code",
   "execution_count": 14,
   "id": "5f9ad0eb-d867-48cb-88f0-6d22887b0bb5",
   "metadata": {},
   "outputs": [
    {
     "name": "stderr",
     "output_type": "stream",
     "text": [
      "/home/chervovn04/Programming/hackathons/2022/digital_breakout_885303/venv/lib/python3.10/site-packages/catboost/core.py:1419: FutureWarning: iteritems is deprecated and will be removed in a future version. Use .items instead.\n",
      "  self._init_pool(data, label, cat_features, text_features, embedding_features, embedding_features_data, pairs, weight,\n"
     ]
    }
   ],
   "source": [
    "test_preds = model.predict(test_df)"
   ]
  },
  {
   "cell_type": "code",
   "execution_count": 15,
   "id": "8c19e06c-6b61-42e7-8b25-3bbbfd5b7cfa",
   "metadata": {},
   "outputs": [],
   "source": [
    "submission = pd.DataFrame({'id': test_ids, 'label': test_preds})"
   ]
  },
  {
   "cell_type": "code",
   "execution_count": 16,
   "id": "21707fc4-b5d8-4888-91d8-ce6bc612c0ef",
   "metadata": {},
   "outputs": [],
   "source": [
    "submission.to_csv(\"submission.csv\", index=False)"
   ]
  },
  {
   "cell_type": "code",
   "execution_count": 17,
   "id": "737d334c-822f-498d-9618-dd9c2642f073",
   "metadata": {},
   "outputs": [
    {
     "data": {
      "text/plain": [
       "0.07070675"
      ]
     },
     "execution_count": 17,
     "metadata": {},
     "output_type": "execute_result"
    }
   ],
   "source": [
    "test_preds.mean()"
   ]
  },
  {
   "cell_type": "code",
   "execution_count": null,
   "id": "fe3ad1bf-f827-45b6-a04f-79ed305196c5",
   "metadata": {},
   "outputs": [],
   "source": []
  },
  {
   "cell_type": "code",
   "execution_count": null,
   "id": "37edb81f-9bce-455b-bd8b-60cd7971aa18",
   "metadata": {},
   "outputs": [],
   "source": []
  },
  {
   "cell_type": "code",
   "execution_count": null,
   "id": "24528209-13fc-4c58-9ade-29f4d2068a1b",
   "metadata": {},
   "outputs": [],
   "source": []
  }
 ],
 "metadata": {
  "kernelspec": {
   "display_name": "Python 3 (ipykernel)",
   "language": "python",
   "name": "python3"
  },
  "language_info": {
   "codemirror_mode": {
    "name": "ipython",
    "version": 3
   },
   "file_extension": ".py",
   "mimetype": "text/x-python",
   "name": "python",
   "nbconvert_exporter": "python",
   "pygments_lexer": "ipython3",
   "version": "3.10.6"
  }
 },
 "nbformat": 4,
 "nbformat_minor": 5
}
