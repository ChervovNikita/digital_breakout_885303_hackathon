{
 "cells": [
  {
   "cell_type": "code",
   "execution_count": 2,
   "id": "24e08c15",
   "metadata": {
    "cellId": "4ab013t53wnyt2wjl294mf"
   },
   "outputs": [],
   "source": [
    "import pandas as pd\n",
    "import numpy as np\n",
    "import seaborn as sns\n",
    "import matplotlib.pyplot as plt\n",
    "from sklearn.model_selection import train_test_split, GridSearchCV\n",
    "from sklearn.ensemble import RandomForestClassifier\n",
    "from sklearn.metrics import recall_score, roc_auc_score\n",
    "from sklearn.metrics import confusion_matrix\n",
    "from sklearn.metrics import recall_score, roc_auc_score, make_scorer\n",
    "\n",
    "from sklearn.linear_model import LogisticRegression\n",
    "from catboost import CatBoostClassifier\n",
    "\n",
    "from functools import reduce\n",
    "import warnings\n",
    "from copy import deepcopy\n",
    "import gc\n",
    "from collections import Counter\n",
    "\n",
    "%matplotlib inline"
   ]
  },
  {
   "cell_type": "code",
   "execution_count": 3,
   "id": "e3fba829-b94c-4668-a819-1f645ebf10bb",
   "metadata": {},
   "outputs": [],
   "source": [
    "def mask_generator(n, cnt):\n",
    "    ones_count = 1\n",
    "    yielded = 1\n",
    "    if cnt == 0:\n",
    "        return\n",
    "    yield np.zeros(n, dtype=int)\n",
    "    while ones_count <= n and yielded < cnt:\n",
    "        cur_array = np.zeros(n, dtype=int)\n",
    "        cur_array[:ones_count] = 1\n",
    "        while cur_array[-ones_count:].min() == 0:\n",
    "            yield cur_array\n",
    "            last_zero = np.where(cur_array == 0)[0][-1]\n",
    "            mobile = np.where(cur_array[:last_zero] == 1)[0][-1]\n",
    "            suf_ones = 1 + cur_array[last_zero:].sum()\n",
    "            cur_array[mobile:] = 0\n",
    "            cur_array[mobile+1:mobile+suf_ones+1] = 1\n",
    "            yielded += 1\n",
    "            if yielded == cnt:\n",
    "                return\n",
    "        if yielded == cnt:\n",
    "            return \n",
    "        yield cur_array\n",
    "        yielded += 1\n",
    "        ones_count += 1"
   ]
  },
  {
   "cell_type": "code",
   "execution_count": 4,
   "id": "1d3303ef-81bb-474b-8f77-018e5c022cf0",
   "metadata": {},
   "outputs": [],
   "source": [
    "warnings.filterwarnings('ignore') "
   ]
  },
  {
   "cell_type": "code",
   "execution_count": 5,
   "id": "149b0b1d",
   "metadata": {
    "cellId": "gckvv8c0x3n8665qrikwns"
   },
   "outputs": [
    {
     "name": "stdout",
     "output_type": "stream",
     "text": [
      "/home/chervovn04/Programming/hackathons/2022/digital_breakout_885303\n"
     ]
    }
   ],
   "source": [
    "%cd ../"
   ]
  },
  {
   "cell_type": "code",
   "execution_count": 5,
   "id": "cd69c8ad",
   "metadata": {
    "cellId": "6m5zertaq0op1k3d39se8"
   },
   "outputs": [],
   "source": [
    "df = pd.read_csv(\"data/train.csv\")\n",
    "test_data = pd.read_csv(\"data/test.csv\")\n",
    "test_ids = deepcopy(test_data.id)"
   ]
  },
  {
   "cell_type": "code",
   "execution_count": 6,
   "id": "5e6ac0f4",
   "metadata": {
    "cellId": "y1xj4fwnisdkk897ytj52r"
   },
   "outputs": [],
   "source": [
    "X = df.drop(columns=[\"label\"])\n",
    "y = df.label\n",
    "X_train, X_val, y_train, y_val = train_test_split(X, y, test_size=0.2, random_state=0)\n",
    "\n",
    "# del [[X, df]]\n",
    "# gc.collect()\n",
    "# X=pd.DataFrame()\n",
    "# df=pd.DataFrame()"
   ]
  },
  {
   "cell_type": "code",
   "execution_count": 7,
   "id": "c6d5befa-fc5c-4d81-b902-1884157bcdfb",
   "metadata": {},
   "outputs": [
    {
     "name": "stdout",
     "output_type": "stream",
     "text": [
      "<class 'pandas.core.frame.DataFrame'>\n",
      "RangeIndex: 6000000 entries, 0 to 5999999\n",
      "Data columns (total 29 columns):\n",
      " #   Column                         Dtype  \n",
      "---  ------                         -----  \n",
      " 0   id                             int64  \n",
      " 1   oper_type + oper_attr          object \n",
      " 2   index_oper                     object \n",
      " 3   type                           object \n",
      " 4   priority                       float64\n",
      " 5   is_privatecategory             object \n",
      " 6   class                          float64\n",
      " 7   is_in_yandex                   object \n",
      " 8   is_return                      object \n",
      " 9   weight                         float64\n",
      " 10  mailtype                       float64\n",
      " 11  mailctg                        float64\n",
      " 12  mailrank                       float64\n",
      " 13  directctg                      float64\n",
      " 14  transport_pay                  float64\n",
      " 15  postmark                       float64\n",
      " 16  name_mfi                       object \n",
      " 17  weight_mfi                     float64\n",
      " 18  price_mfi                      float64\n",
      " 19  dist_qty_oper_login_1          float64\n",
      " 20  total_qty_oper_login_1         float64\n",
      " 21  total_qty_oper_login_0         float64\n",
      " 22  total_qty_over_index_and_type  float64\n",
      " 23  total_qty_over_index           float64\n",
      " 24  is_wrong_sndr_name             int64  \n",
      " 25  is_wrong_rcpn_name             int64  \n",
      " 26  is_wrong_phone_number          int64  \n",
      " 27  is_wrong_address               int64  \n",
      " 28  label                          int64  \n",
      "dtypes: float64(16), int64(6), object(7)\n",
      "memory usage: 1.3+ GB\n"
     ]
    }
   ],
   "source": [
    "df.info(0)"
   ]
  },
  {
   "cell_type": "code",
   "execution_count": 8,
   "id": "45c351eb-9fab-44b5-b6cd-e55a2488cf36",
   "metadata": {},
   "outputs": [],
   "source": [
    "top_operators = [obj for obj, count in Counter(test_data['index_oper'].replace(' ', '0').astype(float).astype(int)).most_common()][:10]"
   ]
  },
  {
   "cell_type": "code",
   "execution_count": 9,
   "id": "0060c4ef",
   "metadata": {
    "cellId": "vo5cosfp59dkzp608owl"
   },
   "outputs": [],
   "source": [
    "useless = []\n",
    "cat_features = [\"type\", \"is_privatecategory\", \"class\", \"is_in_yandex\", \"mailctg\", \"directctg\", \"mailtype\"]\n",
    "\n",
    "cat_features = list(set(cat_features) - set(useless))\n",
    "\n",
    "def prepare_data(df, grouped):\n",
    "    for operator in top_operators:\n",
    "        df[f'is_{operator}_operator'] = df['index_oper'].replace(' ', '0').astype(float).astype(int) == operator\n",
    "    \n",
    "    df = df.join(grouped, on='index_oper')\n",
    "    mean_columns = [column for column in df.columns if '__agg' in column]\n",
    "    for column in mean_columns:\n",
    "        df[column].fillna(df[column].mean(), inplace=True)\n",
    "    \n",
    "    replace_zeros = ['priority', 'is_privatecategory', 'is_in_yandex', 'mailtype', 'directctg']\n",
    "    for column in replace_zeros:\n",
    "        df[column][df[column] == 0] = df[column].mode()[0]\n",
    "        df[column][df[column] == '0'] = df[column].mode()[0]\n",
    "    \n",
    "    df.priority = 1 * (df.priority == 7503.) + 2 * (df.priority == 7504.) + 3 * (df.priority == 7506.)\n",
    "    \n",
    "    df.index_oper = df.index_oper.replace(' ', '0').astype(float).astype(int)\n",
    "    \n",
    "    for cat_feature in cat_features:\n",
    "        df[cat_feature] = df[cat_feature].apply(lambda text: str(text))\n",
    "        \n",
    "    df['name_mfi_count'] = df.name_mfi.apply(lambda name: 0 if name == '0' else len(name.split(',')))\n",
    "    \n",
    "    df.is_return = df.is_return.apply(lambda text: text == 'Y')\n",
    "        \n",
    "    df.drop(columns=[\"oper_type + oper_attr\"], inplace=True)\n",
    "    df.drop(columns=[\"id\", \"name_mfi\"], inplace=True)\n",
    "    df.drop(columns=['mailrank'], inplace=True)\n",
    "    df.drop(columns=useless, inplace=True, errors='ignore')\n",
    "    \n",
    "    return df"
   ]
  },
  {
   "cell_type": "code",
   "execution_count": 10,
   "id": "afae6387-b7e7-4f29-9d62-10d05b97860e",
   "metadata": {},
   "outputs": [
    {
     "data": {
      "text/html": [
       "<div>\n",
       "<style scoped>\n",
       "    .dataframe tbody tr th:only-of-type {\n",
       "        vertical-align: middle;\n",
       "    }\n",
       "\n",
       "    .dataframe tbody tr th {\n",
       "        vertical-align: top;\n",
       "    }\n",
       "\n",
       "    .dataframe thead th {\n",
       "        text-align: right;\n",
       "    }\n",
       "</style>\n",
       "<table border=\"1\" class=\"dataframe\">\n",
       "  <thead>\n",
       "    <tr style=\"text-align: right;\">\n",
       "      <th></th>\n",
       "      <th>weight__agg</th>\n",
       "      <th>transport_pay__agg</th>\n",
       "      <th>weight_mfi__agg</th>\n",
       "      <th>price_mfi__agg</th>\n",
       "      <th>total_qty_over_index__agg</th>\n",
       "    </tr>\n",
       "    <tr>\n",
       "      <th>index_oper</th>\n",
       "      <th></th>\n",
       "      <th></th>\n",
       "      <th></th>\n",
       "      <th></th>\n",
       "      <th></th>\n",
       "    </tr>\n",
       "  </thead>\n",
       "  <tbody>\n",
       "    <tr>\n",
       "      <th>0.0</th>\n",
       "      <td>411.459158</td>\n",
       "      <td>16.435631</td>\n",
       "      <td>195.672030</td>\n",
       "      <td>550.726485</td>\n",
       "      <td>2</td>\n",
       "    </tr>\n",
       "    <tr>\n",
       "      <th>101000.0</th>\n",
       "      <td>313.875000</td>\n",
       "      <td>20.890536</td>\n",
       "      <td>72.767857</td>\n",
       "      <td>343.553571</td>\n",
       "      <td>2</td>\n",
       "    </tr>\n",
       "    <tr>\n",
       "      <th>102002.0</th>\n",
       "      <td>379.800235</td>\n",
       "      <td>15.758080</td>\n",
       "      <td>36.198927</td>\n",
       "      <td>122.166462</td>\n",
       "      <td>3</td>\n",
       "    </tr>\n",
       "    <tr>\n",
       "      <th>102007.0</th>\n",
       "      <td>140.477419</td>\n",
       "      <td>1.135226</td>\n",
       "      <td>129.378065</td>\n",
       "      <td>554.656774</td>\n",
       "      <td>3</td>\n",
       "    </tr>\n",
       "    <tr>\n",
       "      <th>102102.0</th>\n",
       "      <td>200.257263</td>\n",
       "      <td>8.687630</td>\n",
       "      <td>132.646820</td>\n",
       "      <td>587.428110</td>\n",
       "      <td>4</td>\n",
       "    </tr>\n",
       "  </tbody>\n",
       "</table>\n",
       "</div>"
      ],
      "text/plain": [
       "            weight__agg  transport_pay__agg  weight_mfi__agg  price_mfi__agg  \\\n",
       "index_oper                                                                     \n",
       "0.0          411.459158           16.435631       195.672030      550.726485   \n",
       "101000.0     313.875000           20.890536        72.767857      343.553571   \n",
       "102002.0     379.800235           15.758080        36.198927      122.166462   \n",
       "102007.0     140.477419            1.135226       129.378065      554.656774   \n",
       "102102.0     200.257263            8.687630       132.646820      587.428110   \n",
       "\n",
       "            total_qty_over_index__agg  \n",
       "index_oper                             \n",
       "0.0                                 2  \n",
       "101000.0                            2  \n",
       "102002.0                            3  \n",
       "102007.0                            3  \n",
       "102102.0                            4  "
      ]
     },
     "execution_count": 10,
     "metadata": {},
     "output_type": "execute_result"
    }
   ],
   "source": [
    "def nunique(series):\n",
    "      return series.nunique()\n",
    "\n",
    "grouped = X_train[['index_oper', 'weight', 'transport_pay', 'weight_mfi', 'price_mfi']]\n",
    "X_train.iloc[:, 1:].replace(0, np.nan)\n",
    "grouped = grouped.groupby('index_oper').agg({\n",
    "    'weight': np.mean,\n",
    "    'transport_pay': np.mean,\n",
    "    'weight_mfi': np.mean,\n",
    "    'price_mfi': np.mean,\n",
    "})\n",
    "grouped = grouped.rename(columns={\n",
    "    name: f'{name}__agg' for name in ['weight', 'transport_pay', 'weight_mfi', 'price_mfi']\n",
    "})\n",
    "grouped.head()"
   ]
  },
  {
   "cell_type": "code",
   "execution_count": 11,
   "id": "870a21e4",
   "metadata": {
    "cellId": "60rf4cbfin4kbpksr9kjv"
   },
   "outputs": [],
   "source": [
    "X_train = prepare_data(X_train, grouped)\n",
    "X_val = prepare_data(X_val, grouped)\n",
    "test_df = prepare_data(test_data, grouped)"
   ]
  },
  {
   "cell_type": "code",
   "execution_count": 12,
   "id": "12ce26d2",
   "metadata": {
    "cellId": "ekxuw6dk86njo1itn9da"
   },
   "outputs": [
    {
     "data": {
      "text/html": [
       "<div>\n",
       "<style scoped>\n",
       "    .dataframe tbody tr th:only-of-type {\n",
       "        vertical-align: middle;\n",
       "    }\n",
       "\n",
       "    .dataframe tbody tr th {\n",
       "        vertical-align: top;\n",
       "    }\n",
       "\n",
       "    .dataframe thead th {\n",
       "        text-align: right;\n",
       "    }\n",
       "</style>\n",
       "<table border=\"1\" class=\"dataframe\">\n",
       "  <thead>\n",
       "    <tr style=\"text-align: right;\">\n",
       "      <th></th>\n",
       "      <th>index_oper</th>\n",
       "      <th>type</th>\n",
       "      <th>priority</th>\n",
       "      <th>is_privatecategory</th>\n",
       "      <th>class</th>\n",
       "      <th>is_in_yandex</th>\n",
       "      <th>is_return</th>\n",
       "      <th>weight</th>\n",
       "      <th>mailtype</th>\n",
       "      <th>mailctg</th>\n",
       "      <th>...</th>\n",
       "      <th>is_102152_operator</th>\n",
       "      <th>is_140980_operator</th>\n",
       "      <th>is_420306_operator</th>\n",
       "      <th>is_200980_operator</th>\n",
       "      <th>weight__agg</th>\n",
       "      <th>transport_pay__agg</th>\n",
       "      <th>weight_mfi__agg</th>\n",
       "      <th>price_mfi__agg</th>\n",
       "      <th>total_qty_over_index__agg</th>\n",
       "      <th>name_mfi_count</th>\n",
       "    </tr>\n",
       "  </thead>\n",
       "  <tbody>\n",
       "    <tr>\n",
       "      <th>2766711</th>\n",
       "      <td>394962</td>\n",
       "      <td>Участок</td>\n",
       "      <td>1</td>\n",
       "      <td>N</td>\n",
       "      <td>0.0</td>\n",
       "      <td>Y</td>\n",
       "      <td>False</td>\n",
       "      <td>215.0</td>\n",
       "      <td>5.0</td>\n",
       "      <td>1.0</td>\n",
       "      <td>...</td>\n",
       "      <td>False</td>\n",
       "      <td>False</td>\n",
       "      <td>False</td>\n",
       "      <td>False</td>\n",
       "      <td>315.869539</td>\n",
       "      <td>11.423399</td>\n",
       "      <td>139.895263</td>\n",
       "      <td>484.339935</td>\n",
       "      <td>4</td>\n",
       "      <td>0</td>\n",
       "    </tr>\n",
       "    <tr>\n",
       "      <th>3781936</th>\n",
       "      <td>420302</td>\n",
       "      <td>Цех</td>\n",
       "      <td>1</td>\n",
       "      <td>N</td>\n",
       "      <td>0.0</td>\n",
       "      <td>Y</td>\n",
       "      <td>False</td>\n",
       "      <td>34.0</td>\n",
       "      <td>5.0</td>\n",
       "      <td>1.0</td>\n",
       "      <td>...</td>\n",
       "      <td>False</td>\n",
       "      <td>False</td>\n",
       "      <td>False</td>\n",
       "      <td>False</td>\n",
       "      <td>176.929353</td>\n",
       "      <td>2.631576</td>\n",
       "      <td>154.856374</td>\n",
       "      <td>1020.345437</td>\n",
       "      <td>2</td>\n",
       "      <td>1</td>\n",
       "    </tr>\n",
       "    <tr>\n",
       "      <th>3824787</th>\n",
       "      <td>108971</td>\n",
       "      <td>Цех</td>\n",
       "      <td>3</td>\n",
       "      <td>N</td>\n",
       "      <td>0.0</td>\n",
       "      <td>N</td>\n",
       "      <td>False</td>\n",
       "      <td>78.0</td>\n",
       "      <td>5.0</td>\n",
       "      <td>1.0</td>\n",
       "      <td>...</td>\n",
       "      <td>False</td>\n",
       "      <td>False</td>\n",
       "      <td>False</td>\n",
       "      <td>False</td>\n",
       "      <td>286.965616</td>\n",
       "      <td>14.293944</td>\n",
       "      <td>85.745336</td>\n",
       "      <td>228.126930</td>\n",
       "      <td>4</td>\n",
       "      <td>1</td>\n",
       "    </tr>\n",
       "    <tr>\n",
       "      <th>4768159</th>\n",
       "      <td>108978</td>\n",
       "      <td>Участок</td>\n",
       "      <td>3</td>\n",
       "      <td>N</td>\n",
       "      <td>0.0</td>\n",
       "      <td>N</td>\n",
       "      <td>False</td>\n",
       "      <td>14.0</td>\n",
       "      <td>5.0</td>\n",
       "      <td>1.0</td>\n",
       "      <td>...</td>\n",
       "      <td>False</td>\n",
       "      <td>False</td>\n",
       "      <td>False</td>\n",
       "      <td>False</td>\n",
       "      <td>310.262426</td>\n",
       "      <td>18.187504</td>\n",
       "      <td>147.689413</td>\n",
       "      <td>467.707075</td>\n",
       "      <td>5</td>\n",
       "      <td>1</td>\n",
       "    </tr>\n",
       "    <tr>\n",
       "      <th>1873604</th>\n",
       "      <td>690967</td>\n",
       "      <td>Цех</td>\n",
       "      <td>1</td>\n",
       "      <td>N</td>\n",
       "      <td>0.0</td>\n",
       "      <td>Y</td>\n",
       "      <td>False</td>\n",
       "      <td>245.0</td>\n",
       "      <td>5.0</td>\n",
       "      <td>1.0</td>\n",
       "      <td>...</td>\n",
       "      <td>False</td>\n",
       "      <td>False</td>\n",
       "      <td>False</td>\n",
       "      <td>False</td>\n",
       "      <td>293.357585</td>\n",
       "      <td>12.270348</td>\n",
       "      <td>159.164065</td>\n",
       "      <td>571.633284</td>\n",
       "      <td>4</td>\n",
       "      <td>0</td>\n",
       "    </tr>\n",
       "  </tbody>\n",
       "</table>\n",
       "<p>5 rows × 40 columns</p>\n",
       "</div>"
      ],
      "text/plain": [
       "         index_oper     type  priority is_privatecategory class is_in_yandex  \\\n",
       "2766711      394962  Участок         1                  N   0.0            Y   \n",
       "3781936      420302      Цех         1                  N   0.0            Y   \n",
       "3824787      108971      Цех         3                  N   0.0            N   \n",
       "4768159      108978  Участок         3                  N   0.0            N   \n",
       "1873604      690967      Цех         1                  N   0.0            Y   \n",
       "\n",
       "         is_return  weight mailtype mailctg  ... is_102152_operator  \\\n",
       "2766711      False   215.0      5.0     1.0  ...              False   \n",
       "3781936      False    34.0      5.0     1.0  ...              False   \n",
       "3824787      False    78.0      5.0     1.0  ...              False   \n",
       "4768159      False    14.0      5.0     1.0  ...              False   \n",
       "1873604      False   245.0      5.0     1.0  ...              False   \n",
       "\n",
       "         is_140980_operator  is_420306_operator  is_200980_operator  \\\n",
       "2766711               False               False               False   \n",
       "3781936               False               False               False   \n",
       "3824787               False               False               False   \n",
       "4768159               False               False               False   \n",
       "1873604               False               False               False   \n",
       "\n",
       "         weight__agg  transport_pay__agg  weight_mfi__agg  price_mfi__agg  \\\n",
       "2766711   315.869539           11.423399       139.895263      484.339935   \n",
       "3781936   176.929353            2.631576       154.856374     1020.345437   \n",
       "3824787   286.965616           14.293944        85.745336      228.126930   \n",
       "4768159   310.262426           18.187504       147.689413      467.707075   \n",
       "1873604   293.357585           12.270348       159.164065      571.633284   \n",
       "\n",
       "         total_qty_over_index__agg  name_mfi_count  \n",
       "2766711                          4               0  \n",
       "3781936                          2               1  \n",
       "3824787                          4               1  \n",
       "4768159                          5               1  \n",
       "1873604                          4               0  \n",
       "\n",
       "[5 rows x 40 columns]"
      ]
     },
     "execution_count": 12,
     "metadata": {},
     "output_type": "execute_result"
    }
   ],
   "source": [
    "X_train.head() "
   ]
  },
  {
   "cell_type": "code",
   "execution_count": 13,
   "id": "79e1b53e",
   "metadata": {
    "cellId": "eza730cv317hh5qet8yto"
   },
   "outputs": [],
   "source": [
    "X_train.to_csv('data/X_train_prepared.csv', index=False)\n",
    "X_val.to_csv('data/X_val_prepared.csv', index=False)\n",
    "y_train.to_csv('data/y_train_prepared.csv', index=False)\n",
    "y_val.to_csv('data/y_val_prepared.csv', index=False)\n",
    "test_df.to_csv('data/test_df_prepared.csv', index=False)\n",
    "y_train.to_csv('data/y_train_prepared.csv', index=False)\n",
    "y_val.to_csv('data/y_val_prepared.csv', index=False)"
   ]
  },
  {
   "cell_type": "code",
   "execution_count": 5,
   "id": "2d9d359d",
   "metadata": {
    "cellId": "0e5qkiygp8bhgj52dwazug"
   },
   "outputs": [],
   "source": [
    "useless = []\n",
    "cat_features = [\"type\", \"is_privatecategory\", \"class\", \"is_in_yandex\", \"mailctg\", \"directctg\", \"mailtype\"]\n",
    "\n",
    "cat_features = list(set(cat_features) - set(useless))\n",
    "def to_cat_features(df):\n",
    "    for cat_feature in cat_features:\n",
    "        df[cat_feature] = df[cat_feature].apply(lambda text: str(text))\n",
    "        \n",
    "X_train = pd.read_csv('data/X_train_prepared.csv')\n",
    "y_train = pd.read_csv('data/y_train_prepared.csv')\n",
    "X_val = pd.read_csv('data/X_val_prepared.csv')\n",
    "y_val = pd.read_csv('data/y_val_prepared.csv')\n",
    "test_df = pd.read_csv('data/test_df_prepared.csv')\n",
    "test_ids = pd.read_csv('data/test_ids.csv')\n",
    "# X = pd.read_csv('data/X_prepared.csv')\n",
    "# y = pd.read_csv('data/y_prepared.csv')\n",
    "\n",
    "\n",
    "to_cat_features(X_train)\n",
    "to_cat_features(X_val)\n",
    "to_cat_features(test_df)\n",
    "# to_cat_features(X)"
   ]
  },
  {
   "cell_type": "code",
   "execution_count": 6,
   "id": "f4c9d973",
   "metadata": {
    "cellId": "19c666lnwwtjcirwzzyhpn"
   },
   "outputs": [],
   "source": [
    "model = CatBoostClassifier(random_state=0, max_depth=8, verbose=10, iterations=100, auto_class_weights=\"Balanced\", cat_features=cat_features)"
   ]
  },
  {
   "cell_type": "code",
   "execution_count": 7,
   "id": "9420db07",
   "metadata": {
    "cellId": "zcndk9o5xzr7juqfjv6ve9",
    "execution_id": "aa4befc8-0f99-4817-b9d5-a1473d486c49"
   },
   "outputs": [
    {
     "name": "stdout",
     "output_type": "stream",
     "text": [
      "Learning rate set to 0.5\n",
      "0:\tlearn: 0.3796545\ttotal: 1.93s\tremaining: 3m 10s\n",
      "10:\tlearn: 0.2755910\ttotal: 18.7s\tremaining: 2m 30s\n",
      "20:\tlearn: 0.2689417\ttotal: 35.4s\tremaining: 2m 13s\n",
      "30:\tlearn: 0.2662813\ttotal: 52.7s\tremaining: 1m 57s\n",
      "40:\tlearn: 0.2644754\ttotal: 1m 9s\tremaining: 1m 40s\n",
      "50:\tlearn: 0.2626796\ttotal: 1m 26s\tremaining: 1m 23s\n",
      "60:\tlearn: 0.2609979\ttotal: 1m 44s\tremaining: 1m 6s\n",
      "70:\tlearn: 0.2597521\ttotal: 2m 1s\tremaining: 49.4s\n",
      "80:\tlearn: 0.2585481\ttotal: 2m 18s\tremaining: 32.4s\n",
      "90:\tlearn: 0.2573145\ttotal: 2m 35s\tremaining: 15.4s\n",
      "99:\tlearn: 0.2564056\ttotal: 2m 52s\tremaining: 0us\n"
     ]
    },
    {
     "data": {
      "text/plain": [
       "<catboost.core.CatBoostClassifier at 0x7f703713bb50>"
      ]
     },
     "execution_count": 7,
     "metadata": {},
     "output_type": "execute_result"
    }
   ],
   "source": [
    "model.fit(X_train, y_train)"
   ]
  },
  {
   "cell_type": "code",
   "execution_count": 8,
   "id": "891b7bf8",
   "metadata": {
    "cellId": "9ez17282jjp77mcjqjdmpk",
    "execution_id": "036d2160-5fe3-451f-9b88-f49c03071721"
   },
   "outputs": [],
   "source": [
    "def score_model(model, X, y, threshold=0.5):  # 0.41 is the best for now\n",
    "    pred = model.predict_proba(X)[:, 1] > threshold\n",
    "    recall = recall_score(y, pred, average=\"macro\")\n",
    "    roc_auc = roc_auc_score(y,  pred, multi_class='ovo')\n",
    "    score = 0.1 * recall + 0.9 * roc_auc\n",
    "    return score"
   ]
  },
  {
   "cell_type": "code",
   "execution_count": 9,
   "id": "1fbb1716-f776-41e2-a4d9-4ba19a06b296",
   "metadata": {},
   "outputs": [
    {
     "data": {
      "text/plain": [
       "0.8828069774163595"
      ]
     },
     "execution_count": 9,
     "metadata": {},
     "output_type": "execute_result"
    }
   ],
   "source": [
    "score_model(model, X_val, y_val, 0.35)"
   ]
  },
  {
   "cell_type": "code",
   "execution_count": 10,
   "id": "d7da09f8-eeef-4e3e-a854-9b6124b9d88d",
   "metadata": {},
   "outputs": [],
   "source": [
    "test_preds = (model.predict_proba(test_df)[:, 1] > 0.35).astype(int)"
   ]
  },
  {
   "cell_type": "code",
   "execution_count": 11,
   "id": "8cf55dcb",
   "metadata": {
    "cellId": "r2vuvlz9lfg34g1znui9vk",
    "execution_id": "622a92d5-8c91-4d3e-a239-a9b955859214"
   },
   "outputs": [],
   "source": [
    "submission = pd.DataFrame({'id': test_ids.id, 'label': test_preds})"
   ]
  },
  {
   "cell_type": "code",
   "execution_count": 12,
   "id": "6ee0c153",
   "metadata": {
    "cellId": "ayhhjvvenx8223d6624g6l",
    "execution_id": "0ea7086d-ebe7-4840-a043-949e1335c84c"
   },
   "outputs": [],
   "source": [
    "submission.to_csv(\"submission.csv\", index=False)"
   ]
  },
  {
   "cell_type": "code",
   "execution_count": 13,
   "id": "00e3fa06",
   "metadata": {
    "cellId": "15jqlabgeayfjdt5cx2gda",
    "execution_id": "4eb557e3-d649-42c4-a793-9d606d678e4a"
   },
   "outputs": [
    {
     "data": {
      "text/plain": [
       "0.2122305"
      ]
     },
     "execution_count": 13,
     "metadata": {},
     "output_type": "execute_result"
    }
   ],
   "source": [
    "test_preds.mean()"
   ]
  },
  {
   "cell_type": "code",
   "execution_count": 14,
   "id": "e9d7361e",
   "metadata": {
    "cellId": "41yi1tnrho2aydq25bza8m"
   },
   "outputs": [
    {
     "data": {
      "text/plain": [
       "[('total_qty_oper_login_1', 16.689211121026513),\n",
       " ('type', 10.795959266394197),\n",
       " ('index_oper', 9.183171067647415),\n",
       " ('transport_pay__agg', 8.835840514061854),\n",
       " ('transport_pay', 7.312076865711262),\n",
       " ('mailctg', 6.232364069292818),\n",
       " ('total_qty_oper_login_0', 5.785993013556491),\n",
       " ('total_qty_over_index', 4.064910754524851),\n",
       " ('is_in_yandex', 3.106984541355958),\n",
       " ('dist_qty_oper_login_1', 3.090233483344795),\n",
       " ('total_qty_over_index_and_type', 2.827669462205038),\n",
       " ('weight__agg', 2.7059704059654583),\n",
       " ('total_qty_over_index__agg', 2.447249137162868),\n",
       " ('price_mfi', 2.3834862704788145),\n",
       " ('weight', 2.2461044374941497),\n",
       " ('weight_mfi__agg', 2.139236190701426),\n",
       " ('priority', 1.904231663958938),\n",
       " ('name_mfi_count', 1.88871792383795),\n",
       " ('price_mfi__agg', 1.6249118031002803),\n",
       " ('is_wrong_phone_number', 1.4079766398482636),\n",
       " ('weight_mfi', 1.1521495915351303),\n",
       " ('is_wrong_rcpn_name', 0.9470555069073645),\n",
       " ('is_102976_operator', 0.43802490344416894),\n",
       " ('directctg', 0.37811074470230366),\n",
       " ('class', 0.37637216974656423),\n",
       " ('is_return', 0.0169010941008113),\n",
       " ('is_wrong_sndr_name', 0.008816171597821948),\n",
       " ('is_wrong_address', 0.007654549574953307),\n",
       " ('is_privatecategory', 0.0025972179063389464),\n",
       " ('mailtype', 1.9418815183395835e-05),\n",
       " ('postmark', 0.0),\n",
       " ('is_102971_operator', 0.0),\n",
       " ('is_620984_operator', 0.0),\n",
       " ('is_102998_operator', 0.0),\n",
       " ('is_102968_operator', 0.0),\n",
       " ('is_102102_operator', 0.0),\n",
       " ('is_102152_operator', 0.0),\n",
       " ('is_140980_operator', 0.0),\n",
       " ('is_420306_operator', 0.0),\n",
       " ('is_200980_operator', 0.0)]"
      ]
     },
     "execution_count": 14,
     "metadata": {},
     "output_type": "execute_result"
    }
   ],
   "source": [
    "sorted(list(zip(X_train.columns, model.feature_importances_)), key = lambda x: -x[1])"
   ]
  },
  {
   "cell_type": "code",
   "execution_count": null,
   "id": "8209e66e-7607-4b7f-890f-9a92febe1a99",
   "metadata": {},
   "outputs": [],
   "source": []
  },
  {
   "cell_type": "code",
   "execution_count": null,
   "id": "43f4c5bc-ad71-43ca-aa34-b52ca392f7fe",
   "metadata": {},
   "outputs": [],
   "source": []
  },
  {
   "cell_type": "code",
   "execution_count": null,
   "id": "00bc9ed2-4167-4836-ba33-1622f228512d",
   "metadata": {},
   "outputs": [],
   "source": []
  },
  {
   "cell_type": "code",
   "execution_count": 15,
   "id": "7149bc91-97a8-4c00-91d6-4340a595f53a",
   "metadata": {},
   "outputs": [],
   "source": [
    "unrounded_sub = pd.read_csv('submission.csv') \n",
    "sub = unrounded_sub\n",
    "sub.label = (unrounded_sub.label > 0.225).astype(int) \n",
    "sub.to_csv('submission_rounded.csv', index=False)"
   ]
  },
  {
   "cell_type": "code",
   "execution_count": 16,
   "id": "f6abfc32-9f64-4d88-8463-40f3f28ed9de",
   "metadata": {},
   "outputs": [
    {
     "data": {
      "text/plain": [
       "0.23725725"
      ]
     },
     "execution_count": 16,
     "metadata": {},
     "output_type": "execute_result"
    }
   ],
   "source": [
    "sub.label.mean()"
   ]
  },
  {
   "cell_type": "code",
   "execution_count": null,
   "id": "40b3a893-b111-4d0e-8d9e-e62e7a2fc62f",
   "metadata": {},
   "outputs": [],
   "source": []
  }
 ],
 "metadata": {
  "kernelspec": {
   "display_name": "Python 3 (ipykernel)",
   "language": "python",
   "name": "python3"
  },
  "language_info": {
   "codemirror_mode": {
    "name": "ipython",
    "version": 3
   },
   "file_extension": ".py",
   "mimetype": "text/x-python",
   "name": "python",
   "nbconvert_exporter": "python",
   "pygments_lexer": "ipython3",
   "version": "3.10.6"
  },
  "notebookId": "ed7dd563-ce4b-46a2-991c-9833419e1943",
  "notebookPath": "solution.ipynb"
 },
 "nbformat": 4,
 "nbformat_minor": 5
}
