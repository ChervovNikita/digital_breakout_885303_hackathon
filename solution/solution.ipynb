{
 "cells": [
  {
   "cell_type": "code",
   "execution_count": 31,
   "id": "24e08c15",
   "metadata": {
    "cellId": "4ab013t53wnyt2wjl294mf"
   },
   "outputs": [],
   "source": [
    "import pandas as pd\n",
    "import numpy as np\n",
    "import seaborn as sns\n",
    "import matplotlib.pyplot as plt\n",
    "from sklearn.model_selection import train_test_split\n",
    "from sklearn.ensemble import RandomForestClassifier\n",
    "from sklearn.metrics import recall_score, roc_auc_score\n",
    "from sklearn.metrics import confusion_matrix\n",
    "\n",
    "from sklearn.linear_model import LogisticRegression\n",
    "from catboost import CatBoostClassifier\n",
    "\n",
    "import warnings\n",
    "from copy import deepcopy\n",
    "import gc\n",
    "from collections import Counter\n",
    "\n",
    "%matplotlib inline"
   ]
  },
  {
   "cell_type": "code",
   "execution_count": 19,
   "id": "4fe3b685",
   "metadata": {
    "cellId": "q07kiom16dr6sbyemliovp"
   },
   "outputs": [
    {
     "name": "stdout",
     "output_type": "stream",
     "text": [
      "Defaulting to user installation because normal site-packages is not writeable\n",
      "Collecting seaborn\n",
      "  Downloading seaborn-0.12.1-py3-none-any.whl (288 kB)\n",
      "     |████████████████████████████████| 288 kB 3.2 MB/s            \n",
      "\u001b[?25hRequirement already satisfied: matplotlib!=3.6.1,>=3.1 in /kernel/lib/python3.8/site-packages (from seaborn) (3.3.3)\n",
      "Requirement already satisfied: numpy>=1.17 in /kernel/fallback/lib/python3.8/site-packages (from seaborn) (1.19.4)\n",
      "Requirement already satisfied: pandas>=0.25 in /usr/local/lib/python3.8/dist-packages (from seaborn) (0.25.3)\n",
      "Requirement already satisfied: kiwisolver>=1.0.1 in /kernel/lib/python3.8/site-packages (from matplotlib!=3.6.1,>=3.1->seaborn) (1.4.4)\n",
      "Requirement already satisfied: pillow>=6.2.0 in /kernel/lib/python3.8/site-packages (from matplotlib!=3.6.1,>=3.1->seaborn) (9.2.0)\n",
      "Requirement already satisfied: cycler>=0.10 in /kernel/lib/python3.8/site-packages (from matplotlib!=3.6.1,>=3.1->seaborn) (0.11.0)\n",
      "Requirement already satisfied: python-dateutil>=2.1 in /kernel/lib/python3.8/site-packages (from matplotlib!=3.6.1,>=3.1->seaborn) (2.8.2)\n",
      "Requirement already satisfied: pyparsing!=2.0.4,!=2.1.2,!=2.1.6,>=2.0.3 in /kernel/lib/python3.8/site-packages (from matplotlib!=3.6.1,>=3.1->seaborn) (2.4.7)\n",
      "Requirement already satisfied: pytz>=2017.2 in /usr/local/lib/python3.8/dist-packages (from pandas>=0.25->seaborn) (2021.3)\n",
      "Requirement already satisfied: six>=1.5 in /kernel/lib/python3.8/site-packages (from python-dateutil>=2.1->matplotlib!=3.6.1,>=3.1->seaborn) (1.16.0)\n",
      "Installing collected packages: seaborn\n",
      "Successfully installed seaborn-0.12.1\n",
      "\u001b[33mWARNING: You are using pip version 21.3.1; however, version 22.3 is available.\n",
      "You should consider upgrading via the '/usr/local/bin/python3 -m pip install --upgrade pip' command.\u001b[0m\n"
     ]
    }
   ],
   "source": [
    "%pip install seaborn"
   ]
  },
  {
   "cell_type": "code",
   "execution_count": null,
   "id": "149b0b1d",
   "metadata": {
    "cellId": "gckvv8c0x3n8665qrikwns"
   },
   "outputs": [],
   "source": [
    "%cd ../"
   ]
  },
  {
   "cell_type": "code",
   "execution_count": null,
   "id": "cd69c8ad",
   "metadata": {
    "cellId": "6m5zertaq0op1k3d39se8"
   },
   "outputs": [],
   "source": [
    "df = pd.read_csv(\"data/train.csv\")\n",
    "test_data = pd.read_csv(\"data/test.csv\")\n",
    "test_ids = deepcopy(test_data.id)"
   ]
  },
  {
   "cell_type": "code",
   "execution_count": null,
   "id": "d510aba6",
   "metadata": {
    "cellId": "g5jgfw7hmovipa7t7hw9u"
   },
   "outputs": [],
   "source": [
    "df.head(3)"
   ]
  },
  {
   "cell_type": "code",
   "execution_count": null,
   "id": "d9fa8447",
   "metadata": {
    "cellId": "im4u8s833jshl1p8or4fw4"
   },
   "outputs": [],
   "source": [
    "test_data.head(3)"
   ]
  },
  {
   "cell_type": "code",
   "execution_count": null,
   "id": "a361a688",
   "metadata": {
    "cellId": "4srcwdut0terya7mzb8x"
   },
   "outputs": [],
   "source": [
    "top_operators = [obj for obj, count in Counter(test_data['index_oper'].replace(' ', '0').astype(float).astype(int)).most_common()][:10]"
   ]
  },
  {
   "cell_type": "code",
   "execution_count": null,
   "id": "5e6ac0f4",
   "metadata": {
    "cellId": "y1xj4fwnisdkk897ytj52r"
   },
   "outputs": [],
   "source": [
    "X = df.drop(columns=[\"label\"])\n",
    "y = df.label\n",
    "X_train, X_val, y_train, y_val = train_test_split(X, y, test_size=0.2, random_state=0)\n",
    "\n",
    "# del [[X, df]]\n",
    "# gc.collect()\n",
    "# X=pd.DataFrame()\n",
    "# df=pd.DataFrame()"
   ]
  },
  {
   "cell_type": "code",
   "execution_count": null,
   "id": "0060c4ef",
   "metadata": {
    "cellId": "vo5cosfp59dkzp608owl"
   },
   "outputs": [],
   "source": [
    "cat_features = [\"type\", \"priority\", \"is_privatecategory\", \"class\", \"is_in_yandex\", \"mailctg\", \"directctg\", \"mailtype\"]\n",
    "\n",
    "def prepare_data(df):\n",
    "    df.drop(columns=[\"oper_type + oper_attr\"], inplace=True)\n",
    "    \n",
    "    for operator in top_operators:\n",
    "        df[f'is_{operator}_operator'] = df['index_oper'].replace(' ', '0').astype(float).astype(int) == operator\n",
    "        \n",
    "    # df['unknown_opers_ratio'] = df.total_qty_oper_login_0 / df.total_qty_over_index_and_type.clip(lower=1)\n",
    "    # df['certain_mailtype_ratio'] =  df.total_qty_over_index_and_type / df.total_qty_over_index.clip(lower=1)\n",
    "            \n",
    "    df.drop(columns=[\"id\", \"index_oper\", \"name_mfi\"], inplace=True)\n",
    "    df.drop(columns=['mailrank'], inplace=True)\n",
    "    \n",
    "    df.is_return = df.is_return.apply(lambda text: text == 'Y')\n",
    "    \n",
    "    for cat_feature in cat_features:\n",
    "        df[cat_feature] = df[cat_feature].apply(lambda text: str(text))\n",
    "\n",
    "    return df"
   ]
  },
  {
   "cell_type": "code",
   "execution_count": null,
   "id": "870a21e4",
   "metadata": {
    "cellId": "60rf4cbfin4kbpksr9kjv"
   },
   "outputs": [],
   "source": [
    "X_train = prepare_data(X_train)\n",
    "X_val = prepare_data(X_val)\n",
    "test_df = prepare_data(test_data)"
   ]
  },
  {
   "cell_type": "code",
   "execution_count": null,
   "id": "12ce26d2",
   "metadata": {
    "cellId": "ekxuw6dk86njo1itn9da"
   },
   "outputs": [],
   "source": [
    "X_train.head()"
   ]
  },
  {
   "cell_type": "code",
   "execution_count": null,
   "id": "67f8d37b",
   "metadata": {
    "cellId": "vl7iwz77q0jgrz0vrhvgt"
   },
   "outputs": [],
   "source": [
    "for column in X_train.columns:\n",
    "    print(column)\n",
    "    print(X_train[column].nunique())\n",
    "    print('\\n'.join([str(obj) + ' | ' + str(count / X_train.shape[0]) for obj, count in Counter(X_train[column]).most_common(10)]))\n",
    "    print()"
   ]
  },
  {
   "cell_type": "code",
   "execution_count": null,
   "id": "79e1b53e",
   "metadata": {
    "cellId": "eza730cv317hh5qet8yto"
   },
   "outputs": [],
   "source": [
    "X_train.to_csv('data/X_train_prepared.csv', index=False)\n",
    "X_val.to_csv('data/X_val_prepared.csv', index=False)\n",
    "test_df.to_csv('data/test_df_prepared.csv', index=False)"
   ]
  },
  {
   "cell_type": "code",
   "execution_count": 32,
   "id": "2d9d359d",
   "metadata": {
    "cellId": "0e5qkiygp8bhgj52dwazug"
   },
   "outputs": [],
   "source": [
    "cat_features = [\"type\", \"priority\", \"is_privatecategory\", \"class\", \"is_in_yandex\", \"mailctg\", \"directctg\", \"mailtype\"]\n",
    "\n",
    "def to_cat_features(df):\n",
    "    for cat_feature in cat_features:\n",
    "        df[cat_feature] = df[cat_feature].apply(lambda text: str(text))\n",
    "        \n",
    "X_train = pd.read_csv('data/X_train_prepared.csv')\n",
    "y_train = pd.read_csv('data/y_train_prepared.csv')\n",
    "X_val = pd.read_csv('data/X_val_prepared.csv')\n",
    "y_val = pd.read_csv('data/y_val_prepared.csv')\n",
    "test_df = pd.read_csv('data/test_df_prepared.csv')\n",
    "test_ids = pd.read_csv('data/test_ids.csv')\n",
    "\n",
    "to_cat_features(X_train)\n",
    "to_cat_features(X_val)\n",
    "to_cat_features(test_df)"
   ]
  },
  {
   "cell_type": "code",
   "execution_count": 33,
   "id": "f4c9d973",
   "metadata": {
    "cellId": "19c666lnwwtjcirwzzyhpn"
   },
   "outputs": [],
   "source": [
    "model = CatBoostClassifier(random_state=0, max_depth=8, verbose=10, iterations=2000, auto_class_weights=\"Balanced\", cat_features=cat_features)"
   ]
  },
  {
   "cell_type": "code",
   "execution_count": 34,
   "id": "9420db07",
   "metadata": {
    "cellId": "zcndk9o5xzr7juqfjv6ve9",
    "execution_id": "aa4befc8-0f99-4817-b9d5-a1473d486c49"
   },
   "outputs": [
    {
     "name": "stdout",
     "output_type": "stream",
     "text": [
      "Learning rate set to 0.203601\n",
      "0:\tlearn: 0.4943808\ttotal: 6.19s\tremaining: 3h 26m 11s\n",
      "10:\tlearn: 0.2877284\ttotal: 55.8s\tremaining: 2h 48m 17s\n",
      "20:\tlearn: 0.2775276\ttotal: 1m 46s\tremaining: 2h 47m 13s\n",
      "30:\tlearn: 0.2744802\ttotal: 2m 33s\tremaining: 2h 42m 59s\n",
      "40:\tlearn: 0.2725872\ttotal: 3m 24s\tremaining: 2h 42m 49s\n",
      "50:\tlearn: 0.2709979\ttotal: 4m 15s\tremaining: 2h 42m 49s\n",
      "60:\tlearn: 0.2703430\ttotal: 4m 59s\tremaining: 2h 38m 25s\n",
      "70:\tlearn: 0.2698407\ttotal: 5m 43s\tremaining: 2h 35m 34s\n",
      "80:\tlearn: 0.2688627\ttotal: 6m 29s\tremaining: 2h 33m 40s\n",
      "90:\tlearn: 0.2679981\ttotal: 7m 16s\tremaining: 2h 32m 26s\n",
      "100:\tlearn: 0.2671641\ttotal: 8m 7s\tremaining: 2h 32m 48s\n",
      "110:\tlearn: 0.2664046\ttotal: 8m 57s\tremaining: 2h 32m 30s\n",
      "120:\tlearn: 0.2658268\ttotal: 9m 49s\tremaining: 2h 32m 41s\n",
      "130:\tlearn: 0.2651059\ttotal: 10m 41s\tremaining: 2h 32m 27s\n",
      "140:\tlearn: 0.2644698\ttotal: 11m 31s\tremaining: 2h 32m 1s\n",
      "150:\tlearn: 0.2639872\ttotal: 12m 22s\tremaining: 2h 31m 35s\n",
      "160:\tlearn: 0.2633767\ttotal: 13m 13s\tremaining: 2h 31m\n",
      "170:\tlearn: 0.2629846\ttotal: 14m 2s\tremaining: 2h 30m 7s\n",
      "180:\tlearn: 0.2625848\ttotal: 14m 52s\tremaining: 2h 29m 34s\n",
      "190:\tlearn: 0.2621045\ttotal: 15m 43s\tremaining: 2h 28m 55s\n",
      "200:\tlearn: 0.2615363\ttotal: 16m 35s\tremaining: 2h 28m 28s\n",
      "210:\tlearn: 0.2610869\ttotal: 17m 23s\tremaining: 2h 27m 28s\n",
      "220:\tlearn: 0.2606545\ttotal: 18m 14s\tremaining: 2h 26m 54s\n",
      "230:\tlearn: 0.2602708\ttotal: 19m 3s\tremaining: 2h 25m 55s\n",
      "240:\tlearn: 0.2598737\ttotal: 19m 55s\tremaining: 2h 25m 28s\n",
      "250:\tlearn: 0.2594917\ttotal: 20m 47s\tremaining: 2h 24m 53s\n",
      "260:\tlearn: 0.2590595\ttotal: 21m 39s\tremaining: 2h 24m 15s\n",
      "270:\tlearn: 0.2586412\ttotal: 22m 29s\tremaining: 2h 23m 31s\n",
      "280:\tlearn: 0.2582484\ttotal: 23m 23s\tremaining: 2h 23m 6s\n",
      "290:\tlearn: 0.2579353\ttotal: 24m 15s\tremaining: 2h 22m 25s\n",
      "300:\tlearn: 0.2575499\ttotal: 25m 8s\tremaining: 2h 21m 52s\n",
      "310:\tlearn: 0.2572334\ttotal: 25m 59s\tremaining: 2h 21m 11s\n",
      "320:\tlearn: 0.2567439\ttotal: 26m 50s\tremaining: 2h 20m 26s\n",
      "330:\tlearn: 0.2564406\ttotal: 27m 43s\tremaining: 2h 19m 49s\n",
      "340:\tlearn: 0.2560499\ttotal: 28m 34s\tremaining: 2h 19m 2s\n",
      "350:\tlearn: 0.2557029\ttotal: 29m 24s\tremaining: 2h 18m 11s\n",
      "360:\tlearn: 0.2553859\ttotal: 30m 17s\tremaining: 2h 17m 30s\n",
      "370:\tlearn: 0.2551157\ttotal: 31m 3s\tremaining: 2h 16m 21s\n",
      "380:\tlearn: 0.2546947\ttotal: 31m 56s\tremaining: 2h 15m 41s\n",
      "390:\tlearn: 0.2544438\ttotal: 32m 46s\tremaining: 2h 14m 54s\n",
      "400:\tlearn: 0.2541160\ttotal: 33m 39s\tremaining: 2h 14m 13s\n",
      "410:\tlearn: 0.2537918\ttotal: 34m 32s\tremaining: 2h 13m 32s\n",
      "420:\tlearn: 0.2534321\ttotal: 35m 25s\tremaining: 2h 12m 52s\n",
      "430:\tlearn: 0.2531373\ttotal: 36m 17s\tremaining: 2h 12m 6s\n",
      "440:\tlearn: 0.2528960\ttotal: 37m 5s\tremaining: 2h 11m 8s\n",
      "450:\tlearn: 0.2526642\ttotal: 37m 59s\tremaining: 2h 10m 29s\n",
      "460:\tlearn: 0.2523870\ttotal: 38m 52s\tremaining: 2h 9m 45s\n",
      "470:\tlearn: 0.2521156\ttotal: 39m 47s\tremaining: 2h 9m 10s\n",
      "480:\tlearn: 0.2518767\ttotal: 40m 38s\tremaining: 2h 8m 21s\n",
      "490:\tlearn: 0.2516046\ttotal: 41m 29s\tremaining: 2h 7m 30s\n",
      "500:\tlearn: 0.2514011\ttotal: 42m 20s\tremaining: 2h 6m 42s\n",
      "510:\tlearn: 0.2510765\ttotal: 43m 13s\tremaining: 2h 5m 56s\n",
      "520:\tlearn: 0.2507884\ttotal: 44m 3s\tremaining: 2h 5m 3s\n",
      "530:\tlearn: 0.2504660\ttotal: 44m 55s\tremaining: 2h 4m 18s\n",
      "540:\tlearn: 0.2501935\ttotal: 45m 48s\tremaining: 2h 3m 33s\n",
      "550:\tlearn: 0.2499681\ttotal: 46m 41s\tremaining: 2h 2m 47s\n",
      "560:\tlearn: 0.2496212\ttotal: 47m 32s\tremaining: 2h 1m 57s\n",
      "570:\tlearn: 0.2493640\ttotal: 48m 26s\tremaining: 2h 1m 12s\n",
      "580:\tlearn: 0.2491670\ttotal: 49m 15s\tremaining: 2h 18s\n",
      "590:\tlearn: 0.2489000\ttotal: 50m 6s\tremaining: 1h 59m 28s\n",
      "600:\tlearn: 0.2486156\ttotal: 50m 58s\tremaining: 1h 58m 39s\n",
      "610:\tlearn: 0.2483439\ttotal: 51m 50s\tremaining: 1h 57m 50s\n",
      "620:\tlearn: 0.2480993\ttotal: 52m 42s\tremaining: 1h 57m 2s\n",
      "630:\tlearn: 0.2478688\ttotal: 53m 31s\tremaining: 1h 56m 7s\n",
      "640:\tlearn: 0.2476315\ttotal: 54m 23s\tremaining: 1h 55m 18s\n",
      "650:\tlearn: 0.2473824\ttotal: 55m 16s\tremaining: 1h 54m 32s\n",
      "660:\tlearn: 0.2471187\ttotal: 56m 10s\tremaining: 1h 53m 47s\n",
      "670:\tlearn: 0.2468523\ttotal: 57m 1s\tremaining: 1h 52m 57s\n",
      "680:\tlearn: 0.2466081\ttotal: 57m 51s\tremaining: 1h 52m 3s\n",
      "690:\tlearn: 0.2463946\ttotal: 58m 42s\tremaining: 1h 51m 13s\n",
      "700:\tlearn: 0.2461215\ttotal: 59m 35s\tremaining: 1h 50m 26s\n",
      "710:\tlearn: 0.2459673\ttotal: 1h 25s\tremaining: 1h 49m 33s\n",
      "720:\tlearn: 0.2456904\ttotal: 1h 1m 18s\tremaining: 1h 48m 45s\n",
      "730:\tlearn: 0.2454590\ttotal: 1h 2m 9s\tremaining: 1h 47m 54s\n",
      "740:\tlearn: 0.2452797\ttotal: 1h 2m 59s\tremaining: 1h 47m 1s\n",
      "750:\tlearn: 0.2450346\ttotal: 1h 3m 50s\tremaining: 1h 46m 10s\n",
      "760:\tlearn: 0.2448352\ttotal: 1h 4m 42s\tremaining: 1h 45m 21s\n",
      "770:\tlearn: 0.2445987\ttotal: 1h 5m 34s\tremaining: 1h 44m 31s\n",
      "780:\tlearn: 0.2444420\ttotal: 1h 6m 21s\tremaining: 1h 43m 34s\n",
      "790:\tlearn: 0.2442365\ttotal: 1h 7m 14s\tremaining: 1h 42m 46s\n",
      "800:\tlearn: 0.2439721\ttotal: 1h 8m 5s\tremaining: 1h 41m 55s\n",
      "810:\tlearn: 0.2437921\ttotal: 1h 8m 55s\tremaining: 1h 41m 2s\n",
      "820:\tlearn: 0.2435521\ttotal: 1h 9m 45s\tremaining: 1h 40m 10s\n",
      "830:\tlearn: 0.2433377\ttotal: 1h 10m 37s\tremaining: 1h 39m 21s\n",
      "840:\tlearn: 0.2431487\ttotal: 1h 11m 26s\tremaining: 1h 38m 26s\n",
      "850:\tlearn: 0.2429885\ttotal: 1h 12m 16s\tremaining: 1h 37m 35s\n",
      "860:\tlearn: 0.2427109\ttotal: 1h 13m 9s\tremaining: 1h 36m 46s\n",
      "870:\tlearn: 0.2424657\ttotal: 1h 14m 1s\tremaining: 1h 35m 57s\n",
      "880:\tlearn: 0.2422653\ttotal: 1h 14m 55s\tremaining: 1h 35m 9s\n",
      "890:\tlearn: 0.2420976\ttotal: 1h 15m 45s\tremaining: 1h 34m 17s\n",
      "900:\tlearn: 0.2418503\ttotal: 1h 16m 36s\tremaining: 1h 33m 26s\n",
      "910:\tlearn: 0.2416299\ttotal: 1h 17m 28s\tremaining: 1h 32m 36s\n",
      "920:\tlearn: 0.2414206\ttotal: 1h 18m 23s\tremaining: 1h 31m 50s\n",
      "930:\tlearn: 0.2412431\ttotal: 1h 19m 14s\tremaining: 1h 30m 59s\n",
      "940:\tlearn: 0.2410520\ttotal: 1h 20m 5s\tremaining: 1h 30m 7s\n",
      "950:\tlearn: 0.2408831\ttotal: 1h 20m 56s\tremaining: 1h 29m 17s\n",
      "960:\tlearn: 0.2406639\ttotal: 1h 21m 48s\tremaining: 1h 28m 26s\n",
      "970:\tlearn: 0.2404676\ttotal: 1h 22m 40s\tremaining: 1h 27m 36s\n",
      "980:\tlearn: 0.2402778\ttotal: 1h 23m 33s\tremaining: 1h 26m 47s\n",
      "990:\tlearn: 0.2400489\ttotal: 1h 24m 24s\tremaining: 1h 25m 56s\n",
      "1000:\tlearn: 0.2397815\ttotal: 1h 25m 15s\tremaining: 1h 25m 5s\n",
      "1010:\tlearn: 0.2395937\ttotal: 1h 26m 9s\tremaining: 1h 24m 17s\n",
      "1020:\tlearn: 0.2394480\ttotal: 1h 26m 58s\tremaining: 1h 23m 23s\n",
      "1030:\tlearn: 0.2392855\ttotal: 1h 27m 49s\tremaining: 1h 22m 32s\n",
      "1040:\tlearn: 0.2390565\ttotal: 1h 28m 41s\tremaining: 1h 21m 42s\n",
      "1050:\tlearn: 0.2389689\ttotal: 1h 29m 25s\tremaining: 1h 20m 45s\n",
      "1060:\tlearn: 0.2387883\ttotal: 1h 30m 19s\tremaining: 1h 19m 56s\n",
      "1070:\tlearn: 0.2385803\ttotal: 1h 31m 12s\tremaining: 1h 19m 7s\n",
      "1080:\tlearn: 0.2383782\ttotal: 1h 32m 4s\tremaining: 1h 18m 17s\n",
      "1090:\tlearn: 0.2381403\ttotal: 1h 32m 57s\tremaining: 1h 17m 26s\n",
      "1100:\tlearn: 0.2379546\ttotal: 1h 33m 47s\tremaining: 1h 16m 35s\n",
      "1110:\tlearn: 0.2377501\ttotal: 1h 34m 39s\tremaining: 1h 15m 44s\n",
      "1120:\tlearn: 0.2376004\ttotal: 1h 35m 29s\tremaining: 1h 14m 52s\n",
      "1130:\tlearn: 0.2374269\ttotal: 1h 36m 21s\tremaining: 1h 14m 2s\n",
      "1140:\tlearn: 0.2372677\ttotal: 1h 37m 12s\tremaining: 1h 13m 10s\n",
      "1150:\tlearn: 0.2371597\ttotal: 1h 38m 1s\tremaining: 1h 12m 18s\n",
      "1160:\tlearn: 0.2369662\ttotal: 1h 38m 50s\tremaining: 1h 11m 25s\n",
      "1170:\tlearn: 0.2367931\ttotal: 1h 39m 42s\tremaining: 1h 10m 35s\n",
      "1180:\tlearn: 0.2366311\ttotal: 1h 40m 33s\tremaining: 1h 9m 44s\n",
      "1190:\tlearn: 0.2364952\ttotal: 1h 41m 26s\tremaining: 1h 8m 54s\n",
      "1200:\tlearn: 0.2362512\ttotal: 1h 42m 18s\tremaining: 1h 8m 3s\n",
      "1210:\tlearn: 0.2360642\ttotal: 1h 43m 9s\tremaining: 1h 7m 12s\n",
      "1220:\tlearn: 0.2358997\ttotal: 1h 44m 1s\tremaining: 1h 6m 22s\n",
      "1230:\tlearn: 0.2356953\ttotal: 1h 44m 49s\tremaining: 1h 5m 29s\n",
      "1240:\tlearn: 0.2355510\ttotal: 1h 45m 41s\tremaining: 1h 4m 38s\n",
      "1250:\tlearn: 0.2353259\ttotal: 1h 46m 34s\tremaining: 1h 3m 48s\n",
      "1260:\tlearn: 0.2351946\ttotal: 1h 47m 23s\tremaining: 1h 2m 56s\n",
      "1270:\tlearn: 0.2350166\ttotal: 1h 48m 17s\tremaining: 1h 2m 6s\n",
      "1280:\tlearn: 0.2348649\ttotal: 1h 49m 12s\tremaining: 1h 1m 17s\n",
      "1290:\tlearn: 0.2347014\ttotal: 1h 50m 3s\tremaining: 1h 26s\n",
      "1300:\tlearn: 0.2344886\ttotal: 1h 50m 56s\tremaining: 59m 36s\n",
      "1310:\tlearn: 0.2343089\ttotal: 1h 51m 46s\tremaining: 58m 44s\n",
      "1320:\tlearn: 0.2341310\ttotal: 1h 52m 37s\tremaining: 57m 53s\n",
      "1330:\tlearn: 0.2339643\ttotal: 1h 53m 29s\tremaining: 57m 2s\n",
      "1340:\tlearn: 0.2337701\ttotal: 1h 54m 21s\tremaining: 56m 11s\n",
      "1350:\tlearn: 0.2335719\ttotal: 1h 55m 13s\tremaining: 55m 21s\n",
      "1360:\tlearn: 0.2334536\ttotal: 1h 56m 3s\tremaining: 54m 29s\n",
      "1370:\tlearn: 0.2333305\ttotal: 1h 56m 52s\tremaining: 53m 37s\n",
      "1380:\tlearn: 0.2331675\ttotal: 1h 57m 44s\tremaining: 52m 46s\n",
      "1390:\tlearn: 0.2330010\ttotal: 1h 58m 36s\tremaining: 51m 55s\n",
      "1400:\tlearn: 0.2328219\ttotal: 1h 59m 27s\tremaining: 51m 4s\n",
      "1410:\tlearn: 0.2326454\ttotal: 2h 20s\tremaining: 50m 13s\n",
      "1420:\tlearn: 0.2325141\ttotal: 2h 1m 13s\tremaining: 49m 23s\n",
      "1430:\tlearn: 0.2323430\ttotal: 2h 2m 4s\tremaining: 48m 32s\n",
      "1440:\tlearn: 0.2321830\ttotal: 2h 2m 54s\tremaining: 47m 40s\n",
      "1450:\tlearn: 0.2320308\ttotal: 2h 3m 47s\tremaining: 46m 50s\n",
      "1460:\tlearn: 0.2318893\ttotal: 2h 4m 36s\tremaining: 45m 58s\n",
      "1470:\tlearn: 0.2317256\ttotal: 2h 5m 27s\tremaining: 45m 6s\n",
      "1480:\tlearn: 0.2315505\ttotal: 2h 6m 16s\tremaining: 44m 14s\n",
      "1490:\tlearn: 0.2314302\ttotal: 2h 7m 7s\tremaining: 43m 23s\n",
      "1500:\tlearn: 0.2313001\ttotal: 2h 7m 58s\tremaining: 42m 32s\n",
      "1510:\tlearn: 0.2311907\ttotal: 2h 8m 46s\tremaining: 41m 40s\n",
      "1520:\tlearn: 0.2310416\ttotal: 2h 9m 39s\tremaining: 40m 49s\n",
      "1530:\tlearn: 0.2309069\ttotal: 2h 10m 31s\tremaining: 39m 59s\n",
      "1540:\tlearn: 0.2307222\ttotal: 2h 11m 24s\tremaining: 39m 8s\n",
      "1550:\tlearn: 0.2305459\ttotal: 2h 12m 14s\tremaining: 38m 17s\n",
      "1560:\tlearn: 0.2303934\ttotal: 2h 13m 2s\tremaining: 37m 25s\n",
      "1570:\tlearn: 0.2302192\ttotal: 2h 13m 55s\tremaining: 36m 34s\n",
      "1580:\tlearn: 0.2300747\ttotal: 2h 14m 47s\tremaining: 35m 43s\n",
      "1590:\tlearn: 0.2299448\ttotal: 2h 15m 41s\tremaining: 34m 52s\n",
      "1600:\tlearn: 0.2297961\ttotal: 2h 16m 34s\tremaining: 34m 2s\n",
      "1610:\tlearn: 0.2296672\ttotal: 2h 17m 25s\tremaining: 33m 11s\n",
      "1620:\tlearn: 0.2295150\ttotal: 2h 18m 16s\tremaining: 32m 19s\n",
      "1630:\tlearn: 0.2293401\ttotal: 2h 19m 7s\tremaining: 31m 28s\n",
      "1640:\tlearn: 0.2291475\ttotal: 2h 20m 1s\tremaining: 30m 38s\n",
      "1650:\tlearn: 0.2289824\ttotal: 2h 20m 54s\tremaining: 29m 47s\n",
      "1660:\tlearn: 0.2288242\ttotal: 2h 21m 46s\tremaining: 28m 56s\n",
      "1670:\tlearn: 0.2286773\ttotal: 2h 22m 40s\tremaining: 28m 5s\n",
      "1680:\tlearn: 0.2285563\ttotal: 2h 23m 31s\tremaining: 27m 14s\n",
      "1690:\tlearn: 0.2284539\ttotal: 2h 24m 19s\tremaining: 26m 22s\n",
      "1700:\tlearn: 0.2283544\ttotal: 2h 25m 9s\tremaining: 25m 30s\n",
      "1710:\tlearn: 0.2282251\ttotal: 2h 26m 1s\tremaining: 24m 39s\n",
      "1720:\tlearn: 0.2280503\ttotal: 2h 26m 52s\tremaining: 23m 48s\n",
      "1730:\tlearn: 0.2279161\ttotal: 2h 27m 43s\tremaining: 22m 57s\n",
      "1740:\tlearn: 0.2277744\ttotal: 2h 28m 34s\tremaining: 22m 6s\n",
      "1750:\tlearn: 0.2276471\ttotal: 2h 29m 26s\tremaining: 21m 15s\n",
      "1760:\tlearn: 0.2275217\ttotal: 2h 30m 16s\tremaining: 20m 23s\n",
      "1770:\tlearn: 0.2273866\ttotal: 2h 31m 7s\tremaining: 19m 32s\n",
      "1780:\tlearn: 0.2272777\ttotal: 2h 31m 58s\tremaining: 18m 41s\n",
      "1790:\tlearn: 0.2271213\ttotal: 2h 32m 52s\tremaining: 17m 50s\n",
      "1800:\tlearn: 0.2269571\ttotal: 2h 33m 43s\tremaining: 16m 59s\n",
      "1810:\tlearn: 0.2267874\ttotal: 2h 34m 34s\tremaining: 16m 7s\n",
      "1820:\tlearn: 0.2266222\ttotal: 2h 35m 27s\tremaining: 15m 16s\n",
      "1830:\tlearn: 0.2264589\ttotal: 2h 36m 22s\tremaining: 14m 25s\n",
      "1840:\tlearn: 0.2262902\ttotal: 2h 37m 13s\tremaining: 13m 34s\n",
      "1850:\tlearn: 0.2261018\ttotal: 2h 38m 7s\tremaining: 12m 43s\n",
      "1860:\tlearn: 0.2259544\ttotal: 2h 39m 1s\tremaining: 11m 52s\n",
      "1870:\tlearn: 0.2258310\ttotal: 2h 39m 55s\tremaining: 11m 1s\n",
      "1880:\tlearn: 0.2256951\ttotal: 2h 40m 48s\tremaining: 10m 10s\n",
      "1890:\tlearn: 0.2255711\ttotal: 2h 41m 40s\tremaining: 9m 19s\n",
      "1900:\tlearn: 0.2254496\ttotal: 2h 42m 31s\tremaining: 8m 27s\n",
      "1910:\tlearn: 0.2252598\ttotal: 2h 43m 24s\tremaining: 7m 36s\n",
      "1920:\tlearn: 0.2251512\ttotal: 2h 44m 16s\tremaining: 6m 45s\n",
      "1930:\tlearn: 0.2249964\ttotal: 2h 45m 9s\tremaining: 5m 54s\n",
      "1940:\tlearn: 0.2248007\ttotal: 2h 45m 59s\tremaining: 5m 2s\n",
      "1950:\tlearn: 0.2246512\ttotal: 2h 46m 50s\tremaining: 4m 11s\n",
      "1960:\tlearn: 0.2245227\ttotal: 2h 47m 42s\tremaining: 3m 20s\n",
      "1970:\tlearn: 0.2244095\ttotal: 2h 48m 33s\tremaining: 2m 28s\n",
      "1980:\tlearn: 0.2242769\ttotal: 2h 49m 25s\tremaining: 1m 37s\n",
      "1990:\tlearn: 0.2241537\ttotal: 2h 50m 20s\tremaining: 46.2s\n",
      "1999:\tlearn: 0.2240313\ttotal: 2h 51m 5s\tremaining: 0us\n"
     ]
    },
    {
     "data": {
      "text/plain": [
       "<catboost.core.CatBoostClassifier at 0x7fc9309ad070>"
      ]
     },
     "execution_count": 34,
     "metadata": {},
     "output_type": "execute_result"
    }
   ],
   "source": [
    "model.fit(X_train, y_train)"
   ]
  },
  {
   "cell_type": "code",
   "execution_count": 35,
   "id": "891b7bf8",
   "metadata": {
    "cellId": "9ez17282jjp77mcjqjdmpk",
    "execution_id": "036d2160-5fe3-451f-9b88-f49c03071721"
   },
   "outputs": [],
   "source": [
    "def score_model(model, X, y, threshold=0.5):  # 0.41 is the best for now\n",
    "    pred = model.predict_proba(X)[:, 1] > threshold\n",
    "    \n",
    "    tn, fp, fn, tp = confusion_matrix(y, pred).ravel()\n",
    "    tpr = (tp) / (tp + fn)\n",
    "    fpr = (fp) / (fp + tn)\n",
    "    \n",
    "    r_score = (tp) / (tp + fn)\n",
    "    ra_score = (1 + tpr - fpr) / 2\n",
    "        \n",
    "    score = 0.1 * r_score + 0.9 * ra_score\n",
    "    \n",
    "    return score"
   ]
  },
  {
   "cell_type": "code",
   "execution_count": 36,
   "id": "666c2fdb",
   "metadata": {
    "cellId": "f3nowgbe75vfetq0dzrh",
    "execution_id": "036d214f-aa1e-4ff0-975f-68e5bc1844bd"
   },
   "outputs": [
    {
     "data": {
      "text/plain": [
       "0.8838221465348826"
      ]
     },
     "execution_count": 36,
     "metadata": {},
     "output_type": "execute_result"
    }
   ],
   "source": [
    "score_model(model, X_val, y_val, 0.41)"
   ]
  },
  {
   "cell_type": "code",
   "execution_count": 37,
   "id": "7594014c",
   "metadata": {
    "cellId": "u9agivmjz4703bj9v5wq6",
    "execution_id": "87612d52-dfec-426a-b9f3-8b8db1544ff9"
   },
   "outputs": [
    {
     "data": {
      "text/plain": [
       "[('certain_mailtype_ratio', 11.764077716537898),\n",
       " ('unknown_opers_ratio', 9.946982218334423),\n",
       " ('type', 9.214546717917129),\n",
       " ('total_qty_oper_login_0', 9.09671569569094),\n",
       " ('dist_qty_oper_login_1', 8.470916066367279),\n",
       " ('total_qty_oper_login_1', 8.197543807359237),\n",
       " ('transport_pay', 6.808829923968521),\n",
       " ('weight', 6.316821916946282),\n",
       " ('price_mfi', 5.54810322299647),\n",
       " ('weight_mfi', 5.531178873778957),\n",
       " ('mailctg', 4.195875729539586),\n",
       " ('total_qty_over_index', 4.053495057495931),\n",
       " ('total_qty_over_index_and_type', 2.7969675402956593),\n",
       " ('is_in_yandex', 1.7080008732258787),\n",
       " ('is_wrong_rcpn_name', 1.384759938966418),\n",
       " ('is_wrong_phone_number', 1.380027030433976),\n",
       " ('priority', 0.989736067403538),\n",
       " ('is_102102_operator', 0.6695382853543752),\n",
       " ('class', 0.6096994575404641),\n",
       " ('is_620984_operator', 0.272430571423585),\n",
       " ('is_102152_operator', 0.2641279567208704),\n",
       " ('directctg', 0.23065287127614592),\n",
       " ('is_102998_operator', 0.21636021433323885),\n",
       " ('is_200980_operator', 0.11142358069171557),\n",
       " ('is_102976_operator', 0.0878895427299838),\n",
       " ('mailtype', 0.04107156305153379),\n",
       " ('is_return', 0.036741626625714605),\n",
       " ('is_privatecategory', 0.027371996914978464),\n",
       " ('is_wrong_address', 0.012087165784314553),\n",
       " ('is_wrong_sndr_name', 0.011968776609729654),\n",
       " ('postmark', 0.004057993685576451),\n",
       " ('is_102971_operator', 0.0),\n",
       " ('is_102968_operator', 0.0),\n",
       " ('is_140980_operator', 0.0),\n",
       " ('is_420306_operator', 0.0)]"
      ]
     },
     "execution_count": 37,
     "metadata": {},
     "output_type": "execute_result"
    }
   ],
   "source": [
    "sorted(list(zip(X_train.columns, model.feature_importances_)), key = lambda x: -x[1])"
   ]
  },
  {
   "cell_type": "code",
   "execution_count": 38,
   "id": "b1cbb012",
   "metadata": {
    "cellId": "gwkd2xzhgeyo3nc1u5538",
    "execution_id": "7f8c837f-33f9-4841-ba54-bd422599278a"
   },
   "outputs": [],
   "source": [
    "test_preds = (model.predict_proba(test_df)[:, 1] > 0.41).astype(int)"
   ]
  },
  {
   "cell_type": "code",
   "execution_count": 39,
   "id": "8cf55dcb",
   "metadata": {
    "cellId": "r2vuvlz9lfg34g1znui9vk",
    "execution_id": "622a92d5-8c91-4d3e-a239-a9b955859214"
   },
   "outputs": [],
   "source": [
    "submission = pd.DataFrame({'id': test_ids.id, 'label': test_preds})"
   ]
  },
  {
   "cell_type": "code",
   "execution_count": 40,
   "id": "6ee0c153",
   "metadata": {
    "cellId": "ayhhjvvenx8223d6624g6l",
    "execution_id": "0ea7086d-ebe7-4840-a043-949e1335c84c"
   },
   "outputs": [],
   "source": [
    "submission.to_csv(\"submission.csv\", index=False)"
   ]
  },
  {
   "cell_type": "code",
   "execution_count": 41,
   "id": "00e3fa06",
   "metadata": {
    "cellId": "15jqlabgeayfjdt5cx2gda",
    "execution_id": "4eb557e3-d649-42c4-a793-9d606d678e4a"
   },
   "outputs": [
    {
     "data": {
      "text/plain": [
       "0.18151075"
      ]
     },
     "execution_count": 41,
     "metadata": {},
     "output_type": "execute_result"
    }
   ],
   "source": [
    "test_preds.mean()"
   ]
  },
  {
   "cell_type": "code",
   "execution_count": null,
   "id": "c3860378",
   "metadata": {
    "cellId": "utr7pjxhjarq0syrhgikvf"
   },
   "outputs": [],
   "source": []
  },
  {
   "cell_type": "code",
   "execution_count": null,
   "id": "e9d7361e",
   "metadata": {
    "cellId": "41yi1tnrho2aydq25bza8m"
   },
   "outputs": [],
   "source": []
  },
  {
   "cell_type": "code",
   "execution_count": null,
   "id": "2752254e",
   "metadata": {
    "cellId": "mzvyjbjdqiraemgbuexmfl"
   },
   "outputs": [],
   "source": []
  }
 ],
 "metadata": {
  "language_info": {
   "codemirror_mode": {
    "name": "ipython",
    "version": 3
   },
   "file_extension": ".py",
   "mimetype": "text/x-python",
   "name": "python",
   "nbconvert_exporter": "python",
   "pygments_lexer": "ipython3",
   "version": "3.7.7"
  },
  "notebookId": "ed7dd563-ce4b-46a2-991c-9833419e1943",
  "notebookPath": "solution.ipynb"
 },
 "nbformat": 4,
 "nbformat_minor": 5
}
