{
 "cells": [
  {
   "cell_type": "code",
   "execution_count": 1,
   "id": "24e08c15",
   "metadata": {
    "cellId": "4ab013t53wnyt2wjl294mf"
   },
   "outputs": [
    {
     "name": "stdout",
     "output_type": "stream",
     "text": [
      "/home/chervovn04/Programming/hackathons/2022/digital_breakout_885303\n"
     ]
    }
   ],
   "source": [
    "import pandas as pd\n",
    "import numpy as np\n",
    "import seaborn as sns\n",
    "import matplotlib.pyplot as plt\n",
    "from sklearn.model_selection import train_test_split, GridSearchCV\n",
    "from sklearn.ensemble import RandomForestClassifier\n",
    "from sklearn.metrics import recall_score, roc_auc_score\n",
    "from sklearn.metrics import confusion_matrix\n",
    "from sklearn.metrics import recall_score, roc_auc_score, make_scorer\n",
    "\n",
    "from sklearn.linear_model import LogisticRegression\n",
    "from catboost import CatBoostClassifier\n",
    "\n",
    "from tqdm import tqdm\n",
    "from functools import reduce\n",
    "from copy import deepcopy\n",
    "import gc\n",
    "from collections import Counter\n",
    "\n",
    "%matplotlib inline\n",
    "\n",
    "import warnings\n",
    "warnings.filterwarnings('ignore') \n",
    "\n",
    "%cd ../"
   ]
  },
  {
   "cell_type": "code",
   "execution_count": 2,
   "id": "8c4a416e-102b-4cfe-9d77-c7cdcbefa1a4",
   "metadata": {},
   "outputs": [],
   "source": [
    "def delete_double_spaces(nm):\n",
    "    new_nm = ''\n",
    "    for char in nm:\n",
    "        if char != ' ' or (len(new_nm) and new_nm[-1] != ' '):\n",
    "            new_nm += char\n",
    "    return new_nm.strip()\n",
    "\n",
    "\n",
    "def label_process(nm):\n",
    "    nm = nm.lower()\n",
    "    new_nm = ''\n",
    "    balance = 0\n",
    "    for char in nm:\n",
    "        if char in '({[':\n",
    "            balance += 1\n",
    "        elif char in ')}]':\n",
    "            balance = max(0, balance - 1)\n",
    "        elif balance == 0:\n",
    "            new_nm += char\n",
    "    nm = new_nm\n",
    "    nm = delete_double_spaces(nm)\n",
    "    return nm"
   ]
  },
  {
   "cell_type": "code",
   "execution_count": 3,
   "id": "d9f9e41e-cf7b-4cec-8618-147199361d0f",
   "metadata": {},
   "outputs": [],
   "source": [
    "df = pd.read_csv(\"data/train.csv\")\n",
    "test_data = pd.read_csv(\"data/test.csv\")\n",
    "test_ids = deepcopy(test_data.id)"
   ]
  },
  {
   "cell_type": "code",
   "execution_count": 4,
   "id": "b4d7f54e-e030-41aa-ade3-4e034b41655c",
   "metadata": {},
   "outputs": [],
   "source": [
    "df['processed_name'] = df.name_mfi.apply(label_process)\n",
    "test_data['processed_name'] = test_data.name_mfi.apply(label_process)"
   ]
  },
  {
   "cell_type": "code",
   "execution_count": 5,
   "id": "66c4df56-6581-4255-a7bb-fc6f194db6b0",
   "metadata": {},
   "outputs": [],
   "source": [
    "df['item_hash'] = df['name_mfi'].apply(hash) ^ df.weight_mfi.apply(lambda x: hash(str(x))) ^ df.weight.apply(lambda x: hash(str(x))) ^ \\\n",
    "    df.mailtype.apply(lambda x: hash(str(x))) ^ df.transport_pay.apply(lambda x: hash(str(x)))\n",
    "test_data['item_hash'] = test_data['item_hash'] = test_data['name_mfi'].apply(hash) ^ test_data.weight_mfi.apply(lambda x: hash(str(x))) ^ test_data.weight.apply(lambda x: hash(str(x))) ^ \\\n",
    "    test_data.mailtype.apply(lambda x: hash(str(x))) ^ test_data.transport_pay.apply(lambda x: hash(str(x)))\n",
    "\n",
    "df['oper_item_hash'] = df.index_oper.apply(lambda x: hash(str(x))) ^ df.item_hash\n",
    "test_data['oper_item_hash'] = test_data.index_oper.apply(lambda x: hash(str(x))) ^ test_data.item_hash"
   ]
  },
  {
   "cell_type": "code",
   "execution_count": 6,
   "id": "a3effffa-b670-41fe-9f69-1659ef5b2a65",
   "metadata": {},
   "outputs": [],
   "source": [
    "hash_counter = Counter(pd.concat([df.item_hash, test_data.item_hash], ignore_index=True))\n",
    "oper_item_hash_counter = Counter(pd.concat([df.oper_item_hash, test_data.oper_item_hash], ignore_index=True))\n",
    "name_counter = Counter(pd.concat([df.processed_name, test_data.processed_name], ignore_index=True))"
   ]
  },
  {
   "cell_type": "code",
   "execution_count": 7,
   "id": "9f1505cf-417a-4b0e-81bd-25087d8d7d7b",
   "metadata": {},
   "outputs": [],
   "source": [
    "id_hash = pd.concat([df[['id', 'item_hash']], test_data[['id', 'item_hash']]], ignore_index=True)\n",
    "id_hash = id_hash.groupby('item_hash').agg(max).rename(columns={'id': 'last_id'})"
   ]
  },
  {
   "cell_type": "code",
   "execution_count": 8,
   "id": "e6b3d52b-7694-4ff0-b175-daaa96e31887",
   "metadata": {},
   "outputs": [],
   "source": [
    "df = df.join(id_hash, on='item_hash')\n",
    "test_data = test_data.join(id_hash, on='item_hash')"
   ]
  },
  {
   "cell_type": "code",
   "execution_count": 9,
   "id": "38040113-7975-48b7-8c85-b36610844b0f",
   "metadata": {},
   "outputs": [],
   "source": [
    "X = df.drop(columns=[\"label\"])\n",
    "y = df.label\n",
    "X_train, X_val, y_train, y_val = train_test_split(X, y, test_size=0.2, random_state=0)"
   ]
  },
  {
   "cell_type": "code",
   "execution_count": 10,
   "id": "45c351eb-9fab-44b5-b6cd-e55a2488cf36",
   "metadata": {},
   "outputs": [],
   "source": [
    "top_operators = [obj for obj, count in Counter(test_data['index_oper'].replace(' ', '0').astype(float).astype(int)).most_common()][:10]"
   ]
  },
  {
   "cell_type": "code",
   "execution_count": 11,
   "id": "0060c4ef",
   "metadata": {
    "cellId": "vo5cosfp59dkzp608owl"
   },
   "outputs": [],
   "source": [
    "useless = []\n",
    "cat_features = [\"type\", \"is_privatecategory\", \"class\", \"is_in_yandex\", \"mailctg\", \"directctg\", \"mailtype\"]\n",
    "cat_features = list(set(cat_features) - set(useless))\n",
    "\n",
    "def prepare_data(df):\n",
    "    oper_type, oper_attr = zip(*df['oper_type + oper_attr'].map(lambda x: x.split('_')))\n",
    "    \n",
    "    # df['is_negative_oper_attr'] = pd.Series(oper_attr) == '-1'\n",
    "    df['specialization_ratio'] = df.total_qty_over_index_and_type / df.total_qty_over_index.clip(lower=1)\n",
    "    df['total_over_person'] = df.total_qty_over_index / df.dist_qty_oper_login_1.clip(lower=1)\n",
    "    df['unknown_oper_ratio'] = df.total_qty_oper_login_0 / df.total_qty_oper_login_1.clip(lower=1)\n",
    "    \n",
    "    df['same_hash'] = df.item_hash.apply(lambda h: hash_counter[h])\n",
    "    df['same_name'] = df.processed_name.apply(lambda name: name_counter[name])\n",
    "    df['same_oper_item_hash'] = df.oper_item_hash.apply(lambda h: oper_item_hash_counter[h])\n",
    "    \n",
    "    # df['isnt_last'] = (df.id == df.last_id) * (df.same_hash < 30)\n",
    "    \n",
    "    for operator in top_operators:\n",
    "        df[f'is_{operator}_operator'] = df['index_oper'].replace(' ', '0').astype(float).astype(int) == operator\n",
    "    \n",
    "    replace_zeros = ['priority', 'is_privatecategory', 'is_in_yandex', 'mailtype', 'directctg']\n",
    "    for column in replace_zeros:\n",
    "        df[column][df[column] == 0] = df[column].mode()[0]\n",
    "        df[column][df[column] == '0'] = df[column].mode()[0]\n",
    "    \n",
    "    df.priority = 1 * (df.priority == 7503.) + 2 * (df.priority == 7504.) + 3 * (df.priority == 7506.)\n",
    "    \n",
    "    df.index_oper = df.index_oper.replace(' ', '0').astype(float).astype(int)\n",
    "    \n",
    "    for cat_feature in cat_features:\n",
    "        df[cat_feature] = df[cat_feature].apply(lambda text: str(text))\n",
    "        \n",
    "    df['name_mfi_count'] = df.name_mfi.apply(lambda name: 0 if name == '0' else len(name.split(',')))\n",
    "    \n",
    "    df.is_return = df.is_return.apply(lambda text: text == 'Y')\n",
    "        \n",
    "    df.drop(columns=[\"oper_type + oper_attr\"], inplace=True)\n",
    "    df.drop(columns=[\"name_mfi\", \"item_hash\", \"processed_name\", \"oper_item_hash\"], inplace=True)\n",
    "    df.drop(columns=['mailrank'], inplace=True)\n",
    "    df.drop(columns=useless, inplace=True, errors='ignore')\n",
    "    \n",
    "    return df"
   ]
  },
  {
   "cell_type": "code",
   "execution_count": 12,
   "id": "870a21e4",
   "metadata": {
    "cellId": "60rf4cbfin4kbpksr9kjv"
   },
   "outputs": [],
   "source": [
    "X_train = prepare_data(X_train)\n",
    "X_val = prepare_data(X_val)\n",
    "test_df = prepare_data(test_data)"
   ]
  },
  {
   "cell_type": "code",
   "execution_count": 13,
   "id": "79e1b53e",
   "metadata": {
    "cellId": "eza730cv317hh5qet8yto"
   },
   "outputs": [],
   "source": [
    "X_train.to_csv('data/X_train_prepared.csv', index=False)\n",
    "X_val.to_csv('data/X_val_prepared.csv', index=False)\n",
    "y_train.to_csv('data/y_train_prepared.csv', index=False)\n",
    "y_val.to_csv('data/y_val_prepared.csv', index=False)\n",
    "test_df.to_csv('data/test_df_prepared.csv', index=False)\n",
    "y_train.to_csv('data/y_train_prepared.csv', index=False)\n",
    "y_val.to_csv('data/y_val_prepared.csv', index=False)"
   ]
  },
  {
   "cell_type": "code",
   "execution_count": null,
   "id": "7ecaf637-0089-43dc-96d1-34a83c2b9b24",
   "metadata": {},
   "outputs": [],
   "source": []
  },
  {
   "cell_type": "code",
   "execution_count": 2,
   "id": "2d9d359d",
   "metadata": {
    "cellId": "0e5qkiygp8bhgj52dwazug"
   },
   "outputs": [],
   "source": [
    "useless = []\n",
    "cat_features = [\"type\", \"is_privatecategory\", \"class\", \"is_in_yandex\", \"mailctg\", \"directctg\", \"mailtype\"]\n",
    "cat_features = list(set(cat_features) - set(useless))\n",
    "\n",
    "cat_features = list(set(cat_features) - set(useless))\n",
    "def to_cat_features(df):\n",
    "    for cat_feature in cat_features:\n",
    "        df[cat_feature] = df[cat_feature].apply(lambda text: str(text))\n",
    "        \n",
    "X_train = pd.read_csv('data/X_train_prepared.csv')\n",
    "y_train = pd.read_csv('data/y_train_prepared.csv')\n",
    "X_val = pd.read_csv('data/X_val_prepared.csv')\n",
    "y_val = pd.read_csv('data/y_val_prepared.csv')\n",
    "test_df = pd.read_csv('data/test_df_prepared.csv')\n",
    "test_ids = pd.read_csv('data/test_ids.csv')\n",
    "\n",
    "\n",
    "to_cat_features(X_train)\n",
    "to_cat_features(X_val)\n",
    "to_cat_features(test_df)"
   ]
  },
  {
   "cell_type": "code",
   "execution_count": 3,
   "id": "f4c9d973",
   "metadata": {
    "cellId": "19c666lnwwtjcirwzzyhpn"
   },
   "outputs": [],
   "source": [
    "model = CatBoostClassifier(random_state=0, max_depth=8, verbose=10, iterations=100, auto_class_weights=\"Balanced\", cat_features=cat_features)"
   ]
  },
  {
   "cell_type": "code",
   "execution_count": 4,
   "id": "9420db07",
   "metadata": {
    "cellId": "zcndk9o5xzr7juqfjv6ve9",
    "execution_id": "aa4befc8-0f99-4817-b9d5-a1473d486c49"
   },
   "outputs": [
    {
     "name": "stdout",
     "output_type": "stream",
     "text": [
      "Learning rate set to 0.5\n",
      "0:\tlearn: 0.3609663\ttotal: 2.07s\tremaining: 3m 25s\n",
      "10:\tlearn: 0.2401424\ttotal: 19.6s\tremaining: 2m 38s\n",
      "20:\tlearn: 0.2311912\ttotal: 36.2s\tremaining: 2m 16s\n",
      "30:\tlearn: 0.2261218\ttotal: 53.1s\tremaining: 1m 58s\n",
      "40:\tlearn: 0.2231865\ttotal: 1m 9s\tremaining: 1m 40s\n",
      "50:\tlearn: 0.2207479\ttotal: 1m 26s\tremaining: 1m 23s\n",
      "60:\tlearn: 0.2188103\ttotal: 1m 43s\tremaining: 1m 6s\n",
      "70:\tlearn: 0.2173864\ttotal: 1m 59s\tremaining: 49s\n",
      "80:\tlearn: 0.2159876\ttotal: 2m 16s\tremaining: 32.1s\n",
      "90:\tlearn: 0.2147584\ttotal: 2m 33s\tremaining: 15.2s\n",
      "99:\tlearn: 0.2134527\ttotal: 2m 50s\tremaining: 0us\n"
     ]
    },
    {
     "data": {
      "text/plain": [
       "<catboost.core.CatBoostClassifier at 0x7f0077fa7d90>"
      ]
     },
     "execution_count": 4,
     "metadata": {},
     "output_type": "execute_result"
    }
   ],
   "source": [
    "model.fit(X_train, y_train)"
   ]
  },
  {
   "cell_type": "code",
   "execution_count": 5,
   "id": "891b7bf8",
   "metadata": {
    "cellId": "9ez17282jjp77mcjqjdmpk",
    "execution_id": "036d2160-5fe3-451f-9b88-f49c03071721"
   },
   "outputs": [],
   "source": [
    "def score_model(model, X, y, threshold=0.5):  # 0.225 is the best for now\n",
    "    pred = model.predict_proba(X)[:, 1] > threshold\n",
    "    recall = recall_score(y, pred, average=\"macro\")\n",
    "    roc_auc = roc_auc_score(y,  pred, multi_class='ovo')\n",
    "    score = 0.1 * recall + 0.9 * roc_auc\n",
    "    return score"
   ]
  },
  {
   "cell_type": "code",
   "execution_count": 6,
   "id": "1fbb1716-f776-41e2-a4d9-4ba19a06b296",
   "metadata": {},
   "outputs": [
    {
     "data": {
      "text/plain": [
       "0.899965999306271"
      ]
     },
     "execution_count": 6,
     "metadata": {},
     "output_type": "execute_result"
    }
   ],
   "source": [
    "score_model(model, X_val, y_val, 0.35)"
   ]
  },
  {
   "cell_type": "code",
   "execution_count": 7,
   "id": "a60bec87-560e-4ebf-ae15-7c7a52e161cb",
   "metadata": {},
   "outputs": [
    {
     "data": {
      "text/plain": [
       "0.9047004881621772"
      ]
     },
     "execution_count": 7,
     "metadata": {},
     "output_type": "execute_result"
    }
   ],
   "source": [
    "score_model(model, X_train, y_train, 0.35) "
   ]
  },
  {
   "cell_type": "code",
   "execution_count": 8,
   "id": "2c83d376-e17c-40d7-aaef-79c2aca8e880",
   "metadata": {},
   "outputs": [
    {
     "data": {
      "text/plain": [
       "[('total_over_person', 12.987636356912972),\n",
       " ('same_oper_item_hash', 9.949445437114461),\n",
       " ('total_qty_oper_login_1', 9.17107726132425),\n",
       " ('specialization_ratio', 7.728569719326381),\n",
       " ('mailctg', 7.583457688938222),\n",
       " ('unknown_oper_ratio', 6.464988346251635),\n",
       " ('index_oper', 5.5666448712818495),\n",
       " ('total_qty_over_index_and_type', 4.49698076520119),\n",
       " ('transport_pay', 4.398489717528673),\n",
       " ('priority', 4.039936673226668),\n",
       " ('total_qty_oper_login_0', 3.4692327013826634),\n",
       " ('total_qty_over_index', 2.8904327038123956),\n",
       " ('same_hash', 2.8620303286911906),\n",
       " ('weight', 2.4141984870306583),\n",
       " ('price_mfi', 2.3429693830622877),\n",
       " ('is_102976_operator', 2.300163818366568),\n",
       " ('type', 2.1314514197037573),\n",
       " ('class', 1.7548594963484914),\n",
       " ('dist_qty_oper_login_1', 1.551437976627038),\n",
       " ('name_mfi_count', 1.462353630829835),\n",
       " ('is_wrong_phone_number', 1.0672867594450284),\n",
       " ('weight_mfi', 1.025901514311994),\n",
       " ('same_name', 0.8577896378963729),\n",
       " ('last_id', 0.42271869784006705),\n",
       " ('is_wrong_rcpn_name', 0.3978965366052592),\n",
       " ('id', 0.18040079651928848),\n",
       " ('is_620984_operator', 0.16188271788571587),\n",
       " ('directctg', 0.1574404298586865),\n",
       " ('is_in_yandex', 0.1210738500198952),\n",
       " ('is_return', 0.023169242482623066),\n",
       " ('is_wrong_address', 0.008837345247208226),\n",
       " ('is_wrong_sndr_name', 0.00657914281576371),\n",
       " ('is_privatecategory', 0.0026505423065313377),\n",
       " ('postmark', 1.600380442330764e-05),\n",
       " ('mailtype', 0.0),\n",
       " ('is_102971_operator', 0.0),\n",
       " ('is_102998_operator', 0.0),\n",
       " ('is_102968_operator', 0.0),\n",
       " ('is_102102_operator', 0.0),\n",
       " ('is_102152_operator', 0.0),\n",
       " ('is_140980_operator', 0.0),\n",
       " ('is_420306_operator', 0.0),\n",
       " ('is_200980_operator', 0.0)]"
      ]
     },
     "execution_count": 8,
     "metadata": {},
     "output_type": "execute_result"
    }
   ],
   "source": [
    "sorted(list(zip(X_train.columns, model.feature_importances_)), key = lambda x: -x[1])"
   ]
  },
  {
   "cell_type": "code",
   "execution_count": 9,
   "id": "cf0f4149-988e-4102-8682-4395c50e1c52",
   "metadata": {},
   "outputs": [],
   "source": [
    "test_preds = (model.predict_proba(test_df)[:, 1])\n",
    "submission = pd.DataFrame({'id': test_ids.id, 'label': test_preds})\n",
    "submission.to_csv(\"submission.csv\", index=False)"
   ]
  },
  {
   "cell_type": "code",
   "execution_count": 10,
   "id": "d7da09f8-eeef-4e3e-a854-9b6124b9d88d",
   "metadata": {},
   "outputs": [],
   "source": [
    "test_preds = (model.predict_proba(test_df)[:, 1] > 0.35).astype(int)\n",
    "submission = pd.DataFrame({'id': test_ids.id, 'label': test_preds})\n",
    "submission.to_csv(\"submission.csv\", index=False)"
   ]
  },
  {
   "cell_type": "code",
   "execution_count": null,
   "id": "43f4c5bc-ad71-43ca-aa34-b52ca392f7fe",
   "metadata": {},
   "outputs": [],
   "source": []
  },
  {
   "cell_type": "code",
   "execution_count": null,
   "id": "00bc9ed2-4167-4836-ba33-1622f228512d",
   "metadata": {},
   "outputs": [],
   "source": []
  },
  {
   "cell_type": "code",
   "execution_count": 4,
   "id": "7149bc91-97a8-4c00-91d6-4340a595f53a",
   "metadata": {},
   "outputs": [],
   "source": [
    "unrounded_sub = pd.read_csv('submission.csv') \n",
    "sub = unrounded_sub.copy()\n",
    "sub.label = (unrounded_sub.label > 0.16).astype(int)\n",
    "sub.to_csv('submission_rounded.csv', index=False)"
   ]
  },
  {
   "cell_type": "code",
   "execution_count": 5,
   "id": "f6abfc32-9f64-4d88-8463-40f3f28ed9de",
   "metadata": {},
   "outputs": [
    {
     "name": "stdout",
     "output_type": "stream",
     "text": [
      "0.1372192875755317\n",
      "0.225103\n"
     ]
    }
   ],
   "source": [
    "print(unrounded_sub.label.mean())\n",
    "print(sub.label.mean())"
   ]
  },
  {
   "cell_type": "code",
   "execution_count": null,
   "id": "40b3a893-b111-4d0e-8d9e-e62e7a2fc62f",
   "metadata": {},
   "outputs": [],
   "source": []
  }
 ],
 "metadata": {
  "kernelspec": {
   "display_name": "Python 3 (ipykernel)",
   "language": "python",
   "name": "python3"
  },
  "language_info": {
   "codemirror_mode": {
    "name": "ipython",
    "version": 3
   },
   "file_extension": ".py",
   "mimetype": "text/x-python",
   "name": "python",
   "nbconvert_exporter": "python",
   "pygments_lexer": "ipython3",
   "version": "3.10.6"
  },
  "notebookId": "ed7dd563-ce4b-46a2-991c-9833419e1943",
  "notebookPath": "solution.ipynb"
 },
 "nbformat": 4,
 "nbformat_minor": 5
}
