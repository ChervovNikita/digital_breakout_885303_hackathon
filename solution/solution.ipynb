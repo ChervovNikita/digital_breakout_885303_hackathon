{
 "cells": [
  {
   "cell_type": "code",
   "execution_count": 20,
   "id": "fff0b2d6",
   "metadata": {
    "cellId": "4ab013t53wnyt2wjl294mf"
   },
   "outputs": [],
   "source": [
    "import pandas as pd\n",
    "import numpy as np\n",
    "import seaborn as sns\n",
    "import matplotlib.pyplot as plt\n",
    "from sklearn.model_selection import train_test_split\n",
    "from sklearn.ensemble import RandomForestClassifier\n",
    "from sklearn.metrics import recall_score, roc_auc_score\n",
    "from sklearn.metrics import confusion_matrix\n",
    "\n",
    "from sklearn.linear_model import LogisticRegression\n",
    "from catboost import CatBoostClassifier\n",
    "\n",
    "import warnings\n",
    "from copy import deepcopy\n",
    "import gc\n",
    "from collections import Counter\n",
    "\n",
    "%matplotlib inline"
   ]
  },
  {
   "cell_type": "code",
   "execution_count": 19,
   "id": "a5168b8e",
   "metadata": {
    "cellId": "q07kiom16dr6sbyemliovp"
   },
   "outputs": [
    {
     "name": "stdout",
     "output_type": "stream",
     "text": [
      "Defaulting to user installation because normal site-packages is not writeable\n",
      "Collecting seaborn\n",
      "  Downloading seaborn-0.12.1-py3-none-any.whl (288 kB)\n",
      "     |████████████████████████████████| 288 kB 3.2 MB/s            \n",
      "\u001b[?25hRequirement already satisfied: matplotlib!=3.6.1,>=3.1 in /kernel/lib/python3.8/site-packages (from seaborn) (3.3.3)\n",
      "Requirement already satisfied: numpy>=1.17 in /kernel/fallback/lib/python3.8/site-packages (from seaborn) (1.19.4)\n",
      "Requirement already satisfied: pandas>=0.25 in /usr/local/lib/python3.8/dist-packages (from seaborn) (0.25.3)\n",
      "Requirement already satisfied: kiwisolver>=1.0.1 in /kernel/lib/python3.8/site-packages (from matplotlib!=3.6.1,>=3.1->seaborn) (1.4.4)\n",
      "Requirement already satisfied: pillow>=6.2.0 in /kernel/lib/python3.8/site-packages (from matplotlib!=3.6.1,>=3.1->seaborn) (9.2.0)\n",
      "Requirement already satisfied: cycler>=0.10 in /kernel/lib/python3.8/site-packages (from matplotlib!=3.6.1,>=3.1->seaborn) (0.11.0)\n",
      "Requirement already satisfied: python-dateutil>=2.1 in /kernel/lib/python3.8/site-packages (from matplotlib!=3.6.1,>=3.1->seaborn) (2.8.2)\n",
      "Requirement already satisfied: pyparsing!=2.0.4,!=2.1.2,!=2.1.6,>=2.0.3 in /kernel/lib/python3.8/site-packages (from matplotlib!=3.6.1,>=3.1->seaborn) (2.4.7)\n",
      "Requirement already satisfied: pytz>=2017.2 in /usr/local/lib/python3.8/dist-packages (from pandas>=0.25->seaborn) (2021.3)\n",
      "Requirement already satisfied: six>=1.5 in /kernel/lib/python3.8/site-packages (from python-dateutil>=2.1->matplotlib!=3.6.1,>=3.1->seaborn) (1.16.0)\n",
      "Installing collected packages: seaborn\n",
      "Successfully installed seaborn-0.12.1\n",
      "\u001b[33mWARNING: You are using pip version 21.3.1; however, version 22.3 is available.\n",
      "You should consider upgrading via the '/usr/local/bin/python3 -m pip install --upgrade pip' command.\u001b[0m\n"
     ]
    }
   ],
   "source": [
    "%pip install seaborn"
   ]
  },
  {
   "cell_type": "code",
   "execution_count": null,
   "id": "8e8b6ff8",
   "metadata": {
    "cellId": "gckvv8c0x3n8665qrikwns"
   },
   "outputs": [],
   "source": [
    "%cd ../"
   ]
  },
  {
   "cell_type": "code",
   "execution_count": null,
   "id": "0b97f520",
   "metadata": {
    "cellId": "6m5zertaq0op1k3d39se8"
   },
   "outputs": [],
   "source": [
    "df = pd.read_csv(\"data/train.csv\")\n",
    "test_data = pd.read_csv(\"data/test.csv\")\n",
    "test_ids = deepcopy(test_data.id)"
   ]
  },
  {
   "cell_type": "code",
   "execution_count": null,
   "id": "611720ac",
   "metadata": {
    "cellId": "g5jgfw7hmovipa7t7hw9u"
   },
   "outputs": [],
   "source": [
    "df.head(3)"
   ]
  },
  {
   "cell_type": "code",
   "execution_count": null,
   "id": "002333a7",
   "metadata": {
    "cellId": "im4u8s833jshl1p8or4fw4"
   },
   "outputs": [],
   "source": [
    "test_data.head(3)"
   ]
  },
  {
   "cell_type": "code",
   "execution_count": null,
   "id": "f3400aa5",
   "metadata": {
    "cellId": "4srcwdut0terya7mzb8x"
   },
   "outputs": [],
   "source": [
    "top_operators = [obj for obj, count in Counter(test_data['index_oper'].replace(' ', '0').astype(float).astype(int)).most_common()][:10]"
   ]
  },
  {
   "cell_type": "code",
   "execution_count": null,
   "id": "26737548",
   "metadata": {
    "cellId": "y1xj4fwnisdkk897ytj52r"
   },
   "outputs": [],
   "source": [
    "X = df.drop(columns=[\"label\"])\n",
    "y = df.label\n",
    "X_train, X_val, y_train, y_val = train_test_split(X, y, test_size=0.2, random_state=0)\n",
    "\n",
    "# del [[X, df]]\n",
    "# gc.collect()\n",
    "# X=pd.DataFrame()\n",
    "# df=pd.DataFrame()"
   ]
  },
  {
   "cell_type": "code",
   "execution_count": null,
   "id": "88e98882",
   "metadata": {
    "cellId": "vo5cosfp59dkzp608owl"
   },
   "outputs": [],
   "source": [
    "cat_features = [\"type\", \"priority\", \"is_privatecategory\", \"class\", \"is_in_yandex\", \"mailctg\", \"directctg\", \"mailtype\"]\n",
    "\n",
    "def prepare_data(df):\n",
    "    df.drop(columns=[\"oper_type + oper_attr\"], inplace=True)\n",
    "    \n",
    "    for operator in top_operators:\n",
    "        df[f'is_{operator}_operator'] = df['index_oper'].replace(' ', '0').astype(float).astype(int) == operator\n",
    "        \n",
    "    # df['unknown_opers_ratio'] = df.total_qty_oper_login_0 / df.total_qty_over_index_and_type.clip(lower=1)\n",
    "    # df['certain_mailtype_ratio'] =  df.total_qty_over_index_and_type / df.total_qty_over_index.clip(lower=1)\n",
    "            \n",
    "    df.drop(columns=[\"id\", \"index_oper\", \"name_mfi\"], inplace=True)\n",
    "    df.drop(columns=['mailrank'], inplace=True)\n",
    "    \n",
    "    df.is_return = df.is_return.apply(lambda text: text == 'Y')\n",
    "    \n",
    "    for cat_feature in cat_features:\n",
    "        df[cat_feature] = df[cat_feature].apply(lambda text: str(text))\n",
    "\n",
    "    return df"
   ]
  },
  {
   "cell_type": "code",
   "execution_count": null,
   "id": "29ee1ae4",
   "metadata": {
    "cellId": "60rf4cbfin4kbpksr9kjv"
   },
   "outputs": [],
   "source": [
    "X_train = prepare_data(X_train)\n",
    "X_val = prepare_data(X_val)\n",
    "test_df = prepare_data(test_data)"
   ]
  },
  {
   "cell_type": "code",
   "execution_count": null,
   "id": "7bb9b9c7",
   "metadata": {
    "cellId": "ekxuw6dk86njo1itn9da"
   },
   "outputs": [],
   "source": [
    "X_train.head()"
   ]
  },
  {
   "cell_type": "code",
   "execution_count": null,
   "id": "f9f6a681",
   "metadata": {
    "cellId": "vl7iwz77q0jgrz0vrhvgt"
   },
   "outputs": [],
   "source": [
    "for column in X_train.columns:\n",
    "    print(column)\n",
    "    print(X_train[column].nunique())\n",
    "    print('\\n'.join([str(obj) + ' | ' + str(count / X_train.shape[0]) for obj, count in Counter(X_train[column]).most_common(10)]))\n",
    "    print()"
   ]
  },
  {
   "cell_type": "code",
   "execution_count": null,
   "id": "ed7772ce",
   "metadata": {
    "cellId": "eza730cv317hh5qet8yto"
   },
   "outputs": [],
   "source": [
    "X_train.to_csv('data/X_train_prepared.csv', index=False)\n",
    "X_val.to_csv('data/X_val_prepared.csv', index=False)\n",
    "test_df.to_csv('data/test_df_prepared.csv', index=False)"
   ]
  },
  {
   "cell_type": "code",
   "execution_count": 21,
   "id": "433880fd",
   "metadata": {
    "cellId": "0e5qkiygp8bhgj52dwazug"
   },
   "outputs": [],
   "source": [
    "cat_features = [\"type\", \"priority\", \"is_privatecategory\", \"class\", \"is_in_yandex\", \"mailctg\", \"directctg\", \"mailtype\"]\n",
    "\n",
    "def to_cat_features(df):\n",
    "    for cat_feature in cat_features:\n",
    "        df[cat_feature] = df[cat_feature].apply(lambda text: str(text))\n",
    "        \n",
    "X_train = pd.read_csv('data/X_train_prepared.csv')\n",
    "y_train = pd.read_csv('data/y_train_prepared.csv')\n",
    "X_val = pd.read_csv('data/X_val_prepared.csv')\n",
    "y_val = pd.read_csv('data/y_val_prepared.csv')\n",
    "test_df = pd.read_csv('data/test_df_prepared.csv')\n",
    "test_ids = pd.read_csv('data/test_ids.csv')\n",
    "\n",
    "to_cat_features(X_train)\n",
    "to_cat_features(X_val)\n",
    "to_cat_features(test_df)"
   ]
  },
  {
   "cell_type": "code",
   "execution_count": 22,
   "id": "ed65fa94",
   "metadata": {
    "cellId": "19c666lnwwtjcirwzzyhpn"
   },
   "outputs": [],
   "source": [
    "model = CatBoostClassifier(random_state=0, max_depth=8, verbose=10, iterations=500, auto_class_weights=\"Balanced\", cat_features=cat_features)"
   ]
  },
  {
   "cell_type": "code",
   "execution_count": 23,
   "id": "de33a603",
   "metadata": {
    "cellId": "zcndk9o5xzr7juqfjv6ve9",
    "execution_id": "80248497-bbb4-434b-9f82-21b04515c055"
   },
   "outputs": [
    {
     "name": "stdout",
     "output_type": "stream",
     "text": [
      "Learning rate set to 0.5\n",
      "0:\tlearn: 0.3585839\ttotal: 6.49s\tremaining: 53m 57s\n",
      "10:\tlearn: 0.2752267\ttotal: 1m 3s\tremaining: 47m 3s\n",
      "20:\tlearn: 0.2715113\ttotal: 1m 55s\tremaining: 44m 5s\n",
      "30:\tlearn: 0.2694254\ttotal: 2m 52s\tremaining: 43m 25s\n",
      "40:\tlearn: 0.2672894\ttotal: 3m 48s\tremaining: 42m 36s\n",
      "50:\tlearn: 0.2657499\ttotal: 4m 46s\tremaining: 42m 1s\n",
      "60:\tlearn: 0.2645060\ttotal: 5m 44s\tremaining: 41m 19s\n",
      "70:\tlearn: 0.2635137\ttotal: 6m 45s\tremaining: 40m 47s\n",
      "80:\tlearn: 0.2624049\ttotal: 7m 47s\tremaining: 40m 18s\n",
      "90:\tlearn: 0.2616070\ttotal: 8m 45s\tremaining: 39m 20s\n",
      "100:\tlearn: 0.2608752\ttotal: 9m 44s\tremaining: 38m 27s\n",
      "110:\tlearn: 0.2601321\ttotal: 10m 43s\tremaining: 37m 35s\n",
      "120:\tlearn: 0.2592801\ttotal: 11m 41s\tremaining: 36m 35s\n",
      "130:\tlearn: 0.2585278\ttotal: 12m 41s\tremaining: 35m 46s\n",
      "140:\tlearn: 0.2579322\ttotal: 13m 41s\tremaining: 34m 51s\n",
      "150:\tlearn: 0.2570517\ttotal: 14m 39s\tremaining: 33m 53s\n",
      "160:\tlearn: 0.2563530\ttotal: 15m 39s\tremaining: 32m 57s\n",
      "170:\tlearn: 0.2555996\ttotal: 16m 37s\tremaining: 31m 59s\n",
      "180:\tlearn: 0.2549350\ttotal: 17m 36s\tremaining: 31m 1s\n",
      "190:\tlearn: 0.2542410\ttotal: 18m 31s\tremaining: 29m 57s\n",
      "200:\tlearn: 0.2535786\ttotal: 19m 30s\tremaining: 29m\n",
      "210:\tlearn: 0.2529415\ttotal: 20m 29s\tremaining: 28m 4s\n",
      "220:\tlearn: 0.2523622\ttotal: 21m 27s\tremaining: 27m 5s\n",
      "230:\tlearn: 0.2516504\ttotal: 22m 26s\tremaining: 26m 8s\n",
      "240:\tlearn: 0.2510707\ttotal: 23m 26s\tremaining: 25m 11s\n",
      "250:\tlearn: 0.2504280\ttotal: 24m 25s\tremaining: 24m 13s\n",
      "260:\tlearn: 0.2498689\ttotal: 25m 22s\tremaining: 23m 13s\n",
      "270:\tlearn: 0.2493865\ttotal: 26m 19s\tremaining: 22m 15s\n",
      "280:\tlearn: 0.2488604\ttotal: 27m 17s\tremaining: 21m 16s\n",
      "290:\tlearn: 0.2482651\ttotal: 28m 15s\tremaining: 20m 17s\n",
      "300:\tlearn: 0.2476194\ttotal: 29m 17s\tremaining: 19m 21s\n",
      "310:\tlearn: 0.2470446\ttotal: 30m 17s\tremaining: 18m 24s\n",
      "320:\tlearn: 0.2464998\ttotal: 31m 16s\tremaining: 17m 26s\n",
      "330:\tlearn: 0.2459996\ttotal: 32m 16s\tremaining: 16m 28s\n",
      "340:\tlearn: 0.2454121\ttotal: 33m 15s\tremaining: 15m 30s\n",
      "350:\tlearn: 0.2448233\ttotal: 34m 16s\tremaining: 14m 32s\n",
      "360:\tlearn: 0.2443438\ttotal: 35m 16s\tremaining: 13m 34s\n",
      "370:\tlearn: 0.2437520\ttotal: 36m 15s\tremaining: 12m 36s\n",
      "380:\tlearn: 0.2432590\ttotal: 37m 11s\tremaining: 11m 37s\n",
      "390:\tlearn: 0.2427039\ttotal: 38m 8s\tremaining: 10m 38s\n",
      "400:\tlearn: 0.2421994\ttotal: 39m 8s\tremaining: 9m 39s\n",
      "410:\tlearn: 0.2417336\ttotal: 40m 9s\tremaining: 8m 41s\n",
      "420:\tlearn: 0.2413831\ttotal: 41m 3s\tremaining: 7m 42s\n",
      "430:\tlearn: 0.2409521\ttotal: 42m 3s\tremaining: 6m 43s\n",
      "440:\tlearn: 0.2405389\ttotal: 43m\tremaining: 5m 45s\n",
      "450:\tlearn: 0.2400344\ttotal: 44m\tremaining: 4m 46s\n",
      "460:\tlearn: 0.2396030\ttotal: 44m 57s\tremaining: 3m 48s\n",
      "470:\tlearn: 0.2390851\ttotal: 45m 56s\tremaining: 2m 49s\n",
      "480:\tlearn: 0.2386456\ttotal: 46m 56s\tremaining: 1m 51s\n",
      "490:\tlearn: 0.2381988\ttotal: 47m 55s\tremaining: 52.7s\n",
      "499:\tlearn: 0.2378108\ttotal: 48m 49s\tremaining: 0us\n"
     ]
    },
    {
     "data": {
      "text/plain": [
       "<catboost.core.CatBoostClassifier at 0x7f43251e9c10>"
      ]
     },
     "execution_count": 23,
     "metadata": {},
     "output_type": "execute_result"
    }
   ],
   "source": [
    "model.fit(X_train, y_train)"
   ]
  },
  {
   "cell_type": "code",
   "execution_count": 24,
   "id": "eee298ae",
   "metadata": {
    "cellId": "9ez17282jjp77mcjqjdmpk",
    "execution_id": "78827a1b-03e8-4eb3-adb5-6d0ab2937a5d"
   },
   "outputs": [],
   "source": [
    "def score_model(model, X, y, threshold=0.5):  # 0.41 is the best for now\n",
    "    pred = model.predict_proba(X)[:, 1] > threshold\n",
    "    \n",
    "    tn, fp, fn, tp = confusion_matrix(y, pred).ravel()\n",
    "    tpr = (tp) / (tp + fn)\n",
    "    fpr = (fp) / (fp + tn)\n",
    "    \n",
    "    r_score = (tp) / (tp + fn)\n",
    "    ra_score = (1 + tpr - fpr) / 2\n",
    "        \n",
    "    score = 0.1 * r_score + 0.9 * ra_score\n",
    "    \n",
    "    return score"
   ]
  },
  {
   "cell_type": "code",
   "execution_count": 25,
   "id": "b65c232c",
   "metadata": {
    "cellId": "f3nowgbe75vfetq0dzrh",
    "execution_id": "a479a1de-873c-47e5-9231-2eacfc9556ef"
   },
   "outputs": [
    {
     "data": {
      "text/plain": [
       "0.8840026836817507"
      ]
     },
     "execution_count": 25,
     "metadata": {},
     "output_type": "execute_result"
    }
   ],
   "source": [
    "score_model(model, X_val, y_val, 0.41)"
   ]
  },
  {
   "cell_type": "code",
   "execution_count": 26,
   "id": "4a0ce727",
   "metadata": {
    "cellId": "u9agivmjz4703bj9v5wq6",
    "execution_id": "47ae76e4-c594-4d94-a810-6e525df8ab0c"
   },
   "outputs": [
    {
     "data": {
      "text/plain": [
       "[('certain_mailtype_ratio', 15.686615436454819),\n",
       " ('total_qty_oper_login_1', 13.188057552648171),\n",
       " ('type', 11.856385381449073),\n",
       " ('unknown_opers_ratio', 8.909660627780923),\n",
       " ('total_qty_oper_login_0', 7.8812074675152015),\n",
       " ('transport_pay', 5.115043587303872),\n",
       " ('weight', 4.6978397687130125),\n",
       " ('weight_mfi', 4.6581770462982375),\n",
       " ('dist_qty_oper_login_1', 4.646656111179125),\n",
       " ('mailctg', 4.513098042295464),\n",
       " ('price_mfi', 4.4276947343336674),\n",
       " ('is_in_yandex', 2.9474906977214834),\n",
       " ('priority', 2.342027477352435),\n",
       " ('total_qty_over_index_and_type', 2.0237921189571306),\n",
       " ('total_qty_over_index', 1.6064799677101456),\n",
       " ('is_wrong_phone_number', 1.1814280123353083),\n",
       " ('is_wrong_rcpn_name', 0.924350428616659),\n",
       " ('is_102968_operator', 0.8726412761293425),\n",
       " ('is_102102_operator', 0.6519816682245936),\n",
       " ('is_200980_operator', 0.5934794596726344),\n",
       " ('class', 0.5147154154170315),\n",
       " ('directctg', 0.2455587794031684),\n",
       " ('is_102152_operator', 0.23658849182603542),\n",
       " ('is_privatecategory', 0.1177558817742263),\n",
       " ('is_620984_operator', 0.052469703505870345),\n",
       " ('is_return', 0.04017350517700071),\n",
       " ('is_102976_operator', 0.032218775355255656),\n",
       " ('is_wrong_sndr_name', 0.014237657921617169),\n",
       " ('is_wrong_address', 0.011960109409421504),\n",
       " ('mailtype', 0.006835027296248934),\n",
       " ('postmark', 0.003379790222799155),\n",
       " ('is_102971_operator', 0.0),\n",
       " ('is_102998_operator', 0.0),\n",
       " ('is_140980_operator', 0.0),\n",
       " ('is_420306_operator', 0.0)]"
      ]
     },
     "execution_count": 26,
     "metadata": {},
     "output_type": "execute_result"
    }
   ],
   "source": [
    "sorted(list(zip(X_train.columns, model.feature_importances_)), key = lambda x: -x[1])"
   ]
  },
  {
   "cell_type": "code",
   "execution_count": 27,
   "id": "6e65bd7b",
   "metadata": {
    "cellId": "gwkd2xzhgeyo3nc1u5538",
    "execution_id": "bf84bbd1-b988-499c-8ccc-ec8896d27014"
   },
   "outputs": [],
   "source": [
    "test_preds = (model.predict_proba(test_df)[:, 1] > 0.41).astype(int)"
   ]
  },
  {
   "cell_type": "code",
   "execution_count": 28,
   "id": "7883b476",
   "metadata": {
    "cellId": "r2vuvlz9lfg34g1znui9vk",
    "execution_id": "a8bde9cb-bf3b-41f7-902b-22e1aaf2f928"
   },
   "outputs": [],
   "source": [
    "submission = pd.DataFrame({'id': test_ids.id, 'label': test_preds})"
   ]
  },
  {
   "cell_type": "code",
   "execution_count": 29,
   "id": "b0bde88d",
   "metadata": {
    "cellId": "ayhhjvvenx8223d6624g6l",
    "execution_id": "efd3ad45-256a-4f0e-bcfe-416bb46d6035"
   },
   "outputs": [],
   "source": [
    "submission.to_csv(\"submission.csv\", index=False)"
   ]
  },
  {
   "cell_type": "code",
   "execution_count": 30,
   "id": "7872f6fd",
   "metadata": {
    "cellId": "15jqlabgeayfjdt5cx2gda",
    "execution_id": "3cf54363-d0d2-4bb4-8bbb-2dd0797f6e24"
   },
   "outputs": [
    {
     "data": {
      "text/plain": [
       "0.1888275"
      ]
     },
     "execution_count": 30,
     "metadata": {},
     "output_type": "execute_result"
    }
   ],
   "source": [
    "test_preds.mean()"
   ]
  },
  {
   "cell_type": "code",
   "execution_count": null,
   "id": "f8846251",
   "metadata": {
    "cellId": "utr7pjxhjarq0syrhgikvf"
   },
   "outputs": [],
   "source": []
  },
  {
   "cell_type": "code",
   "execution_count": null,
   "id": "9ef54ee4",
   "metadata": {
    "cellId": "41yi1tnrho2aydq25bza8m"
   },
   "outputs": [],
   "source": []
  },
  {
   "cell_type": "code",
   "execution_count": null,
   "id": "5562ce23",
   "metadata": {
    "cellId": "mzvyjbjdqiraemgbuexmfl"
   },
   "outputs": [],
   "source": []
  }
 ],
 "metadata": {
  "language_info": {
   "codemirror_mode": {
    "name": "ipython",
    "version": 3
   },
   "file_extension": ".py",
   "mimetype": "text/x-python",
   "name": "python",
   "nbconvert_exporter": "python",
   "pygments_lexer": "ipython3",
   "version": "3.7.7"
  },
  "notebookId": "ed7dd563-ce4b-46a2-991c-9833419e1943",
  "notebookPath": "solution.ipynb"
 },
 "nbformat": 4,
 "nbformat_minor": 5
}
