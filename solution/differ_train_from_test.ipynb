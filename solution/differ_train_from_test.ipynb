{
 "cells": [
  {
   "cell_type": "code",
   "execution_count": 1,
   "id": "2374a1d4-40e5-42b2-aec6-1f8c1d748206",
   "metadata": {},
   "outputs": [],
   "source": [
    "import pandas as pd\n",
    "import numpy as np\n",
    "import seaborn as sns\n",
    "import matplotlib.pyplot as plt\n",
    "from sklearn.model_selection import train_test_split\n",
    "from sklearn.ensemble import RandomForestClassifier\n",
    "from sklearn.metrics import recall_score, roc_auc_score\n",
    "from sklearn.metrics import confusion_matrix\n",
    "\n",
    "from sklearn.linear_model import LogisticRegression\n",
    "from catboost import CatBoostClassifier\n",
    "\n",
    "import warnings\n",
    "from copy import deepcopy\n",
    "import gc\n",
    "from collections import Counter\n",
    "\n",
    "%matplotlib inline"
   ]
  },
  {
   "cell_type": "code",
   "execution_count": 2,
   "id": "1d2d1fc8-9822-4ec7-aa99-ca21ccba8e41",
   "metadata": {},
   "outputs": [],
   "source": [
    "def score_model(model, X, y, threshold=0.5):  # 0.41 is the best for now\n",
    "    pred = model.predict_proba(X)[:, 1]\n",
    "    roc_auc = roc_auc_score(y, pred, multi_class='ovo')\n",
    "    return roc_auc"
   ]
  },
  {
   "cell_type": "code",
   "execution_count": 3,
   "id": "888597d4-04cc-4125-832f-87d5bc62f231",
   "metadata": {},
   "outputs": [
    {
     "name": "stdout",
     "output_type": "stream",
     "text": [
      "/home/chervovn04/Programming/hackathons/2022/digital_breakout_885303\n"
     ]
    }
   ],
   "source": [
    "%cd ../"
   ]
  },
  {
   "cell_type": "code",
   "execution_count": 4,
   "id": "cff37dba-3db3-466f-a33d-36f350a2eed2",
   "metadata": {},
   "outputs": [
    {
     "name": "stderr",
     "output_type": "stream",
     "text": [
      "/tmp/ipykernel_50657/1192962467.py:7: DtypeWarning: Columns (0) have mixed types. Specify dtype option on import or set low_memory=False.\n",
      "  X_train = pd.read_csv('data/X_train_prepared.csv')\n",
      "/tmp/ipykernel_50657/1192962467.py:9: DtypeWarning: Columns (0) have mixed types. Specify dtype option on import or set low_memory=False.\n",
      "  X_val = pd.read_csv('data/X_val_prepared.csv')\n",
      "/tmp/ipykernel_50657/1192962467.py:11: DtypeWarning: Columns (0) have mixed types. Specify dtype option on import or set low_memory=False.\n",
      "  test_df = pd.read_csv('data/test_df_prepared.csv')\n"
     ]
    }
   ],
   "source": [
    "cat_features = [\"type\", \"is_privatecategory\", \"class\", \"is_in_yandex\", \"mailctg\", \"directctg\", \"mailtype\"]\n",
    "\n",
    "def to_cat_features(df):\n",
    "    for cat_feature in cat_features:\n",
    "        df[cat_feature] = df[cat_feature].apply(lambda text: str(text))\n",
    "        \n",
    "X_train = pd.read_csv('data/X_train_prepared.csv')\n",
    "y_train = pd.read_csv('data/y_train_prepared.csv')\n",
    "X_val = pd.read_csv('data/X_val_prepared.csv')\n",
    "y_val = pd.read_csv('data/y_val_prepared.csv')\n",
    "test_df = pd.read_csv('data/test_df_prepared.csv')\n",
    "test_ids = pd.read_csv('data/test_ids.csv')\n",
    "\n",
    "to_cat_features(X_train)\n",
    "to_cat_features(X_val)\n",
    "to_cat_features(test_df)"
   ]
  },
  {
   "cell_type": "code",
   "execution_count": 5,
   "id": "fb81d280-38de-4f73-8bcd-a3eed76a23b9",
   "metadata": {},
   "outputs": [],
   "source": [
    "X = pd.concat([X_train, X_val, test_df], ignore_index=True) \n",
    "y = pd.concat([pd.Series(np.zeros(X_train.shape[0] + X_val.shape[0])), pd.Series(np.ones(test_df.shape[0]))], ignore_index=True)"
   ]
  },
  {
   "cell_type": "code",
   "execution_count": 6,
   "id": "66e51942-1cc5-4e53-914e-f565b26baf02",
   "metadata": {},
   "outputs": [],
   "source": [
    "X_train, X_test, y_train, y_test = train_test_split(X, y, test_size=0.8, random_state=0)"
   ]
  },
  {
   "cell_type": "code",
   "execution_count": 7,
   "id": "5ee81e81-60de-4675-88b0-f8444623736d",
   "metadata": {},
   "outputs": [],
   "source": [
    "model = CatBoostClassifier(random_state=0, max_depth=8, verbose=10, iterations=30, auto_class_weights=\"Balanced\", cat_features=cat_features)"
   ]
  },
  {
   "cell_type": "code",
   "execution_count": 8,
   "id": "3b2df85f-6124-4b5d-9cf2-f9a961e65348",
   "metadata": {},
   "outputs": [
    {
     "name": "stderr",
     "output_type": "stream",
     "text": [
      "/home/chervovn04/Programming/hackathons/2022/digital_breakout_885303/venv/lib/python3.10/site-packages/catboost/core.py:1419: FutureWarning: iteritems is deprecated and will be removed in a future version. Use .items instead.\n",
      "  self._init_pool(data, label, cat_features, text_features, embedding_features, embedding_features_data, pairs, weight,\n"
     ]
    },
    {
     "name": "stdout",
     "output_type": "stream",
     "text": [
      "Learning rate set to 0.5\n",
      "0:\tlearn: 0.6931273\ttotal: 675ms\tremaining: 19.6s\n",
      "10:\tlearn: 0.6929099\ttotal: 7.17s\tremaining: 12.4s\n",
      "20:\tlearn: 0.6927319\ttotal: 13.5s\tremaining: 5.78s\n",
      "29:\tlearn: 0.6926014\ttotal: 19.3s\tremaining: 0us\n"
     ]
    },
    {
     "data": {
      "text/plain": [
       "<catboost.core.CatBoostClassifier at 0x7f5ed987b8b0>"
      ]
     },
     "execution_count": 8,
     "metadata": {},
     "output_type": "execute_result"
    }
   ],
   "source": [
    "model.fit(X_train, y_train) "
   ]
  },
  {
   "cell_type": "code",
   "execution_count": 9,
   "id": "9936049b-b15e-4026-b216-4fd589fd0a86",
   "metadata": {},
   "outputs": [
    {
     "data": {
      "text/plain": [
       "0.5000389711315667"
      ]
     },
     "execution_count": 9,
     "metadata": {},
     "output_type": "execute_result"
    }
   ],
   "source": [
    "score_model(model, X_test, y_test)"
   ]
  },
  {
   "cell_type": "code",
   "execution_count": 10,
   "id": "af93b22c-125c-497c-acee-37b39871b313",
   "metadata": {},
   "outputs": [
    {
     "data": {
      "text/plain": [
       "[('weight', 9.135518038520688),\n",
       " ('weight_mfi', 8.697560129957775),\n",
       " ('index_oper', 7.168197343984904),\n",
       " ('mailtype', 6.833989710897045),\n",
       " ('price_mfi', 6.706454455882057),\n",
       " ('type', 6.503267939681439),\n",
       " ('total_qty_over_index_and_type', 6.302740255535803),\n",
       " ('mailctg', 6.24260833292949),\n",
       " ('dist_qty_oper_login_1', 6.014780104721615),\n",
       " ('total_qty_oper_login_1', 4.584129883621805),\n",
       " ('transport_pay', 4.451922445321322),\n",
       " ('priority', 4.285536296207506),\n",
       " ('total_qty_over_index', 4.03113146744381),\n",
       " ('class', 3.8106469628746265),\n",
       " ('total_qty_oper_login_0', 3.799356052786485),\n",
       " ('is_wrong_phone_number', 3.1279437288502367),\n",
       " ('is_return', 1.7371254846138235),\n",
       " ('goods_count', 1.379770707226256),\n",
       " ('is_wrong_address', 1.1529467300690266),\n",
       " ('is_wrong_rcpn_name', 1.0689995610504153),\n",
       " ('postmark', 1.0032255772819028),\n",
       " ('is_102102_operator', 0.4835093866987517),\n",
       " ('is_620984_operator', 0.4467644103510296),\n",
       " ('is_privatecategory', 0.31225116639565925),\n",
       " ('is_wrong_sndr_name', 0.24169500296102625),\n",
       " ('directctg', 0.1760937328236043),\n",
       " ('is_200980_operator', 0.15477207509042962),\n",
       " ('is_102152_operator', 0.09589542908881978),\n",
       " ('is_in_yandex', 0.05116758713264),\n",
       " ('is_102976_operator', 0.0),\n",
       " ('is_102971_operator', 0.0),\n",
       " ('is_102998_operator', 0.0),\n",
       " ('is_102968_operator', 0.0),\n",
       " ('is_140980_operator', 0.0),\n",
       " ('is_420306_operator', 0.0)]"
      ]
     },
     "execution_count": 10,
     "metadata": {},
     "output_type": "execute_result"
    }
   ],
   "source": [
    "sorted(list(zip(X_train.columns, model.feature_importances_)), key = lambda x: -x[1])"
   ]
  },
  {
   "cell_type": "code",
   "execution_count": null,
   "id": "df484543-178c-4839-afd7-5f166921d08f",
   "metadata": {},
   "outputs": [],
   "source": []
  },
  {
   "cell_type": "code",
   "execution_count": null,
   "id": "b7db9b03-508f-4838-a9b7-575d65f2e428",
   "metadata": {},
   "outputs": [],
   "source": []
  },
  {
   "cell_type": "code",
   "execution_count": null,
   "id": "e8491470-4cfa-4f5c-96a3-5946a353d786",
   "metadata": {},
   "outputs": [],
   "source": []
  },
  {
   "cell_type": "code",
   "execution_count": null,
   "id": "f27ec107-4ee9-4c8b-af88-2d90f24365b5",
   "metadata": {},
   "outputs": [],
   "source": []
  },
  {
   "cell_type": "code",
   "execution_count": null,
   "id": "edd838de-70d7-48b0-8836-86150c436a7d",
   "metadata": {},
   "outputs": [],
   "source": []
  },
  {
   "cell_type": "code",
   "execution_count": null,
   "id": "5af783c9-4573-4e63-91d1-8cffba8cac75",
   "metadata": {},
   "outputs": [],
   "source": []
  },
  {
   "cell_type": "code",
   "execution_count": null,
   "id": "ea25b5e1-e207-45eb-bd37-f06ddc9ab7a9",
   "metadata": {},
   "outputs": [],
   "source": []
  },
  {
   "cell_type": "code",
   "execution_count": null,
   "id": "83078365-4079-468b-8368-bb594bb2f80a",
   "metadata": {},
   "outputs": [],
   "source": []
  },
  {
   "cell_type": "code",
   "execution_count": null,
   "id": "d924064c-1310-4a96-b33b-4895c40ffe15",
   "metadata": {},
   "outputs": [],
   "source": []
  },
  {
   "cell_type": "code",
   "execution_count": null,
   "id": "2984c6a8-2be3-4261-93a5-6f4c7dc0f135",
   "metadata": {},
   "outputs": [],
   "source": []
  },
  {
   "cell_type": "code",
   "execution_count": null,
   "id": "bf9afb60-e4e0-472d-a70d-cb8e124a5353",
   "metadata": {},
   "outputs": [],
   "source": []
  },
  {
   "cell_type": "code",
   "execution_count": null,
   "id": "afc31d9b-1df3-442a-98f3-7fdb16970b98",
   "metadata": {},
   "outputs": [],
   "source": []
  },
  {
   "cell_type": "code",
   "execution_count": null,
   "id": "a09e5d82-c7aa-47b0-aea9-c0368e17f48b",
   "metadata": {},
   "outputs": [],
   "source": []
  },
  {
   "cell_type": "code",
   "execution_count": null,
   "id": "3e26df4e-689d-4d53-a5bb-db0a632fc5bb",
   "metadata": {},
   "outputs": [],
   "source": []
  },
  {
   "cell_type": "code",
   "execution_count": null,
   "id": "8ce238e4-7833-483c-b2f8-b7ec98376b96",
   "metadata": {},
   "outputs": [],
   "source": []
  },
  {
   "cell_type": "code",
   "execution_count": null,
   "id": "88a64fcd-ac14-4720-aa42-7e6fc4d704b1",
   "metadata": {},
   "outputs": [],
   "source": []
  }
 ],
 "metadata": {
  "kernelspec": {
   "display_name": "Python 3 (ipykernel)",
   "language": "python",
   "name": "python3"
  },
  "language_info": {
   "codemirror_mode": {
    "name": "ipython",
    "version": 3
   },
   "file_extension": ".py",
   "mimetype": "text/x-python",
   "name": "python",
   "nbconvert_exporter": "python",
   "pygments_lexer": "ipython3",
   "version": "3.10.6"
  }
 },
 "nbformat": 4,
 "nbformat_minor": 5
}
